{
 "cells": [
  {
   "cell_type": "markdown",
   "metadata": {
    "slideshow": {
     "slide_type": "slide"
    }
   },
   "source": [
    "# Classification for the centar of mass $(r_\\text{cm})$ of exoplanetary systems through GMM \n",
    "\n",
    "We use Gaussian Mixture Model to clasify the center of mass of exoplanetary systems, employing the observational data  "
   ]
  },
  {
   "cell_type": "markdown",
   "metadata": {
    "slideshow": {
     "slide_type": "subslide"
    }
   },
   "source": [
    "## 1. Read and clean the file from exoplanet.eu\n",
    "\n",
    "From the most complete list of observed exoplanets planets to date, <a href=\"http://exoplanet.eu/\">exoplanet.eu</a>, we take the planetary mass $M_{tp}$, the semi_major $a$ and the Metallicity Fe/H (with their respective uncertainties).  \n",
    "\n",
    "It is necessary processing the data with the prurpose to obtain the Center of Mass $r_\\text{cm}$, as a DataFrame `data`, without NaN values in the columns of _mass_ ($M_{tp}$) and _semi major axis_($a$). Finally, we get the data cleaned.\n",
    "\n",
    "**Remember**: `pd.notnull(\"name_of_column\")` deletes the NaN values in the column. \n",
    "\n",
    "**Remember**: `data=data[['column_a','column_b',..,'column_n',]]` to get a new order in the DataFrame"
   ]
  },
  {
   "cell_type": "code",
   "execution_count": 1,
   "metadata": {
    "slideshow": {
     "slide_type": "skip"
    }
   },
   "outputs": [],
   "source": [
    "from IPython.core.display import HTML\n",
    "HTML(\"\"\"\n",
    "<style>\n",
    ".output_png {\n",
    "    display: table-cell;\n",
    "    text-align: center;\n",
    "    vertical-align: middle;\n",
    "}\n",
    "</style>\n",
    "\"\"\")"
   ]
  },
  {
   "cell_type": "code",
   "execution_count": 2,
   "metadata": {
    "slideshow": {
     "slide_type": "subslide"
    }
   },
   "outputs": [],
   "source": [
    "import pandas as pd; \n",
    "import numpy as np\n",
    "from scipy.stats import norm, truncnorm\n",
    "import random\n",
    "from sklearn.mixture import GaussianMixture\n",
    "import matplotlib.pyplot as plt \n",
    "import seaborn as sb\n",
    "from matplotlib import rc, cm, rcParams\n",
    "\n",
    "rcParams['text.latex.preamble']=[r\"\\usepackage{amsmath}\"]\n",
    "rc('text', usetex=True)\n",
    "%matplotlib inline"
   ]
  },
  {
   "cell_type": "markdown",
   "metadata": {
    "slideshow": {
     "slide_type": "subslide"
    }
   },
   "source": [
    "Now, the data is read (only mass and semi major axis with their uncertainties)."
   ]
  },
  {
   "cell_type": "code",
   "execution_count": 3,
   "metadata": {
    "scrolled": true,
    "slideshow": {
     "slide_type": "fragment"
    }
   },
   "outputs": [
    {
     "name": "stdout",
     "output_type": "stream",
     "text": [
      "Total of NaN values = 8485\n"
     ]
    },
    {
     "data": {
      "text/plain": [
       "mass                         2158\n",
       "mass_error_min               2369\n",
       "semi_major_axis              1476\n",
       "semi_major_axis_error_min    2477\n",
       "star_name                       5\n",
       "dtype: int64"
      ]
     },
     "execution_count": 3,
     "metadata": {},
     "output_type": "execute_result"
    }
   ],
   "source": [
    "data_ep = pd.read_csv('data/exoplanet.eu_catalog.csv', \n",
    "                      usecols=['mass','mass_error_min','semi_major_axis',\n",
    "                               'semi_major_axis_error_min','star_name'])\n",
    "\n",
    "# It replaces the inf values:\n",
    "data_ep = data_ep.replace([np.inf, -np.inf], np.nan) \n",
    "\n",
    "# Total of NaN values:\n",
    "print(\"Total of NaN values = \"+str(data_ep.isnull().sum().sum()))\n",
    "\n",
    "# Numer of nan values per column:\n",
    "data_ep.isnull().sum()"
   ]
  },
  {
   "cell_type": "markdown",
   "metadata": {
    "slideshow": {
     "slide_type": "fragment"
    }
   },
   "source": [
    "After check for missing values in the data, we can see that some names of stars do not exists!!<font color='red'> Does it mean that some stars do not have names?</font> We will discuss latter. \n",
    "\n",
    "For the time being, we are going to continue cleaning the data. We do not take into account the NaN values."
   ]
  },
  {
   "cell_type": "code",
   "execution_count": 4,
   "metadata": {
    "slideshow": {
     "slide_type": "subslide"
    }
   },
   "outputs": [
    {
     "name": "stdout",
     "output_type": "stream",
     "text": [
      "Total of planets with complete data = 1217\n"
     ]
    }
   ],
   "source": [
    "dataB = data_ep.dropna(subset=['mass','mass_error_min','semi_major_axis',\n",
    "                               'semi_major_axis_error_min'])\n",
    "\n",
    "# Clean the data for the star names:\n",
    "dataB = dataB.dropna(subset=['star_name'])\n",
    "\n",
    "# Data after cleaning:\n",
    "data = dataB[['star_name','mass', 'mass_error_min',\n",
    "              'semi_major_axis','semi_major_axis_error_min']]\n",
    "\n",
    "print(\"Total of planets with complete data = \"+str(len(data)))\n",
    "dataa=data"
   ]
  },
  {
   "cell_type": "markdown",
   "metadata": {
    "slideshow": {
     "slide_type": "subslide"
    }
   },
   "source": [
    "The cleaning result is a data frame with complete information of the numer of total planets per system $N_{tp}$, thir masses and semi-major axis with respective uncertainties. The data can group by the name of the host star."
   ]
  },
  {
   "cell_type": "code",
   "execution_count": 5,
   "metadata": {
    "slideshow": {
     "slide_type": "fragment"
    }
   },
   "outputs": [
    {
     "data": {
      "text/html": [
       "<div>\n",
       "<style scoped>\n",
       "    .dataframe tbody tr th:only-of-type {\n",
       "        vertical-align: middle;\n",
       "    }\n",
       "\n",
       "    .dataframe tbody tr th {\n",
       "        vertical-align: top;\n",
       "    }\n",
       "\n",
       "    .dataframe thead th {\n",
       "        text-align: right;\n",
       "    }\n",
       "</style>\n",
       "<table border=\"1\" class=\"dataframe\">\n",
       "  <thead>\n",
       "    <tr style=\"text-align: right;\">\n",
       "      <th></th>\n",
       "      <th>star_name</th>\n",
       "      <th>mass</th>\n",
       "      <th>mass_error_min</th>\n",
       "      <th>semi_major_axis</th>\n",
       "      <th>semi_major_axis_error_min</th>\n",
       "    </tr>\n",
       "  </thead>\n",
       "  <tbody>\n",
       "    <tr>\n",
       "      <th>3568</th>\n",
       "      <td>TRAPPIST-1</td>\n",
       "      <td>0.00270</td>\n",
       "      <td>0.00230</td>\n",
       "      <td>0.01111</td>\n",
       "      <td>0.00034</td>\n",
       "    </tr>\n",
       "    <tr>\n",
       "      <th>3569</th>\n",
       "      <td>TRAPPIST-1</td>\n",
       "      <td>0.00434</td>\n",
       "      <td>0.00190</td>\n",
       "      <td>0.01521</td>\n",
       "      <td>0.00047</td>\n",
       "    </tr>\n",
       "    <tr>\n",
       "      <th>3570</th>\n",
       "      <td>TRAPPIST-1</td>\n",
       "      <td>0.00130</td>\n",
       "      <td>0.00085</td>\n",
       "      <td>0.02144</td>\n",
       "      <td>0.00063</td>\n",
       "    </tr>\n",
       "    <tr>\n",
       "      <th>3571</th>\n",
       "      <td>TRAPPIST-1</td>\n",
       "      <td>0.00200</td>\n",
       "      <td>0.00180</td>\n",
       "      <td>0.02817</td>\n",
       "      <td>0.00087</td>\n",
       "    </tr>\n",
       "    <tr>\n",
       "      <th>3572</th>\n",
       "      <td>TRAPPIST-1</td>\n",
       "      <td>0.00210</td>\n",
       "      <td>0.00057</td>\n",
       "      <td>0.03710</td>\n",
       "      <td>0.00110</td>\n",
       "    </tr>\n",
       "    <tr>\n",
       "      <th>3573</th>\n",
       "      <td>TRAPPIST-1</td>\n",
       "      <td>0.00422</td>\n",
       "      <td>0.00280</td>\n",
       "      <td>0.04510</td>\n",
       "      <td>0.00140</td>\n",
       "    </tr>\n",
       "  </tbody>\n",
       "</table>\n",
       "</div>"
      ],
      "text/plain": [
       "       star_name     mass  mass_error_min  semi_major_axis  \\\n",
       "3568  TRAPPIST-1  0.00270         0.00230          0.01111   \n",
       "3569  TRAPPIST-1  0.00434         0.00190          0.01521   \n",
       "3570  TRAPPIST-1  0.00130         0.00085          0.02144   \n",
       "3571  TRAPPIST-1  0.00200         0.00180          0.02817   \n",
       "3572  TRAPPIST-1  0.00210         0.00057          0.03710   \n",
       "3573  TRAPPIST-1  0.00422         0.00280          0.04510   \n",
       "\n",
       "      semi_major_axis_error_min  \n",
       "3568                    0.00034  \n",
       "3569                    0.00047  \n",
       "3570                    0.00063  \n",
       "3571                    0.00087  \n",
       "3572                    0.00110  \n",
       "3573                    0.00140  "
      ]
     },
     "execution_count": 5,
     "metadata": {},
     "output_type": "execute_result"
    }
   ],
   "source": [
    "#The system for comparisons: \n",
    "A = data.groupby(\"star_name\")\n",
    "SystemA_i = data[data.star_name == \"TRAPPIST-1\"]  \n",
    "SystemA_i"
   ]
  },
  {
   "cell_type": "markdown",
   "metadata": {
    "slideshow": {
     "slide_type": "subslide"
    }
   },
   "source": [
    "Let's plot the distribution of the logarithm of planetary mass, $M_\\text{tp}$, and the distribution of the logarithm of semi-major axis $a$:"
   ]
  },
  {
   "cell_type": "code",
   "execution_count": 6,
   "metadata": {
    "slideshow": {
     "slide_type": "subslide"
    }
   },
   "outputs": [
    {
     "data": {
      "text/plain": [
       "<matplotlib.legend.Legend at 0x7f10ae1c5cd0>"
      ]
     },
     "execution_count": 6,
     "metadata": {},
     "output_type": "execute_result"
    },
    {
     "data": {
      "image/png": "[encoded data removed]",
      "text/plain": [
       "<Figure size 720x360 with 2 Axes>"
      ]
     },
     "metadata": {
      "needs_background": "light"
     },
     "output_type": "display_data"
    }
   ],
   "source": [
    "# -Plot----distributions \n",
    "fig, (ax1,ax2) = plt.subplots(1, 2, figsize=(10, 5))\n",
    "\n",
    "let, bins = 15, 20\n",
    "\n",
    "m=np.log10(data.mass.values)\n",
    "a=np.log10(data.semi_major_axis.values)\n",
    "\n",
    "ax1 = sb.distplot(m, ax=ax1, bins=bins, label=r'Mass (M$_\\text{Jup}$)',\n",
    "                  kde_kws={\"lw\": 2, \"label\": r\"Mass density\"})\n",
    "\n",
    "ax2 = sb.distplot(a, ax=ax2, bins=bins,label=r'Semi-Major axis $a$ (AU)',\n",
    "                  kde_kws={\"lw\": 2, \"label\": r\"$a$ Density\"})\n",
    "\n",
    "ax1.set_xlabel(r\"$\\log_{10}$(Mass) (M$_\\text{Jup}$)\",fontsize=let)\n",
    "ax2.set_xlabel(r\"$\\log_{10}(a)$ (AU)\",fontsize=let)\n",
    "ax1.set_ylabel(r\"Counts\", fontsize=let)\n",
    "ax1.tick_params(labelsize=let); ax2.tick_params(labelsize=let)\n",
    "\n",
    "ax1.set_xticks(np.arange(int(min(m))-1, int(max(m))+2, 1.0))\n",
    "ax2.set_xticks(np.arange(int(min(a))-1, int(max(a))+2, 1.0))\n",
    "\n",
    "\n",
    "ax1.legend(loc='upper left',fontsize=let);ax2.legend(loc='upper right',fontsize=let)\n",
    "#plt.savefig(\"figures/hists.pdf\", bbox_inches='tight')"
   ]
  },
  {
   "cell_type": "markdown",
   "metadata": {
    "slideshow": {
     "slide_type": "subslide"
    }
   },
   "source": [
    "So, `data` is a DataFrame without NaN values in columns of names, masses, semi major axis and their uncertainties. Finally, we got 1217 rows, it means, exoplanets with confirmed data. "
   ]
  },
  {
   "cell_type": "markdown",
   "metadata": {
    "slideshow": {
     "slide_type": "slide"
    }
   },
   "source": [
    "## 2. Get the center of Mass \n",
    "We need to estimate the $r_\\text{cm}$ for each system. The definition of center of mass:\n",
    "\\begin{equation*}\n",
    "r_\\text{cm} = \\frac{\\sum\\limits_{k=1}^n(m_{k}\\vec{r_{k}})}{\\sum \\limits_{k=1}^{n}m_{k}} %=\\frac{\\sum\\limits_{k=1}^n(m_{k}\\vec{r_{k}})}{M_{T}}\n",
    "\\end{equation*}\n",
    "To do it, is nessesary get the values mass $m$ times disnace $r$, for each planet, so with the columns of `mass` and distance from the star `semi_major_axis` we can get $m_{k}\\vec{r_{k}}$ values. Then, we take the sum for all planets in each systems, as a result we got $\\text{CM}_i$ for $i\\in\\{0,1,2,3,4,\\ldots,n\\}$.\n",
    "\n",
    "Our variable for clasify the systems is CM but some systems only have one planet, so, the center of mass for this systems CM$_j$, can be taked as the mass $m_j$.\n",
    "\n",
    "**Remember:** The `data.groupby(\"key\")` split the data in groups which are the key.\n",
    "\n",
    "**Remember:** The `data[i].multiply(data[j])` multiplies the comun i and j of DataFrame or Series i and j, row by row.\n",
    "\n",
    "**Remember:** The `data.groupby.groups.keys()` get the keys of the split data."
   ]
  },
  {
   "cell_type": "code",
   "execution_count": 7,
   "metadata": {
    "slideshow": {
     "slide_type": "subslide"
    }
   },
   "outputs": [
    {
     "name": "stdout",
     "output_type": "stream",
     "text": [
      "The number of planetary systems = 987\n",
      "Systems with more than one planet = 154\n"
     ]
    }
   ],
   "source": [
    "# Group by the name system:\n",
    "p_system = data.groupby(\"star_name\")\n",
    "print('The number of planetary systems = '+ str(len(p_system)))\n",
    "\n",
    "# The numer of exoplanets around each star:\n",
    "number=(data[\"star_name\"].value_counts()).to_frame()\n",
    "\n",
    "# The number of systems with more than one exoplanet:\n",
    "count = 0\n",
    "for i, index in enumerate(number.star_name.values):\n",
    "    if index>1.:\n",
    "        count+=1 \n",
    "print(\"Systems with more than one planet = \"+str(count))"
   ]
  },
  {
   "cell_type": "code",
   "execution_count": 8,
   "metadata": {
    "scrolled": true,
    "slideshow": {
     "slide_type": "subslide"
    }
   },
   "outputs": [],
   "source": [
    "#-----------------------function center of mass-----------------------\n",
    "#it returns a data frame group bay systems:\n",
    "\n",
    "def CoM(data): #data is a dataframe with mass and semi major axis \n",
    "    \n",
    "    # Multiplications between columns mass and axis, CM_i new column:\n",
    "    data = data.assign(CM_i=data[\"semi_major_axis\"]*data[\"mass\"])\n",
    "    #print(data)\n",
    "    # Group by each planet in the system:\n",
    "    p_system = data.groupby(\"star_name\") \n",
    "    system = list(p_system.groups.keys())\n",
    "    # Total mass per system:\n",
    "    M_total = p_system[\"mass\"].sum()\n",
    "    sum_rm = p_system['CM_i'].sum() # sum of masses in each system.\n",
    "    # Center of mass:\n",
    "    CoM = sum_rm.divide(M_total)\n",
    "    \n",
    "    system = list(p_system.groups.keys())\n",
    "    \n",
    "    NewData = pd.DataFrame({'System_name':system,\n",
    "                            'Total_mass':M_total.tolist(),\n",
    "                            'Center_of_Mass':CoM.tolist()})\n",
    "\n",
    "    return NewData"
   ]
  },
  {
   "cell_type": "code",
   "execution_count": 9,
   "metadata": {},
   "outputs": [],
   "source": [
    "CoM=CoM(data);#CoM"
   ]
  },
  {
   "cell_type": "markdown",
   "metadata": {
    "slideshow": {
     "slide_type": "subslide"
    }
   },
   "source": [
    "Therefore, the distribution of the $r_\\text{cm}$"
   ]
  },
  {
   "cell_type": "code",
   "execution_count": 10,
   "metadata": {
    "slideshow": {
     "slide_type": "fragment"
    }
   },
   "outputs": [
    {
     "data": {
      "text/plain": [
       "<matplotlib.legend.Legend at 0x7f10ae076e50>"
      ]
     },
     "execution_count": 10,
     "metadata": {},
     "output_type": "execute_result"
    },
    {
     "data": {
      "image/png": "[encoded data removed]",
      "text/plain": [
       "<Figure size 720x360 with 1 Axes>"
      ]
     },
     "metadata": {
      "needs_background": "light"
     },
     "output_type": "display_data"
    }
   ],
   "source": [
    "#histogram \n",
    "lat=15\n",
    "\n",
    "x=CoM.Center_of_Mass.values\n",
    "\n",
    "fig, ax = plt.subplots(1, 1, figsize=(10, 5))\n",
    "\n",
    "ax = sb.distplot(np.log10(x), bins=60, label=r\"Histogram of $r_\\text{cm}$\",\n",
    "                kde_kws={\"lw\": 2, \"label\": r\"Density estimation\"})\n",
    "\n",
    "ax.set_xticklabels([r'$10^{-3}$',r'$10^{-2}$',r'$10^{-1}$',r'$10^{0}$',\n",
    "                    r'$10^{1}$',r'$10^{2}$',r'$10^{3}$'])#,\n",
    "#                    r'$10^{3}$',r'$10^{4}$'])\n",
    "\n",
    "ax.set(xlim=(np.log10(x).min(),np.log10(x).max()))\n",
    "\n",
    "plt.xlabel(r\"$\\log_{10}(r_\\text{cm})$ (AU)\", fontsize=lat)\n",
    "plt.ylabel(r\"Counts\", fontsize=lat)\n",
    "ax.tick_params(labelsize=lat)\n",
    "plt.legend(fontsize=lat)\n",
    "#plt.savefig(\"figures/CMhist.pdf\",bbox_inches='tight')"
   ]
  },
  {
   "cell_type": "markdown",
   "metadata": {
    "slideshow": {
     "slide_type": "fragment"
    }
   },
   "source": [
    "However, the calculus of the $r_\\text{cm}$, was made without take into account the mass of the star."
   ]
  },
  {
   "cell_type": "markdown",
   "metadata": {
    "slideshow": {
     "slide_type": "slide"
    }
   },
   "source": [
    "## 3. Gaussian Mixture Model\n",
    "\n",
    "At first we will use the Gaussian Mixture Model to clasify the $r_\\text{cm}$ in $n$ finite distributions. Python has the library `sckit-learn`, which uses the Expectation Maximization algorithm to determine the maximum likelihood for  a determined number $n$ of clusters (more informtion  <a href=\"https://scikit-learn.org/stable/modules/mixture.html\">Gaussian Mixture</a>). \n",
    "\n",
    "\n",
    "### Class: clustering\n",
    "\n",
    "This class is oriented to determine the ideal number of cluster for some data. In this case de data came from a DataFrame `CoM`, which has the center of mass $r_\\text{cm}$ for each observed planetary system."
   ]
  },
  {
   "cell_type": "markdown",
   "metadata": {},
   "source": [
    "### Function: GMM\n",
    "We use the `GaussianMixture` package from `sckit-learn` to classify our data in different number of clusrers ($n$). Here, we employ the number of compnents, `n_components` as the numer of clusters $n$. The `GaussianMixture` let us predict the labels of clustering for data samples, using trained model. \n",
    "\n",
    "Finally the `GaussianMixture` also has the predict posterior probability of each component given the data (more informtion  <a href=\"https://scikit-learn.org/stable/modules/mixture.html\">Gaussian Mixture</a>). "
   ]
  },
  {
   "cell_type": "markdown",
   "metadata": {},
   "source": [
    "### Function: Information Criterion AIC/BIC\n",
    "Now, we need to determine the idel number of clusters. To do that, we use the information criterion as strategy to avoiding underfit or overfit. The information criteria determine the quality of models and score them (more information <a href=\"https://en.wikipedia.org/wiki/Model_selection#Criteria\">Model selection</a>).  \n",
    "\n",
    "\n",
    "We define a function wich gets the information criteria for different numbers of components (the number of mixture components $n$), in order to obtain the minimum value of criterium to determine the ideal number of clsuters. The lowest BIC/AIC is preferred.\n",
    "\n",
    "Then, it plots the BIC and AIC values to observe their behavior."
   ]
  },
  {
   "cell_type": "markdown",
   "metadata": {},
   "source": [
    "### Function: Fraction changed\n",
    "This function generates 1000 synthetic systems ( _Dawns_ ) per each data (the mass an its uncertainty). We take draws from this, and stimate the validation of the classification.\n",
    "\n",
    "The posteriror probabilities are determinated by the function `gmm.predict()`"
   ]
  },
  {
   "cell_type": "code",
   "execution_count": 11,
   "metadata": {},
   "outputs": [],
   "source": [
    "# data is a DataFrame with the previous column Center_of_Mass.\n",
    "# if log=True, it will take the log_10 of the variable in the DataFrame. \n",
    "\n",
    "class clustering:\n",
    "\n",
    "    def __init__(self, data, log=False):\n",
    "        if log==True:\n",
    "            self.data=np.reshape(np.log10(data.Center_of_Mass.values),(-1,1))\n",
    "            self.name=r'$\\log_{10}(r_\\text{cm})$ [AU]'\n",
    "        else: \n",
    "            self.data=np.reshape(data.Center_of_Mass.values,(-1,1))\n",
    "            self.name=r'$r_\\text{cm}$ [AU]'\n",
    "    \n",
    "    def GMM(self, n_components):\n",
    "        self.n = n_components\n",
    "        self.gmm = GaussianMixture(self.n, covariance_type='full', random_state=0)\n",
    "        self.gmm.fit(self.data)\n",
    "        self.cluster_label = self.gmm.predict(self.data)\n",
    "        \n",
    "    def inf_criteria(self, times):\n",
    "        self.bic, self.aic = [], []\n",
    "        for i in range(times):\n",
    "            i += 1\n",
    "            self.GMM(i)\n",
    "            self.bic.append(self.gmm.bic(self.data)); self.aic.append(self.gmm.aic(self.data))\n",
    "    \n",
    "        print('Ideal number of clusters, BIC = '+str(self.bic.index(min(self.bic))+1))\n",
    "        print('Ideal number of clusters, AIC = '+str(self.aic.index(min(self.aic))+1))\n",
    "        \n",
    "        \n",
    "    #def "
   ]
  },
  {
   "cell_type": "code",
   "execution_count": 12,
   "metadata": {},
   "outputs": [
    {
     "name": "stdout",
     "output_type": "stream",
     "text": [
      "Ideal number of clusters, BIC = 4\n",
      "Ideal number of clusters, AIC = 11\n"
     ]
    }
   ],
   "source": [
    "AA = clustering(CoM, True)\n",
    "AA.inf_criteria(30)"
   ]
  },
  {
   "cell_type": "code",
   "execution_count": 13,
   "metadata": {},
   "outputs": [],
   "source": [
    "def fraction_changed(data, dawns):\n",
    "    \n",
    "    p_system    = data.groupby(\"star_name\")\n",
    "    system_list = list(p_system.groups.keys())\n",
    "    draws       = [] #draws of COM for each system. \n",
    "    \n",
    "    for i in range(len(system_list)):\n",
    "        \n",
    "        system_i      = data[data.star_name == system_list[i]]  \n",
    "        system_i_mass = np.zeros(dawns)\n",
    "        cm_i          = np.zeros(dawns) \n",
    "        \n",
    "        for k in range(len(system_i)):\n",
    "            masses = np.random.normal(system_i.mass.values[k],\n",
    "                                      system_i.mass_error_min.values[k],\n",
    "                                      dawns)\n",
    "            axes = np.random.normal(system_i.semi_major_axis.values[k],\n",
    "                                    system_i.semi_major_axis_error_min.values[k],\n",
    "                                    dawns)\n",
    "            cm_i          += masses*axes\n",
    "            system_i_mass += masses\n",
    "        #draws.append([np.abs(cm_i/system_i_mass)]\n",
    "        draws.append([cm_i/system_i_mass])\n",
    "    draws = np.array(draws)\n",
    "    draws = draws[draws>0]\n",
    "    return draws\n",
    "        "
   ]
  },
  {
   "cell_type": "code",
   "execution_count": 14,
   "metadata": {},
   "outputs": [],
   "source": [
    "from scipy.stats import truncnorm\n",
    "a=0.1\n",
    "b=2\n",
    "x = np.linspace(truncnorm.ppf(0.01, a, b), \n",
    "                truncnorm.ppf(0.99, a, b), \n",
    "                100)\n",
    "#print(x)\n",
    "#plt.plot(truncnorm.ppf(x,a,b),x)\n",
    "\n",
    "#r = truncnorm.rvs(a, b, size=1000)\n",
    "#len(r)"
   ]
  },
  {
   "cell_type": "code",
   "execution_count": 15,
   "metadata": {},
   "outputs": [
    {
     "data": {
      "text/plain": [
       "'\\n    #Clusters_plot\\n    def clusters_plot(self, save=False, fig_name=\"nn\"):\\n        self.fig_name = fig_name\\n        dsize, lsize, fsize = 3.5, 11, 14\\n        self.color = [\"C\"+str(self.cluster_label[i]+1) for i in range(len(self.cluster_label))]\\n        x = np.linspace(self.data.min(),self.data.max(),1000)\\n        figure, ax = plt.subplots(1, 2, sharex=\\'col\\', sharey=\\'row\\', figsize=(12, 5))\\n        \\n        #Gaussians and scaters:\\n        for c in range(self.n):\\n            ax[0].plot(x,norm.pdf(x,self.gmm.means_[c], self.gmm.covariances_[c])[0]/                       norm.pdf(x,self.gmm.means_[c], self.gmm.covariances_[c])[0].max(), \\n                      label =r\"Gaussian \"+str(c+1))\\n            \\n            Mass_a=self.data[self.cluster_label==c]    \\n            \\n            ax[0].plot(Mass_a, np.zeros(len(Mass_a)),\"o\", markersize=dsize,\\n                       label=\\'Cluster \\'+str(c+1), color=\"C\"+str(c))\\n\\n            ax[1].plot(self.data,self.gmm.predict_proba(self.data)[:,c],\"o\",\\n                       markersize=dsize, label=\"Cluster \"+str(c+1))\\n            \\n        ax[0].set(ylabel=r\\'Normal distribution\\', xlabel=self.name)\\n        ax[1].set(ylabel=r\\'Posterior probabilities\\',  xlabel=self.name)\\n\\n        ax[0].legend(bbox_to_anchor=(0,1.02,1,0.2),loc=\"lower left\", handletextpad=.01,\\n                     edgecolor=\\'black\\', mode=\"expand\", ncol=self.n, fontsize=lsize)\\n        ax[1].legend(bbox_to_anchor=(0,1.02,1,0.2),loc=\"lower left\", \\n                     mode=\"expand\", ncol=self.n, fontsize=lsize, edgecolor=\\'black\\') \\n        \\n        plt.rcParams.update({\\'font.size\\': fsize})\\n        plt.subplots_adjust(wspace = .2)\\n        \\n        if save == True: \\n            plt.savefig(\"figures/\"+self.fig_name+\".pdf\" ,bbox_inches=\\'tight\\')\\n'"
      ]
     },
     "execution_count": 15,
     "metadata": {},
     "output_type": "execute_result"
    }
   ],
   "source": [
    "\"\"\"\n",
    "    #Clusters_plot\n",
    "    def clusters_plot(self, save=False, fig_name=\"nn\"):\n",
    "        self.fig_name = fig_name\n",
    "        dsize, lsize, fsize = 3.5, 11, 14\n",
    "        self.color = [\"C\"+str(self.cluster_label[i]+1) for i in range(len(self.cluster_label))]\n",
    "        x = np.linspace(self.data.min(),self.data.max(),1000)\n",
    "        figure, ax = plt.subplots(1, 2, sharex='col', sharey='row', figsize=(12, 5))\n",
    "        \n",
    "        #Gaussians and scaters:\n",
    "        for c in range(self.n):\n",
    "            ax[0].plot(x,norm.pdf(x,self.gmm.means_[c], self.gmm.covariances_[c])[0]/\\\n",
    "                       norm.pdf(x,self.gmm.means_[c], self.gmm.covariances_[c])[0].max(), \n",
    "                      label =r\"Gaussian \"+str(c+1))\n",
    "            \n",
    "            Mass_a=self.data[self.cluster_label==c]    \n",
    "            \n",
    "            ax[0].plot(Mass_a, np.zeros(len(Mass_a)),\"o\", markersize=dsize,\n",
    "                       label='Cluster '+str(c+1), color=\"C\"+str(c))\n",
    "\n",
    "            ax[1].plot(self.data,self.gmm.predict_proba(self.data)[:,c],\"o\",\n",
    "                       markersize=dsize, label=\"Cluster \"+str(c+1))\n",
    "            \n",
    "        ax[0].set(ylabel=r'Normal distribution', xlabel=self.name)\n",
    "        ax[1].set(ylabel=r'Posterior probabilities',  xlabel=self.name)\n",
    "\n",
    "        ax[0].legend(bbox_to_anchor=(0,1.02,1,0.2),loc=\"lower left\", handletextpad=.01,\n",
    "                     edgecolor='black', mode=\"expand\", ncol=self.n, fontsize=lsize)\n",
    "        ax[1].legend(bbox_to_anchor=(0,1.02,1,0.2),loc=\"lower left\", \n",
    "                     mode=\"expand\", ncol=self.n, fontsize=lsize, edgecolor='black') \n",
    "        \n",
    "        plt.rcParams.update({'font.size': fsize})\n",
    "        plt.subplots_adjust(wspace = .2)\n",
    "        \n",
    "        if save == True: \n",
    "            plt.savefig(\"figures/\"+self.fig_name+\".pdf\" ,bbox_inches='tight')\n",
    "\"\"\""
   ]
  },
  {
   "cell_type": "code",
   "execution_count": 16,
   "metadata": {},
   "outputs": [
    {
     "data": {
      "text/plain": [
       "'#comparison between AIC and BIC criteria----------------(plot)------------------------\\n\\ndef plot_criteria(criteria):\\n  \\n    figure, ax = plt.subplots(1, 2, sharex=\\'col\\', sharey=\\'row\\', figsize=(9, 4))\\n    let   = 15 \\n    label = [\\'BIC\\',\\'AIC\\']\\n\\n    for i,criterium in enumerate(criteria):\\n        dim  = len(criteria[i])\\n        norm = min(criteria[i])/max(criteria[i])\\n        \\n        ax[i].plot(range(1, dim+1), criteria[i]/max(criteria[i]), \"o\",\\n                   c=\"C1\",label=label[i]+\" values\")\\n        ax[i].plot(range(1, dim+1),criteria[i]/max(criteria[i]))#, label=label[i])\\n        ax[i].plot(range(1, dim+1),np.ones(dim)*norm,\\n                   \"--\",label=r\"Ideal clusters \"+str(criteria[i].index(min(criteria[i]))+1) )\\n\\n        ax[i].set_xlabel(r\\'Number of clusters\\', fontsize=let+1)\\n        ax[i].legend(fontsize=let, loc=1,edgecolor=\\'black\\')\\n        ax[i].set_xlim(0, dim+1)\\n        ax[i].set_xticks(np.arange(0, dim, step=2))\\n        ax[i].tick_params(labelsize=let)\\n\\n    ax[0].set_ylabel(r\\'Criterium value normalized\\', fontsize=let+1)\\n    return [bic,aic]'"
      ]
     },
     "execution_count": 16,
     "metadata": {},
     "output_type": "execute_result"
    }
   ],
   "source": [
    "\"\"\"#comparison between AIC and BIC criteria----------------(plot)------------------------\n",
    "\n",
    "def plot_criteria(criteria):\n",
    "  \n",
    "    figure, ax = plt.subplots(1, 2, sharex='col', sharey='row', figsize=(9, 4))\n",
    "    let   = 15 \n",
    "    label = ['BIC','AIC']\n",
    "\n",
    "    for i,criterium in enumerate(criteria):\n",
    "        dim  = len(criteria[i])\n",
    "        norm = min(criteria[i])/max(criteria[i])\n",
    "        \n",
    "        ax[i].plot(range(1, dim+1), criteria[i]/max(criteria[i]), \"o\",\n",
    "                   c=\"C1\",label=label[i]+\" values\")\n",
    "        ax[i].plot(range(1, dim+1),criteria[i]/max(criteria[i]))#, label=label[i])\n",
    "        ax[i].plot(range(1, dim+1),np.ones(dim)*norm,\n",
    "                   \"--\",label=r\"Ideal clusters \"+str(criteria[i].index(min(criteria[i]))+1) )\n",
    "\n",
    "        ax[i].set_xlabel(r'Number of clusters', fontsize=let+1)\n",
    "        ax[i].legend(fontsize=let, loc=1,edgecolor='black')\n",
    "        ax[i].set_xlim(0, dim+1)\n",
    "        ax[i].set_xticks(np.arange(0, dim, step=2))\n",
    "        ax[i].tick_params(labelsize=let)\n",
    "\n",
    "    ax[0].set_ylabel(r'Criterium value normalized', fontsize=let+1)\n",
    "    return [bic,aic]\"\"\""
   ]
  },
  {
   "cell_type": "code",
   "execution_count": null,
   "metadata": {},
   "outputs": [],
   "source": []
  },
  {
   "cell_type": "code",
   "execution_count": null,
   "metadata": {},
   "outputs": [],
   "source": []
  },
  {
   "cell_type": "code",
   "execution_count": null,
   "metadata": {},
   "outputs": [],
   "source": []
  },
  {
   "cell_type": "code",
   "execution_count": 17,
   "metadata": {},
   "outputs": [],
   "source": [
    "def fraction_changed(data, dawns):\n",
    "    \n",
    "    p_system    = data.groupby(\"star_name\")\n",
    "    system_list = list(p_system.groups.keys())\n",
    "    draws       = [] #draws of COM for each system. \n",
    "    \n",
    "    for i in range(len(system_list)):\n",
    "        \n",
    "        system_i      = data[data.star_name == system_list[i]]  \n",
    "        system_i_mass = np.zeros(dawns)\n",
    "        cm_i          = np.zeros(dawns) \n",
    "        \n",
    "        for k in range(len(system_i)):\n",
    "            masses = np.random.normal(system_i.mass.values[k],\n",
    "                                      system_i.mass_error_min.values[k],\n",
    "                                      dawns)\n",
    "            axes = np.random.normal(system_i.semi_major_axis.values[k],\n",
    "                                    system_i.semi_major_axis_error_min.values[k],\n",
    "                                    dawns)\n",
    "            cm_i          += masses*axes\n",
    "            system_i_mass += masses\n",
    "        #draws.append([np.abs(cm_i/system_i_mass)]\n",
    "        draws.append([cm_i/system_i_mass])\n",
    "    draws = np.array(draws)\n",
    "    draws = draws[draws>0]\n",
    "    return draws\n",
    "        "
   ]
  },
  {
   "cell_type": "code",
   "execution_count": 18,
   "metadata": {},
   "outputs": [],
   "source": [
    "#frc = fraction_changed(data,1000)"
   ]
  },
  {
   "cell_type": "code",
   "execution_count": 19,
   "metadata": {},
   "outputs": [],
   "source": [
    "from scipy.stats import truncnorm\n",
    "a=0.1\n",
    "b=2\n",
    "x = np.linspace(truncnorm.ppf(0.01, a, b), \n",
    "                truncnorm.ppf(0.99, a, b), \n",
    "                100)\n",
    "#print(x)\n",
    "#plt.plot(truncnorm.ppf(x,a,b),x)\n",
    "\n",
    "#r = truncnorm.rvs(a, b, size=1000)\n",
    "#len(r)"
   ]
  },
  {
   "cell_type": "code",
   "execution_count": 20,
   "metadata": {},
   "outputs": [],
   "source": [
    "#list(p_system.groups.keys())"
   ]
  },
  {
   "cell_type": "code",
   "execution_count": 21,
   "metadata": {},
   "outputs": [
    {
     "data": {
      "text/plain": [
       "987"
      ]
     },
     "execution_count": 21,
     "metadata": {},
     "output_type": "execute_result"
    }
   ],
   "source": [
    "system_list = list(p_system.groups.keys())\n",
    "len(system_list)"
   ]
  },
  {
   "cell_type": "code",
   "execution_count": 22,
   "metadata": {},
   "outputs": [
    {
     "data": {
      "text/html": [
       "<div>\n",
       "<style scoped>\n",
       "    .dataframe tbody tr th:only-of-type {\n",
       "        vertical-align: middle;\n",
       "    }\n",
       "\n",
       "    .dataframe tbody tr th {\n",
       "        vertical-align: top;\n",
       "    }\n",
       "\n",
       "    .dataframe thead th {\n",
       "        text-align: right;\n",
       "    }\n",
       "</style>\n",
       "<table border=\"1\" class=\"dataframe\">\n",
       "  <thead>\n",
       "    <tr style=\"text-align: right;\">\n",
       "      <th></th>\n",
       "      <th>star_name</th>\n",
       "      <th>mass</th>\n",
       "      <th>mass_error_min</th>\n",
       "      <th>semi_major_axis</th>\n",
       "      <th>semi_major_axis_error_min</th>\n",
       "    </tr>\n",
       "  </thead>\n",
       "  <tbody>\n",
       "    <tr>\n",
       "      <th>3821</th>\n",
       "      <td>ups And</td>\n",
       "      <td>0.620</td>\n",
       "      <td>0.090</td>\n",
       "      <td>0.0590</td>\n",
       "      <td>0.00100</td>\n",
       "    </tr>\n",
       "    <tr>\n",
       "      <th>3824</th>\n",
       "      <td>ups And</td>\n",
       "      <td>1.059</td>\n",
       "      <td>0.028</td>\n",
       "      <td>5.2456</td>\n",
       "      <td>0.00067</td>\n",
       "    </tr>\n",
       "  </tbody>\n",
       "</table>\n",
       "</div>"
      ],
      "text/plain": [
       "     star_name   mass  mass_error_min  semi_major_axis  \\\n",
       "3821   ups And  0.620           0.090           0.0590   \n",
       "3824   ups And  1.059           0.028           5.2456   \n",
       "\n",
       "      semi_major_axis_error_min  \n",
       "3821                    0.00100  \n",
       "3824                    0.00067  "
      ]
     },
     "execution_count": 22,
     "metadata": {},
     "output_type": "execute_result"
    }
   ],
   "source": [
    "data[data.star_name == list(p_system.groups.keys())[i]]"
   ]
  },
  {
   "cell_type": "code",
   "execution_count": 23,
   "metadata": {},
   "outputs": [
    {
     "data": {
      "text/plain": [
       "' TYC 4282-605-1'"
      ]
     },
     "execution_count": 23,
     "metadata": {},
     "output_type": "execute_result"
    }
   ],
   "source": [
    "list(p_system.groups.keys())[1]"
   ]
  },
  {
   "cell_type": "code",
   "execution_count": 24,
   "metadata": {},
   "outputs": [],
   "source": [
    "#'dawns' is the number of synthetic systems per each data known\n",
    "#'data' is a DataFrame of the data, with column \"Center of Mass\"\n",
    "#'n_components' is the number of clusters for the lowest BIC/AIC.\n",
    "\n",
    "def fraction_changed(n_components, dawns, data, log=False):\n",
    "    \n",
    "    draws=[]\n",
    "\n",
    "    #1000 draws per planetary mass or systrem mass\n",
    "    \n",
    "    for i in range(len(data.values)):\n",
    "        masses=np.random.normal(data.mass.values[i],\n",
    "                                data.mass_error_min.values[i],\n",
    "                                dawns)\n",
    "        masses = masses[masses>0]\n",
    "        draws += [masses]\n",
    "\n",
    "    if log==True:\n",
    "        mass = np.log10(data[[\"mass\"]])\n",
    "        draws = [np.log10(i) for i in draws]\n",
    "        \n",
    "    else:\n",
    "        mass = data[[\"mass\"]]\n",
    "     \n",
    "    #Gausian mixture model for masses  data:  \n",
    "    gmm = GaussianMixture(n_components,covariance_type='full',random_state=0)\n",
    "    gmm.fit(mass.values)\n",
    "    cluster_label = gmm.predict(mass.values)\n",
    "         \n",
    "    #fraction of the synthttic systems wich change classification group:\n",
    "    fraction_changed = []\n",
    "    \n",
    "    #to get only the posotice values of the draws, just get tyhe positives values: \n",
    "    #draws = [i for i in draws if i > 0] or None\n",
    "    \n",
    "    for index in range(len(draws)):\n",
    "        #draw_i=np.abs(draws[index][:,np.newaxis])\n",
    "        draw_i=draws[index][:,np.newaxis]\n",
    "        orig=gmm.predict(np.array(mass))[index]\n",
    "        fraction_changed+=[(orig!=gmm.predict(draw_i)).sum()/1000]\n",
    "    lid=[len(i) for i in draws]\n",
    "    #print( np.min(lid),np.mean(lid) )\n",
    "    return(draws)\n",
    "    #return((np.array(fraction_changed)<=0.1).sum()/len(fraction_changed))\n",
    "    #return fraction_changed"
   ]
  },
  {
   "cell_type": "code",
   "execution_count": 25,
   "metadata": {},
   "outputs": [],
   "source": [
    "#frac_mass=fraction_changed(4,1000,CoM[[\"Center_of_Mass\"]],False)"
   ]
  },
  {
   "cell_type": "code",
   "execution_count": 26,
   "metadata": {},
   "outputs": [],
   "source": [
    "#np.log10(data[[\"Center_of_Mass\"]])==np.log10(CoM[[\"Center_of_Mass\"]])"
   ]
  },
  {
   "cell_type": "code",
   "execution_count": 27,
   "metadata": {},
   "outputs": [
    {
     "data": {
      "text/plain": [
       "Text(0.5, 0, 'Center Of Mass (AU)')"
      ]
     },
     "execution_count": 27,
     "metadata": {},
     "output_type": "execute_result"
    },
    {
     "data": {
      "image/png": "[encoded data removed]",
      "text/plain": [
       "<Figure size 432x288 with 1 Axes>"
      ]
     },
     "metadata": {
      "needs_background": "light"
     },
     "output_type": "display_data"
    }
   ],
   "source": [
    "#GaussianMixture:  a firs approximation for 10 grups\n",
    "#----------------------------------------------------------------------\n",
    "data = CoM\n",
    "gmm = GaussianMixture(1, covariance_type='full', random_state=0)\n",
    "CM=CoM[[\"Center_of_Mass\"]]\n",
    "gmm.fit(CM.values)\n",
    "cluster_label = gmm.predict(CM.values)\n",
    "plt.scatter((CM.values),np.zeros(len(CM)), c=cluster_label);\n",
    "plt.ylim(-0.1,0.1)\n",
    "plt.xlabel(r\"Center Of Mass (AU)\", fontsize=\"15\")\n",
    "#For the CoM is nessesary emply a Logarithm sclae."
   ]
  },
  {
   "cell_type": "code",
   "execution_count": 28,
   "metadata": {},
   "outputs": [
    {
     "data": {
      "image/png": "[encoded data removed]",
      "text/plain": [
       "<Figure size 432x288 with 1 Axes>"
      ]
     },
     "metadata": {
      "needs_background": "light"
     },
     "output_type": "display_data"
    }
   ],
   "source": [
    "#the log10scale for center of mass of each exoplanetary system:\n",
    "#----------------------------------------------------------------------\n",
    "CM_log=np.log10(data[[\"Center_of_Mass\"]])\n",
    "\n",
    "GMM,cluster=[],[]\n",
    "\n",
    "#Some different components for Gaussian Mixture Model: \n",
    "#----------------------------------------------------------------------\n",
    "for i in [2,3]:\n",
    "    gmm = GaussianMixture(i, covariance_type='full', random_state=0)\n",
    "    GMM.append(gmm)\n",
    "    gmm.fit(CM_log.values)\n",
    "    cluster_label = gmm.predict(CM_log.values)\n",
    "    cluster.append(cluster_label)\n",
    "\n",
    "# (just a plot for two grups)\n",
    "#----------------------------------------------------------------------\n",
    "#plt.rc('text', usetex=True)\n",
    "\n",
    "color=[]\n",
    "#len(cluster[0])\n",
    "for i in range(len(cluster[0])):\n",
    "    if cluster[0][i] == 0:\n",
    "        color.append(\"C1\")\n",
    "    elif cluster[0][i] == 1:\n",
    "        color.append(\"C2\")\n",
    "\n",
    "x=np.linspace(-2.5,4,1000)\n",
    "colors=[\"C1\",\"C2\",\"C3\",\"C4\",\"C5\"]\n",
    "\n",
    "fig, ax1 = plt.subplots(1, 1, sharex='col', sharey='row')\n",
    "\n",
    "plt.gcf().subplots_adjust(bottom=0.15,right=0.96, left=0.115, top=0.93)\n",
    "\n",
    "for i, (v1,v2) in enumerate(zip(GMM[0].means_,GMM[0].covariances_)):\n",
    "    ax1.plot(x, norm.pdf(x,v1,v2)[0]/norm.pdf(x,v1,v2)[0].max(),\n",
    "             c=colors[i],label=\"Cluster \"+str(i+1))\n",
    "    ax1.legend(fontsize=15,edgecolor='black')\n",
    "\n",
    "ax1.scatter((CM_log.values),np.zeros(len(CM_log)),c=color, \n",
    "            label=\"Cluster\",s=10)  \n",
    "\n",
    "ax1.tick_params(labelsize=19)\n",
    "\n",
    "plt.xlabel(r'$\\log_{10}$(CM)',fontsize=20)\n",
    "plt.ylabel(r'Normal Distribution',fontsize=20)\n",
    "plt.savefig(\"figures/GMM1.pdf\")"
   ]
  },
  {
   "cell_type": "code",
   "execution_count": 29,
   "metadata": {
    "scrolled": true
   },
   "outputs": [
    {
     "data": {
      "text/plain": [
       "Text(0, 0.5, 'Normal Distribution')"
      ]
     },
     "execution_count": 29,
     "metadata": {},
     "output_type": "execute_result"
    },
    {
     "data": {
      "image/png": "[encoded data removed]",
      "text/plain": [
       "<Figure size 432x288 with 1 Axes>"
      ]
     },
     "metadata": {
      "needs_background": "light"
     },
     "output_type": "display_data"
    }
   ],
   "source": [
    "# (just a plot for five grups)\n",
    "#----------------------------------------------------------------------\n",
    "color=[]\n",
    "C = cluster[1]\n",
    "for i in range(len(cluster[1])):\n",
    "    if C[i] == 0:\n",
    "        color.append(\"C1\")\n",
    "    elif C[i] == 1:\n",
    "        color.append(\"C2\")\n",
    "    elif C[i] == 2:\n",
    "        color.append(\"C3\")\n",
    "    elif C[i] == 3:\n",
    "        color.append(\"C4\")\n",
    "    elif C[i] == 4:\n",
    "        color.append(\"C5\")\n",
    "\n",
    "x=np.linspace(-2.5,4,1000)\n",
    "colors=[\"C1\",\"C2\",\"C3\",\"C4\",\"C5\"]\n",
    "\n",
    "fig2, ax2 = plt.subplots(1, 1, sharex='col', sharey='row')\n",
    "\n",
    "plt.gcf().subplots_adjust(bottom=0.17,right=0.97, left=0.175, top=0.90)\n",
    "\n",
    "for i, (v1,v2) in enumerate(zip(GMM[1].means_,GMM[1].covariances_)):\n",
    "    ax2.plot(x, norm.pdf(x,v1,v2)[0]/norm.pdf(x,v1,v2)[0].max(),\n",
    "             c=colors[i],label=\"Cluster \"+str(i+1))\n",
    "    ax2.legend(fontsize=14, loc=1,edgecolor='black')\n",
    "\n",
    "ax2.scatter((CM_log.values),np.zeros(len(CM_log)),c=color, label=\"Group 1\")  \n",
    "ax2.set_xlim(-2.3,5.2)\n",
    "\n",
    "ax2.tick_params(labelsize=19)\n",
    "\n",
    "#plt.title(r\"GMM with three components\",fontsize=22)\n",
    "plt.xlabel(r'$\\log_{10}$(CM)',fontsize=20)\n",
    "plt.ylabel(r'Normal Distribution',fontsize=20)\n",
    "#plt.savefig(\"figures/GMM3.pdf\")"
   ]
  },
  {
   "cell_type": "code",
   "execution_count": 30,
   "metadata": {},
   "outputs": [
    {
     "data": {
      "image/png": "[encoded data removed]",
      "text/plain": [
       "<Figure size 720x360 with 2 Axes>"
      ]
     },
     "metadata": {
      "needs_background": "light"
     },
     "output_type": "display_data"
    }
   ],
   "source": [
    "#Some different components for Gaussian Mixture Model: \n",
    "data = CoM\n",
    "CM_log=np.log10(data[[\"Center_of_Mass\"]])\n",
    "GMM,cluster=[],[]\n",
    "let=16\n",
    "#----------------------------------------------------------------------\n",
    "for i in [4,6]:\n",
    "    gmm = GaussianMixture(i, covariance_type='full', random_state=0)\n",
    "    GMM.append(gmm)\n",
    "    gmm.fit(CM_log.values)\n",
    "    cluster_label = gmm.predict(CM_log.values)\n",
    "    cluster.append(cluster_label)\n",
    "#----------------------------------------------------------------------\n",
    "col=[]\n",
    "\n",
    "for i in range(len(cluster[0])):\n",
    "    if cluster[0][i] == 0:\n",
    "        col.append(\"C1\")\n",
    "    elif cluster[0][i] == 1:\n",
    "        col.append(\"C2\")\n",
    "    elif cluster[0][i] == 2:\n",
    "        col.append(\"C3\")\n",
    "    elif cluster[0][i] == 3:\n",
    "        col.append(\"C4\")\n",
    "\n",
    "lor=[]\n",
    "C = cluster[1]\n",
    "for i in range(len(cluster[1])):\n",
    "    if C[i] == 0:\n",
    "        lor.append(\"C1\")\n",
    "    elif C[i] == 1:\n",
    "        lor.append(\"C2\")\n",
    "    elif C[i] == 2:\n",
    "        lor.append(\"C3\")\n",
    "    elif C[i] == 3:\n",
    "        lor.append(\"C4\")\n",
    "    elif C[i] == 4:\n",
    "        lor.append(\"C5\")  \n",
    "    elif C[i] == 5:\n",
    "        lor.append(\"C6\") \n",
    "    elif C[i] == 6:\n",
    "        lor.append(\"C7\")\n",
    "        \n",
    "x=np.linspace(-2.5,4,1000)\n",
    "colors=[\"C1\",\"C2\",\"C3\",\"C4\",\"C5\",\"C6\",\"C7\"]\n",
    "\n",
    "fig, axs = plt.subplots(1, 2, figsize=(10, 5), sharey=True)\n",
    "\n",
    "plt.gcf().subplots_adjust(bottom=0.12,right=0.99, left=0.07, top=0.88)\n",
    "\n",
    "#axs[0].scatter((CM_log.values),np.zeros(len(CM_log)),c=col)  \n",
    "#axs[1].scatter((CM_log.values),np.zeros(len(CM_log)),c=lor)  \n",
    "\n",
    "#h1 = axs[0].hist(CM_log.values,60, density=True)#,label=r\"Histogram of $r_\\text{cm}$\")\n",
    "\n",
    "sb.distplot(CM_log.values,60,kde=False, norm_hist=True, ax = axs[0])#,label=r\"Histogram of $r_\\text{cm}$\")    \n",
    "sb.distplot(CM_log.values,60,kde=False, norm_hist=True, ax = axs[1])#,label=r\"Histogram of $r_\\text{cm}$\")    \n",
    "    \n",
    "#leg1 = plt.legend(loc='upper left', fontsize=let-5)\n",
    "\n",
    "#izq\n",
    "for i, (v1,v2) in enumerate(zip(GMM[0].means_,GMM[0].covariances_)):\n",
    "    axs[0].plot(x, norm.pdf(x,v1,v2)[0]/norm.pdf(x,v1,v2)[0].max(),\n",
    "             c=colors[i],label=\"Cluster \"+str(i+1),lw=2.5)\n",
    "    axs[0].legend(fontsize=let-2,edgecolor='black',bbox_to_anchor=(-0, 1.02, 1, .15), loc=3,\n",
    "              ncol=2,mode=\"expand\")\n",
    "#der\n",
    "for i, (v1,v2) in enumerate(zip(GMM[1].means_,GMM[1].covariances_)):\n",
    "    axs[1].plot(x, norm.pdf(x,v1,v2)[0]/norm.pdf(x,v1,v2)[0].max(),\n",
    "             c=colors[i],label=\"Cluster \"+str(i+1),lw=2.5)\n",
    "    axs[1].legend(fontsize=let-2,edgecolor='black',bbox_to_anchor=(0, 1.02, 1, .102), loc=3,\n",
    "              ncol=3, mode=\"expand\")\n",
    "    \n",
    "axs[0].set_ylim(-0.1,1.4,1/10)\n",
    "axs[0].set_xlim(CM_log.values.min(),CM_log.values.max())\n",
    "axs[1].set_xlim(CM_log.values.min(),CM_log.values.max())\n",
    "#axs[0].set_xscale('log')\n",
    "axs[0].tick_params(labelsize=let)\n",
    "axs[1].tick_params(labelsize=let)\n",
    "\n",
    "plt.subplots_adjust(wspace=0.05)\n",
    "\n",
    "#axs.xlabel(r'$\\log_{10}$(CM)',fontsize=20)\n",
    "axs[0].set_ylabel(r'Normal Distribution',fontsize=let)\n",
    "fig.text(0.53, 0.0, r\"$\\log_{10}(r_\\text{cm})$ (AU)\", \n",
    "         fontsize=let, ha='center', va='center')\n",
    "\n",
    "fig.text(.355, .8, r\"Histogram of $r_\\text{cm}$\", color='k',\n",
    "         fontsize=let, bbox=dict(facecolor=\"C0\",alpha = .4))\n",
    "\n",
    "fig.text(.825, .8, r\"Histogram of $r_\\text{cm}$\", color='k',\n",
    "         fontsize=let, bbox=dict(facecolor=\"C0\",alpha = .4))\n",
    "#plt.gca().add_artist(leg1)\n",
    "\n",
    "#plt.savefig(\"figures/GMM_2-3-hist.pdf\",bbox_inches='tight')\n",
    "plt.savefig(\"figures/GMM_4-6-hist.pdf\",bbox_inches='tight')\n"
   ]
  },
  {
   "cell_type": "markdown",
   "metadata": {},
   "source": [
    "To determine the number of cluster in the Gaussian Mixture Model, it may use a bayessian information criterion"
   ]
  },
  {
   "cell_type": "markdown",
   "metadata": {},
   "source": [
    "The posteriror probabilities are determinated by the function `gmm.predict_proba()`"
   ]
  },
  {
   "cell_type": "code",
   "execution_count": 31,
   "metadata": {
    "scrolled": false
   },
   "outputs": [
    {
     "data": {
      "image/png": "[encoded data removed]",
      "text/plain": [
       "<Figure size 504x403.2 with 1 Axes>"
      ]
     },
     "metadata": {
      "needs_background": "light"
     },
     "output_type": "display_data"
    }
   ],
   "source": [
    "# The posterior probabilities: \n",
    "names=[\"Earth-centered\", \"Close\",\"Far away\",\"Venusian-centered\"]\n",
    "plt.figure(figsize=(7,5.6))\n",
    "\n",
    "for i in range(4):\n",
    "    plt.scatter(CM_log,gmm.predict_proba(CM_log)[:,i],label=names[i], s=7);\n",
    "\n",
    "plt.gcf().subplots_adjust(bottom=0.15,right=0.97, left=0.15, top=0.83)\n",
    "plt.tick_params(labelsize=20)    \n",
    "plt.xlabel(r'$\\log_{10}(r_\\text{cm}) \\text{(AU)}$',fontsize=22)\n",
    "plt.ylabel(r'Posterior Probabilities',fontsize=22)\n",
    "plt.xlim(-2.5,4)\n",
    "\n",
    "plt.xticks(np.arange(int(min(m)), int(max(m))+2, 1.0))\n",
    "\n",
    "plt.legend(fontsize=17.5,edgecolor='black', \n",
    "           bbox_to_anchor=(-0.02, 1.20, 1.037, 0.06), loc=2,\n",
    "           ncol=2, mode=\"expand\")\n",
    "plt.savefig(\"figures/Prob.pdf\")"
   ]
  },
  {
   "cell_type": "code",
   "execution_count": 32,
   "metadata": {},
   "outputs": [
    {
     "data": {
      "text/plain": [
       "array([-1.56995864])"
      ]
     },
     "execution_count": 32,
     "metadata": {},
     "output_type": "execute_result"
    }
   ],
   "source": [
    "gmm.predict_proba(CM_log)[794]\n",
    "CM_log.values[794]"
   ]
  },
  {
   "cell_type": "markdown",
   "metadata": {},
   "source": [
    "The probability for a synthetic draw of a system called AA, with a $\\mu=0.8$ and $\\sigma=0.03$ in the CM, can be established as:"
   ]
  },
  {
   "cell_type": "code",
   "execution_count": 33,
   "metadata": {},
   "outputs": [
    {
     "data": {
      "text/plain": [
       "Text(0, 0.5, 'Probability')"
      ]
     },
     "execution_count": 33,
     "metadata": {},
     "output_type": "execute_result"
    },
    {
     "data": {
      "image/png": "[encoded data removed]",
      "text/plain": [
       "<Figure size 504x403.2 with 1 Axes>"
      ]
     },
     "metadata": {
      "needs_background": "light"
     },
     "output_type": "display_data"
    }
   ],
   "source": [
    "AA=np.log10(np.random.normal(0.8,0.03,1000))\n",
    "AA=AA[:,np.newaxis]\n",
    "names=[\"Earth-centered\", \"Close\",\"Far away\",\"Venusian-centered\"]\n",
    "plt.figure(figsize=(7,5.6))\n",
    "\n",
    "#production of probability for a syntethic planetary system \n",
    "for i in range(4):\n",
    "    plt.scatter(AA,gmm.predict_proba(AA)[:,i],label=names[i])\n",
    "\n",
    "plt.gcf().subplots_adjust(bottom=0.15,right=0.965, left=0.14, top=0.83)\n",
    "plt.legend(fontsize=17.5,edgecolor='black', \n",
    "           bbox_to_anchor=(-0.02, 1.20, 1.037, 0.055), loc=2,\n",
    "           ncol=2, mode=\"expand\")\n",
    "plt.tick_params(labelsize=20)    \n",
    "plt.xlabel(r'$\\log_{10}$(CM)',fontsize=22)\n",
    "plt.ylabel(r'Probability',fontsize=22)\n",
    "#plt.savefig(\"figures/draw.pdf\")"
   ]
  },
  {
   "cell_type": "markdown",
   "metadata": {},
   "source": [
    "## ... Draws\n",
    "Employing m and $\\Delta$m, a and $\\Delta$a, from `data2`."
   ]
  },
  {
   "cell_type": "code",
   "execution_count": 34,
   "metadata": {},
   "outputs": [],
   "source": [
    "# Group the planetary system:\n",
    "data2 = dataB[['star_name','mass', 'mass_error_min',\n",
    "               'semi_major_axis','semi_major_axis_error_min']]\n",
    "Planetary_System = data2.groupby(\"star_name\")\n",
    "Systems_List = list(Planetary_System.groups.keys())"
   ]
  },
  {
   "cell_type": "markdown",
   "metadata": {},
   "source": [
    "A first way to get the drows for each system:"
   ]
  },
  {
   "cell_type": "code",
   "execution_count": 35,
   "metadata": {
    "scrolled": true
   },
   "outputs": [],
   "source": [
    "#%%time\n",
    "#-------------------------------------------------------------------------\n",
    "# Draws, for each planetary system\n",
    "draws=[]#drows of COM for each system. \n",
    "for i in range(len(Systems_List)):\n",
    "    system_i = data2[data2.star_name == Systems_List[i]]    \n",
    "    draw_i=[]\n",
    "    for j in  range(1000):\n",
    "        #Get random values for each planet in a system and the COM for those values\n",
    "        masses=np.random.normal(system_i.mass,system_i.mass_error_min)\n",
    "        axes=np.random.normal(system_i.semi_major_axis,\n",
    "                              system_i.semi_major_axis_error_min)\n",
    "        draw_i += [(masses*axes).sum()/masses.sum()]\n",
    "    draws.append(draw_i)\n"
   ]
  },
  {
   "cell_type": "code",
   "execution_count": 36,
   "metadata": {},
   "outputs": [],
   "source": [
    "#len(draws[0])"
   ]
  },
  {
   "cell_type": "markdown",
   "metadata": {},
   "source": [
    "Second way to get the draws for each system (in a shorter time):"
   ]
  },
  {
   "cell_type": "code",
   "execution_count": 37,
   "metadata": {},
   "outputs": [
    {
     "data": {
      "text/plain": [
       "987"
      ]
     },
     "execution_count": 37,
     "metadata": {},
     "output_type": "execute_result"
    }
   ],
   "source": [
    "#%%time\n",
    "data2 = dataB[['star_name','mass', 'mass_error_min',\n",
    "               'semi_major_axis','semi_major_axis_error_min']]\n",
    "Planetary_System = data2.groupby(\"star_name\")\n",
    "Systems_List = list(Planetary_System.groups.keys())\n",
    "\n",
    "DrawsA=[]#drows of COM for each system. \n",
    "for i in range(len(Systems_List)):\n",
    "    SystemA_i = data2[data2.star_name == Systems_List[i]]  \n",
    "    \n",
    "    \n",
    "    \n",
    "    Mass_System = np.zeros(1000)\n",
    "    Mass_Axe = np.zeros(1000) \n",
    "    for k in range(len(SystemA_i)):\n",
    "        Masses = np.random.normal(SystemA_i.mass.values[k],\n",
    "                                  SystemA_i.mass_error_min.values[k],1000)\n",
    "        Axes = np.random.normal(SystemA_i.semi_major_axis.values[k],\n",
    "                                SystemA_i.semi_major_axis_error_min.values[k],\n",
    "                                1000)\n",
    "        Mass_Axe += Masses*Axes\n",
    "        Mass_System += Masses\n",
    "        #print(SystemA_i.mass.values[k])\n",
    "    DrawsA.append(Mass_Axe/Mass_System)\n",
    "len(DrawsA)"
   ]
  },
  {
   "cell_type": "code",
   "execution_count": 38,
   "metadata": {},
   "outputs": [
    {
     "data": {
      "text/plain": [
       "987"
      ]
     },
     "execution_count": 38,
     "metadata": {},
     "output_type": "execute_result"
    }
   ],
   "source": [
    "len(CM_log.values)"
   ]
  },
  {
   "cell_type": "code",
   "execution_count": 39,
   "metadata": {},
   "outputs": [],
   "source": [
    "from scipy.stats import truncnorm\n",
    "\n",
    "lower, upper = 0, max(DrawsA[8])\n",
    "mu, sigma = DrawsA[8].mean(), DrawsA[8].std()\n",
    "\n",
    "a, b = (lower - mu) / sigma, (upper - mu) / sigma\n",
    "\n",
    "x = np.linspace(truncnorm.pdf(0.01, a, b), \n",
    "                truncnorm.pdf(0.99, a, b), \n",
    "                1000)\n",
    "values = truncnorm.rvs(a, b, scale=sigma, loc=mu, size=1000)\n",
    "#print(x)\n",
    "#plt.hist(DrawsA[8], density=True)\n",
    "#plt.hist(DrawsA[8], density=True, alpha=.2)\n",
    "#plt.hist(values, density=True, alpha=.2)\n",
    "#plt.plot(np.linspace(min(values),max(values),1000),\n",
    "#         norm.pdf(np.linspace(min(values),max(values),1000),mu,sigma))\n",
    "#r = truncnorm.rvs(a, b, size=1000)\n",
    "#len(r)"
   ]
  },
  {
   "cell_type": "code",
   "execution_count": 64,
   "metadata": {},
   "outputs": [
    {
     "data": {
      "text/html": [
       "<div>\n",
       "<style scoped>\n",
       "    .dataframe tbody tr th:only-of-type {\n",
       "        vertical-align: middle;\n",
       "    }\n",
       "\n",
       "    .dataframe tbody tr th {\n",
       "        vertical-align: top;\n",
       "    }\n",
       "\n",
       "    .dataframe thead th {\n",
       "        text-align: right;\n",
       "    }\n",
       "</style>\n",
       "<table border=\"1\" class=\"dataframe\">\n",
       "  <thead>\n",
       "    <tr style=\"text-align: right;\">\n",
       "      <th></th>\n",
       "      <th>star_name</th>\n",
       "      <th>mass</th>\n",
       "      <th>mass_error_min</th>\n",
       "      <th>semi_major_axis</th>\n",
       "      <th>semi_major_axis_error_min</th>\n",
       "    </tr>\n",
       "  </thead>\n",
       "  <tbody>\n",
       "    <tr>\n",
       "      <th>0</th>\n",
       "      <td>11 Com</td>\n",
       "      <td>19.40000</td>\n",
       "      <td>1.50000</td>\n",
       "      <td>1.2900</td>\n",
       "      <td>0.05000</td>\n",
       "    </tr>\n",
       "    <tr>\n",
       "      <th>1</th>\n",
       "      <td>11 Oph</td>\n",
       "      <td>21.00000</td>\n",
       "      <td>3.00000</td>\n",
       "      <td>243.0000</td>\n",
       "      <td>55.00000</td>\n",
       "    </tr>\n",
       "    <tr>\n",
       "      <th>2</th>\n",
       "      <td>11 UMi</td>\n",
       "      <td>10.50000</td>\n",
       "      <td>2.47000</td>\n",
       "      <td>1.5400</td>\n",
       "      <td>0.07000</td>\n",
       "    </tr>\n",
       "    <tr>\n",
       "      <th>4</th>\n",
       "      <td>14 Her</td>\n",
       "      <td>4.64000</td>\n",
       "      <td>0.19000</td>\n",
       "      <td>2.7700</td>\n",
       "      <td>0.05000</td>\n",
       "    </tr>\n",
       "    <tr>\n",
       "      <th>5</th>\n",
       "      <td>16 Cyg B</td>\n",
       "      <td>1.68000</td>\n",
       "      <td>0.07000</td>\n",
       "      <td>1.6800</td>\n",
       "      <td>0.03000</td>\n",
       "    </tr>\n",
       "    <tr>\n",
       "      <th>...</th>\n",
       "      <td>...</td>\n",
       "      <td>...</td>\n",
       "      <td>...</td>\n",
       "      <td>...</td>\n",
       "      <td>...</td>\n",
       "    </tr>\n",
       "    <tr>\n",
       "      <th>3817</th>\n",
       "      <td>tau Cet</td>\n",
       "      <td>0.01240</td>\n",
       "      <td>0.00431</td>\n",
       "      <td>1.3340</td>\n",
       "      <td>0.04400</td>\n",
       "    </tr>\n",
       "    <tr>\n",
       "      <th>3818</th>\n",
       "      <td>tau Cet</td>\n",
       "      <td>0.00551</td>\n",
       "      <td>0.00130</td>\n",
       "      <td>0.1330</td>\n",
       "      <td>0.00200</td>\n",
       "    </tr>\n",
       "    <tr>\n",
       "      <th>3819</th>\n",
       "      <td>tau Cet</td>\n",
       "      <td>0.00576</td>\n",
       "      <td>0.00082</td>\n",
       "      <td>0.2430</td>\n",
       "      <td>0.00300</td>\n",
       "    </tr>\n",
       "    <tr>\n",
       "      <th>3821</th>\n",
       "      <td>ups And</td>\n",
       "      <td>0.62000</td>\n",
       "      <td>0.09000</td>\n",
       "      <td>0.0590</td>\n",
       "      <td>0.00100</td>\n",
       "    </tr>\n",
       "    <tr>\n",
       "      <th>3824</th>\n",
       "      <td>ups And</td>\n",
       "      <td>1.05900</td>\n",
       "      <td>0.02800</td>\n",
       "      <td>5.2456</td>\n",
       "      <td>0.00067</td>\n",
       "    </tr>\n",
       "  </tbody>\n",
       "</table>\n",
       "<p>1217 rows × 5 columns</p>\n",
       "</div>"
      ],
      "text/plain": [
       "     star_name      mass  mass_error_min  semi_major_axis  \\\n",
       "0       11 Com  19.40000         1.50000           1.2900   \n",
       "1       11 Oph  21.00000         3.00000         243.0000   \n",
       "2       11 UMi  10.50000         2.47000           1.5400   \n",
       "4       14 Her   4.64000         0.19000           2.7700   \n",
       "5     16 Cyg B   1.68000         0.07000           1.6800   \n",
       "...        ...       ...             ...              ...   \n",
       "3817   tau Cet   0.01240         0.00431           1.3340   \n",
       "3818   tau Cet   0.00551         0.00130           0.1330   \n",
       "3819   tau Cet   0.00576         0.00082           0.2430   \n",
       "3821   ups And   0.62000         0.09000           0.0590   \n",
       "3824   ups And   1.05900         0.02800           5.2456   \n",
       "\n",
       "      semi_major_axis_error_min  \n",
       "0                       0.05000  \n",
       "1                      55.00000  \n",
       "2                       0.07000  \n",
       "4                       0.05000  \n",
       "5                       0.03000  \n",
       "...                         ...  \n",
       "3817                    0.04400  \n",
       "3818                    0.00200  \n",
       "3819                    0.00300  \n",
       "3821                    0.00100  \n",
       "3824                    0.00067  \n",
       "\n",
       "[1217 rows x 5 columns]"
      ]
     },
     "execution_count": 64,
     "metadata": {},
     "output_type": "execute_result"
    }
   ],
   "source": [
    "dataa"
   ]
  },
  {
   "cell_type": "code",
   "execution_count": 69,
   "metadata": {},
   "outputs": [],
   "source": [
    "A = dataa.groupby(\"star_name\")\n",
    "SystemA_i = dataa[dataa.star_name == \"TRAPPIST-1\"]  \n",
    "len(SystemA_i)\n",
    "\n",
    "Mass_System = np.zeros(1000)\n",
    "Mass_Axe = np.zeros(1000) \n",
    "DrawsAA = []\n",
    "\n",
    "for planet in range(len(SystemA_i)):\n",
    "    \n",
    "    mu_m, sigma_m = SystemA_i.mass.values[planet], SystemA_i.mass_error_min.values[planet]\n",
    "    lower_m, upper_m = 0, SystemA_i.mass.values[planet]+3*SystemA_i.mass_error_min.values[planet]\n",
    "    \n",
    "    mu_a, sigma_a = SystemA_i.semi_major_axis.values[planet], SystemA_i.semi_major_axis_error_min.values[planet]\n",
    "    lower_a, upper_a = 0, SystemA_i.semi_major_axis.values[planet]+3*SystemA_i.semi_major_axis_error_min.values[planet]\n",
    "    \n",
    "    a_m, b_m = (lower_m - mu_m) / sigma_m, (upper_m - mu_m) / sigma_m\n",
    "    a_a, b_a = (lower_a- mu_a) / sigma_a, (upper_a - mu_a) / sigma_a\n",
    "\n",
    "    \n",
    "    masses = truncnorm.rvs(a_m, b_m, scale=sigma_m, loc=mu_m, size=1000)\n",
    "    axes = truncnorm.rvs(a_a, b_a, scale=sigma_a, loc=mu_a, size=1000)\n",
    "\n",
    "    Mass_Axe += masses*axes\n",
    "    Mass_System += masses\n",
    "    \n",
    "DrawsAA.append(Mass_Axe/Mass_System)"
   ]
  },
  {
   "cell_type": "code",
   "execution_count": 93,
   "metadata": {},
   "outputs": [
    {
     "data": {
      "text/plain": [
       "(-0.01, 0.05)"
      ]
     },
     "execution_count": 93,
     "metadata": {},
     "output_type": "execute_result"
    },
    {
     "data": {
      "image/png": "[encoded data removed]",
      "text/plain": [
       "<Figure size 432x288 with 1 Axes>"
      ]
     },
     "metadata": {
      "needs_background": "light"
     },
     "output_type": "display_data"
    }
   ],
   "source": [
    "plt.hist(DrawsAA[0], bins=10, alpha=.5)\n",
    "plt.hist(DrawsA[794], bins=50, alpha=.3)\n",
    "plt.xlim(-0.01,0.05)"
   ]
  },
  {
   "cell_type": "code",
   "execution_count": 84,
   "metadata": {},
   "outputs": [
    {
     "name": "stdout",
     "output_type": "stream",
     "text": [
      "0.026549020875047458\n",
      "0.02676670638580071\n"
     ]
    }
   ],
   "source": [
    "print(DrawsA[794].mean())\n",
    "print(DrawsAA[0].mean())\n"
   ]
  },
  {
   "cell_type": "code",
   "execution_count": 40,
   "metadata": {},
   "outputs": [],
   "source": [
    "def frac_change(data):\n",
    "    \n",
    "    Planetary_System = data.groupby(\"star_name\")\n",
    "    Systems_List = list(Planetary_System.groups.keys())\n",
    "    DrawsA=[]#drows of COM for each system. \n",
    "    \n",
    "    for i in range(len(Systems_List)):\n",
    "        \n",
    "        SystemA_i = data[data.star_name == Systems_List[i]]  \n",
    "        \n",
    "        a_mass, b_mass = 0, \n",
    "        \n",
    "        lower, upper = 0, max(DrawsA[8])\n",
    "        mu, sigma = DrawsA[8].mean(), DrawsA[8].std()\n",
    "\n",
    "        \n",
    "        Mass_System = np.zeros(1000)\n",
    "        Mass_Axe = np.zeros(1000) \n",
    "        for k in range(len(SystemA_i)):\n",
    "            Masses = np.random.normal(SystemA_i.mass.values[k],\n",
    "                                      SystemA_i.mass_error_min.values[k],1000)\n",
    "            Axeses = np.random.normal(SystemA_i.semi_major_axis.values[k],\n",
    "                                    SystemA_i.semi_major_axis_error_min.values[k],\n",
    "                                    1000)\n",
    "            Mass_Axe += Masses*Axes\n",
    "            Mass_System += Masses\n",
    "        #print(SystemA_i.mass.values[k])\n",
    "        DrawsA.append(Mass_Axe/Mass_System)\n",
    "    "
   ]
  },
  {
   "cell_type": "code",
   "execution_count": 55,
   "metadata": {},
   "outputs": [
    {
     "data": {
      "text/plain": [
       "794"
      ]
     },
     "execution_count": 55,
     "metadata": {},
     "output_type": "execute_result"
    }
   ],
   "source": [
    "Systems_List.index(\"TRAPPIST-1\")"
   ]
  },
  {
   "cell_type": "code",
   "execution_count": 53,
   "metadata": {},
   "outputs": [
    {
     "data": {
      "image/png": "[encoded data removed]",
      "text/plain": [
       "<Figure size 432x288 with 1 Axes>"
      ]
     },
     "metadata": {
      "needs_background": "light"
     },
     "output_type": "display_data"
    }
   ],
   "source": [
    "Tras = DrawsA[Systems_List.index(\"TRAPPIST-1\")]\n",
    "fig, ax1 = plt.subplots(1, 1)\n",
    "\n",
    "let=15\n",
    "\n",
    "ax1 = sb.distplot(Tras, ax=ax1, bins=50, \n",
    "                  label=r' Synthetic $r_\\text{cm}$ (AU)',\n",
    "                  kde_kws={\"lw\": 2, \"label\": r\" Synthetic density\"})\n",
    "\n",
    "ax1.set_xlabel(r\"$\\log_{10}$(Mass) (M$_\\text{Jup}$)\",fontsize=let)\n",
    "#_xlabel(,fontsize=let);ax.set_ylabel(r\"Orbital period (years)\",fontsize=let)\n",
    "ax1.set_ylabel(r\"Distribution\", fontsize=let)\n",
    "ax1.tick_params(labelsize=let)\n",
    "\n",
    "\n",
    "ax1.legend(loc='upper left',fontsize=let);\n",
    "plt.savefig(\"figures/Tras_hists.pdf\", bbox_inches='tight')"
   ]
  },
  {
   "cell_type": "code",
   "execution_count": 78,
   "metadata": {},
   "outputs": [
    {
     "data": {
      "text/plain": [
       "(array([  1.,   0.,   0.,   0.,   0.,   0.,   0.,   0.,   0.,   0.,   0.,\n",
       "          0.,   0.,   0.,   0.,   0.,   0.,   0.,   0.,   0.,   0.,   0.,\n",
       "          0.,   0.,   0.,   0.,   0.,   0.,   0.,   0.,   0.,   0.,   0.,\n",
       "          0.,   0.,   0.,   0.,   0.,   0.,   0.,   0.,   0.,   0.,   0.,\n",
       "          0.,   0.,   0.,   0.,   0.,   0.,   0.,   0.,   0.,   0.,   0.,\n",
       "          0.,   0.,   0.,   0.,   0.,   0.,   1.,   0.,   0.,   0.,   1.,\n",
       "          0.,   0.,   0.,   0.,   1.,   0.,   0.,   0.,   2.,   2.,   0.,\n",
       "          0.,   2.,   0.,   4.,   7.,   6.,  11.,  35.,  39.,  74., 102.,\n",
       "        122., 150., 138., 100.,  97.,  57.,  24.,  11.,   7.,   2.,   2.,\n",
       "          2.]),\n",
       " array([-0.11325647, -0.11169152, -0.11012658, -0.10856164, -0.10699669,\n",
       "        -0.10543175, -0.10386681, -0.10230186, -0.10073692, -0.09917198,\n",
       "        -0.09760703, -0.09604209, -0.09447715, -0.0929122 , -0.09134726,\n",
       "        -0.08978232, -0.08821737, -0.08665243, -0.08508749, -0.08352254,\n",
       "        -0.0819576 , -0.08039266, -0.07882771, -0.07726277, -0.07569783,\n",
       "        -0.07413288, -0.07256794, -0.071003  , -0.06943805, -0.06787311,\n",
       "        -0.06630817, -0.06474322, -0.06317828, -0.06161334, -0.06004839,\n",
       "        -0.05848345, -0.05691851, -0.05535356, -0.05378862, -0.05222368,\n",
       "        -0.05065873, -0.04909379, -0.04752884, -0.0459639 , -0.04439896,\n",
       "        -0.04283401, -0.04126907, -0.03970413, -0.03813918, -0.03657424,\n",
       "        -0.0350093 , -0.03344435, -0.03187941, -0.03031447, -0.02874952,\n",
       "        -0.02718458, -0.02561964, -0.02405469, -0.02248975, -0.02092481,\n",
       "        -0.01935986, -0.01779492, -0.01622998, -0.01466503, -0.01310009,\n",
       "        -0.01153515, -0.0099702 , -0.00840526, -0.00684032, -0.00527537,\n",
       "        -0.00371043, -0.00214549, -0.00058054,  0.0009844 ,  0.00254934,\n",
       "         0.00411429,  0.00567923,  0.00724417,  0.00880912,  0.01037406,\n",
       "         0.011939  ,  0.01350395,  0.01506889,  0.01663383,  0.01819878,\n",
       "         0.01976372,  0.02132866,  0.02289361,  0.02445855,  0.02602349,\n",
       "         0.02758844,  0.02915338,  0.03071832,  0.03228327,  0.03384821,\n",
       "         0.03541316,  0.0369781 ,  0.03854304,  0.04010799,  0.04167293,\n",
       "         0.04323787]),\n",
       " <a list of 100 Patch objects>)"
      ]
     },
     "execution_count": 78,
     "metadata": {},
     "output_type": "execute_result"
    },
    {
     "data": {
      "image/png": "[encoded data removed]",
      "text/plain": [
       "<Figure size 432x288 with 1 Axes>"
      ]
     },
     "metadata": {
      "needs_background": "light"
     },
     "output_type": "display_data"
    }
   ],
   "source": [
    "plt.hist(DrawsA[794], bins=100)"
   ]
  },
  {
   "cell_type": "code",
   "execution_count": 44,
   "metadata": {
    "scrolled": true
   },
   "outputs": [
    {
     "name": "stdout",
     "output_type": "stream",
     "text": [
      "5\n"
     ]
    },
    {
     "name": "stderr",
     "output_type": "stream",
     "text": [
      "<ipython-input-44-2f8a286f18cb>:2: RuntimeWarning: invalid value encountered in log10\n",
      "  Draw_i=np.log10(DrawsA[kk][:,np.newaxis])\n"
     ]
    },
    {
     "ename": "ValueError",
     "evalue": "Input contains NaN, infinity or a value too large for dtype('float64').",
     "output_type": "error",
     "traceback": [
      "\u001b[0;31m---------------------------------------------------------------------------\u001b[0m",
      "\u001b[0;31mValueError\u001b[0m                                Traceback (most recent call last)",
      "\u001b[0;32m<ipython-input-44-2f8a286f18cb>\u001b[0m in \u001b[0;36m<module>\u001b[0;34m\u001b[0m\n\u001b[1;32m      3\u001b[0m \u001b[0morig\u001b[0m\u001b[0;34m=\u001b[0m\u001b[0mgmm\u001b[0m\u001b[0;34m.\u001b[0m\u001b[0mpredict\u001b[0m\u001b[0;34m(\u001b[0m\u001b[0mnp\u001b[0m\u001b[0;34m.\u001b[0m\u001b[0marray\u001b[0m\u001b[0;34m(\u001b[0m\u001b[0mCM_log\u001b[0m\u001b[0;34m)\u001b[0m\u001b[0;34m)\u001b[0m\u001b[0;34m[\u001b[0m\u001b[0mkk\u001b[0m\u001b[0;34m]\u001b[0m\u001b[0;34m\u001b[0m\u001b[0;34m\u001b[0m\u001b[0m\n\u001b[1;32m      4\u001b[0m \u001b[0mprint\u001b[0m\u001b[0;34m(\u001b[0m\u001b[0morig\u001b[0m\u001b[0;34m)\u001b[0m\u001b[0;34m\u001b[0m\u001b[0;34m\u001b[0m\u001b[0m\n\u001b[0;32m----> 5\u001b[0;31m \u001b[0mprint\u001b[0m\u001b[0;34m(\u001b[0m\u001b[0;34m(\u001b[0m\u001b[0morig\u001b[0m\u001b[0;34m!=\u001b[0m\u001b[0mgmm\u001b[0m\u001b[0;34m.\u001b[0m\u001b[0mpredict\u001b[0m\u001b[0;34m(\u001b[0m\u001b[0mDraw_i\u001b[0m\u001b[0;34m)\u001b[0m\u001b[0;34m)\u001b[0m\u001b[0;34m.\u001b[0m\u001b[0msum\u001b[0m\u001b[0;34m(\u001b[0m\u001b[0;34m)\u001b[0m\u001b[0;34m/\u001b[0m\u001b[0;36m1000\u001b[0m\u001b[0;34m)\u001b[0m\u001b[0;34m\u001b[0m\u001b[0;34m\u001b[0m\u001b[0m\n\u001b[0m\u001b[1;32m      6\u001b[0m \u001b[0;32mfor\u001b[0m \u001b[0mi\u001b[0m \u001b[0;32min\u001b[0m \u001b[0mrange\u001b[0m\u001b[0;34m(\u001b[0m\u001b[0;36m4\u001b[0m\u001b[0;34m)\u001b[0m\u001b[0;34m:\u001b[0m\u001b[0;34m\u001b[0m\u001b[0;34m\u001b[0m\u001b[0m\n\u001b[1;32m      7\u001b[0m     \u001b[0mplt\u001b[0m\u001b[0;34m.\u001b[0m\u001b[0mscatter\u001b[0m\u001b[0;34m(\u001b[0m\u001b[0mDraw_i\u001b[0m\u001b[0;34m,\u001b[0m\u001b[0mgmm\u001b[0m\u001b[0;34m.\u001b[0m\u001b[0mpredict_proba\u001b[0m\u001b[0;34m(\u001b[0m\u001b[0mDraw_i\u001b[0m\u001b[0;34m)\u001b[0m\u001b[0;34m[\u001b[0m\u001b[0;34m:\u001b[0m\u001b[0;34m,\u001b[0m\u001b[0mi\u001b[0m\u001b[0;34m]\u001b[0m\u001b[0;34m)\u001b[0m\u001b[0;34m\u001b[0m\u001b[0;34m\u001b[0m\u001b[0m\n",
      "\u001b[0;32m~/miniconda3/lib/python3.8/site-packages/sklearn/mixture/_base.py\u001b[0m in \u001b[0;36mpredict\u001b[0;34m(self, X)\u001b[0m\n\u001b[1;32m    371\u001b[0m         \"\"\"\n\u001b[1;32m    372\u001b[0m         \u001b[0mcheck_is_fitted\u001b[0m\u001b[0;34m(\u001b[0m\u001b[0mself\u001b[0m\u001b[0;34m)\u001b[0m\u001b[0;34m\u001b[0m\u001b[0;34m\u001b[0m\u001b[0m\n\u001b[0;32m--> 373\u001b[0;31m         \u001b[0mX\u001b[0m \u001b[0;34m=\u001b[0m \u001b[0m_check_X\u001b[0m\u001b[0;34m(\u001b[0m\u001b[0mX\u001b[0m\u001b[0;34m,\u001b[0m \u001b[0;32mNone\u001b[0m\u001b[0;34m,\u001b[0m \u001b[0mself\u001b[0m\u001b[0;34m.\u001b[0m\u001b[0mmeans_\u001b[0m\u001b[0;34m.\u001b[0m\u001b[0mshape\u001b[0m\u001b[0;34m[\u001b[0m\u001b[0;36m1\u001b[0m\u001b[0;34m]\u001b[0m\u001b[0;34m)\u001b[0m\u001b[0;34m\u001b[0m\u001b[0;34m\u001b[0m\u001b[0m\n\u001b[0m\u001b[1;32m    374\u001b[0m         \u001b[0;32mreturn\u001b[0m \u001b[0mself\u001b[0m\u001b[0;34m.\u001b[0m\u001b[0m_estimate_weighted_log_prob\u001b[0m\u001b[0;34m(\u001b[0m\u001b[0mX\u001b[0m\u001b[0;34m)\u001b[0m\u001b[0;34m.\u001b[0m\u001b[0margmax\u001b[0m\u001b[0;34m(\u001b[0m\u001b[0maxis\u001b[0m\u001b[0;34m=\u001b[0m\u001b[0;36m1\u001b[0m\u001b[0;34m)\u001b[0m\u001b[0;34m\u001b[0m\u001b[0;34m\u001b[0m\u001b[0m\n\u001b[1;32m    375\u001b[0m \u001b[0;34m\u001b[0m\u001b[0m\n",
      "\u001b[0;32m~/miniconda3/lib/python3.8/site-packages/sklearn/mixture/_base.py\u001b[0m in \u001b[0;36m_check_X\u001b[0;34m(X, n_components, n_features, ensure_min_samples)\u001b[0m\n\u001b[1;32m     50\u001b[0m     \u001b[0mX\u001b[0m \u001b[0;34m:\u001b[0m \u001b[0marray\u001b[0m\u001b[0;34m,\u001b[0m \u001b[0mshape\u001b[0m \u001b[0;34m(\u001b[0m\u001b[0mn_samples\u001b[0m\u001b[0;34m,\u001b[0m \u001b[0mn_features\u001b[0m\u001b[0;34m)\u001b[0m\u001b[0;34m\u001b[0m\u001b[0;34m\u001b[0m\u001b[0m\n\u001b[1;32m     51\u001b[0m     \"\"\"\n\u001b[0;32m---> 52\u001b[0;31m     X = check_array(X, dtype=[np.float64, np.float32],\n\u001b[0m\u001b[1;32m     53\u001b[0m                     ensure_min_samples=ensure_min_samples)\n\u001b[1;32m     54\u001b[0m     \u001b[0;32mif\u001b[0m \u001b[0mn_components\u001b[0m \u001b[0;32mis\u001b[0m \u001b[0;32mnot\u001b[0m \u001b[0;32mNone\u001b[0m \u001b[0;32mand\u001b[0m \u001b[0mX\u001b[0m\u001b[0;34m.\u001b[0m\u001b[0mshape\u001b[0m\u001b[0;34m[\u001b[0m\u001b[0;36m0\u001b[0m\u001b[0;34m]\u001b[0m \u001b[0;34m<\u001b[0m \u001b[0mn_components\u001b[0m\u001b[0;34m:\u001b[0m\u001b[0;34m\u001b[0m\u001b[0;34m\u001b[0m\u001b[0m\n",
      "\u001b[0;32m~/miniconda3/lib/python3.8/site-packages/sklearn/utils/validation.py\u001b[0m in \u001b[0;36minner_f\u001b[0;34m(*args, **kwargs)\u001b[0m\n\u001b[1;32m     71\u001b[0m                           FutureWarning)\n\u001b[1;32m     72\u001b[0m         \u001b[0mkwargs\u001b[0m\u001b[0;34m.\u001b[0m\u001b[0mupdate\u001b[0m\u001b[0;34m(\u001b[0m\u001b[0;34m{\u001b[0m\u001b[0mk\u001b[0m\u001b[0;34m:\u001b[0m \u001b[0marg\u001b[0m \u001b[0;32mfor\u001b[0m \u001b[0mk\u001b[0m\u001b[0;34m,\u001b[0m \u001b[0marg\u001b[0m \u001b[0;32min\u001b[0m \u001b[0mzip\u001b[0m\u001b[0;34m(\u001b[0m\u001b[0msig\u001b[0m\u001b[0;34m.\u001b[0m\u001b[0mparameters\u001b[0m\u001b[0;34m,\u001b[0m \u001b[0margs\u001b[0m\u001b[0;34m)\u001b[0m\u001b[0;34m}\u001b[0m\u001b[0;34m)\u001b[0m\u001b[0;34m\u001b[0m\u001b[0;34m\u001b[0m\u001b[0m\n\u001b[0;32m---> 73\u001b[0;31m         \u001b[0;32mreturn\u001b[0m \u001b[0mf\u001b[0m\u001b[0;34m(\u001b[0m\u001b[0;34m**\u001b[0m\u001b[0mkwargs\u001b[0m\u001b[0;34m)\u001b[0m\u001b[0;34m\u001b[0m\u001b[0;34m\u001b[0m\u001b[0m\n\u001b[0m\u001b[1;32m     74\u001b[0m     \u001b[0;32mreturn\u001b[0m \u001b[0minner_f\u001b[0m\u001b[0;34m\u001b[0m\u001b[0;34m\u001b[0m\u001b[0m\n\u001b[1;32m     75\u001b[0m \u001b[0;34m\u001b[0m\u001b[0m\n",
      "\u001b[0;32m~/miniconda3/lib/python3.8/site-packages/sklearn/utils/validation.py\u001b[0m in \u001b[0;36mcheck_array\u001b[0;34m(array, accept_sparse, accept_large_sparse, dtype, order, copy, force_all_finite, ensure_2d, allow_nd, ensure_min_samples, ensure_min_features, estimator)\u001b[0m\n\u001b[1;32m    643\u001b[0m \u001b[0;34m\u001b[0m\u001b[0m\n\u001b[1;32m    644\u001b[0m         \u001b[0;32mif\u001b[0m \u001b[0mforce_all_finite\u001b[0m\u001b[0;34m:\u001b[0m\u001b[0;34m\u001b[0m\u001b[0;34m\u001b[0m\u001b[0m\n\u001b[0;32m--> 645\u001b[0;31m             _assert_all_finite(array,\n\u001b[0m\u001b[1;32m    646\u001b[0m                                allow_nan=force_all_finite == 'allow-nan')\n\u001b[1;32m    647\u001b[0m \u001b[0;34m\u001b[0m\u001b[0m\n",
      "\u001b[0;32m~/miniconda3/lib/python3.8/site-packages/sklearn/utils/validation.py\u001b[0m in \u001b[0;36m_assert_all_finite\u001b[0;34m(X, allow_nan, msg_dtype)\u001b[0m\n\u001b[1;32m     95\u001b[0m                 not allow_nan and not np.isfinite(X).all()):\n\u001b[1;32m     96\u001b[0m             \u001b[0mtype_err\u001b[0m \u001b[0;34m=\u001b[0m \u001b[0;34m'infinity'\u001b[0m \u001b[0;32mif\u001b[0m \u001b[0mallow_nan\u001b[0m \u001b[0;32melse\u001b[0m \u001b[0;34m'NaN, infinity'\u001b[0m\u001b[0;34m\u001b[0m\u001b[0;34m\u001b[0m\u001b[0m\n\u001b[0;32m---> 97\u001b[0;31m             raise ValueError(\n\u001b[0m\u001b[1;32m     98\u001b[0m                     \u001b[0mmsg_err\u001b[0m\u001b[0;34m.\u001b[0m\u001b[0mformat\u001b[0m\u001b[0;34m\u001b[0m\u001b[0;34m\u001b[0m\u001b[0m\n\u001b[1;32m     99\u001b[0m                     (type_err,\n",
      "\u001b[0;31mValueError\u001b[0m: Input contains NaN, infinity or a value too large for dtype('float64')."
     ]
    }
   ],
   "source": [
    "kk=8\n",
    "Draw_i=np.log10(DrawsA[kk][:,np.newaxis])\n",
    "orig=gmm.predict(np.array(CM_log))[kk]\n",
    "print(orig)\n",
    "print((orig!=gmm.predict(Draw_i)).sum()/1000)\n",
    "for i in range(4):\n",
    "    plt.scatter(Draw_i,gmm.predict_proba(Draw_i)[:,i])"
   ]
  },
  {
   "cell_type": "code",
   "execution_count": null,
   "metadata": {},
   "outputs": [],
   "source": [
    "plt.hist(np.log10(DrawsA[8]), bins=10)"
   ]
  },
  {
   "cell_type": "code",
   "execution_count": null,
   "metadata": {},
   "outputs": [],
   "source": [
    "# CM_log is the centero of mass in log scale for each system\n",
    "frac=[]\n",
    "for kk in range(len(DrawsA)):\n",
    "    Draw_i=np.log10(DrawsA[kk][:,np.newaxis])\n",
    "    orig=gmm.predict(np.array(CM_log))[kk]\n",
    "#    print(kk)\n",
    "    frac+=[(orig!=gmm.predict(Draw_i)).sum()/1000] # AA es el elemento i de draws (que debe ser un array de 1000 elementos)\n",
    "\n",
    "\n",
    "#for i in range(4):\n",
    "#    plt.scatter(Draw_i,gmm.predict_proba(Draw_i)[:,i])\n",
    "#orig\n",
    "#AA\n",
    "#orig=gmm.predict(np.array([[0.8]])) # 0.8 es el centro de masa para el sistema i\n",
    "#(orig!=gmm.predict(AA)).sum()/1000 # AA es el elemento i de draws (que debe ser un array de 1000 elementos)\n",
    "#DrawsA[0]\n",
    "#Draw_i=DrawsA[0][0][:,np.newaxis]\n",
    "#gmm.predict(Draw_i)\n",
    "#Draw_i\n",
    "#gmm.predict(Draw_i)\n",
    "plt.hist(frac)\n",
    "print((np.array(frac)==0).sum()/len(frac))\n",
    "np.max(frac)"
   ]
  },
  {
   "cell_type": "code",
   "execution_count": null,
   "metadata": {},
   "outputs": [],
   "source": [
    "orig=gmm.predict(np.array(CM_log))[2]\n",
    "print(CM_log.values)\n",
    "DrawsA[2][0]"
   ]
  },
  {
   "cell_type": "markdown",
   "metadata": {},
   "source": [
    "#### Metallicity"
   ]
  },
  {
   "cell_type": "code",
   "execution_count": null,
   "metadata": {},
   "outputs": [],
   "source": [
    "dataMet = data_ep[pd.notnull(data_ep[\"star_metallicity\"])]\n",
    "dataMetA = dataMet[pd.notnull(dataMet[\"star_metallicity_error_min\"])]\n",
    "dataMet = dataMetA[['star_name',\"star_metallicity\",\"star_metallicity_error_min\"]]"
   ]
  },
  {
   "cell_type": "code",
   "execution_count": null,
   "metadata": {},
   "outputs": [],
   "source": [
    "gmm2 = GaussianMixture(3, covariance_type='full', random_state=0)\n",
    "B=dataMet[[\"star_metallicity\"]]\n",
    "gmm2.fit(B.values)\n",
    "cluster_label = gmm2.predict(B.values)\n",
    "B.values[:, 0]\n",
    "plt.scatter((B.values),np.zeros(len(B)), c=cluster_label);\n",
    "plt.ylim(-0.1,1)"
   ]
  },
  {
   "cell_type": "code",
   "execution_count": null,
   "metadata": {},
   "outputs": [],
   "source": [
    "bic=[]\n",
    "for i in range(15):\n",
    "    i+=1\n",
    "    gmm2 = GaussianMixture(i, covariance_type='full', random_state=0)\n",
    "    A=data1[[\"center_of_Mass\"]]\n",
    "    gmm2.fit(B.values)\n",
    "    bic+=[gmm2.bic(B.values)]\n",
    "plt.plot(range(1,16),bic)"
   ]
  },
  {
   "cell_type": "code",
   "execution_count": null,
   "metadata": {},
   "outputs": [],
   "source": [
    "plt.figure(figsize=(15,5))\n",
    "sma=np.linspace(-2.5,4,1000)\n",
    "for m,s in zip(gmm.means_,gmm.covariances_):\n",
    "    plt.plot(sma, norm.pdf(sma,m,s)[0])\n",
    "plt.scatter((A.values),np.zeros(len(A)), c = cluster_label);"
   ]
  },
  {
   "cell_type": "code",
   "execution_count": null,
   "metadata": {},
   "outputs": [],
   "source": []
  }
 ],
 "metadata": {
  "celltoolbar": "Slideshow",
  "kernelspec": {
   "display_name": "Python 3",
   "language": "python",
   "name": "python3"
  },
  "language_info": {
   "codemirror_mode": {
    "name": "ipython",
    "version": 3
   },
   "file_extension": ".py",
   "mimetype": "text/x-python",
   "name": "python",
   "nbconvert_exporter": "python",
   "pygments_lexer": "ipython3",
   "version": "3.8.3"
  }
 },
 "nbformat": 4,
 "nbformat_minor": 2
}
