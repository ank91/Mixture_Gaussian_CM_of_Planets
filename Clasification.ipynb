{
 "cells": [
  {
   "cell_type": "markdown",
   "metadata": {
    "slideshow": {
     "slide_type": "slide"
    }
   },
   "source": [
    "# Classification for the centar of mass $(r_\\text{cm})$ of exoplanetary systems through GMM \n",
    "\n",
    "We use Gaussian Mixture Model to clasify the center of mass of exoplanetary systems, employing the observational data  "
   ]
  },
  {
   "cell_type": "markdown",
   "metadata": {
    "slideshow": {
     "slide_type": "subslide"
    }
   },
   "source": [
    "## 1. Read and clean the file from exoplanet.eu\n",
    "\n",
    "From the most complete list of observed exoplanets planets to date, <a href=\"http://exoplanet.eu/\">exoplanet.eu</a>, we take the planetary mass $M_{tp}$, the semi_major $a$ and the Metallicity Fe/H (with their respective uncertainties).  \n",
    "\n",
    "It is necessary processing the data with the prurpose to obtain the Center of Mass $r_\\text{cm}$, as a DataFrame `data`, without NaN values in the columns of _mass_ ($M_{tp}$) and _semi major axis_($a$). Finally, we get the data cleaned.\n",
    "\n",
    "**Remember**: `pd.notnull(\"name_of_column\")` deletes the NaN values in the column. \n",
    "\n",
    "**Remember**: `data=data[['column_a','column_b',..,'column_n',]]` to get a new order in the DataFrame"
   ]
  },
  {
   "cell_type": "code",
   "execution_count": 1,
   "metadata": {
    "slideshow": {
     "slide_type": "skip"
    }
   },
   "outputs": [
    {
     "data": {
      "text/html": [
       "\n",
       "<style>\n",
       ".output_png {\n",
       "    display: table-cell;\n",
       "    text-align: center;\n",
       "    vertical-align: middle;\n",
       "}\n",
       "</style>\n"
      ],
      "text/plain": [
       "<IPython.core.display.HTML object>"
      ]
     },
     "execution_count": 1,
     "metadata": {},
     "output_type": "execute_result"
    }
   ],
   "source": [
    "from IPython.core.display import HTML\n",
    "HTML(\"\"\"\n",
    "<style>\n",
    ".output_png {\n",
    "    display: table-cell;\n",
    "    text-align: center;\n",
    "    vertical-align: middle;\n",
    "}\n",
    "</style>\n",
    "\"\"\")"
   ]
  },
  {
   "cell_type": "code",
   "execution_count": 2,
   "metadata": {
    "slideshow": {
     "slide_type": "subslide"
    }
   },
   "outputs": [],
   "source": [
    "import pandas as pd; \n",
    "import numpy as np\n",
    "from scipy.stats import norm \n",
    "import random\n",
    "from sklearn.mixture import GaussianMixture\n",
    "import matplotlib.pyplot as plt \n",
    "import seaborn as sb\n",
    "from matplotlib import rc, cm, rcParams\n",
    "\n",
    "rcParams['text.latex.preamble']=[r\"\\usepackage{amsmath}\"]\n",
    "rc('text', usetex=True)\n",
    "%matplotlib inline"
   ]
  },
  {
   "cell_type": "markdown",
   "metadata": {
    "slideshow": {
     "slide_type": "subslide"
    }
   },
   "source": [
    "Now, the data is read (only mass and semi major axis with their uncertainties)."
   ]
  },
  {
   "cell_type": "code",
   "execution_count": 3,
   "metadata": {
    "scrolled": true,
    "slideshow": {
     "slide_type": "fragment"
    }
   },
   "outputs": [
    {
     "name": "stdout",
     "output_type": "stream",
     "text": [
      "Total of NaN values = 8485\n"
     ]
    },
    {
     "data": {
      "text/plain": [
       "mass                         2158\n",
       "mass_error_min               2369\n",
       "semi_major_axis              1476\n",
       "semi_major_axis_error_min    2477\n",
       "star_name                       5\n",
       "dtype: int64"
      ]
     },
     "execution_count": 3,
     "metadata": {},
     "output_type": "execute_result"
    }
   ],
   "source": [
    "data_ep = pd.read_csv('data/exoplanet.eu_catalog.csv', \n",
    "                      usecols=['mass','mass_error_min','semi_major_axis',\n",
    "                               'semi_major_axis_error_min','star_name'])\n",
    "\n",
    "# It replaces the inf values:\n",
    "data_ep = data_ep.replace([np.inf, -np.inf], np.nan) \n",
    "\n",
    "# Total of NaN values:\n",
    "print(\"Total of NaN values = \"+str(data_ep.isnull().sum().sum()))\n",
    "\n",
    "# Numer of nan values per column:\n",
    "data_ep.isnull().sum()"
   ]
  },
  {
   "cell_type": "markdown",
   "metadata": {
    "slideshow": {
     "slide_type": "fragment"
    }
   },
   "source": [
    "After check for missing values in the data, we can see that some names of stars do not exists!!<font color='red'> Does it mean that some stars do not have names?</font> We will discuss latter. \n",
    "\n",
    "For the time being, we are going to continue cleaning the data. We do not take into account the NaN values."
   ]
  },
  {
   "cell_type": "code",
   "execution_count": 4,
   "metadata": {
    "slideshow": {
     "slide_type": "subslide"
    }
   },
   "outputs": [
    {
     "name": "stdout",
     "output_type": "stream",
     "text": [
      "Total of planets with complete data = 1217\n"
     ]
    }
   ],
   "source": [
    "dataB = data_ep.dropna(subset=['mass','mass_error_min','semi_major_axis',\n",
    "                               'semi_major_axis_error_min'])\n",
    "\n",
    "# Clean the data for the star names:\n",
    "dataB = dataB.dropna(subset=['star_name'])\n",
    "\n",
    "# Data after cleaning:\n",
    "data = dataB[['star_name','mass', 'mass_error_min',\n",
    "              'semi_major_axis','semi_major_axis_error_min']]\n",
    "\n",
    "print(\"Total of planets with complete data = \"+str(len(data)))"
   ]
  },
  {
   "cell_type": "markdown",
   "metadata": {
    "slideshow": {
     "slide_type": "subslide"
    }
   },
   "source": [
    "The cleaning result is a data frame with complete information of the numer of total planets per system $N_{tp}$, thir masses and semi-major axis with respective uncertainties. The data can group by the name of the host star."
   ]
  },
  {
   "cell_type": "code",
   "execution_count": 5,
   "metadata": {
    "slideshow": {
     "slide_type": "fragment"
    }
   },
   "outputs": [
    {
     "data": {
      "text/html": [
       "<div>\n",
       "<style scoped>\n",
       "    .dataframe tbody tr th:only-of-type {\n",
       "        vertical-align: middle;\n",
       "    }\n",
       "\n",
       "    .dataframe tbody tr th {\n",
       "        vertical-align: top;\n",
       "    }\n",
       "\n",
       "    .dataframe thead th {\n",
       "        text-align: right;\n",
       "    }\n",
       "</style>\n",
       "<table border=\"1\" class=\"dataframe\">\n",
       "  <thead>\n",
       "    <tr style=\"text-align: right;\">\n",
       "      <th></th>\n",
       "      <th>star_name</th>\n",
       "      <th>mass</th>\n",
       "      <th>mass_error_min</th>\n",
       "      <th>semi_major_axis</th>\n",
       "      <th>semi_major_axis_error_min</th>\n",
       "    </tr>\n",
       "  </thead>\n",
       "  <tbody>\n",
       "    <tr>\n",
       "      <th>3568</th>\n",
       "      <td>TRAPPIST-1</td>\n",
       "      <td>0.00270</td>\n",
       "      <td>0.00230</td>\n",
       "      <td>0.01111</td>\n",
       "      <td>0.00034</td>\n",
       "    </tr>\n",
       "    <tr>\n",
       "      <th>3569</th>\n",
       "      <td>TRAPPIST-1</td>\n",
       "      <td>0.00434</td>\n",
       "      <td>0.00190</td>\n",
       "      <td>0.01521</td>\n",
       "      <td>0.00047</td>\n",
       "    </tr>\n",
       "    <tr>\n",
       "      <th>3570</th>\n",
       "      <td>TRAPPIST-1</td>\n",
       "      <td>0.00130</td>\n",
       "      <td>0.00085</td>\n",
       "      <td>0.02144</td>\n",
       "      <td>0.00063</td>\n",
       "    </tr>\n",
       "    <tr>\n",
       "      <th>3571</th>\n",
       "      <td>TRAPPIST-1</td>\n",
       "      <td>0.00200</td>\n",
       "      <td>0.00180</td>\n",
       "      <td>0.02817</td>\n",
       "      <td>0.00087</td>\n",
       "    </tr>\n",
       "    <tr>\n",
       "      <th>3572</th>\n",
       "      <td>TRAPPIST-1</td>\n",
       "      <td>0.00210</td>\n",
       "      <td>0.00057</td>\n",
       "      <td>0.03710</td>\n",
       "      <td>0.00110</td>\n",
       "    </tr>\n",
       "    <tr>\n",
       "      <th>3573</th>\n",
       "      <td>TRAPPIST-1</td>\n",
       "      <td>0.00422</td>\n",
       "      <td>0.00280</td>\n",
       "      <td>0.04510</td>\n",
       "      <td>0.00140</td>\n",
       "    </tr>\n",
       "  </tbody>\n",
       "</table>\n",
       "</div>"
      ],
      "text/plain": [
       "       star_name     mass  mass_error_min  semi_major_axis  \\\n",
       "3568  TRAPPIST-1  0.00270         0.00230          0.01111   \n",
       "3569  TRAPPIST-1  0.00434         0.00190          0.01521   \n",
       "3570  TRAPPIST-1  0.00130         0.00085          0.02144   \n",
       "3571  TRAPPIST-1  0.00200         0.00180          0.02817   \n",
       "3572  TRAPPIST-1  0.00210         0.00057          0.03710   \n",
       "3573  TRAPPIST-1  0.00422         0.00280          0.04510   \n",
       "\n",
       "      semi_major_axis_error_min  \n",
       "3568                    0.00034  \n",
       "3569                    0.00047  \n",
       "3570                    0.00063  \n",
       "3571                    0.00087  \n",
       "3572                    0.00110  \n",
       "3573                    0.00140  "
      ]
     },
     "execution_count": 5,
     "metadata": {},
     "output_type": "execute_result"
    }
   ],
   "source": [
    "#The system for comparisons: \n",
    "A = data.groupby(\"star_name\")\n",
    "SystemA_i = data[data.star_name == \"TRAPPIST-1\"]  \n",
    "SystemA_i"
   ]
  },
  {
   "cell_type": "markdown",
   "metadata": {
    "slideshow": {
     "slide_type": "subslide"
    }
   },
   "source": [
    "Let's plot the distribution of the logarithm of planetary mass, $M_\\text{tp}$, and the distribution of the logarithm of semi-major axis $a$:"
   ]
  },
  {
   "cell_type": "code",
   "execution_count": 6,
   "metadata": {
    "slideshow": {
     "slide_type": "subslide"
    }
   },
   "outputs": [
    {
     "data": {
      "text/plain": [
       "<matplotlib.legend.Legend at 0x7fa63fb49d60>"
      ]
     },
     "execution_count": 6,
     "metadata": {},
     "output_type": "execute_result"
    },
    {
     "data": {
      "image/png": "[encoded data removed]",
      "text/plain": [
       "<Figure size 720x360 with 2 Axes>"
      ]
     },
     "metadata": {
      "needs_background": "light"
     },
     "output_type": "display_data"
    }
   ],
   "source": [
    "# -Plot----distributions \n",
    "fig, (ax1,ax2) = plt.subplots(1, 2, figsize=(10, 5))\n",
    "\n",
    "let, bins = 15, 20\n",
    "\n",
    "m=np.log10(data.mass.values)\n",
    "a=np.log10(data.semi_major_axis.values)\n",
    "\n",
    "ax1 = sb.distplot(m, ax=ax1, bins=bins, label=r'Mass (M$_\\text{Jup}$)',\n",
    "                  kde_kws={\"lw\": 2, \"label\": r\"Mass density\"})\n",
    "\n",
    "ax2 = sb.distplot(a, ax=ax2, bins=bins,label=r'Semi-Major axis $a$ (AU)',\n",
    "                  kde_kws={\"lw\": 2, \"label\": r\"$a$ Density\"})\n",
    "\n",
    "ax1.set_xlabel(r\"$\\log_{10}$(Mass) (M$_\\text{Jup}$)\",fontsize=let)\n",
    "ax2.set_xlabel(r\"$\\log_{10}(a)$ (AU)\",fontsize=let)\n",
    "ax1.set_ylabel(r\"Counts\", fontsize=let)\n",
    "ax1.tick_params(labelsize=let); ax2.tick_params(labelsize=let)\n",
    "\n",
    "ax1.set_xticks(np.arange(int(min(m))-1, int(max(m))+2, 1.0))\n",
    "ax2.set_xticks(np.arange(int(min(a))-1, int(max(a))+2, 1.0))\n",
    "\n",
    "\n",
    "ax1.legend(loc='upper left',fontsize=let);ax2.legend(loc='upper right',fontsize=let)\n",
    "#plt.savefig(\"figures/hists.pdf\", bbox_inches='tight')"
   ]
  },
  {
   "cell_type": "markdown",
   "metadata": {
    "slideshow": {
     "slide_type": "subslide"
    }
   },
   "source": [
    "So, `data` is a DataFrame without NaN values in columns of names, masses, semi major axis and their uncertainties. Finally, we got 1217 rows, it means, exoplanets with confirmed data. "
   ]
  },
  {
   "cell_type": "markdown",
   "metadata": {
    "slideshow": {
     "slide_type": "slide"
    }
   },
   "source": [
    "## 2. Get the center of Mass \n",
    "We need to estimate the $r_\\text{cm}$ for each system. The definition of center of mass:\n",
    "\\begin{equation*}\n",
    "r_\\text{cm} = \\frac{\\sum\\limits_{k=1}^n(m_{k}\\vec{r_{k}})}{\\sum \\limits_{k=1}^{n}m_{k}} %=\\frac{\\sum\\limits_{k=1}^n(m_{k}\\vec{r_{k}})}{M_{T}}\n",
    "\\end{equation*}\n",
    "To do it, is nessesary get the values mass $m$ times disnace $r$, for each planet, so with the columns of `mass` and distance from the star `semi_major_axis` we can get $m_{k}\\vec{r_{k}}$ values. Then, we take the sum for all planets in each systems, as a result we got $\\text{CM}_i$ for $i\\in\\{0,1,2,3,4,\\ldots,n\\}$.\n",
    "\n",
    "Our variable for clasify the systems is CM but some systems only have one planet, so, the center of mass for this systems CM$_j$, can be taked as the mass $m_j$.\n",
    "\n",
    "**Remember:** The `data.groupby(\"key\")` split the data in groups which are the key.\n",
    "\n",
    "**Remember:** The `data[i].multiply(data[j])` multiplies the comun i and j of DataFrame or Series i and j, row by row.\n",
    "\n",
    "**Remember:** The `data.groupby.groups.keys()` get the keys of the split data."
   ]
  },
  {
   "cell_type": "code",
   "execution_count": 7,
   "metadata": {
    "slideshow": {
     "slide_type": "subslide"
    }
   },
   "outputs": [
    {
     "name": "stdout",
     "output_type": "stream",
     "text": [
      "The number of planetary systems = 987\n",
      "Systems with more than one planet = 154\n"
     ]
    }
   ],
   "source": [
    "# Group by the name system:\n",
    "p_system = data.groupby(\"star_name\")\n",
    "print('The number of planetary systems = '+ str(len(p_system)))\n",
    "\n",
    "# The numer of exoplanets around each star:\n",
    "number=(data[\"star_name\"].value_counts()).to_frame()\n",
    "\n",
    "# The number of systems with more than one exoplanet:\n",
    "count = 0\n",
    "for i, index in enumerate(number.star_name.values):\n",
    "    if index>1.:\n",
    "        count+=1 \n",
    "print(\"Systems with more than one planet = \"+str(count))"
   ]
  },
  {
   "cell_type": "code",
   "execution_count": 8,
   "metadata": {
    "scrolled": true,
    "slideshow": {
     "slide_type": "subslide"
    }
   },
   "outputs": [],
   "source": [
    "#-----------------------function center of mass-----------------------\n",
    "#it returns a data frame group bay systems:\n",
    "\n",
    "def CoM(data): #data is a dataframe with mass and semi major axis \n",
    "    \n",
    "    # Multiplications between columns mass and axis, CM_i new column:\n",
    "    data = data.assign(CM_i=data[\"semi_major_axis\"]*data[\"mass\"])\n",
    "    #print(data)\n",
    "    # Group by each planet in the system:\n",
    "    p_system = data.groupby(\"star_name\") \n",
    "    system = list(p_system.groups.keys())\n",
    "    # Total mass per system:\n",
    "    M_total = p_system[\"mass\"].sum()\n",
    "    sum_rm = p_system['CM_i'].sum() # sum of masses in each system.\n",
    "    # Center of mass:\n",
    "    CoM = sum_rm.divide(M_total)\n",
    "    \n",
    "    system = list(p_system.groups.keys())\n",
    "    \n",
    "    NewData = pd.DataFrame({'System_name':system,\n",
    "                            'Total_mass':M_total.tolist(),\n",
    "                            'Center_of_Mass':CoM.tolist()})\n",
    "\n",
    "    return NewData\n",
    "\n",
    "CoM=CoM(data);#CoM"
   ]
  },
  {
   "cell_type": "markdown",
   "metadata": {
    "slideshow": {
     "slide_type": "subslide"
    }
   },
   "source": [
    "Therefore, the distribution of the $r_\\text{cm}$"
   ]
  },
  {
   "cell_type": "code",
   "execution_count": 9,
   "metadata": {
    "slideshow": {
     "slide_type": "fragment"
    }
   },
   "outputs": [
    {
     "data": {
      "text/plain": [
       "<matplotlib.legend.Legend at 0x7fa63fa5c4c0>"
      ]
     },
     "execution_count": 9,
     "metadata": {},
     "output_type": "execute_result"
    },
    {
     "data": {
      "image/png": "[encoded data removed]",
      "text/plain": [
       "<Figure size 720x360 with 1 Axes>"
      ]
     },
     "metadata": {
      "needs_background": "light"
     },
     "output_type": "display_data"
    }
   ],
   "source": [
    "#histogram \n",
    "lat=15\n",
    "\n",
    "x=CoM.Center_of_Mass.values\n",
    "\n",
    "fig, ax = plt.subplots(1, 1, figsize=(10, 5))\n",
    "\n",
    "ax = sb.distplot(np.log10(x), bins=60, label=r\"Histogram of $r_\\text{cm}$\",\n",
    "                kde_kws={\"lw\": 2, \"label\": r\"Density estimation\"})\n",
    "\n",
    "ax.set_xticklabels([r'$10^{-3}$',r'$10^{-2}$',r'$10^{-1}$',r'$10^{0}$',\n",
    "                    r'$10^{1}$',r'$10^{2}$',r'$10^{3}$'])#,\n",
    "#                    r'$10^{3}$',r'$10^{4}$'])\n",
    "\n",
    "ax.set(xlim=(np.log10(x).min(),np.log10(x).max()))\n",
    "\n",
    "plt.xlabel(r\"$\\log_{10}(r_\\text{cm})$ (AU)\", fontsize=lat)\n",
    "plt.ylabel(r\"Counts\", fontsize=lat)\n",
    "ax.tick_params(labelsize=lat)\n",
    "plt.legend(fontsize=lat)\n",
    "#plt.savefig(\"figures/CMhist.pdf\",bbox_inches='tight')"
   ]
  },
  {
   "cell_type": "markdown",
   "metadata": {
    "slideshow": {
     "slide_type": "fragment"
    }
   },
   "source": [
    "However, the calculus of the $r_\\text{cm}$, was made without take into account the mass of the star."
   ]
  },
  {
   "cell_type": "markdown",
   "metadata": {
    "slideshow": {
     "slide_type": "slide"
    }
   },
   "source": [
    "## 3. Gaussian Mixture Model\n",
    "\n",
    "At first we will use the Gaussian Mixture Model to clasify the $r_\\text{cm}$ in $n$ finite distributions. Python has the library `sckit-learn`, which uses the Expectation Maximization algorithm to determine the maximum likelihood for  a determined number $n$ of clusters (more informtion  <a href=\"https://scikit-learn.org/stable/modules/mixture.html\">Gaussian Mixture</a>). \n",
    "\n",
    "\n",
    "### Class: Classification\n",
    "\n",
    "We use the `GaussianMixture` package from `sckit-learn` to classify our data in different clusrers ($n$). Here, we employ the number of compnents, `n_components` as the numer of clusters $n$. We also use criteria to determine the ideal number of clusters. To do that we implement oriented programming language. "
   ]
  },
  {
   "cell_type": "code",
   "execution_count": 72,
   "metadata": {},
   "outputs": [],
   "source": [
    "# data is a DataFrame with the previous column Center_of_Mass.\n",
    "# if log=True, it will take the log_10 of the variable in the DataFrame. \n",
    "\n",
    "class classification:\n",
    "\n",
    "    def __init__(self, data, log=False):\n",
    "        if log==True:\n",
    "            self.data=np.reshape(np.log10(data.Center_of_Mass.values),(-1,1))\n",
    "        else: \n",
    "            self.data=np.reshape(data.Center_of_Mass.values,(-1,1))\n",
    "    \n",
    "    def GMM(self, n_components):\n",
    "        self.n = n_components\n",
    "        self.gmm = GaussianMixture(self.n, covariance_type='full', random_state=0)\n",
    "        self.gmm.fit(self.data)\n",
    "        self.cluster_label = self.gmm.predict(self.data)\n",
    "        \n",
    "        \n",
    "    #def criteria(self):\n",
    "    \n",
    "    \n",
    "    #Clusters_plot\n",
    "    def clusters_plot(self):\n",
    "        self.color = [\"C\"+str(self.cluster_label[i]+1) for i in range(len(self.cluster_label))]\n",
    "        x = np.linspace(self.data.min(),self.data.max(),1000)\n",
    "        figure, ax = plt.subplots(1, 2, sharex='col', sharey='row', figsize=(10, 5))\n",
    "        \n",
    "        #Gaussians:\n",
    "        for c in range(self.n):\n",
    "            ax[0].plot(x,norm.pdf(x,self.gmm.means_[c], self.gmm.covariances_[c])[0]/\\\n",
    "                       norm.pdf(x,self.gmm.means_[c], self.gmm.covariances_[c])[0].max())\n",
    "            \n",
    "            Mass_a=self.data[self.cluster_label==c]    \n",
    "            \n",
    "            ax[0].plot(Mass_a, np.zeros(len(Mass_a)),\"o\",\n",
    "                       label='cluster '+str(c+1), color=\"C\"+str(c))\n",
    "\n",
    "            ax[1].plot(self.data,self.gmm.predict_proba(self.data)[:,c],\"o\",\n",
    "                       label=r'Pcluster '+str(c+1))\n",
    "    \"\"\"if log==True:\n",
    "        ax[0].set(xlabel=r'$\\log_{10}$(Mass)')\n",
    "        ax[1].set(xlabel=r'$\\log_{10}$(Mass)')\n",
    "    else:\n",
    "        ax[0].set(xlabel=r'Mass')\n",
    "        ax[1].set(xlabel=r'Mass')\n",
    "        \n",
    "    ax[0].set(ylabel=r'Normal distribution')\n",
    "    ax[1].set(ylabel=r'Posterior probabilities')\n",
    "\n",
    "    ax[0].legend()  \n",
    "    ax[1].legend() \n",
    "        \n",
    "    plt.subplots_adjust(wspace = .1)\"\"\""
   ]
  },
  {
   "cell_type": "code",
   "execution_count": 73,
   "metadata": {},
   "outputs": [
    {
     "data": {
      "image/png": "[encoded data removed]",
      "text/plain": [
       "<Figure size 720x360 with 2 Axes>"
      ]
     },
     "metadata": {
      "needs_background": "light"
     },
     "output_type": "display_data"
    }
   ],
   "source": [
    "AA = classification(CoM, True)\n",
    "AA.GMM(4)\n",
    "AA.clusters_plot()"
   ]
  },
  {
   "cell_type": "code",
   "execution_count": 31,
   "metadata": {},
   "outputs": [],
   "source": [
    "def classif(n_components, mass, log=False):\n",
    "    \n",
    "    gmm = GaussianMixture(n_components, \n",
    "                          covariance_type='full',\n",
    "                          random_state=0)\n",
    "    gmm.fit(mass.values)\n",
    "    cluster_label = gmm.predict(mass.values)\n",
    "    \n",
    "    #Figures:\n",
    "    CL = cluster_label\n",
    "    color=[\"C\"+str(CL[i]+1) for i in range(len(cluster_label))]\n",
    "    x=np.linspace(mass.values.min(),mass.values.max(),1000)\n",
    "        \n",
    "    figure, ax = plt.subplots(1, 2, sharex='col', \n",
    "                              sharey='row', figsize=(10, 5))\n",
    "    \n",
    "    #Gaussians:\n",
    "    for c in range(n_components):\n",
    "        ax[0].plot(x,norm.pdf(x,gmm.means_[c],\n",
    "                              gmm.covariances_[c])[0]/\n",
    "                   norm.pdf(x,gmm.means_[c],\n",
    "                            gmm.covariances_[c])[0].max())\n",
    "\n",
    "    #Scatter:\n",
    "        Mass_a=mass.values[CL==c]    \n",
    "        ax[0].plot(Mass_a,\n",
    "                   np.zeros(len(Mass_a)),\"o\",label='cluster '+str(c+1))#,\n",
    "#                   color='C'+str(c))\n",
    "    return x  \n",
    "    \"\"\"ax[1].plot(mass,gmm.predict_proba(mass)[:,c],\"o\",\n",
    "                   label=r'Pcluster '+str(c+1))\n",
    "    \n",
    "    if log==True:\n",
    "        ax[0].set(xlabel=r'$\\log_{10}$(Mass)')\n",
    "        ax[1].set(xlabel=r'$\\log_{10}$(Mass)')\n",
    "    else:\n",
    "        ax[0].set(xlabel=r'Mass')\n",
    "        ax[1].set(xlabel=r'Mass')\n",
    "        \n",
    "    ax[0].set(ylabel=r'Normal distribution')\n",
    "    ax[1].set(ylabel=r'Posterior probabilities')\n",
    "\n",
    "    ax[0].legend()  \n",
    "    ax[1].legend() \n",
    "        \n",
    "    plt.subplots_adjust(wspace = .1)\"\"\""
   ]
  },
  {
   "cell_type": "code",
   "execution_count": 32,
   "metadata": {},
   "outputs": [
    {
     "data": {
      "image/png": "[encoded data removed]",
      "text/plain": [
       "<Figure size 720x360 with 2 Axes>"
      ]
     },
     "metadata": {
      "needs_background": "light"
     },
     "output_type": "display_data"
    }
   ],
   "source": [
    "A=classif(4, np.log10(CoM[[\"Center_of_Mass\"]]), False)"
   ]
  },
  {
   "cell_type": "code",
   "execution_count": 35,
   "metadata": {},
   "outputs": [
    {
     "data": {
      "text/plain": [
       "array([[-2.07675598e+00],\n",
       "       [-2.07116849e+00],\n",
       "       [-2.06558099e+00],\n",
       "       [-2.05999350e+00],\n",
       "       [-2.05440601e+00],\n",
       "       [-2.04881851e+00],\n",
       "       [-2.04323102e+00],\n",
       "       [-2.03764353e+00],\n",
       "       [-2.03205603e+00],\n",
       "       [-2.02646854e+00],\n",
       "       [-2.02088105e+00],\n",
       "       [-2.01529355e+00],\n",
       "       [-2.00970606e+00],\n",
       "       [-2.00411857e+00],\n",
       "       [-1.99853107e+00],\n",
       "       [-1.99294358e+00],\n",
       "       [-1.98735609e+00],\n",
       "       [-1.98176859e+00],\n",
       "       [-1.97618110e+00],\n",
       "       [-1.97059361e+00],\n",
       "       [-1.96500611e+00],\n",
       "       [-1.95941862e+00],\n",
       "       [-1.95383113e+00],\n",
       "       [-1.94824363e+00],\n",
       "       [-1.94265614e+00],\n",
       "       [-1.93706865e+00],\n",
       "       [-1.93148115e+00],\n",
       "       [-1.92589366e+00],\n",
       "       [-1.92030616e+00],\n",
       "       [-1.91471867e+00],\n",
       "       [-1.90913118e+00],\n",
       "       [-1.90354368e+00],\n",
       "       [-1.89795619e+00],\n",
       "       [-1.89236870e+00],\n",
       "       [-1.88678120e+00],\n",
       "       [-1.88119371e+00],\n",
       "       [-1.87560622e+00],\n",
       "       [-1.87001872e+00],\n",
       "       [-1.86443123e+00],\n",
       "       [-1.85884374e+00],\n",
       "       [-1.85325624e+00],\n",
       "       [-1.84766875e+00],\n",
       "       [-1.84208126e+00],\n",
       "       [-1.83649376e+00],\n",
       "       [-1.83090627e+00],\n",
       "       [-1.82531878e+00],\n",
       "       [-1.81973128e+00],\n",
       "       [-1.81414379e+00],\n",
       "       [-1.80855630e+00],\n",
       "       [-1.80296880e+00],\n",
       "       [-1.79738131e+00],\n",
       "       [-1.79179382e+00],\n",
       "       [-1.78620632e+00],\n",
       "       [-1.78061883e+00],\n",
       "       [-1.77503133e+00],\n",
       "       [-1.76944384e+00],\n",
       "       [-1.76385635e+00],\n",
       "       [-1.75826885e+00],\n",
       "       [-1.75268136e+00],\n",
       "       [-1.74709387e+00],\n",
       "       [-1.74150637e+00],\n",
       "       [-1.73591888e+00],\n",
       "       [-1.73033139e+00],\n",
       "       [-1.72474389e+00],\n",
       "       [-1.71915640e+00],\n",
       "       [-1.71356891e+00],\n",
       "       [-1.70798141e+00],\n",
       "       [-1.70239392e+00],\n",
       "       [-1.69680643e+00],\n",
       "       [-1.69121893e+00],\n",
       "       [-1.68563144e+00],\n",
       "       [-1.68004395e+00],\n",
       "       [-1.67445645e+00],\n",
       "       [-1.66886896e+00],\n",
       "       [-1.66328147e+00],\n",
       "       [-1.65769397e+00],\n",
       "       [-1.65210648e+00],\n",
       "       [-1.64651899e+00],\n",
       "       [-1.64093149e+00],\n",
       "       [-1.63534400e+00],\n",
       "       [-1.62975651e+00],\n",
       "       [-1.62416901e+00],\n",
       "       [-1.61858152e+00],\n",
       "       [-1.61299402e+00],\n",
       "       [-1.60740653e+00],\n",
       "       [-1.60181904e+00],\n",
       "       [-1.59623154e+00],\n",
       "       [-1.59064405e+00],\n",
       "       [-1.58505656e+00],\n",
       "       [-1.57946906e+00],\n",
       "       [-1.57388157e+00],\n",
       "       [-1.56829408e+00],\n",
       "       [-1.56270658e+00],\n",
       "       [-1.55711909e+00],\n",
       "       [-1.55153160e+00],\n",
       "       [-1.54594410e+00],\n",
       "       [-1.54035661e+00],\n",
       "       [-1.53476912e+00],\n",
       "       [-1.52918162e+00],\n",
       "       [-1.52359413e+00],\n",
       "       [-1.51800664e+00],\n",
       "       [-1.51241914e+00],\n",
       "       [-1.50683165e+00],\n",
       "       [-1.50124416e+00],\n",
       "       [-1.49565666e+00],\n",
       "       [-1.49006917e+00],\n",
       "       [-1.48448168e+00],\n",
       "       [-1.47889418e+00],\n",
       "       [-1.47330669e+00],\n",
       "       [-1.46771919e+00],\n",
       "       [-1.46213170e+00],\n",
       "       [-1.45654421e+00],\n",
       "       [-1.45095671e+00],\n",
       "       [-1.44536922e+00],\n",
       "       [-1.43978173e+00],\n",
       "       [-1.43419423e+00],\n",
       "       [-1.42860674e+00],\n",
       "       [-1.42301925e+00],\n",
       "       [-1.41743175e+00],\n",
       "       [-1.41184426e+00],\n",
       "       [-1.40625677e+00],\n",
       "       [-1.40066927e+00],\n",
       "       [-1.39508178e+00],\n",
       "       [-1.38949429e+00],\n",
       "       [-1.38390679e+00],\n",
       "       [-1.37831930e+00],\n",
       "       [-1.37273181e+00],\n",
       "       [-1.36714431e+00],\n",
       "       [-1.36155682e+00],\n",
       "       [-1.35596933e+00],\n",
       "       [-1.35038183e+00],\n",
       "       [-1.34479434e+00],\n",
       "       [-1.33920685e+00],\n",
       "       [-1.33361935e+00],\n",
       "       [-1.32803186e+00],\n",
       "       [-1.32244437e+00],\n",
       "       [-1.31685687e+00],\n",
       "       [-1.31126938e+00],\n",
       "       [-1.30568188e+00],\n",
       "       [-1.30009439e+00],\n",
       "       [-1.29450690e+00],\n",
       "       [-1.28891940e+00],\n",
       "       [-1.28333191e+00],\n",
       "       [-1.27774442e+00],\n",
       "       [-1.27215692e+00],\n",
       "       [-1.26656943e+00],\n",
       "       [-1.26098194e+00],\n",
       "       [-1.25539444e+00],\n",
       "       [-1.24980695e+00],\n",
       "       [-1.24421946e+00],\n",
       "       [-1.23863196e+00],\n",
       "       [-1.23304447e+00],\n",
       "       [-1.22745698e+00],\n",
       "       [-1.22186948e+00],\n",
       "       [-1.21628199e+00],\n",
       "       [-1.21069450e+00],\n",
       "       [-1.20510700e+00],\n",
       "       [-1.19951951e+00],\n",
       "       [-1.19393202e+00],\n",
       "       [-1.18834452e+00],\n",
       "       [-1.18275703e+00],\n",
       "       [-1.17716954e+00],\n",
       "       [-1.17158204e+00],\n",
       "       [-1.16599455e+00],\n",
       "       [-1.16040706e+00],\n",
       "       [-1.15481956e+00],\n",
       "       [-1.14923207e+00],\n",
       "       [-1.14364457e+00],\n",
       "       [-1.13805708e+00],\n",
       "       [-1.13246959e+00],\n",
       "       [-1.12688209e+00],\n",
       "       [-1.12129460e+00],\n",
       "       [-1.11570711e+00],\n",
       "       [-1.11011961e+00],\n",
       "       [-1.10453212e+00],\n",
       "       [-1.09894463e+00],\n",
       "       [-1.09335713e+00],\n",
       "       [-1.08776964e+00],\n",
       "       [-1.08218215e+00],\n",
       "       [-1.07659465e+00],\n",
       "       [-1.07100716e+00],\n",
       "       [-1.06541967e+00],\n",
       "       [-1.05983217e+00],\n",
       "       [-1.05424468e+00],\n",
       "       [-1.04865719e+00],\n",
       "       [-1.04306969e+00],\n",
       "       [-1.03748220e+00],\n",
       "       [-1.03189471e+00],\n",
       "       [-1.02630721e+00],\n",
       "       [-1.02071972e+00],\n",
       "       [-1.01513223e+00],\n",
       "       [-1.00954473e+00],\n",
       "       [-1.00395724e+00],\n",
       "       [-9.98369745e-01],\n",
       "       [-9.92782251e-01],\n",
       "       [-9.87194758e-01],\n",
       "       [-9.81607265e-01],\n",
       "       [-9.76019771e-01],\n",
       "       [-9.70432278e-01],\n",
       "       [-9.64844784e-01],\n",
       "       [-9.59257291e-01],\n",
       "       [-9.53669797e-01],\n",
       "       [-9.48082304e-01],\n",
       "       [-9.42494810e-01],\n",
       "       [-9.36907317e-01],\n",
       "       [-9.31319823e-01],\n",
       "       [-9.25732330e-01],\n",
       "       [-9.20144837e-01],\n",
       "       [-9.14557343e-01],\n",
       "       [-9.08969850e-01],\n",
       "       [-9.03382356e-01],\n",
       "       [-8.97794863e-01],\n",
       "       [-8.92207369e-01],\n",
       "       [-8.86619876e-01],\n",
       "       [-8.81032382e-01],\n",
       "       [-8.75444889e-01],\n",
       "       [-8.69857395e-01],\n",
       "       [-8.64269902e-01],\n",
       "       [-8.58682409e-01],\n",
       "       [-8.53094915e-01],\n",
       "       [-8.47507422e-01],\n",
       "       [-8.41919928e-01],\n",
       "       [-8.36332435e-01],\n",
       "       [-8.30744941e-01],\n",
       "       [-8.25157448e-01],\n",
       "       [-8.19569954e-01],\n",
       "       [-8.13982461e-01],\n",
       "       [-8.08394968e-01],\n",
       "       [-8.02807474e-01],\n",
       "       [-7.97219981e-01],\n",
       "       [-7.91632487e-01],\n",
       "       [-7.86044994e-01],\n",
       "       [-7.80457500e-01],\n",
       "       [-7.74870007e-01],\n",
       "       [-7.69282513e-01],\n",
       "       [-7.63695020e-01],\n",
       "       [-7.58107526e-01],\n",
       "       [-7.52520033e-01],\n",
       "       [-7.46932540e-01],\n",
       "       [-7.41345046e-01],\n",
       "       [-7.35757553e-01],\n",
       "       [-7.30170059e-01],\n",
       "       [-7.24582566e-01],\n",
       "       [-7.18995072e-01],\n",
       "       [-7.13407579e-01],\n",
       "       [-7.07820085e-01],\n",
       "       [-7.02232592e-01],\n",
       "       [-6.96645098e-01],\n",
       "       [-6.91057605e-01],\n",
       "       [-6.85470112e-01],\n",
       "       [-6.79882618e-01],\n",
       "       [-6.74295125e-01],\n",
       "       [-6.68707631e-01],\n",
       "       [-6.63120138e-01],\n",
       "       [-6.57532644e-01],\n",
       "       [-6.51945151e-01],\n",
       "       [-6.46357657e-01],\n",
       "       [-6.40770164e-01],\n",
       "       [-6.35182670e-01],\n",
       "       [-6.29595177e-01],\n",
       "       [-6.24007684e-01],\n",
       "       [-6.18420190e-01],\n",
       "       [-6.12832697e-01],\n",
       "       [-6.07245203e-01],\n",
       "       [-6.01657710e-01],\n",
       "       [-5.96070216e-01],\n",
       "       [-5.90482723e-01],\n",
       "       [-5.84895229e-01],\n",
       "       [-5.79307736e-01],\n",
       "       [-5.73720242e-01],\n",
       "       [-5.68132749e-01],\n",
       "       [-5.62545256e-01],\n",
       "       [-5.56957762e-01],\n",
       "       [-5.51370269e-01],\n",
       "       [-5.45782775e-01],\n",
       "       [-5.40195282e-01],\n",
       "       [-5.34607788e-01],\n",
       "       [-5.29020295e-01],\n",
       "       [-5.23432801e-01],\n",
       "       [-5.17845308e-01],\n",
       "       [-5.12257814e-01],\n",
       "       [-5.06670321e-01],\n",
       "       [-5.01082828e-01],\n",
       "       [-4.95495334e-01],\n",
       "       [-4.89907841e-01],\n",
       "       [-4.84320347e-01],\n",
       "       [-4.78732854e-01],\n",
       "       [-4.73145360e-01],\n",
       "       [-4.67557867e-01],\n",
       "       [-4.61970373e-01],\n",
       "       [-4.56382880e-01],\n",
       "       [-4.50795387e-01],\n",
       "       [-4.45207893e-01],\n",
       "       [-4.39620400e-01],\n",
       "       [-4.34032906e-01],\n",
       "       [-4.28445413e-01],\n",
       "       [-4.22857919e-01],\n",
       "       [-4.17270426e-01],\n",
       "       [-4.11682932e-01],\n",
       "       [-4.06095439e-01],\n",
       "       [-4.00507945e-01],\n",
       "       [-3.94920452e-01],\n",
       "       [-3.89332959e-01],\n",
       "       [-3.83745465e-01],\n",
       "       [-3.78157972e-01],\n",
       "       [-3.72570478e-01],\n",
       "       [-3.66982985e-01],\n",
       "       [-3.61395491e-01],\n",
       "       [-3.55807998e-01],\n",
       "       [-3.50220504e-01],\n",
       "       [-3.44633011e-01],\n",
       "       [-3.39045517e-01],\n",
       "       [-3.33458024e-01],\n",
       "       [-3.27870531e-01],\n",
       "       [-3.22283037e-01],\n",
       "       [-3.16695544e-01],\n",
       "       [-3.11108050e-01],\n",
       "       [-3.05520557e-01],\n",
       "       [-2.99933063e-01],\n",
       "       [-2.94345570e-01],\n",
       "       [-2.88758076e-01],\n",
       "       [-2.83170583e-01],\n",
       "       [-2.77583089e-01],\n",
       "       [-2.71995596e-01],\n",
       "       [-2.66408103e-01],\n",
       "       [-2.60820609e-01],\n",
       "       [-2.55233116e-01],\n",
       "       [-2.49645622e-01],\n",
       "       [-2.44058129e-01],\n",
       "       [-2.38470635e-01],\n",
       "       [-2.32883142e-01],\n",
       "       [-2.27295648e-01],\n",
       "       [-2.21708155e-01],\n",
       "       [-2.16120661e-01],\n",
       "       [-2.10533168e-01],\n",
       "       [-2.04945675e-01],\n",
       "       [-1.99358181e-01],\n",
       "       [-1.93770688e-01],\n",
       "       [-1.88183194e-01],\n",
       "       [-1.82595701e-01],\n",
       "       [-1.77008207e-01],\n",
       "       [-1.71420714e-01],\n",
       "       [-1.65833220e-01],\n",
       "       [-1.60245727e-01],\n",
       "       [-1.54658233e-01],\n",
       "       [-1.49070740e-01],\n",
       "       [-1.43483247e-01],\n",
       "       [-1.37895753e-01],\n",
       "       [-1.32308260e-01],\n",
       "       [-1.26720766e-01],\n",
       "       [-1.21133273e-01],\n",
       "       [-1.15545779e-01],\n",
       "       [-1.09958286e-01],\n",
       "       [-1.04370792e-01],\n",
       "       [-9.87832990e-02],\n",
       "       [-9.31958055e-02],\n",
       "       [-8.76083121e-02],\n",
       "       [-8.20208186e-02],\n",
       "       [-7.64333251e-02],\n",
       "       [-7.08458317e-02],\n",
       "       [-6.52583382e-02],\n",
       "       [-5.96708448e-02],\n",
       "       [-5.40833513e-02],\n",
       "       [-4.84958579e-02],\n",
       "       [-4.29083644e-02],\n",
       "       [-3.73208710e-02],\n",
       "       [-3.17333775e-02],\n",
       "       [-2.61458841e-02],\n",
       "       [-2.05583906e-02],\n",
       "       [-1.49708972e-02],\n",
       "       [-9.38340371e-03],\n",
       "       [-3.79591025e-03],\n",
       "       [ 1.79158320e-03],\n",
       "       [ 7.37907665e-03],\n",
       "       [ 1.29665701e-02],\n",
       "       [ 1.85540636e-02],\n",
       "       [ 2.41415570e-02],\n",
       "       [ 2.97290505e-02],\n",
       "       [ 3.53165439e-02],\n",
       "       [ 4.09040374e-02],\n",
       "       [ 4.64915308e-02],\n",
       "       [ 5.20790243e-02],\n",
       "       [ 5.76665177e-02],\n",
       "       [ 6.32540112e-02],\n",
       "       [ 6.88415046e-02],\n",
       "       [ 7.44289981e-02],\n",
       "       [ 8.00164915e-02],\n",
       "       [ 8.56039850e-02],\n",
       "       [ 9.11914784e-02],\n",
       "       [ 9.67789719e-02],\n",
       "       [ 1.02366465e-01],\n",
       "       [ 1.07953959e-01],\n",
       "       [ 1.13541452e-01],\n",
       "       [ 1.19128946e-01],\n",
       "       [ 1.24716439e-01],\n",
       "       [ 1.30303933e-01],\n",
       "       [ 1.35891426e-01],\n",
       "       [ 1.41478920e-01],\n",
       "       [ 1.47066413e-01],\n",
       "       [ 1.52653906e-01],\n",
       "       [ 1.58241400e-01],\n",
       "       [ 1.63828893e-01],\n",
       "       [ 1.69416387e-01],\n",
       "       [ 1.75003880e-01],\n",
       "       [ 1.80591374e-01],\n",
       "       [ 1.86178867e-01],\n",
       "       [ 1.91766361e-01],\n",
       "       [ 1.97353854e-01],\n",
       "       [ 2.02941348e-01],\n",
       "       [ 2.08528841e-01],\n",
       "       [ 2.14116334e-01],\n",
       "       [ 2.19703828e-01],\n",
       "       [ 2.25291321e-01],\n",
       "       [ 2.30878815e-01],\n",
       "       [ 2.36466308e-01],\n",
       "       [ 2.42053802e-01],\n",
       "       [ 2.47641295e-01],\n",
       "       [ 2.53228789e-01],\n",
       "       [ 2.58816282e-01],\n",
       "       [ 2.64403775e-01],\n",
       "       [ 2.69991269e-01],\n",
       "       [ 2.75578762e-01],\n",
       "       [ 2.81166256e-01],\n",
       "       [ 2.86753749e-01],\n",
       "       [ 2.92341243e-01],\n",
       "       [ 2.97928736e-01],\n",
       "       [ 3.03516230e-01],\n",
       "       [ 3.09103723e-01],\n",
       "       [ 3.14691217e-01],\n",
       "       [ 3.20278710e-01],\n",
       "       [ 3.25866203e-01],\n",
       "       [ 3.31453697e-01],\n",
       "       [ 3.37041190e-01],\n",
       "       [ 3.42628684e-01],\n",
       "       [ 3.48216177e-01],\n",
       "       [ 3.53803671e-01],\n",
       "       [ 3.59391164e-01],\n",
       "       [ 3.64978658e-01],\n",
       "       [ 3.70566151e-01],\n",
       "       [ 3.76153645e-01],\n",
       "       [ 3.81741138e-01],\n",
       "       [ 3.87328631e-01],\n",
       "       [ 3.92916125e-01],\n",
       "       [ 3.98503618e-01],\n",
       "       [ 4.04091112e-01],\n",
       "       [ 4.09678605e-01],\n",
       "       [ 4.15266099e-01],\n",
       "       [ 4.20853592e-01],\n",
       "       [ 4.26441086e-01],\n",
       "       [ 4.32028579e-01],\n",
       "       [ 4.37616073e-01],\n",
       "       [ 4.43203566e-01],\n",
       "       [ 4.48791059e-01],\n",
       "       [ 4.54378553e-01],\n",
       "       [ 4.59966046e-01],\n",
       "       [ 4.65553540e-01],\n",
       "       [ 4.71141033e-01],\n",
       "       [ 4.76728527e-01],\n",
       "       [ 4.82316020e-01],\n",
       "       [ 4.87903514e-01],\n",
       "       [ 4.93491007e-01],\n",
       "       [ 4.99078501e-01],\n",
       "       [ 5.04665994e-01],\n",
       "       [ 5.10253487e-01],\n",
       "       [ 5.15840981e-01],\n",
       "       [ 5.21428474e-01],\n",
       "       [ 5.27015968e-01],\n",
       "       [ 5.32603461e-01],\n",
       "       [ 5.38190955e-01],\n",
       "       [ 5.43778448e-01],\n",
       "       [ 5.49365942e-01],\n",
       "       [ 5.54953435e-01],\n",
       "       [ 5.60540929e-01],\n",
       "       [ 5.66128422e-01],\n",
       "       [ 5.71715915e-01],\n",
       "       [ 5.77303409e-01],\n",
       "       [ 5.82890902e-01],\n",
       "       [ 5.88478396e-01],\n",
       "       [ 5.94065889e-01],\n",
       "       [ 5.99653383e-01],\n",
       "       [ 6.05240876e-01],\n",
       "       [ 6.10828370e-01],\n",
       "       [ 6.16415863e-01],\n",
       "       [ 6.22003356e-01],\n",
       "       [ 6.27590850e-01],\n",
       "       [ 6.33178343e-01],\n",
       "       [ 6.38765837e-01],\n",
       "       [ 6.44353330e-01],\n",
       "       [ 6.49940824e-01],\n",
       "       [ 6.55528317e-01],\n",
       "       [ 6.61115811e-01],\n",
       "       [ 6.66703304e-01],\n",
       "       [ 6.72290798e-01],\n",
       "       [ 6.77878291e-01],\n",
       "       [ 6.83465784e-01],\n",
       "       [ 6.89053278e-01],\n",
       "       [ 6.94640771e-01],\n",
       "       [ 7.00228265e-01],\n",
       "       [ 7.05815758e-01],\n",
       "       [ 7.11403252e-01],\n",
       "       [ 7.16990745e-01],\n",
       "       [ 7.22578239e-01],\n",
       "       [ 7.28165732e-01],\n",
       "       [ 7.33753226e-01],\n",
       "       [ 7.39340719e-01],\n",
       "       [ 7.44928212e-01],\n",
       "       [ 7.50515706e-01],\n",
       "       [ 7.56103199e-01],\n",
       "       [ 7.61690693e-01],\n",
       "       [ 7.67278186e-01],\n",
       "       [ 7.72865680e-01],\n",
       "       [ 7.78453173e-01],\n",
       "       [ 7.84040667e-01],\n",
       "       [ 7.89628160e-01],\n",
       "       [ 7.95215654e-01],\n",
       "       [ 8.00803147e-01],\n",
       "       [ 8.06390640e-01],\n",
       "       [ 8.11978134e-01],\n",
       "       [ 8.17565627e-01],\n",
       "       [ 8.23153121e-01],\n",
       "       [ 8.28740614e-01],\n",
       "       [ 8.34328108e-01],\n",
       "       [ 8.39915601e-01],\n",
       "       [ 8.45503095e-01],\n",
       "       [ 8.51090588e-01],\n",
       "       [ 8.56678082e-01],\n",
       "       [ 8.62265575e-01],\n",
       "       [ 8.67853068e-01],\n",
       "       [ 8.73440562e-01],\n",
       "       [ 8.79028055e-01],\n",
       "       [ 8.84615549e-01],\n",
       "       [ 8.90203042e-01],\n",
       "       [ 8.95790536e-01],\n",
       "       [ 9.01378029e-01],\n",
       "       [ 9.06965523e-01],\n",
       "       [ 9.12553016e-01],\n",
       "       [ 9.18140510e-01],\n",
       "       [ 9.23728003e-01],\n",
       "       [ 9.29315496e-01],\n",
       "       [ 9.34902990e-01],\n",
       "       [ 9.40490483e-01],\n",
       "       [ 9.46077977e-01],\n",
       "       [ 9.51665470e-01],\n",
       "       [ 9.57252964e-01],\n",
       "       [ 9.62840457e-01],\n",
       "       [ 9.68427951e-01],\n",
       "       [ 9.74015444e-01],\n",
       "       [ 9.79602937e-01],\n",
       "       [ 9.85190431e-01],\n",
       "       [ 9.90777924e-01],\n",
       "       [ 9.96365418e-01],\n",
       "       [ 1.00195291e+00],\n",
       "       [ 1.00754040e+00],\n",
       "       [ 1.01312790e+00],\n",
       "       [ 1.01871539e+00],\n",
       "       [ 1.02430289e+00],\n",
       "       [ 1.02989038e+00],\n",
       "       [ 1.03547787e+00],\n",
       "       [ 1.04106537e+00],\n",
       "       [ 1.04665286e+00],\n",
       "       [ 1.05224035e+00],\n",
       "       [ 1.05782785e+00],\n",
       "       [ 1.06341534e+00],\n",
       "       [ 1.06900283e+00],\n",
       "       [ 1.07459033e+00],\n",
       "       [ 1.08017782e+00],\n",
       "       [ 1.08576531e+00],\n",
       "       [ 1.09135281e+00],\n",
       "       [ 1.09694030e+00],\n",
       "       [ 1.10252779e+00],\n",
       "       [ 1.10811529e+00],\n",
       "       [ 1.11370278e+00],\n",
       "       [ 1.11929027e+00],\n",
       "       [ 1.12487777e+00],\n",
       "       [ 1.13046526e+00],\n",
       "       [ 1.13605275e+00],\n",
       "       [ 1.14164025e+00],\n",
       "       [ 1.14722774e+00],\n",
       "       [ 1.15281523e+00],\n",
       "       [ 1.15840273e+00],\n",
       "       [ 1.16399022e+00],\n",
       "       [ 1.16957771e+00],\n",
       "       [ 1.17516521e+00],\n",
       "       [ 1.18075270e+00],\n",
       "       [ 1.18634020e+00],\n",
       "       [ 1.19192769e+00],\n",
       "       [ 1.19751518e+00],\n",
       "       [ 1.20310268e+00],\n",
       "       [ 1.20869017e+00],\n",
       "       [ 1.21427766e+00],\n",
       "       [ 1.21986516e+00],\n",
       "       [ 1.22545265e+00],\n",
       "       [ 1.23104014e+00],\n",
       "       [ 1.23662764e+00],\n",
       "       [ 1.24221513e+00],\n",
       "       [ 1.24780262e+00],\n",
       "       [ 1.25339012e+00],\n",
       "       [ 1.25897761e+00],\n",
       "       [ 1.26456510e+00],\n",
       "       [ 1.27015260e+00],\n",
       "       [ 1.27574009e+00],\n",
       "       [ 1.28132758e+00],\n",
       "       [ 1.28691508e+00],\n",
       "       [ 1.29250257e+00],\n",
       "       [ 1.29809006e+00],\n",
       "       [ 1.30367756e+00],\n",
       "       [ 1.30926505e+00],\n",
       "       [ 1.31485254e+00],\n",
       "       [ 1.32044004e+00],\n",
       "       [ 1.32602753e+00],\n",
       "       [ 1.33161503e+00],\n",
       "       [ 1.33720252e+00],\n",
       "       [ 1.34279001e+00],\n",
       "       [ 1.34837751e+00],\n",
       "       [ 1.35396500e+00],\n",
       "       [ 1.35955249e+00],\n",
       "       [ 1.36513999e+00],\n",
       "       [ 1.37072748e+00],\n",
       "       [ 1.37631497e+00],\n",
       "       [ 1.38190247e+00],\n",
       "       [ 1.38748996e+00],\n",
       "       [ 1.39307745e+00],\n",
       "       [ 1.39866495e+00],\n",
       "       [ 1.40425244e+00],\n",
       "       [ 1.40983993e+00],\n",
       "       [ 1.41542743e+00],\n",
       "       [ 1.42101492e+00],\n",
       "       [ 1.42660241e+00],\n",
       "       [ 1.43218991e+00],\n",
       "       [ 1.43777740e+00],\n",
       "       [ 1.44336489e+00],\n",
       "       [ 1.44895239e+00],\n",
       "       [ 1.45453988e+00],\n",
       "       [ 1.46012737e+00],\n",
       "       [ 1.46571487e+00],\n",
       "       [ 1.47130236e+00],\n",
       "       [ 1.47688985e+00],\n",
       "       [ 1.48247735e+00],\n",
       "       [ 1.48806484e+00],\n",
       "       [ 1.49365234e+00],\n",
       "       [ 1.49923983e+00],\n",
       "       [ 1.50482732e+00],\n",
       "       [ 1.51041482e+00],\n",
       "       [ 1.51600231e+00],\n",
       "       [ 1.52158980e+00],\n",
       "       [ 1.52717730e+00],\n",
       "       [ 1.53276479e+00],\n",
       "       [ 1.53835228e+00],\n",
       "       [ 1.54393978e+00],\n",
       "       [ 1.54952727e+00],\n",
       "       [ 1.55511476e+00],\n",
       "       [ 1.56070226e+00],\n",
       "       [ 1.56628975e+00],\n",
       "       [ 1.57187724e+00],\n",
       "       [ 1.57746474e+00],\n",
       "       [ 1.58305223e+00],\n",
       "       [ 1.58863972e+00],\n",
       "       [ 1.59422722e+00],\n",
       "       [ 1.59981471e+00],\n",
       "       [ 1.60540220e+00],\n",
       "       [ 1.61098970e+00],\n",
       "       [ 1.61657719e+00],\n",
       "       [ 1.62216468e+00],\n",
       "       [ 1.62775218e+00],\n",
       "       [ 1.63333967e+00],\n",
       "       [ 1.63892716e+00],\n",
       "       [ 1.64451466e+00],\n",
       "       [ 1.65010215e+00],\n",
       "       [ 1.65568965e+00],\n",
       "       [ 1.66127714e+00],\n",
       "       [ 1.66686463e+00],\n",
       "       [ 1.67245213e+00],\n",
       "       [ 1.67803962e+00],\n",
       "       [ 1.68362711e+00],\n",
       "       [ 1.68921461e+00],\n",
       "       [ 1.69480210e+00],\n",
       "       [ 1.70038959e+00],\n",
       "       [ 1.70597709e+00],\n",
       "       [ 1.71156458e+00],\n",
       "       [ 1.71715207e+00],\n",
       "       [ 1.72273957e+00],\n",
       "       [ 1.72832706e+00],\n",
       "       [ 1.73391455e+00],\n",
       "       [ 1.73950205e+00],\n",
       "       [ 1.74508954e+00],\n",
       "       [ 1.75067703e+00],\n",
       "       [ 1.75626453e+00],\n",
       "       [ 1.76185202e+00],\n",
       "       [ 1.76743951e+00],\n",
       "       [ 1.77302701e+00],\n",
       "       [ 1.77861450e+00],\n",
       "       [ 1.78420199e+00],\n",
       "       [ 1.78978949e+00],\n",
       "       [ 1.79537698e+00],\n",
       "       [ 1.80096448e+00],\n",
       "       [ 1.80655197e+00],\n",
       "       [ 1.81213946e+00],\n",
       "       [ 1.81772696e+00],\n",
       "       [ 1.82331445e+00],\n",
       "       [ 1.82890194e+00],\n",
       "       [ 1.83448944e+00],\n",
       "       [ 1.84007693e+00],\n",
       "       [ 1.84566442e+00],\n",
       "       [ 1.85125192e+00],\n",
       "       [ 1.85683941e+00],\n",
       "       [ 1.86242690e+00],\n",
       "       [ 1.86801440e+00],\n",
       "       [ 1.87360189e+00],\n",
       "       [ 1.87918938e+00],\n",
       "       [ 1.88477688e+00],\n",
       "       [ 1.89036437e+00],\n",
       "       [ 1.89595186e+00],\n",
       "       [ 1.90153936e+00],\n",
       "       [ 1.90712685e+00],\n",
       "       [ 1.91271434e+00],\n",
       "       [ 1.91830184e+00],\n",
       "       [ 1.92388933e+00],\n",
       "       [ 1.92947682e+00],\n",
       "       [ 1.93506432e+00],\n",
       "       [ 1.94065181e+00],\n",
       "       [ 1.94623930e+00],\n",
       "       [ 1.95182680e+00],\n",
       "       [ 1.95741429e+00],\n",
       "       [ 1.96300179e+00],\n",
       "       [ 1.96858928e+00],\n",
       "       [ 1.97417677e+00],\n",
       "       [ 1.97976427e+00],\n",
       "       [ 1.98535176e+00],\n",
       "       [ 1.99093925e+00],\n",
       "       [ 1.99652675e+00],\n",
       "       [ 2.00211424e+00],\n",
       "       [ 2.00770173e+00],\n",
       "       [ 2.01328923e+00],\n",
       "       [ 2.01887672e+00],\n",
       "       [ 2.02446421e+00],\n",
       "       [ 2.03005171e+00],\n",
       "       [ 2.03563920e+00],\n",
       "       [ 2.04122669e+00],\n",
       "       [ 2.04681419e+00],\n",
       "       [ 2.05240168e+00],\n",
       "       [ 2.05798917e+00],\n",
       "       [ 2.06357667e+00],\n",
       "       [ 2.06916416e+00],\n",
       "       [ 2.07475165e+00],\n",
       "       [ 2.08033915e+00],\n",
       "       [ 2.08592664e+00],\n",
       "       [ 2.09151413e+00],\n",
       "       [ 2.09710163e+00],\n",
       "       [ 2.10268912e+00],\n",
       "       [ 2.10827662e+00],\n",
       "       [ 2.11386411e+00],\n",
       "       [ 2.11945160e+00],\n",
       "       [ 2.12503910e+00],\n",
       "       [ 2.13062659e+00],\n",
       "       [ 2.13621408e+00],\n",
       "       [ 2.14180158e+00],\n",
       "       [ 2.14738907e+00],\n",
       "       [ 2.15297656e+00],\n",
       "       [ 2.15856406e+00],\n",
       "       [ 2.16415155e+00],\n",
       "       [ 2.16973904e+00],\n",
       "       [ 2.17532654e+00],\n",
       "       [ 2.18091403e+00],\n",
       "       [ 2.18650152e+00],\n",
       "       [ 2.19208902e+00],\n",
       "       [ 2.19767651e+00],\n",
       "       [ 2.20326400e+00],\n",
       "       [ 2.20885150e+00],\n",
       "       [ 2.21443899e+00],\n",
       "       [ 2.22002648e+00],\n",
       "       [ 2.22561398e+00],\n",
       "       [ 2.23120147e+00],\n",
       "       [ 2.23678896e+00],\n",
       "       [ 2.24237646e+00],\n",
       "       [ 2.24796395e+00],\n",
       "       [ 2.25355144e+00],\n",
       "       [ 2.25913894e+00],\n",
       "       [ 2.26472643e+00],\n",
       "       [ 2.27031393e+00],\n",
       "       [ 2.27590142e+00],\n",
       "       [ 2.28148891e+00],\n",
       "       [ 2.28707641e+00],\n",
       "       [ 2.29266390e+00],\n",
       "       [ 2.29825139e+00],\n",
       "       [ 2.30383889e+00],\n",
       "       [ 2.30942638e+00],\n",
       "       [ 2.31501387e+00],\n",
       "       [ 2.32060137e+00],\n",
       "       [ 2.32618886e+00],\n",
       "       [ 2.33177635e+00],\n",
       "       [ 2.33736385e+00],\n",
       "       [ 2.34295134e+00],\n",
       "       [ 2.34853883e+00],\n",
       "       [ 2.35412633e+00],\n",
       "       [ 2.35971382e+00],\n",
       "       [ 2.36530131e+00],\n",
       "       [ 2.37088881e+00],\n",
       "       [ 2.37647630e+00],\n",
       "       [ 2.38206379e+00],\n",
       "       [ 2.38765129e+00],\n",
       "       [ 2.39323878e+00],\n",
       "       [ 2.39882627e+00],\n",
       "       [ 2.40441377e+00],\n",
       "       [ 2.41000126e+00],\n",
       "       [ 2.41558875e+00],\n",
       "       [ 2.42117625e+00],\n",
       "       [ 2.42676374e+00],\n",
       "       [ 2.43235124e+00],\n",
       "       [ 2.43793873e+00],\n",
       "       [ 2.44352622e+00],\n",
       "       [ 2.44911372e+00],\n",
       "       [ 2.45470121e+00],\n",
       "       [ 2.46028870e+00],\n",
       "       [ 2.46587620e+00],\n",
       "       [ 2.47146369e+00],\n",
       "       [ 2.47705118e+00],\n",
       "       [ 2.48263868e+00],\n",
       "       [ 2.48822617e+00],\n",
       "       [ 2.49381366e+00],\n",
       "       [ 2.49940116e+00],\n",
       "       [ 2.50498865e+00],\n",
       "       [ 2.51057614e+00],\n",
       "       [ 2.51616364e+00],\n",
       "       [ 2.52175113e+00],\n",
       "       [ 2.52733862e+00],\n",
       "       [ 2.53292612e+00],\n",
       "       [ 2.53851361e+00],\n",
       "       [ 2.54410110e+00],\n",
       "       [ 2.54968860e+00],\n",
       "       [ 2.55527609e+00],\n",
       "       [ 2.56086358e+00],\n",
       "       [ 2.56645108e+00],\n",
       "       [ 2.57203857e+00],\n",
       "       [ 2.57762607e+00],\n",
       "       [ 2.58321356e+00],\n",
       "       [ 2.58880105e+00],\n",
       "       [ 2.59438855e+00],\n",
       "       [ 2.59997604e+00],\n",
       "       [ 2.60556353e+00],\n",
       "       [ 2.61115103e+00],\n",
       "       [ 2.61673852e+00],\n",
       "       [ 2.62232601e+00],\n",
       "       [ 2.62791351e+00],\n",
       "       [ 2.63350100e+00],\n",
       "       [ 2.63908849e+00],\n",
       "       [ 2.64467599e+00],\n",
       "       [ 2.65026348e+00],\n",
       "       [ 2.65585097e+00],\n",
       "       [ 2.66143847e+00],\n",
       "       [ 2.66702596e+00],\n",
       "       [ 2.67261345e+00],\n",
       "       [ 2.67820095e+00],\n",
       "       [ 2.68378844e+00],\n",
       "       [ 2.68937593e+00],\n",
       "       [ 2.69496343e+00],\n",
       "       [ 2.70055092e+00],\n",
       "       [ 2.70613841e+00],\n",
       "       [ 2.71172591e+00],\n",
       "       [ 2.71731340e+00],\n",
       "       [ 2.72290089e+00],\n",
       "       [ 2.72848839e+00],\n",
       "       [ 2.73407588e+00],\n",
       "       [ 2.73966338e+00],\n",
       "       [ 2.74525087e+00],\n",
       "       [ 2.75083836e+00],\n",
       "       [ 2.75642586e+00],\n",
       "       [ 2.76201335e+00],\n",
       "       [ 2.76760084e+00],\n",
       "       [ 2.77318834e+00],\n",
       "       [ 2.77877583e+00],\n",
       "       [ 2.78436332e+00],\n",
       "       [ 2.78995082e+00],\n",
       "       [ 2.79553831e+00],\n",
       "       [ 2.80112580e+00],\n",
       "       [ 2.80671330e+00],\n",
       "       [ 2.81230079e+00],\n",
       "       [ 2.81788828e+00],\n",
       "       [ 2.82347578e+00],\n",
       "       [ 2.82906327e+00],\n",
       "       [ 2.83465076e+00],\n",
       "       [ 2.84023826e+00],\n",
       "       [ 2.84582575e+00],\n",
       "       [ 2.85141324e+00],\n",
       "       [ 2.85700074e+00],\n",
       "       [ 2.86258823e+00],\n",
       "       [ 2.86817572e+00],\n",
       "       [ 2.87376322e+00],\n",
       "       [ 2.87935071e+00],\n",
       "       [ 2.88493821e+00],\n",
       "       [ 2.89052570e+00],\n",
       "       [ 2.89611319e+00],\n",
       "       [ 2.90170069e+00],\n",
       "       [ 2.90728818e+00],\n",
       "       [ 2.91287567e+00],\n",
       "       [ 2.91846317e+00],\n",
       "       [ 2.92405066e+00],\n",
       "       [ 2.92963815e+00],\n",
       "       [ 2.93522565e+00],\n",
       "       [ 2.94081314e+00],\n",
       "       [ 2.94640063e+00],\n",
       "       [ 2.95198813e+00],\n",
       "       [ 2.95757562e+00],\n",
       "       [ 2.96316311e+00],\n",
       "       [ 2.96875061e+00],\n",
       "       [ 2.97433810e+00],\n",
       "       [ 2.97992559e+00],\n",
       "       [ 2.98551309e+00],\n",
       "       [ 2.99110058e+00],\n",
       "       [ 2.99668807e+00],\n",
       "       [ 3.00227557e+00],\n",
       "       [ 3.00786306e+00],\n",
       "       [ 3.01345055e+00],\n",
       "       [ 3.01903805e+00],\n",
       "       [ 3.02462554e+00],\n",
       "       [ 3.03021303e+00],\n",
       "       [ 3.03580053e+00],\n",
       "       [ 3.04138802e+00],\n",
       "       [ 3.04697552e+00],\n",
       "       [ 3.05256301e+00],\n",
       "       [ 3.05815050e+00],\n",
       "       [ 3.06373800e+00],\n",
       "       [ 3.06932549e+00],\n",
       "       [ 3.07491298e+00],\n",
       "       [ 3.08050048e+00],\n",
       "       [ 3.08608797e+00],\n",
       "       [ 3.09167546e+00],\n",
       "       [ 3.09726296e+00],\n",
       "       [ 3.10285045e+00],\n",
       "       [ 3.10843794e+00],\n",
       "       [ 3.11402544e+00],\n",
       "       [ 3.11961293e+00],\n",
       "       [ 3.12520042e+00],\n",
       "       [ 3.13078792e+00],\n",
       "       [ 3.13637541e+00],\n",
       "       [ 3.14196290e+00],\n",
       "       [ 3.14755040e+00],\n",
       "       [ 3.15313789e+00],\n",
       "       [ 3.15872538e+00],\n",
       "       [ 3.16431288e+00],\n",
       "       [ 3.16990037e+00],\n",
       "       [ 3.17548786e+00],\n",
       "       [ 3.18107536e+00],\n",
       "       [ 3.18666285e+00],\n",
       "       [ 3.19225034e+00],\n",
       "       [ 3.19783784e+00],\n",
       "       [ 3.20342533e+00],\n",
       "       [ 3.20901283e+00],\n",
       "       [ 3.21460032e+00],\n",
       "       [ 3.22018781e+00],\n",
       "       [ 3.22577531e+00],\n",
       "       [ 3.23136280e+00],\n",
       "       [ 3.23695029e+00],\n",
       "       [ 3.24253779e+00],\n",
       "       [ 3.24812528e+00],\n",
       "       [ 3.25371277e+00],\n",
       "       [ 3.25930027e+00],\n",
       "       [ 3.26488776e+00],\n",
       "       [ 3.27047525e+00],\n",
       "       [ 3.27606275e+00],\n",
       "       [ 3.28165024e+00],\n",
       "       [ 3.28723773e+00],\n",
       "       [ 3.29282523e+00],\n",
       "       [ 3.29841272e+00],\n",
       "       [ 3.30400021e+00],\n",
       "       [ 3.30958771e+00],\n",
       "       [ 3.31517520e+00],\n",
       "       [ 3.32076269e+00],\n",
       "       [ 3.32635019e+00],\n",
       "       [ 3.33193768e+00],\n",
       "       [ 3.33752517e+00],\n",
       "       [ 3.34311267e+00],\n",
       "       [ 3.34870016e+00],\n",
       "       [ 3.35428766e+00],\n",
       "       [ 3.35987515e+00],\n",
       "       [ 3.36546264e+00],\n",
       "       [ 3.37105014e+00],\n",
       "       [ 3.37663763e+00],\n",
       "       [ 3.38222512e+00],\n",
       "       [ 3.38781262e+00],\n",
       "       [ 3.39340011e+00],\n",
       "       [ 3.39898760e+00],\n",
       "       [ 3.40457510e+00],\n",
       "       [ 3.41016259e+00],\n",
       "       [ 3.41575008e+00],\n",
       "       [ 3.42133758e+00],\n",
       "       [ 3.42692507e+00],\n",
       "       [ 3.43251256e+00],\n",
       "       [ 3.43810006e+00],\n",
       "       [ 3.44368755e+00],\n",
       "       [ 3.44927504e+00],\n",
       "       [ 3.45486254e+00],\n",
       "       [ 3.46045003e+00],\n",
       "       [ 3.46603752e+00],\n",
       "       [ 3.47162502e+00],\n",
       "       [ 3.47721251e+00],\n",
       "       [ 3.48280000e+00],\n",
       "       [ 3.48838750e+00],\n",
       "       [ 3.49397499e+00],\n",
       "       [ 3.49956248e+00],\n",
       "       [ 3.50514998e+00]])"
      ]
     },
     "execution_count": 35,
     "metadata": {},
     "output_type": "execute_result"
    }
   ],
   "source": [
    "x=np.linspace(np.log10(CoM[[\"Center_of_Mass\"]]).min(),np.log10(CoM[[\"Center_of_Mass\"]]).max(),1000)\n",
    "x"
   ]
  },
  {
   "cell_type": "code",
   "execution_count": null,
   "metadata": {
    "slideshow": {
     "slide_type": "subslide"
    }
   },
   "outputs": [],
   "source": [
    "#'n_components' is the number of clusters.\n",
    "# \"data\" is a data frame with a Center_of_Mass. \n",
    "\n",
    "def classification(n_components, data, log=False):\n",
    "    \n",
    "    x = np.reshape(data.Center_of_Mass.values,(-1,1))\n",
    "    \n",
    "    gmm = GaussianMixture(n_components, covariance_type='full', random_state=0)\n",
    "    gmm.fit(x)\n",
    "    cluster_label = gmm.predict(x)\n",
    "    \n",
    "    return cluster_label"
   ]
  },
  {
   "cell_type": "code",
   "execution_count": null,
   "metadata": {},
   "outputs": [],
   "source": [
    "a = classification(4, np.log10(CoM[[\"Center_of_Mass\"]]), True)\n"
   ]
  },
  {
   "cell_type": "code",
   "execution_count": null,
   "metadata": {},
   "outputs": [],
   "source": [
    "x = np.reshape(np.log10(CoM.Center_of_Mass.values),(-1,1))\n",
    "gmm = GaussianMixture(n_components, covariance_type='full', random_state=0)   \n",
    "gmm.fit(x)"
   ]
  },
  {
   "cell_type": "code",
   "execution_count": null,
   "metadata": {},
   "outputs": [],
   "source": [
    "#Figures:\n",
    "n_components = 4\n",
    "CL = classification(4, CoM, True)\n",
    "color=[\"C\"+str(CL[i]+1) for i in range(len(CL))]\n",
    "xx=np.linspace(x.min(),x.max(),1000)\n",
    "        \n",
    "figure, ax = plt.subplots(1, 2, sharex='col', sharey='row', figsize=(10, 5))\n",
    " \n",
    "\n",
    "#Gaussians:\n",
    "for c in range(n_components):\n",
    "    ax[0].plot(xx,norm.pdf(xx,gmm.means_[c],\n",
    "                          gmm.covariances_[c])[0]/\n",
    "               norm.pdf(xx,gmm.means_[c],\n",
    "                        gmm.covariances_[c])[0].max())\n",
    "\n",
    "#Scatter:\n",
    "    Mass_a=x[CL==c]    \n",
    "    ax[0].plot(Mass_a,\n",
    "               np.zeros(len(Mass_a)),\"o\",label='cluster '+str(c+1),color='C'+str(c))\n",
    "    ax[1].plot(x,gmm.predict_proba(x)[:,c],\"o\",\n",
    "                   label=r'Pcluster '+str(c+1))\n",
    "\n",
    "ax[0].set(xlabel=r'Mass')\n",
    "ax[1].set(xlabel=r'Mass')\n",
    "        \n",
    "ax[0].set(ylabel=r'Normal distribution')\n",
    "ax[1].set(ylabel=r'Posterior probabilities')\n",
    "\n",
    "ax[0].legend()  \n",
    "ax[1].legend() \n",
    "        "
   ]
  },
  {
   "cell_type": "code",
   "execution_count": null,
   "metadata": {},
   "outputs": [],
   "source": []
  },
  {
   "cell_type": "code",
   "execution_count": null,
   "metadata": {},
   "outputs": [],
   "source": []
  },
  {
   "cell_type": "code",
   "execution_count": null,
   "metadata": {},
   "outputs": [],
   "source": []
  },
  {
   "cell_type": "markdown",
   "metadata": {},
   "source": [
    "### Function: Information Criterion AIC/BIC\n",
    "Now, we need to determine the idel number of clusters. To do that, we use the information criterion as strategy to avoiding underfit or overfit. The information criteria determine the quality of models and score them (more information <a href=\"https://en.wikipedia.org/wiki/Model_selection#Criteria\">Model selection</a>).  \n",
    "\n",
    "\n",
    "We define a function wich gets the information criteria for different numbers of components (the number of mixture components $n$), in order to obtain the minimum value of criterium to determine the ideal number of clsuters. The lowest BIC/AIC is preferred.\n",
    "\n",
    "Then, it plots the BIC and AIC values to observe their behavior."
   ]
  },
  {
   "cell_type": "code",
   "execution_count": null,
   "metadata": {
    "slideshow": {
     "slide_type": "fragment"
    }
   },
   "outputs": [],
   "source": [
    "# \"data\" is a data frame with a Center_of_Mass. \n",
    "# \"times\" is the number of clusters in the criteria: AIC and BIC\n",
    "\n",
    "def inf_criterion(times, data, log=False):\n",
    "    \n",
    "    bic, aic = [], []\n",
    "    \n",
    "    if log==True:\n",
    "        x = np.reshape(np.log10(data.Center_of_Mass.values), (-1,1))\n",
    "    else:\n",
    "        x = np.reshape(data.Center_of_Mass.values, (-1,1))\n",
    "    \n",
    "    for i in range(times):\n",
    "        i += 1\n",
    "        gmm = GaussianMixture(i, covariance_type='full', random_state=0)\n",
    "        gmm.fit(x)\n",
    "        bic.append(gmm.bic(x)); aic.append(gmm.aic(x))\n",
    "    \n",
    "    criteria = [bic,aic]  \n",
    "    min_criteria = [min(criteria[0])/max(criteria[0]),min(criteria[1])/max(criteria[1])]\n",
    "    \n",
    "    print('Ideal number of clusters, BIC = '+str(criteria[0].index(min(criteria[0]))+1))\n",
    "    print('Ideal number of clusters, AIC = '+str(criteria[1].index(min(criteria[1]))+1))   \n",
    "    \n",
    "    return criteria"
   ]
  },
  {
   "cell_type": "code",
   "execution_count": null,
   "metadata": {
    "slideshow": {
     "slide_type": "skip"
    }
   },
   "outputs": [],
   "source": [
    "#comparison between AIC and BIC criteria----------------(plot)------------------------\n",
    "\n",
    "def plot_criteria(criteria):\n",
    "  \n",
    "    figure, ax = plt.subplots(1, 2, sharex='col', sharey='row', figsize=(9, 4))\n",
    "    let   = 15 \n",
    "    label = ['BIC','AIC']\n",
    "\n",
    "    for i,criterium in enumerate(criteria):\n",
    "        dim  = len(criteria[i])\n",
    "        norm = min(criteria[i])/max(criteria[i])\n",
    "        \n",
    "        ax[i].plot(range(1, dim+1), criteria[i]/max(criteria[i]), \"o\",\n",
    "                   c=\"C1\",label=label[i]+\" values\")\n",
    "        ax[i].plot(range(1, dim+1),criteria[i]/max(criteria[i]))#, label=label[i])\n",
    "        ax[i].plot(range(1, dim+1),np.ones(dim)*norm,\n",
    "                   \"--\",label=r\"Ideal clusters \"+str(criteria[i].index(min(criteria[i]))+1) )\n",
    "\n",
    "        ax[i].set_xlabel(r'Number of clusters', fontsize=let+1)\n",
    "        ax[i].legend(fontsize=let, loc=1,edgecolor='black')\n",
    "        ax[i].set_xlim(0, dim+1)\n",
    "        ax[i].set_xticks(np.arange(0, dim, step=2))\n",
    "        ax[i].tick_params(labelsize=let)\n",
    "\n",
    "    ax[0].set_ylabel(r'Criterium value normalized', fontsize=let+1)\n",
    "    return [bic,aic]"
   ]
  },
  {
   "cell_type": "markdown",
   "metadata": {
    "slideshow": {
     "slide_type": "subslide"
    }
   },
   "source": [
    "The ideal numer of cluster to group the center of mass $r_\\text{cm}$ is determined through:  "
   ]
  },
  {
   "cell_type": "code",
   "execution_count": null,
   "metadata": {
    "slideshow": {
     "slide_type": "fragment"
    }
   },
   "outputs": [],
   "source": [
    "b = inf_criterion(15, CoM, False)\n",
    "b_plot = plot_criteria(b)"
   ]
  },
  {
   "cell_type": "markdown",
   "metadata": {
    "slideshow": {
     "slide_type": "subslide"
    }
   },
   "source": [
    "The ideal numer of cluster to group the logarithm of the center of mass $r_\\text{cm}$ is determined through: "
   ]
  },
  {
   "cell_type": "code",
   "execution_count": null,
   "metadata": {
    "slideshow": {
     "slide_type": "fragment"
    }
   },
   "outputs": [],
   "source": [
    "a = inf_criterion(15, CoM, log=True)\n",
    "a_plot = plot_criteria(a)"
   ]
  },
  {
   "cell_type": "code",
   "execution_count": null,
   "metadata": {},
   "outputs": [],
   "source": []
  },
  {
   "cell_type": "code",
   "execution_count": null,
   "metadata": {},
   "outputs": [],
   "source": []
  },
  {
   "cell_type": "code",
   "execution_count": null,
   "metadata": {},
   "outputs": [],
   "source": []
  },
  {
   "cell_type": "code",
   "execution_count": null,
   "metadata": {},
   "outputs": [],
   "source": []
  },
  {
   "cell_type": "code",
   "execution_count": null,
   "metadata": {},
   "outputs": [],
   "source": []
  },
  {
   "cell_type": "code",
   "execution_count": null,
   "metadata": {},
   "outputs": [],
   "source": []
  },
  {
   "cell_type": "code",
   "execution_count": null,
   "metadata": {},
   "outputs": [],
   "source": []
  },
  {
   "cell_type": "code",
   "execution_count": null,
   "metadata": {},
   "outputs": [],
   "source": []
  },
  {
   "cell_type": "code",
   "execution_count": null,
   "metadata": {},
   "outputs": [],
   "source": []
  },
  {
   "cell_type": "code",
   "execution_count": null,
   "metadata": {},
   "outputs": [],
   "source": []
  },
  {
   "cell_type": "code",
   "execution_count": null,
   "metadata": {},
   "outputs": [],
   "source": []
  },
  {
   "cell_type": "code",
   "execution_count": null,
   "metadata": {},
   "outputs": [],
   "source": []
  },
  {
   "cell_type": "code",
   "execution_count": null,
   "metadata": {},
   "outputs": [],
   "source": []
  },
  {
   "cell_type": "code",
   "execution_count": null,
   "metadata": {},
   "outputs": [],
   "source": []
  },
  {
   "cell_type": "code",
   "execution_count": null,
   "metadata": {
    "slideshow": {
     "slide_type": "subslide"
    }
   },
   "outputs": [],
   "source": []
  },
  {
   "cell_type": "code",
   "execution_count": null,
   "metadata": {},
   "outputs": [],
   "source": []
  },
  {
   "cell_type": "code",
   "execution_count": null,
   "metadata": {},
   "outputs": [],
   "source": [
    "class_mass = classification(4, np.log10(CoM[[\"Center_of_Mass\"]]),True)"
   ]
  },
  {
   "cell_type": "code",
   "execution_count": null,
   "metadata": {},
   "outputs": [],
   "source": []
  },
  {
   "cell_type": "code",
   "execution_count": null,
   "metadata": {},
   "outputs": [],
   "source": []
  },
  {
   "cell_type": "code",
   "execution_count": null,
   "metadata": {},
   "outputs": [],
   "source": []
  },
  {
   "cell_type": "code",
   "execution_count": null,
   "metadata": {},
   "outputs": [],
   "source": []
  },
  {
   "cell_type": "code",
   "execution_count": null,
   "metadata": {},
   "outputs": [],
   "source": []
  },
  {
   "cell_type": "code",
   "execution_count": null,
   "metadata": {},
   "outputs": [],
   "source": []
  },
  {
   "cell_type": "code",
   "execution_count": null,
   "metadata": {},
   "outputs": [],
   "source": []
  },
  {
   "cell_type": "code",
   "execution_count": null,
   "metadata": {},
   "outputs": [],
   "source": []
  },
  {
   "cell_type": "code",
   "execution_count": null,
   "metadata": {},
   "outputs": [],
   "source": []
  },
  {
   "cell_type": "code",
   "execution_count": null,
   "metadata": {},
   "outputs": [],
   "source": []
  },
  {
   "cell_type": "markdown",
   "metadata": {},
   "source": [
    "### Function: Fraction changed\n",
    "This function generates 1000 synthetic systems ( _Dawns_ ) per each data (the mass an its uncertainty). We take draws from this, and stimate the validation of the classification.\n",
    "\n",
    "The posteriror probabilities are determinated by the function `gmm.predict()`"
   ]
  },
  {
   "cell_type": "code",
   "execution_count": null,
   "metadata": {},
   "outputs": [],
   "source": [
    "def fraction_changed(data, dawns):\n",
    "    \n",
    "    p_system    = data.groupby(\"star_name\")\n",
    "    system_list = list(p_system.groups.keys())\n",
    "    draws       = [] #draws of COM for each system. \n",
    "    \n",
    "    for i in range(len(system_list)):\n",
    "        \n",
    "        system_i      = data[data.star_name == system_list[i]]  \n",
    "        system_i_mass = np.zeros(dawns)\n",
    "        cm_i          = np.zeros(dawns) \n",
    "        \n",
    "        for k in range(len(system_i)):\n",
    "            masses = np.random.normal(system_i.mass.values[k],\n",
    "                                      system_i.mass_error_min.values[k],\n",
    "                                      dawns)\n",
    "            axes = np.random.normal(system_i.semi_major_axis.values[k],\n",
    "                                    system_i.semi_major_axis_error_min.values[k],\n",
    "                                    dawns)\n",
    "            cm_i          += masses*axes\n",
    "            system_i_mass += masses\n",
    "        #draws.append([np.abs(cm_i/system_i_mass)]\n",
    "        draws.append([cm_i/system_i_mass])\n",
    "    draws = np.array(draws)\n",
    "    draws = draws[draws>0]\n",
    "    return draws\n",
    "        "
   ]
  },
  {
   "cell_type": "code",
   "execution_count": null,
   "metadata": {},
   "outputs": [],
   "source": [
    "frc = fraction_changed(data,1000)\n",
    "len(frc)"
   ]
  },
  {
   "cell_type": "code",
   "execution_count": null,
   "metadata": {},
   "outputs": [],
   "source": [
    "from scipy.stats import truncnorm\n",
    "a=0.1\n",
    "b=2\n",
    "x = np.linspace(truncnorm.ppf(0.01, a, b), \n",
    "                truncnorm.ppf(0.99, a, b), \n",
    "                100)\n",
    "#print(x)\n",
    "#plt.plot(truncnorm.ppf(x,a,b),x)\n",
    "\n",
    "#r = truncnorm.rvs(a, b, size=1000)\n",
    "#len(r)"
   ]
  },
  {
   "cell_type": "code",
   "execution_count": null,
   "metadata": {},
   "outputs": [],
   "source": [
    "#list(p_system.groups.keys())"
   ]
  },
  {
   "cell_type": "code",
   "execution_count": null,
   "metadata": {},
   "outputs": [],
   "source": [
    "system_list = list(p_system.groups.keys())\n",
    "len(system_list)"
   ]
  },
  {
   "cell_type": "code",
   "execution_count": null,
   "metadata": {},
   "outputs": [],
   "source": [
    "data[data.star_name == list(p_system.groups.keys())[i]]"
   ]
  },
  {
   "cell_type": "code",
   "execution_count": null,
   "metadata": {},
   "outputs": [],
   "source": [
    "list(p_system.groups.keys())[1]"
   ]
  },
  {
   "cell_type": "code",
   "execution_count": null,
   "metadata": {},
   "outputs": [],
   "source": [
    "#'dawns' is the number of synthetic systems per each data known\n",
    "#'data' is a DataFrame of the data, with column \"Center of Mass\"\n",
    "#'n_components' is the number of clusters for the lowest BIC/AIC.\n",
    "\n",
    "def fraction_changed(n_components, dawns, data, log=False):\n",
    "    \n",
    "    draws=[]\n",
    "\n",
    "    #1000 draws per planetary mass or systrem mass\n",
    "    \n",
    "    for i in range(len(data.values)):\n",
    "        masses=np.random.normal(data.mass.values[i],\n",
    "                                data.mass_error_min.values[i],\n",
    "                                dawns)\n",
    "        masses = masses[masses>0]\n",
    "        draws += [masses]\n",
    "\n",
    "    if log==True:\n",
    "        mass = np.log10(data[[\"mass\"]])\n",
    "        draws = [np.log10(i) for i in draws]\n",
    "        \n",
    "    else:\n",
    "        mass = data[[\"mass\"]]\n",
    "     \n",
    "    #Gausian mixture model for masses  data:  \n",
    "    gmm = GaussianMixture(n_components,covariance_type='full',random_state=0)\n",
    "    gmm.fit(mass.values)\n",
    "    cluster_label = gmm.predict(mass.values)\n",
    "         \n",
    "    #fraction of the synthttic systems wich change classification group:\n",
    "    fraction_changed = []\n",
    "    \n",
    "    #to get only the posotice values of the draws, just get tyhe positives values: \n",
    "    #draws = [i for i in draws if i > 0] or None\n",
    "    \n",
    "    for index in range(len(draws)):\n",
    "        #draw_i=np.abs(draws[index][:,np.newaxis])\n",
    "        draw_i=draws[index][:,np.newaxis]\n",
    "        orig=gmm.predict(np.array(mass))[index]\n",
    "        fraction_changed+=[(orig!=gmm.predict(draw_i)).sum()/1000]\n",
    "    lid=[len(i) for i in draws]\n",
    "    #print( np.min(lid),np.mean(lid) )\n",
    "    return(draws)\n",
    "    #return((np.array(fraction_changed)<=0.1).sum()/len(fraction_changed))\n",
    "    #return fraction_changed"
   ]
  },
  {
   "cell_type": "code",
   "execution_count": null,
   "metadata": {},
   "outputs": [],
   "source": [
    "#frac_mass=fraction_changed(4,1000,CoM[[\"Center_of_Mass\"]],False)"
   ]
  },
  {
   "cell_type": "code",
   "execution_count": null,
   "metadata": {},
   "outputs": [],
   "source": [
    "#np.log10(data[[\"Center_of_Mass\"]])==np.log10(CoM[[\"Center_of_Mass\"]])"
   ]
  },
  {
   "cell_type": "code",
   "execution_count": null,
   "metadata": {},
   "outputs": [],
   "source": [
    "#GaussianMixture:  a firs approximation for 10 grups\n",
    "#----------------------------------------------------------------------\n",
    "data = CoM\n",
    "gmm = GaussianMixture(1, covariance_type='full', random_state=0)\n",
    "CM=CoM[[\"Center_of_Mass\"]]\n",
    "gmm.fit(CM.values)\n",
    "cluster_label = gmm.predict(CM.values)\n",
    "plt.scatter((CM.values),np.zeros(len(CM)), c=cluster_label);\n",
    "plt.ylim(-0.1,0.1)\n",
    "plt.xlabel(r\"Center Of Mass (AU)\", fontsize=\"15\")\n",
    "#For the CoM is nessesary emply a Logarithm sclae."
   ]
  },
  {
   "cell_type": "code",
   "execution_count": null,
   "metadata": {},
   "outputs": [],
   "source": [
    "#the log10scale for center of mass of each exoplanetary system:\n",
    "#----------------------------------------------------------------------\n",
    "CM_log=np.log10(data[[\"Center_of_Mass\"]])\n",
    "\n",
    "GMM,cluster=[],[]\n",
    "\n",
    "#Some different components for Gaussian Mixture Model: \n",
    "#----------------------------------------------------------------------\n",
    "for i in [2,3]:\n",
    "    gmm = GaussianMixture(i, covariance_type='full', random_state=0)\n",
    "    GMM.append(gmm)\n",
    "    gmm.fit(CM_log.values)\n",
    "    cluster_label = gmm.predict(CM_log.values)\n",
    "    cluster.append(cluster_label)\n",
    "\n",
    "# (just a plot for two grups)\n",
    "#----------------------------------------------------------------------\n",
    "#plt.rc('text', usetex=True)\n",
    "\n",
    "color=[]\n",
    "#len(cluster[0])\n",
    "for i in range(len(cluster[0])):\n",
    "    if cluster[0][i] == 0:\n",
    "        color.append(\"C1\")\n",
    "    elif cluster[0][i] == 1:\n",
    "        color.append(\"C2\")\n",
    "\n",
    "x=np.linspace(-2.5,4,1000)\n",
    "colors=[\"C1\",\"C2\",\"C3\",\"C4\",\"C5\"]\n",
    "\n",
    "fig, ax1 = plt.subplots(1, 1, sharex='col', sharey='row')\n",
    "\n",
    "plt.gcf().subplots_adjust(bottom=0.15,right=0.96, left=0.115, top=0.93)\n",
    "\n",
    "for i, (v1,v2) in enumerate(zip(GMM[0].means_,GMM[0].covariances_)):\n",
    "    ax1.plot(x, norm.pdf(x,v1,v2)[0]/norm.pdf(x,v1,v2)[0].max(),\n",
    "             c=colors[i],label=\"Cluster \"+str(i+1))\n",
    "    ax1.legend(fontsize=15,edgecolor='black')\n",
    "\n",
    "ax1.scatter((CM_log.values),np.zeros(len(CM_log)),c=color, \n",
    "            label=\"Cluster\",s=10)  \n",
    "\n",
    "ax1.tick_params(labelsize=19)\n",
    "\n",
    "plt.xlabel(r'$\\log_{10}$(CM)',fontsize=20)\n",
    "plt.ylabel(r'Normal Distribution',fontsize=20)\n",
    "plt.savefig(\"figures/GMM1.pdf\")"
   ]
  },
  {
   "cell_type": "code",
   "execution_count": null,
   "metadata": {
    "scrolled": true
   },
   "outputs": [],
   "source": [
    "# (just a plot for five grups)\n",
    "#----------------------------------------------------------------------\n",
    "color=[]\n",
    "C = cluster[1]\n",
    "for i in range(len(cluster[1])):\n",
    "    if C[i] == 0:\n",
    "        color.append(\"C1\")\n",
    "    elif C[i] == 1:\n",
    "        color.append(\"C2\")\n",
    "    elif C[i] == 2:\n",
    "        color.append(\"C3\")\n",
    "    elif C[i] == 3:\n",
    "        color.append(\"C4\")\n",
    "    elif C[i] == 4:\n",
    "        color.append(\"C5\")\n",
    "\n",
    "x=np.linspace(-2.5,4,1000)\n",
    "colors=[\"C1\",\"C2\",\"C3\",\"C4\",\"C5\"]\n",
    "\n",
    "fig2, ax2 = plt.subplots(1, 1, sharex='col', sharey='row')\n",
    "\n",
    "plt.gcf().subplots_adjust(bottom=0.17,right=0.97, left=0.175, top=0.90)\n",
    "\n",
    "for i, (v1,v2) in enumerate(zip(GMM[1].means_,GMM[1].covariances_)):\n",
    "    ax2.plot(x, norm.pdf(x,v1,v2)[0]/norm.pdf(x,v1,v2)[0].max(),\n",
    "             c=colors[i],label=\"Cluster \"+str(i+1))\n",
    "    ax2.legend(fontsize=14, loc=1,edgecolor='black')\n",
    "\n",
    "ax2.scatter((CM_log.values),np.zeros(len(CM_log)),c=color, label=\"Group 1\")  \n",
    "ax2.set_xlim(-2.3,5.2)\n",
    "\n",
    "ax2.tick_params(labelsize=19)\n",
    "\n",
    "#plt.title(r\"GMM with three components\",fontsize=22)\n",
    "plt.xlabel(r'$\\log_{10}$(CM)',fontsize=20)\n",
    "plt.ylabel(r'Normal Distribution',fontsize=20)\n",
    "#plt.savefig(\"figures/GMM3.pdf\")"
   ]
  },
  {
   "cell_type": "code",
   "execution_count": null,
   "metadata": {},
   "outputs": [],
   "source": [
    "#Some different components for Gaussian Mixture Model: \n",
    "data = CoM\n",
    "CM_log=np.log10(data[[\"Center_of_Mass\"]])\n",
    "GMM,cluster=[],[]\n",
    "let=16\n",
    "#----------------------------------------------------------------------\n",
    "for i in [4,6]:\n",
    "    gmm = GaussianMixture(i, covariance_type='full', random_state=0)\n",
    "    GMM.append(gmm)\n",
    "    gmm.fit(CM_log.values)\n",
    "    cluster_label = gmm.predict(CM_log.values)\n",
    "    cluster.append(cluster_label)\n",
    "#----------------------------------------------------------------------\n",
    "col=[]\n",
    "\n",
    "for i in range(len(cluster[0])):\n",
    "    if cluster[0][i] == 0:\n",
    "        col.append(\"C1\")\n",
    "    elif cluster[0][i] == 1:\n",
    "        col.append(\"C2\")\n",
    "    elif cluster[0][i] == 2:\n",
    "        col.append(\"C3\")\n",
    "    elif cluster[0][i] == 3:\n",
    "        col.append(\"C4\")\n",
    "\n",
    "lor=[]\n",
    "C = cluster[1]\n",
    "for i in range(len(cluster[1])):\n",
    "    if C[i] == 0:\n",
    "        lor.append(\"C1\")\n",
    "    elif C[i] == 1:\n",
    "        lor.append(\"C2\")\n",
    "    elif C[i] == 2:\n",
    "        lor.append(\"C3\")\n",
    "    elif C[i] == 3:\n",
    "        lor.append(\"C4\")\n",
    "    elif C[i] == 4:\n",
    "        lor.append(\"C5\")  \n",
    "    elif C[i] == 5:\n",
    "        lor.append(\"C6\") \n",
    "    elif C[i] == 6:\n",
    "        lor.append(\"C7\")\n",
    "        \n",
    "x=np.linspace(-2.5,4,1000)\n",
    "colors=[\"C1\",\"C2\",\"C3\",\"C4\",\"C5\",\"C6\",\"C7\"]\n",
    "\n",
    "fig, axs = plt.subplots(1, 2, figsize=(10, 5), sharey=True)\n",
    "\n",
    "plt.gcf().subplots_adjust(bottom=0.12,right=0.99, left=0.07, top=0.88)\n",
    "\n",
    "#axs[0].scatter((CM_log.values),np.zeros(len(CM_log)),c=col)  \n",
    "#axs[1].scatter((CM_log.values),np.zeros(len(CM_log)),c=lor)  \n",
    "\n",
    "#h1 = axs[0].hist(CM_log.values,60, density=True)#,label=r\"Histogram of $r_\\text{cm}$\")\n",
    "\n",
    "sb.distplot(CM_log.values,60,kde=False, norm_hist=True, ax = axs[0])#,label=r\"Histogram of $r_\\text{cm}$\")    \n",
    "sb.distplot(CM_log.values,60,kde=False, norm_hist=True, ax = axs[1])#,label=r\"Histogram of $r_\\text{cm}$\")    \n",
    "    \n",
    "#leg1 = plt.legend(loc='upper left', fontsize=let-5)\n",
    "\n",
    "#izq\n",
    "for i, (v1,v2) in enumerate(zip(GMM[0].means_,GMM[0].covariances_)):\n",
    "    axs[0].plot(x, norm.pdf(x,v1,v2)[0]/norm.pdf(x,v1,v2)[0].max(),\n",
    "             c=colors[i],label=\"Cluster \"+str(i+1),lw=2.5)\n",
    "    axs[0].legend(fontsize=let-2,edgecolor='black',bbox_to_anchor=(-0, 1.02, 1, .15), loc=3,\n",
    "              ncol=2,mode=\"expand\")\n",
    "#der\n",
    "for i, (v1,v2) in enumerate(zip(GMM[1].means_,GMM[1].covariances_)):\n",
    "    axs[1].plot(x, norm.pdf(x,v1,v2)[0]/norm.pdf(x,v1,v2)[0].max(),\n",
    "             c=colors[i],label=\"Cluster \"+str(i+1),lw=2.5)\n",
    "    axs[1].legend(fontsize=let-2,edgecolor='black',bbox_to_anchor=(0, 1.02, 1, .102), loc=3,\n",
    "              ncol=3, mode=\"expand\")\n",
    "    \n",
    "axs[0].set_ylim(-0.1,1.4,1/10)\n",
    "axs[0].set_xlim(CM_log.values.min(),CM_log.values.max())\n",
    "axs[1].set_xlim(CM_log.values.min(),CM_log.values.max())\n",
    "#axs[0].set_xscale('log')\n",
    "axs[0].tick_params(labelsize=let)\n",
    "axs[1].tick_params(labelsize=let)\n",
    "\n",
    "plt.subplots_adjust(wspace=0.05)\n",
    "\n",
    "#axs.xlabel(r'$\\log_{10}$(CM)',fontsize=20)\n",
    "axs[0].set_ylabel(r'Normal Distribution',fontsize=let)\n",
    "fig.text(0.53, 0.0, r\"$\\log_{10}(r_\\text{cm})$ (AU)\", \n",
    "         fontsize=let, ha='center', va='center')\n",
    "\n",
    "fig.text(.355, .8, r\"Histogram of $r_\\text{cm}$\", color='k',\n",
    "         fontsize=let, bbox=dict(facecolor=\"C0\",alpha = .4))\n",
    "\n",
    "fig.text(.825, .8, r\"Histogram of $r_\\text{cm}$\", color='k',\n",
    "         fontsize=let, bbox=dict(facecolor=\"C0\",alpha = .4))\n",
    "#plt.gca().add_artist(leg1)\n",
    "\n",
    "#plt.savefig(\"figures/GMM_2-3-hist.pdf\",bbox_inches='tight')\n",
    "plt.savefig(\"figures/GMM_4-6-hist.pdf\",bbox_inches='tight')\n"
   ]
  },
  {
   "cell_type": "markdown",
   "metadata": {},
   "source": [
    "To determine the number of cluster in the Gaussian Mixture Model, it may use a bayessian information criterion"
   ]
  },
  {
   "cell_type": "code",
   "execution_count": null,
   "metadata": {},
   "outputs": [],
   "source": [
    "#Bayesian information criterion \n",
    "CM_log=np.log10(data[[\"Center_of_Mass\"]])\n",
    "print(CM_log)\n",
    "bic,aic = [],[]\n",
    "tries=16\n",
    "\n",
    "for i in range(tries):\n",
    "    i+=1\n",
    "    gmm = GaussianMixture(i, covariance_type='full', random_state=0)\n",
    "    CM_log=np.log10(data[[\"Center_of_Mass\"]])\n",
    "    gmm.fit(CM_log.values)\n",
    "    bic+=[gmm.bic(CM_log.values)]\n",
    "    aic+=[gmm.aic(CM_log.values)]\n",
    "#bic\n",
    "# (just a plot to bayessian criterion)\n",
    "#----------------------------------------------------------------------\n",
    "\n",
    "#fig = plt.figure(figsize=(4,3))\n",
    "#plt.plot(range(1,11),bic)\n",
    "\n",
    "let=17\n",
    "names=[r\"Normal BIC\",r\"Normal AIC\"]\n",
    "criteria = [bic, aic]\n",
    "\n",
    "x=range(1,tries+1)\n",
    "\n",
    "fig, axs = plt.subplots(1, 2, figsize=(11, 5))#, sharex=True)# sharex='col', sharey='row')\n",
    "plt.gcf().subplots_adjust(bottom=0.12,right=0.99, left=0.07, top=0.88)\n",
    "\n",
    "for i in range(len(criteria)):\n",
    "    y=criteria[i]/max(criteria[i])\n",
    "    h = axs[i].plot(x,y, lw=\"2\")\n",
    "    f = axs[i].plot(x,y, \"o\", c=\"C1\",label=names[i],markersize=4)\n",
    "    \n",
    "    g = axs[i].plot(x,np.ones(len(criteria[i]))*min(criteria[i])/max(criteria[i]),\"--\")\n",
    "\n",
    "    axs[i].set_ylim(.71,1.01)\n",
    "    axs[i].set_xlim(0,tries+1)\n",
    "    axs[i].tick_params(labelsize=let)\n",
    "    axs[i].legend(fontsize=let, loc=1,edgecolor='black')\n",
    "    #axs[i].set_yticks(range(0,1),.1)\n",
    "    axs[i].set_ylabel(names[i],fontsize=let)\n",
    "    axs[i].set_xticks(np.arange(min(x), max(x)+1, 3.0))\n",
    "    \n",
    "fig.text(0.53, 0.0, r'Number of Clusters', fontsize=let+2, ha='center', va='center')\n",
    "fig.tight_layout(pad=2.0)\n",
    "    \n",
    "#plt.title(r\"Bayessian Information Criterion\",fontsize=16)\n",
    "#plt.xlabel(,fontsize=let)\n",
    "plt.savefig(\"figures/BIC-AIC.pdf\",bbox_inches='tight')"
   ]
  },
  {
   "cell_type": "code",
   "execution_count": null,
   "metadata": {},
   "outputs": [],
   "source": [
    "criteria"
   ]
  },
  {
   "cell_type": "code",
   "execution_count": null,
   "metadata": {},
   "outputs": [],
   "source": [
    "print(bic.index(min(bic))+1,aic.index(min(aic))+1)"
   ]
  },
  {
   "cell_type": "code",
   "execution_count": null,
   "metadata": {
    "scrolled": true
   },
   "outputs": [],
   "source": [
    "# GaussianMixture, for the log of CM: \n",
    "# 4 groups due tu the bic\n",
    "gmm = GaussianMixture(4, covariance_type='full', random_state=0)\n",
    "CM_log=np.log10(data[[\"Center_of_Mass\"]])\n",
    "gmm.fit(CM_log.values)\n",
    "cluster_label = gmm.predict(CM_log.values)\n",
    "plt.scatter((CM_log.values),np.zeros(len(CM_log)),c=cluster_label);\n",
    "plt.ylim(-0.1,1)"
   ]
  },
  {
   "cell_type": "code",
   "execution_count": null,
   "metadata": {},
   "outputs": [],
   "source": [
    "cluster_label[794]"
   ]
  },
  {
   "cell_type": "markdown",
   "metadata": {},
   "source": [
    "The probabilities or verisimilitudes, are defined by normal distribution for each group from the gaussian mixture model:"
   ]
  },
  {
   "cell_type": "code",
   "execution_count": null,
   "metadata": {
    "scrolled": true
   },
   "outputs": [],
   "source": [
    "#gmm.means_\n",
    "#just a plot to bayessian criterion for 4 clusters \n",
    "#----------------------------------------------------------------------\n",
    "plt.figure(figsize=(15,7))\n",
    "plt.gcf().subplots_adjust(bottom=0.15,right=0.96, left=0.08, top=0.93)\n",
    "\n",
    "color=[]\n",
    "CL = cluster_label\n",
    "for i in range(len(cluster[1])):\n",
    "    if CL[i] == 0:\n",
    "        color.append(\"C1\")\n",
    "    elif CL[i] == 1:\n",
    "        color.append(\"C2\")\n",
    "    elif CL[i] == 2:\n",
    "        color.append(\"C3\")\n",
    "    elif CL[i] == 3:\n",
    "        color.append(\"C4\")\n",
    "    elif CL[i] == 4:\n",
    "        color.append(\"C5\")\n",
    "        \n",
    "colors=[\"C1\",\"C2\",\"C3\",\"C4\",\"C5\"]\n",
    "\n",
    "#fig4, ax4 = plt.subplots(1, 1, sharex='col', sharey='row')\n",
    "\n",
    "for i, (v1,v2) in enumerate(zip(gmm.means_,gmm.covariances_)):\n",
    "    plt.plot(x, norm.pdf(x,v1,v2)[0]/norm.pdf(x,v1,v2)[0].max(),\n",
    "             c=colors[i],label=\"Cluster \"+str(i+1),lw=2)\n",
    "    plt.legend(fontsize=24, loc=1,edgecolor='black')\n",
    "\n",
    "plt.scatter((CM_log.values),np.zeros(len(CM_log)),c=color, label=\"Group 1\")  \n",
    "#plt.hist(CM_log.values,100, density=True)\n",
    "\n",
    "plt.xlim(-2.2,3.7)\n",
    "\n",
    "plt.tick_params(labelsize=24)\n",
    "\n",
    "plt.title(r\"GMM for the BIC clusters\",fontsize=25)\n",
    "plt.xlabel(r'$\\log_{10}$(CM)',fontsize=26)\n",
    "plt.ylabel(r'Normal Distribution',fontsize=26)\n",
    "#plt.savefig(\"figures/GMM4.pdf\") "
   ]
  },
  {
   "cell_type": "markdown",
   "metadata": {},
   "source": [
    "The posteriror probabilities are determinated by the function `gmm.predict_proba()`"
   ]
  },
  {
   "cell_type": "code",
   "execution_count": null,
   "metadata": {
    "scrolled": false
   },
   "outputs": [],
   "source": [
    "# The posterior probabilities: \n",
    "names=[\"Earth-centered\", \"Close\",\"Far away\",\"Venusian-centered\"]\n",
    "plt.figure(figsize=(7,5.6))\n",
    "\n",
    "for i in range(4):\n",
    "    plt.scatter(CM_log,gmm.predict_proba(CM_log)[:,i],label=names[i], s=7);\n",
    "\n",
    "plt.gcf().subplots_adjust(bottom=0.15,right=0.97, left=0.15, top=0.83)\n",
    "plt.tick_params(labelsize=20)    \n",
    "plt.xlabel(r'$\\log_{10}(r_\\text{cm}) \\text{(AU)}$',fontsize=22)\n",
    "plt.ylabel(r'Posterior Probabilities',fontsize=22)\n",
    "plt.xlim(-2.5,4)\n",
    "\n",
    "plt.xticks(np.arange(int(min(m)), int(max(m))+2, 1.0))\n",
    "\n",
    "plt.legend(fontsize=17.5,edgecolor='black', \n",
    "           bbox_to_anchor=(-0.02, 1.20, 1.037, 0.06), loc=2,\n",
    "           ncol=2, mode=\"expand\")\n",
    "plt.savefig(\"figures/Prob.pdf\")"
   ]
  },
  {
   "cell_type": "code",
   "execution_count": null,
   "metadata": {},
   "outputs": [],
   "source": [
    "gmm.predict_proba(CM_log)[794]\n",
    "CM_log.values[794]"
   ]
  },
  {
   "cell_type": "markdown",
   "metadata": {},
   "source": [
    "The probability for a synthetic draw of a system called AA, with a $\\mu=0.8$ and $\\sigma=0.03$ in the CM, can be established as:"
   ]
  },
  {
   "cell_type": "code",
   "execution_count": null,
   "metadata": {},
   "outputs": [],
   "source": [
    "AA=np.log10(np.random.normal(0.8,0.03,1000))\n",
    "AA=AA[:,np.newaxis]\n",
    "names=[\"Earth-centered\", \"Close\",\"Far away\",\"Venusian-centered\"]\n",
    "plt.figure(figsize=(7,5.6))\n",
    "\n",
    "#production of probability for a syntethic planetary system \n",
    "for i in range(4):\n",
    "    plt.scatter(AA,gmm.predict_proba(AA)[:,i],label=names[i])\n",
    "\n",
    "plt.gcf().subplots_adjust(bottom=0.15,right=0.965, left=0.14, top=0.83)\n",
    "plt.legend(fontsize=17.5,edgecolor='black', \n",
    "           bbox_to_anchor=(-0.02, 1.20, 1.037, 0.055), loc=2,\n",
    "           ncol=2, mode=\"expand\")\n",
    "plt.tick_params(labelsize=20)    \n",
    "plt.xlabel(r'$\\log_{10}$(CM)',fontsize=22)\n",
    "plt.ylabel(r'Probability',fontsize=22)\n",
    "#plt.savefig(\"figures/draw.pdf\")"
   ]
  },
  {
   "cell_type": "code",
   "execution_count": null,
   "metadata": {},
   "outputs": [],
   "source": [
    "AA"
   ]
  },
  {
   "cell_type": "markdown",
   "metadata": {},
   "source": [
    "## ... Draws\n",
    "Employing m and $\\Delta$m, a and $\\Delta$a, from `data2`."
   ]
  },
  {
   "cell_type": "code",
   "execution_count": null,
   "metadata": {},
   "outputs": [],
   "source": [
    "# Group the planetary system:\n",
    "data2 = dataB[['star_name','mass', 'mass_error_min',\n",
    "               'semi_major_axis','semi_major_axis_error_min']]\n",
    "Planetary_System = data2.groupby(\"star_name\")\n",
    "Systems_List = list(Planetary_System.groups.keys())"
   ]
  },
  {
   "cell_type": "markdown",
   "metadata": {},
   "source": [
    "A first way to get the drows for each system:"
   ]
  },
  {
   "cell_type": "code",
   "execution_count": null,
   "metadata": {
    "scrolled": true
   },
   "outputs": [],
   "source": [
    "#%%time\n",
    "#-------------------------------------------------------------------------\n",
    "# Draws, for each planetary system\n",
    "draws=[]#drows of COM for each system. \n",
    "for i in range(len(Systems_List)):\n",
    "    system_i = data2[data2.star_name == Systems_List[i]]    \n",
    "    draw_i=[]\n",
    "    for j in  range(1000):\n",
    "        #Get random values for each planet in a system and the COM for those values\n",
    "        masses=np.random.normal(system_i.mass,system_i.mass_error_min)\n",
    "        axes=np.random.normal(system_i.semi_major_axis,\n",
    "                              system_i.semi_major_axis_error_min)\n",
    "        draw_i += [(masses*axes).sum()/masses.sum()]\n",
    "    draws.append(draw_i)\n"
   ]
  },
  {
   "cell_type": "code",
   "execution_count": null,
   "metadata": {},
   "outputs": [],
   "source": [
    "#len(draws[0])"
   ]
  },
  {
   "cell_type": "markdown",
   "metadata": {},
   "source": [
    "Second way to get the draws for each system (in a shorter time):"
   ]
  },
  {
   "cell_type": "code",
   "execution_count": null,
   "metadata": {},
   "outputs": [],
   "source": [
    "#%%time\n",
    "DrawsA=[]#drows of COM for each system. \n",
    "for i in range(len(Systems_List)):\n",
    "    SystemA_i = data2[data2.star_name == Systems_List[i]]  \n",
    "    Mass_System = np.zeros(1000)\n",
    "    Mass_Axe = np.zeros(1000) \n",
    "    for k in range(len(SystemA_i)):\n",
    "        Masses = np.random.normal(SystemA_i.mass.values[k],\n",
    "                                  SystemA_i.mass_error_min.values[k],1000)\n",
    "        Axes = np.random.normal(SystemA_i.semi_major_axis.values[k],\n",
    "                                SystemA_i.semi_major_axis_error_min.values[k],\n",
    "                                1000)\n",
    "        Mass_Axe += Masses*Axes\n",
    "        Mass_System += Masses\n",
    "        #print(SystemA_i.mass.values[k])\n",
    "    DrawsA.append(np.abs(Mass_Axe/Mass_System))\n",
    "len(DrawsA)"
   ]
  },
  {
   "cell_type": "code",
   "execution_count": null,
   "metadata": {},
   "outputs": [],
   "source": [
    "Systems_List.index(\"TRAPPIST-1\")"
   ]
  },
  {
   "cell_type": "code",
   "execution_count": null,
   "metadata": {},
   "outputs": [],
   "source": [
    "Tras = DrawsA[Systems_List.index(\"TRAPPIST-1\")]\n",
    "fig, ax1 = plt.subplots(1, 1)\n",
    "\n",
    "let=15\n",
    "\n",
    "ax1 = sb.distplot(Tras, ax=ax1, bins=50, \n",
    "                  label=r' Synthetic $r_\\text{cm}$ (AU)',\n",
    "                  kde_kws={\"lw\": 2, \"label\": r\" Synthetic density\"})\n",
    "\n",
    "ax1.set_xlabel(r\"$\\log_{10}$(Mass) (M$_\\text{Jup}$)\",fontsize=let)\n",
    "#_xlabel(,fontsize=let);ax.set_ylabel(r\"Orbital period (years)\",fontsize=let)\n",
    "ax1.set_ylabel(r\"Distribution\", fontsize=let)\n",
    "ax1.tick_params(labelsize=let)\n",
    "\n",
    "\n",
    "ax1.legend(loc='upper left',fontsize=let);\n",
    "plt.savefig(\"figures/Tras_hists.pdf\", bbox_inches='tight')"
   ]
  },
  {
   "cell_type": "code",
   "execution_count": null,
   "metadata": {},
   "outputs": [],
   "source": []
  },
  {
   "cell_type": "code",
   "execution_count": null,
   "metadata": {},
   "outputs": [],
   "source": [
    "#import seaborn as sns\n",
    "#sns.set()\n",
    "fig, (ax1,ax2) = plt.subplots(nrows=1, ncols=2, figsize=(8, 5))\n",
    "\n",
    "f1 = ax1.hist(DrawsA[2][0],10,alpha=0.8,label=Systems_List[2]+\" DrawsA\")\n",
    "f2 = ax1.hist(draws[2],10, alpha=0.6,label=Systems_List[2]+\" draws\")\n",
    "ax1.legend(bbox_to_anchor=(0., 1.02, 1., .102), loc=3,ncol=1, mode=\"expand\", borderaxespad=0.)\n",
    "f2 = sns.kdeplot(DrawsA[2][0], shade=True,label=Systems_List[2]+\" DrawsA\")\n",
    "f3 = sns.kdeplot(draws[2], shade=True,label=Systems_List[2]+\" draws\")\n",
    "ax2.legend(bbox_to_anchor=(0., 1.02, 1., .102), loc=3,ncol=1, mode=\"expand\", borderaxespad=0.)"
   ]
  },
  {
   "cell_type": "markdown",
   "metadata": {},
   "source": [
    "The probability of each draw to belong a each group, taking draws form `DrawsA`"
   ]
  },
  {
   "cell_type": "code",
   "execution_count": null,
   "metadata": {
    "scrolled": true
   },
   "outputs": [],
   "source": [
    "kk=8\n",
    "Draw_i=np.log10(DrawsA[kk][0][:,np.newaxis])\n",
    "orig=gmm.predict(np.array(CM_log))[kk]\n",
    "print(orig)\n",
    "print((orig!=gmm.predict(Draw_i)).sum()/1000)\n",
    "for i in range(4):\n",
    "    plt.scatter(Draw_i,gmm.predict_proba(Draw_i)[:,i])"
   ]
  },
  {
   "cell_type": "code",
   "execution_count": null,
   "metadata": {},
   "outputs": [],
   "source": [
    "np.log10(DrawsA[8])[0][:10]"
   ]
  },
  {
   "cell_type": "code",
   "execution_count": null,
   "metadata": {},
   "outputs": [],
   "source": [
    "plt.hist(np.log10(DrawsA[8])[0])"
   ]
  },
  {
   "cell_type": "code",
   "execution_count": null,
   "metadata": {},
   "outputs": [],
   "source": [
    "# CM_log is the centero of mass in log scale for each system\n",
    "frac=[]\n",
    "for kk in range(len(DrawsA)):\n",
    "    Draw_i=np.log10(DrawsA[kk][0][:,np.newaxis])\n",
    "    orig=gmm.predict(np.array(CM_log))[kk]\n",
    "#    print(kk)\n",
    "    frac+=[(orig!=gmm.predict(Draw_i)).sum()/1000] # AA es el elemento i de draws (que debe ser un array de 1000 elementos)\n",
    "\n",
    "\n",
    "#for i in range(4):\n",
    "#    plt.scatter(Draw_i,gmm.predict_proba(Draw_i)[:,i])\n",
    "#orig\n",
    "#AA\n",
    "#orig=gmm.predict(np.array([[0.8]])) # 0.8 es el centro de masa para el sistema i\n",
    "#(orig!=gmm.predict(AA)).sum()/1000 # AA es el elemento i de draws (que debe ser un array de 1000 elementos)\n",
    "#DrawsA[0]\n",
    "#Draw_i=DrawsA[0][0][:,np.newaxis]\n",
    "#gmm.predict(Draw_i)\n",
    "#Draw_i\n",
    "#gmm.predict(Draw_i)\n",
    "plt.hist(frac)\n",
    "print((np.array(frac)==0).sum()/len(frac))\n",
    "np.max(frac)"
   ]
  },
  {
   "cell_type": "code",
   "execution_count": null,
   "metadata": {},
   "outputs": [],
   "source": [
    "orig=gmm.predict(np.array(CM_log))[2]\n",
    "print(CM_log.values)\n",
    "DrawsA[2][0]"
   ]
  },
  {
   "cell_type": "markdown",
   "metadata": {},
   "source": [
    "#### Metallicity"
   ]
  },
  {
   "cell_type": "code",
   "execution_count": null,
   "metadata": {},
   "outputs": [],
   "source": [
    "dataMet = data_ep[pd.notnull(data_ep[\"star_metallicity\"])]\n",
    "dataMetA = dataMet[pd.notnull(dataMet[\"star_metallicity_error_min\"])]\n",
    "dataMet = dataMetA[['star_name',\"star_metallicity\",\"star_metallicity_error_min\"]]"
   ]
  },
  {
   "cell_type": "code",
   "execution_count": null,
   "metadata": {},
   "outputs": [],
   "source": [
    "gmm2 = GaussianMixture(3, covariance_type='full', random_state=0)\n",
    "B=dataMet[[\"star_metallicity\"]]\n",
    "gmm2.fit(B.values)\n",
    "cluster_label = gmm2.predict(B.values)\n",
    "B.values[:, 0]\n",
    "plt.scatter((B.values),np.zeros(len(B)), c=cluster_label);\n",
    "plt.ylim(-0.1,1)"
   ]
  },
  {
   "cell_type": "code",
   "execution_count": null,
   "metadata": {},
   "outputs": [],
   "source": [
    "bic=[]\n",
    "for i in range(15):\n",
    "    i+=1\n",
    "    gmm2 = GaussianMixture(i, covariance_type='full', random_state=0)\n",
    "    A=data1[[\"center_of_Mass\"]]\n",
    "    gmm2.fit(B.values)\n",
    "    bic+=[gmm2.bic(B.values)]\n",
    "plt.plot(range(1,16),bic)"
   ]
  },
  {
   "cell_type": "code",
   "execution_count": null,
   "metadata": {},
   "outputs": [],
   "source": [
    "plt.figure(figsize=(15,5))\n",
    "sma=np.linspace(-2.5,4,1000)\n",
    "for m,s in zip(gmm.means_,gmm.covariances_):\n",
    "    plt.plot(sma, norm.pdf(sma,m,s)[0])\n",
    "plt.scatter((A.values),np.zeros(len(A)), c = cluster_label);"
   ]
  },
  {
   "cell_type": "code",
   "execution_count": null,
   "metadata": {},
   "outputs": [],
   "source": []
  }
 ],
 "metadata": {
  "celltoolbar": "Slideshow",
  "kernelspec": {
   "display_name": "Python 3",
   "language": "python",
   "name": "python3"
  },
  "language_info": {
   "codemirror_mode": {
    "name": "ipython",
    "version": 3
   },
   "file_extension": ".py",
   "mimetype": "text/x-python",
   "name": "python",
   "nbconvert_exporter": "python",
   "pygments_lexer": "ipython3",
   "version": "3.8.3"
  }
 },
 "nbformat": 4,
 "nbformat_minor": 2
}
