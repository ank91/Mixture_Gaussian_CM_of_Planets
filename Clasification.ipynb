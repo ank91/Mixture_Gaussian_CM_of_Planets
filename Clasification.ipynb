{
 "cells": [
  {
   "cell_type": "markdown",
   "metadata": {
    "slideshow": {
     "slide_type": "slide"
    }
   },
   "source": [
    "# Classification for the centar of mass $(r_\\text{cm})$ of exoplanetary systems through GMM \n",
    "\n",
    "We use Gaussian Mixture Model to clasify the center of mass of exoplanetary systems, employing the observational data  "
   ]
  },
  {
   "cell_type": "markdown",
   "metadata": {
    "slideshow": {
     "slide_type": "subslide"
    }
   },
   "source": [
    "## 1. Read and clean the file from exoplanet.eu\n",
    "\n",
    "From the most complete list of observed exoplanets planets to date, <a href=\"http://exoplanet.eu/\">exoplanet.eu</a>, we take the planetary mass $M_{tp}$, the semi_major $a$ and the Metallicity Fe/H (with their respective uncertainties).  \n",
    "\n",
    "It is necessary processing the data with the prurpose to obtain the Center of Mass $r_\\text{cm}$, as a DataFrame `data`, without NaN values in the columns of _mass_ ($M_{tp}$) and _semi major axis_($a$). Finally, we get the data cleaned.\n",
    "\n",
    "**Remember**: `pd.notnull(\"name_of_column\")` deletes the NaN values in the column. \n",
    "\n",
    "**Remember**: `data=data[['column_a','column_b',..,'column_n',]]` to get a new order in the DataFrame"
   ]
  },
  {
   "cell_type": "code",
   "execution_count": 62,
   "metadata": {
    "slideshow": {
     "slide_type": "skip"
    }
   },
   "outputs": [
    {
     "data": {
      "text/html": [
       "\n",
       "<style>\n",
       ".output_png {\n",
       "    display: table-cell;\n",
       "    text-align: center;\n",
       "    vertical-align: middle;\n",
       "}\n",
       "</style>\n"
      ],
      "text/plain": [
       "<IPython.core.display.HTML object>"
      ]
     },
     "execution_count": 62,
     "metadata": {},
     "output_type": "execute_result"
    }
   ],
   "source": [
    "from IPython.core.display import HTML\n",
    "HTML(\"\"\"\n",
    "<style>\n",
    ".output_png {\n",
    "    display: table-cell;\n",
    "    text-align: center;\n",
    "    vertical-align: middle;\n",
    "}\n",
    "</style>\n",
    "\"\"\")"
   ]
  },
  {
   "cell_type": "code",
   "execution_count": 63,
   "metadata": {
    "slideshow": {
     "slide_type": "subslide"
    }
   },
   "outputs": [],
   "source": [
    "import pandas as pd; \n",
    "import numpy as np\n",
    "from scipy.stats import norm, truncnorm\n",
    "import random\n",
    "from sklearn.mixture import GaussianMixture\n",
    "import matplotlib.pyplot as plt \n",
    "import seaborn as sb\n",
    "from matplotlib import rc, cm, rcParams\n",
    "\n",
    "rcParams['text.latex.preamble']=[r\"\\usepackage{amsmath}\"]\n",
    "rc('text', usetex=True)\n",
    "%matplotlib inline"
   ]
  },
  {
   "cell_type": "markdown",
   "metadata": {
    "slideshow": {
     "slide_type": "subslide"
    }
   },
   "source": [
    "Now, the data is read (only mass and semi major axis with their uncertainties)."
   ]
  },
  {
   "cell_type": "code",
   "execution_count": 64,
   "metadata": {
    "scrolled": true,
    "slideshow": {
     "slide_type": "fragment"
    }
   },
   "outputs": [
    {
     "name": "stdout",
     "output_type": "stream",
     "text": [
      "Total of NaN values = 8485\n"
     ]
    },
    {
     "data": {
      "text/plain": [
       "mass                         2158\n",
       "mass_error_min               2369\n",
       "semi_major_axis              1476\n",
       "semi_major_axis_error_min    2477\n",
       "star_name                       5\n",
       "dtype: int64"
      ]
     },
     "execution_count": 64,
     "metadata": {},
     "output_type": "execute_result"
    }
   ],
   "source": [
    "data_ep = pd.read_csv('data/exoplanet.eu_catalog.csv', \n",
    "                      usecols=['mass','mass_error_min','semi_major_axis',\n",
    "                               'semi_major_axis_error_min','star_name'])\n",
    "\n",
    "# It replaces the inf values:\n",
    "data_ep = data_ep.replace([np.inf, -np.inf], np.nan) \n",
    "\n",
    "# Total of NaN values:\n",
    "print(\"Total of NaN values = \"+str(data_ep.isnull().sum().sum()))\n",
    "\n",
    "# Numer of nan values per column:\n",
    "data_ep.isnull().sum()"
   ]
  },
  {
   "cell_type": "markdown",
   "metadata": {
    "slideshow": {
     "slide_type": "fragment"
    }
   },
   "source": [
    "After check for missing values in the data, we can see that some names of stars do not exists!!<font color='red'> Does it mean that some stars do not have names?</font> We will discuss latter. \n",
    "\n",
    "For the time being, we are going to continue cleaning the data. We do not take into account the NaN values."
   ]
  },
  {
   "cell_type": "code",
   "execution_count": 65,
   "metadata": {
    "slideshow": {
     "slide_type": "subslide"
    }
   },
   "outputs": [
    {
     "name": "stdout",
     "output_type": "stream",
     "text": [
      "Total of planets with complete data = 1217\n"
     ]
    }
   ],
   "source": [
    "dataB = data_ep.dropna(subset=['mass','mass_error_min','semi_major_axis',\n",
    "                               'semi_major_axis_error_min'])\n",
    "\n",
    "# Clean the data for the star names:\n",
    "dataB = dataB.dropna(subset=['star_name'])\n",
    "\n",
    "# Data after cleaning:\n",
    "data = dataB[['star_name','mass', 'mass_error_min',\n",
    "              'semi_major_axis','semi_major_axis_error_min']]\n",
    "\n",
    "print(\"Total of planets with complete data = \"+str(len(data)))\n",
    "dataa=data"
   ]
  },
  {
   "cell_type": "markdown",
   "metadata": {
    "slideshow": {
     "slide_type": "subslide"
    }
   },
   "source": [
    "The cleaning result is a data frame with complete information of the numer of total planets per system $N_{tp}$, thir masses and semi-major axis with respective uncertainties. The data can group by the name of the host star."
   ]
  },
  {
   "cell_type": "code",
   "execution_count": 66,
   "metadata": {
    "slideshow": {
     "slide_type": "fragment"
    }
   },
   "outputs": [
    {
     "data": {
      "text/html": [
       "<div>\n",
       "<style scoped>\n",
       "    .dataframe tbody tr th:only-of-type {\n",
       "        vertical-align: middle;\n",
       "    }\n",
       "\n",
       "    .dataframe tbody tr th {\n",
       "        vertical-align: top;\n",
       "    }\n",
       "\n",
       "    .dataframe thead th {\n",
       "        text-align: right;\n",
       "    }\n",
       "</style>\n",
       "<table border=\"1\" class=\"dataframe\">\n",
       "  <thead>\n",
       "    <tr style=\"text-align: right;\">\n",
       "      <th></th>\n",
       "      <th>star_name</th>\n",
       "      <th>mass</th>\n",
       "      <th>mass_error_min</th>\n",
       "      <th>semi_major_axis</th>\n",
       "      <th>semi_major_axis_error_min</th>\n",
       "    </tr>\n",
       "  </thead>\n",
       "  <tbody>\n",
       "    <tr>\n",
       "      <th>3568</th>\n",
       "      <td>TRAPPIST-1</td>\n",
       "      <td>0.00270</td>\n",
       "      <td>0.00230</td>\n",
       "      <td>0.01111</td>\n",
       "      <td>0.00034</td>\n",
       "    </tr>\n",
       "    <tr>\n",
       "      <th>3569</th>\n",
       "      <td>TRAPPIST-1</td>\n",
       "      <td>0.00434</td>\n",
       "      <td>0.00190</td>\n",
       "      <td>0.01521</td>\n",
       "      <td>0.00047</td>\n",
       "    </tr>\n",
       "    <tr>\n",
       "      <th>3570</th>\n",
       "      <td>TRAPPIST-1</td>\n",
       "      <td>0.00130</td>\n",
       "      <td>0.00085</td>\n",
       "      <td>0.02144</td>\n",
       "      <td>0.00063</td>\n",
       "    </tr>\n",
       "    <tr>\n",
       "      <th>3571</th>\n",
       "      <td>TRAPPIST-1</td>\n",
       "      <td>0.00200</td>\n",
       "      <td>0.00180</td>\n",
       "      <td>0.02817</td>\n",
       "      <td>0.00087</td>\n",
       "    </tr>\n",
       "    <tr>\n",
       "      <th>3572</th>\n",
       "      <td>TRAPPIST-1</td>\n",
       "      <td>0.00210</td>\n",
       "      <td>0.00057</td>\n",
       "      <td>0.03710</td>\n",
       "      <td>0.00110</td>\n",
       "    </tr>\n",
       "    <tr>\n",
       "      <th>3573</th>\n",
       "      <td>TRAPPIST-1</td>\n",
       "      <td>0.00422</td>\n",
       "      <td>0.00280</td>\n",
       "      <td>0.04510</td>\n",
       "      <td>0.00140</td>\n",
       "    </tr>\n",
       "  </tbody>\n",
       "</table>\n",
       "</div>"
      ],
      "text/plain": [
       "       star_name     mass  mass_error_min  semi_major_axis  \\\n",
       "3568  TRAPPIST-1  0.00270         0.00230          0.01111   \n",
       "3569  TRAPPIST-1  0.00434         0.00190          0.01521   \n",
       "3570  TRAPPIST-1  0.00130         0.00085          0.02144   \n",
       "3571  TRAPPIST-1  0.00200         0.00180          0.02817   \n",
       "3572  TRAPPIST-1  0.00210         0.00057          0.03710   \n",
       "3573  TRAPPIST-1  0.00422         0.00280          0.04510   \n",
       "\n",
       "      semi_major_axis_error_min  \n",
       "3568                    0.00034  \n",
       "3569                    0.00047  \n",
       "3570                    0.00063  \n",
       "3571                    0.00087  \n",
       "3572                    0.00110  \n",
       "3573                    0.00140  "
      ]
     },
     "execution_count": 66,
     "metadata": {},
     "output_type": "execute_result"
    }
   ],
   "source": [
    "#The system for comparisons: \n",
    "A = data.groupby(\"star_name\")\n",
    "SystemA_i = data[data.star_name == \"TRAPPIST-1\"]  \n",
    "SystemA_i"
   ]
  },
  {
   "cell_type": "markdown",
   "metadata": {
    "slideshow": {
     "slide_type": "subslide"
    }
   },
   "source": [
    "Let's plot the distribution of the logarithm of planetary mass, $M_\\text{tp}$, and the distribution of the logarithm of semi-major axis $a$:"
   ]
  },
  {
   "cell_type": "code",
   "execution_count": 67,
   "metadata": {
    "slideshow": {
     "slide_type": "subslide"
    }
   },
   "outputs": [
    {
     "data": {
      "text/plain": [
       "<matplotlib.legend.Legend at 0x7f4c01cbb7f0>"
      ]
     },
     "execution_count": 67,
     "metadata": {},
     "output_type": "execute_result"
    },
    {
     "data": {
      "image/png": "[encoded data removed]",
      "text/plain": [
       "<Figure size 720x360 with 2 Axes>"
      ]
     },
     "metadata": {
      "needs_background": "light"
     },
     "output_type": "display_data"
    }
   ],
   "source": [
    "# -Plot----distributions \n",
    "fig, (ax1,ax2) = plt.subplots(1, 2, figsize=(10, 5))\n",
    "\n",
    "let, bins = 15, 20\n",
    "\n",
    "m=np.log10(data.mass.values)\n",
    "a=np.log10(data.semi_major_axis.values)\n",
    "\n",
    "ax1 = sb.distplot(m, ax=ax1, bins=bins, label=r'Mass (M$_\\text{Jup}$)',\n",
    "                  kde_kws={\"lw\": 2, \"label\": r\"Mass density\"})\n",
    "\n",
    "ax2 = sb.distplot(a, ax=ax2, bins=bins,label=r'Semi-Major axis $a$ (AU)',\n",
    "                  kde_kws={\"lw\": 2, \"label\": r\"$a$ Density\"})\n",
    "\n",
    "ax1.set_xlabel(r\"$\\log_{10}$(Mass) (M$_\\text{Jup}$)\",fontsize=let)\n",
    "ax2.set_xlabel(r\"$\\log_{10}(a)$ (AU)\",fontsize=let)\n",
    "ax1.set_ylabel(r\"Counts\", fontsize=let)\n",
    "ax1.tick_params(labelsize=let); ax2.tick_params(labelsize=let)\n",
    "\n",
    "ax1.set_xticks(np.arange(int(min(m))-1, int(max(m))+2, 1.0))\n",
    "ax2.set_xticks(np.arange(int(min(a))-1, int(max(a))+2, 1.0))\n",
    "\n",
    "\n",
    "ax1.legend(loc='upper left',fontsize=let);ax2.legend(loc='upper right',fontsize=let)\n",
    "#plt.savefig(\"figures/hists.pdf\", bbox_inches='tight')"
   ]
  },
  {
   "cell_type": "markdown",
   "metadata": {
    "slideshow": {
     "slide_type": "subslide"
    }
   },
   "source": [
    "So, `data` is a DataFrame without NaN values in columns of names, masses, semi major axis and their uncertainties. Finally, we got 1217 rows, it means, exoplanets with confirmed data. "
   ]
  },
  {
   "cell_type": "markdown",
   "metadata": {
    "slideshow": {
     "slide_type": "slide"
    }
   },
   "source": [
    "## 2. Get the center of Mass \n",
    "We need to estimate the $r_\\text{cm}$ for each system. The definition of center of mass:\n",
    "\\begin{equation*}\n",
    "r_\\text{cm} = \\frac{\\sum\\limits_{k=1}^n(m_{k}\\vec{r_{k}})}{\\sum \\limits_{k=1}^{n}m_{k}} %=\\frac{\\sum\\limits_{k=1}^n(m_{k}\\vec{r_{k}})}{M_{T}}\n",
    "\\end{equation*}\n",
    "To do it, is nessesary get the values mass $m$ times disnace $r$, for each planet, so with the columns of `mass` and distance from the star `semi_major_axis` we can get $m_{k}\\vec{r_{k}}$ values. Then, we take the sum for all planets in each systems, as a result we got $\\text{CM}_i$ for $i\\in\\{0,1,2,3,4,\\ldots,n\\}$.\n",
    "\n",
    "Our variable for clasify the systems is CM but some systems only have one planet, so, the center of mass for this systems CM$_j$, can be taked as the mass $m_j$.\n",
    "\n",
    "**Remember:** The `data.groupby(\"key\")` split the data in groups which are the key.\n",
    "\n",
    "**Remember:** The `data[i].multiply(data[j])` multiplies the comun i and j of DataFrame or Series i and j, row by row.\n",
    "\n",
    "**Remember:** The `data.groupby.groups.keys()` get the keys of the split data."
   ]
  },
  {
   "cell_type": "code",
   "execution_count": 68,
   "metadata": {
    "slideshow": {
     "slide_type": "subslide"
    }
   },
   "outputs": [
    {
     "name": "stdout",
     "output_type": "stream",
     "text": [
      "The number of planetary systems = 987\n",
      "Systems with more than one planet = 154\n"
     ]
    }
   ],
   "source": [
    "# Group by the name system:\n",
    "p_system = data.groupby(\"star_name\")\n",
    "print('The number of planetary systems = '+ str(len(p_system)))\n",
    "\n",
    "# The numer of exoplanets around each star:\n",
    "number=(data[\"star_name\"].value_counts()).to_frame()\n",
    "\n",
    "# The number of systems with more than one exoplanet:\n",
    "count = 0\n",
    "for i, index in enumerate(number.star_name.values):\n",
    "    if index>1.:\n",
    "        count+=1 \n",
    "print(\"Systems with more than one planet = \"+str(count))"
   ]
  },
  {
   "cell_type": "code",
   "execution_count": 69,
   "metadata": {
    "scrolled": true,
    "slideshow": {
     "slide_type": "subslide"
    }
   },
   "outputs": [],
   "source": [
    "#-----------------------function center of mass-----------------------\n",
    "#it returns a data frame group bay systems:\n",
    "\n",
    "def CoM(data): #data is a dataframe with mass and semi major axis \n",
    "    \n",
    "    # Multiplications between columns mass and axis, CM_i new column:\n",
    "    data = data.assign(CM_i=data[\"semi_major_axis\"]*data[\"mass\"])\n",
    "    #print(data)\n",
    "    # Group by each planet in the system:\n",
    "    p_system = data.groupby(\"star_name\") \n",
    "    system = list(p_system.groups.keys())\n",
    "    # Total mass per system:\n",
    "    M_total = p_system[\"mass\"].sum()\n",
    "    sum_rm = p_system['CM_i'].sum() # sum of masses in each system.\n",
    "    # Center of mass:\n",
    "    CoM = sum_rm.divide(M_total)\n",
    "    \n",
    "    system = list(p_system.groups.keys())\n",
    "    \n",
    "    NewData = pd.DataFrame({'System_name':system,\n",
    "                            'Total_mass':M_total.tolist(),\n",
    "                            'Center_of_Mass':CoM.tolist()})\n",
    "\n",
    "    return NewData"
   ]
  },
  {
   "cell_type": "code",
   "execution_count": 70,
   "metadata": {},
   "outputs": [],
   "source": [
    "CoM=CoM(data);#CoM"
   ]
  },
  {
   "cell_type": "markdown",
   "metadata": {
    "slideshow": {
     "slide_type": "subslide"
    }
   },
   "source": [
    "Therefore, the distribution of the $r_\\text{cm}$"
   ]
  },
  {
   "cell_type": "code",
   "execution_count": 71,
   "metadata": {
    "slideshow": {
     "slide_type": "fragment"
    }
   },
   "outputs": [
    {
     "data": {
      "text/plain": [
       "<matplotlib.legend.Legend at 0x7f4c04a02a30>"
      ]
     },
     "execution_count": 71,
     "metadata": {},
     "output_type": "execute_result"
    },
    {
     "data": {
      "image/png": "[encoded data removed]",
      "text/plain": [
       "<Figure size 720x360 with 1 Axes>"
      ]
     },
     "metadata": {
      "needs_background": "light"
     },
     "output_type": "display_data"
    }
   ],
   "source": [
    "#histogram \n",
    "lat=15\n",
    "\n",
    "x=CoM.Center_of_Mass.values\n",
    "\n",
    "fig, ax = plt.subplots(1, 1, figsize=(10, 5))\n",
    "\n",
    "ax = sb.distplot(np.log10(x), bins=60, label=r\"Histogram of $r_\\text{cm}$\",\n",
    "                kde_kws={\"lw\": 2, \"label\": r\"Density estimation\"})\n",
    "\n",
    "ax.set_xticklabels([r'$10^{-3}$',r'$10^{-2}$',r'$10^{-1}$',r'$10^{0}$',\n",
    "                    r'$10^{1}$',r'$10^{2}$',r'$10^{3}$'])#,\n",
    "#                    r'$10^{3}$',r'$10^{4}$'])\n",
    "\n",
    "ax.set(xlim=(np.log10(x).min(),np.log10(x).max()))\n",
    "\n",
    "plt.xlabel(r\"$\\log_{10}(r_\\text{cm})$ (AU)\", fontsize=lat)\n",
    "plt.ylabel(r\"Counts\", fontsize=lat)\n",
    "ax.tick_params(labelsize=lat)\n",
    "plt.legend(fontsize=lat)\n",
    "#plt.savefig(\"figures/CMhist.pdf\",bbox_inches='tight')"
   ]
  },
  {
   "cell_type": "markdown",
   "metadata": {
    "slideshow": {
     "slide_type": "fragment"
    }
   },
   "source": [
    "However, the calculus of the $r_\\text{cm}$, was made without take into account the mass of the star."
   ]
  },
  {
   "cell_type": "markdown",
   "metadata": {
    "slideshow": {
     "slide_type": "slide"
    }
   },
   "source": [
    "## 3. Gaussian Mixture Model\n",
    "\n",
    "At first we will use the Gaussian Mixture Model to clasify the $r_\\text{cm}$ in $n$ finite distributions. Python has the library `sckit-learn`, which uses the Expectation Maximization algorithm to determine the maximum likelihood for  a determined number $n$ of clusters (more informtion  <a href=\"https://scikit-learn.org/stable/modules/mixture.html\">Gaussian Mixture</a>). \n",
    "\n",
    "\n",
    "### Class: clustering\n",
    "\n",
    "This class is oriented to determine the ideal number of cluster for some data. In this case de data came from a DataFrame `CoM`, which has the center of mass $r_\\text{cm}$ for each observed planetary system."
   ]
  },
  {
   "cell_type": "markdown",
   "metadata": {},
   "source": [
    "### Function: GMM\n",
    "We use the `GaussianMixture` package from `sckit-learn` to classify our data in different number of clusrers ($n$). Here, we employ the number of compnents, `n_components` as the numer of clusters $n$. The `GaussianMixture` let us predict the labels of clustering for data samples, using trained model. \n",
    "\n",
    "Finally the `GaussianMixture` also has the predict posterior probability of each component given the data (more informtion  <a href=\"https://scikit-learn.org/stable/modules/mixture.html\">Gaussian Mixture</a>). "
   ]
  },
  {
   "cell_type": "markdown",
   "metadata": {},
   "source": [
    "### Function: Information Criterion AIC/BIC\n",
    "Now, we need to determine the idel number of clusters. To do that, we use the information criterion as strategy to avoiding underfit or overfit. The information criteria determine the quality of models and score them (more information <a href=\"https://en.wikipedia.org/wiki/Model_selection#Criteria\">Model selection</a>).  \n",
    "\n",
    "\n",
    "We define a function wich gets the information criteria for different numbers of components (the number of mixture components $n$), in order to obtain the minimum value of criterium to determine the ideal number of clsuters. The lowest BIC/AIC is preferred.\n",
    "\n",
    "Then, it plots the BIC and AIC values to observe their behavior."
   ]
  },
  {
   "cell_type": "markdown",
   "metadata": {},
   "source": [
    "### Function: Fraction changed\n",
    "This function generates 1000 synthetic systems ( _Dawns_ ) per each data (the mass an its uncertainty). We take draws from this, and stimate the validation of the classification.\n",
    "\n",
    "The posteriror probabilities are determinated by the function `gmm.predict()`"
   ]
  },
  {
   "cell_type": "code",
   "execution_count": 21,
   "metadata": {},
   "outputs": [],
   "source": [
    "# data is a clean DataFrame with the previous Nan values deleteed.\n",
    "# if log=True, it will take the log_10 of the variable in the DataFrame. \n",
    "\n",
    "class clustering:\n",
    "    \n",
    "    def __init__(self, data, log=False):  \n",
    "        \n",
    "        data = data.assign(CM_i=data[\"semi_major_axis\"]*data[\"mass\"])\n",
    "        self.p_system = data.groupby(\"star_name\") \n",
    "    \n",
    "        if log==True:\n",
    "            self.r_cm=np.reshape(np.log10(self.CoM().Center_of_Mass.values),(-1,1))\n",
    "            self.name=r'$\\log_{10}(r_\\text{cm})$ [AU]'\n",
    "        else: \n",
    "            self.r_cm=np.reshape(self.CoM().Center_of_Mass.values,(-1,1))\n",
    "            self.name=r'$r_\\text{cm}$ [AU]'\n",
    "    \n",
    "    def CoM(self):\n",
    "        CoM = self.p_system['CM_i'].sum().divide(self.p_system[\"mass\"].sum())\n",
    "        self.NewData = pd.DataFrame({'System_name':list(self.p_system.groups.keys()),\n",
    "                                    'Total_mass':self.p_system[\"mass\"].sum().tolist(),\n",
    "                                    'Center_of_Mass':CoM.tolist()})\n",
    "        return self.NewData\n",
    "        \n",
    "    def GMM(self, n_components):\n",
    "        self.n = n_components\n",
    "        self.gmm = GaussianMixture(self.n, covariance_type='full', random_state=0)\n",
    "        self.gmm.fit(self.r_cm)\n",
    "        self.cluster_label = self.gmm.predict(self.r_cm)\n",
    "        \n",
    "    def inf_criteria(self, times):\n",
    "        self.bic, self.aic = [], []\n",
    "        for i in range(times):\n",
    "            i += 1\n",
    "            self.GMM(i)\n",
    "            self.bic.append(self.gmm.bic(self.r_cm)); self.aic.append(self.gmm.aic(self.r_cm))\n",
    "     \n",
    "        print('Ideal number of clusters, BIC = '+str(self.bic.index(min(self.bic))+1))\n",
    "        print('Ideal number of clusters, AIC = '+str(self.aic.index(min(self.aic))+1))"
   ]
  },
  {
   "cell_type": "code",
   "execution_count": 44,
   "metadata": {},
   "outputs": [
    {
     "data": {
      "text/plain": [
       "dict_keys([' OGLE-2016-BLG-1067L', ' TYC 4282-605-1', '11 Com', '11 Oph', '11 UMi', '14 Her', '16 Cyg B', '1RXS1609', '1SWASP J1407', '24 Boo', '24 Sex', '2M  1938+46', '2M 0122-24', '2M 0219-39', '2M 0441+23', '2M 0746+20', '2M 1207-39', '2M 2140+16', '2M 2206-20', '2M 2236+4751', '2MASS J2250+2325', '30 Ari B', '38 Vir', '4 Uma', '42 Dra', '47 Uma', '51 Eri', '55 Cnc', '61 Vir', '7 CMa', '8 Umi', 'AS 205A', 'Aldebaran', 'BD+03 2562', 'BD+15 2375', 'BD+20 1790', 'BD+20 594', 'BD+24 4697', 'BD+26 1888', 'BD+49 828', 'BD-06 1339', 'BD-08 2823', 'BD-11 4672', 'BD-17 63', 'CD-35 2722', 'CFBDS 1458', 'CVSO 30', 'CoRoT-1', 'CoRoT-10', 'CoRoT-11', 'CoRoT-12', 'CoRoT-13', 'CoRoT-14', 'CoRoT-15', 'CoRoT-16', 'CoRoT-17', 'CoRoT-18', 'CoRoT-19', 'CoRoT-2', 'CoRoT-20', 'CoRoT-21', 'CoRoT-22', 'CoRoT-23', 'CoRoT-24', 'CoRoT-25', 'CoRoT-26', 'CoRoT-27', 'CoRoT-28', 'CoRoT-29', 'CoRoT-3', 'CoRoT-30', 'CoRoT-31', 'CoRoT-32', 'CoRoT-4', 'CoRoT-5', 'CoRoT-6', 'CoRoT-7', 'CoRoT-8', 'CoRoT-9', 'DE0823-49', 'DP Leo', 'DW Lyn', 'EPIC  211945201', 'EPIC 201498078', 'EPIC 201637175 ', 'EPIC 210894022', 'EPIC 211391664', 'EPIC 211418729', 'EPIC 211442297', 'EPIC 211682544', 'EPIC 216468514', 'EPIC 219388192', 'EPIC 220501947', 'EPIC 220504338', 'EPIC 220674823', 'EPIC 228735255', 'EPIC 228754001', 'EPIC 246471491', 'EPIC 246851721', 'EPIC 246911830', 'EPIC 248545986', 'EPIC 249801827', 'FW Tau', 'GJ 1132', 'GJ 1214', 'GJ 15A', 'GJ 160.2', 'GJ 163', 'GJ 179', 'GJ 180', 'GJ 229 A', 'GJ 27.1', 'GJ 273', 'GJ 3138', 'GJ 317', 'GJ 328', 'GJ 3293', 'GJ 3323', 'GJ 3470', 'GJ 3634', 'GJ 3942', 'GJ 3998', 'GJ 422', 'GJ 433', 'GJ 436', 'GJ 536', 'GJ 617 A', 'GJ 625', 'GJ 649', 'GJ 667 C', 'GJ 676 A', 'GJ 682', 'GJ 687', 'GJ 758', 'GJ 785', 'GJ 832', 'GJ 876', 'GJ 96', 'GJ 9827', 'GQ Lup', 'GSC 6214-210', 'GU Psc', 'HAT-P-1', 'HAT-P-10', 'HAT-P-11', 'HAT-P-12', 'HAT-P-13', 'HAT-P-14', 'HAT-P-15', 'HAT-P-16', 'HAT-P-18', 'HAT-P-19', 'HAT-P-2', 'HAT-P-20', 'HAT-P-21', 'HAT-P-22', 'HAT-P-23', 'HAT-P-24', 'HAT-P-26', 'HAT-P-27', 'HAT-P-28', 'HAT-P-29', 'HAT-P-3', 'HAT-P-30', 'HAT-P-31', 'HAT-P-32', 'HAT-P-33', 'HAT-P-34', 'HAT-P-35', 'HAT-P-36', 'HAT-P-37', 'HAT-P-38', 'HAT-P-39', 'HAT-P-4', 'HAT-P-40', 'HAT-P-41', 'HAT-P-42', 'HAT-P-43', 'HAT-P-44', 'HAT-P-45', 'HAT-P-46', 'HAT-P-47', 'HAT-P-48', 'HAT-P-49', 'HAT-P-5', 'HAT-P-50', 'HAT-P-51', 'HAT-P-52', 'HAT-P-53', 'HAT-P-54', 'HAT-P-55', 'HAT-P-56', 'HAT-P-57', 'HAT-P-6', 'HAT-P-65', 'HAT-P-66', 'HAT-P-67', 'HAT-P-7', 'HAT-P-8', 'HAT-P-9', 'HATS-1', 'HATS-10', 'HATS-11', 'HATS-12', 'HATS-13', 'HATS-14', 'HATS-15', 'HATS-16', 'HATS-17', 'HATS-18', 'HATS-19', 'HATS-2', 'HATS-20', 'HATS-21', 'HATS-22', 'HATS-23', 'HATS-24', 'HATS-25', 'HATS-26', 'HATS-27', 'HATS-28', 'HATS-29', 'HATS-3', 'HATS-30', 'HATS-31', 'HATS-32', 'HATS-33', 'HATS-34', 'HATS-35', 'HATS-36', 'HATS-39', 'HATS-4', 'HATS-40', 'HATS-41', 'HATS-42', 'HATS-43', 'HATS-44', 'HATS-45', 'HATS-46', 'HATS-5', 'HATS-50', 'HATS-51', 'HATS-52', 'HATS-53', 'HATS-59', 'HATS-6', 'HATS-7', 'HATS-8', 'HATS-9', 'HD 100655', 'HD 100777', 'HD 102117', 'HD 102272', 'HD 102329', 'HD 102365', 'HD 102956', 'HD 103197', 'HD 103720', 'HD 103774', 'HD 104067', 'HD 10442', 'HD 106270', 'HD 106315', 'HD 10647', 'HD 106515 A', 'HD 106574', 'HD 106906', 'HD 10697', 'HD 107148', 'HD 108147', 'HD 108341', 'HD 108863', 'HD 108874', 'HD 109246', 'HD 109271', 'HD 110014', 'HD 111591', 'HD 113337', 'HD 113538', 'HD 113996', 'HD 114613', 'HD 114762', 'HD 114783', 'HD 11506', 'HD 1160', 'HD 116029', 'HD 11755', 'HD 117618', 'HD 118904', 'HD 119445', 'HD 11964', 'HD 11977', 'HD 122562', 'HD 12484', 'HD 125595', 'HD 12648', 'HD 126525', 'HD 126614', 'HD 128311', 'HD 128356', 'HD 129445', 'HD 131496', 'HD 13189', 'HD 132563B', 'HD 133131 A', 'HD 134060', 'HD 134113', 'HD 134606', 'HD 134987', 'HD 136352', 'HD 136418', 'HD 137388', 'HD 13808', 'HD 13908', 'HD 13931', 'HD 139357', 'HD 14067', 'HD 141399', 'HD 142', 'HD 142022 A', 'HD 142245', 'HD 143105', 'HD 143761', 'HD 145377', 'HD 145934', 'HD 1461', 'HD 147018', 'HD 147379', 'HD 147873', 'HD 148156', 'HD 148427', 'HD 149026', 'HD 1502', 'HD 150433', 'HD 150706', 'HD 152079', 'HD 152581', 'HD 153950', 'HD 154088', 'HD 154345', 'HD 154672', 'HD 154857', 'HD 155233', 'HD 155358', 'HD 156279', 'HD 156411', 'HD 156668', 'HD 158038', 'HD 158996', 'HD 159243', 'HD 159868', 'HD 1605', 'HD 160508', 'HD 16175', 'HD 162004', 'HD 163607', 'HD 16417', 'HD 164428', 'HD 164509', 'HD 164604', 'HD 164922', 'HD 165155', 'HD 1666', 'HD 166724', 'HD 168443', 'HD 1690', 'HD 17092', 'HD 171238', 'HD 17156', 'HD 173416', 'HD 175167', 'HD 175370', 'HD 17674', 'HD 176986', 'HD 177830', 'HD 180902', 'HD 181342', 'HD 183263', 'HD 187123', 'HD 18742', 'HD 189567', 'HD 189733', 'HD 190228', 'HD 190360', 'HD 190647', 'HD 191806', 'HD 192263', 'HD 19467', 'HD 195019', 'HD 196067', 'HD 196885 A', 'HD 197037', 'HD 20003', 'HD 200964', 'HD 202432', 'HD 2039', 'HD 204313', 'HD 204941', 'HD 205739', 'HD 206610', 'HD 20781', 'HD 20782', 'HD 207832', 'HD 20794', 'HD 208487', 'HD 208527', 'HD 20868', 'HD 208897', 'HD 209458', 'HD 210277', 'HD 211847', 'HD 212771', 'HD 214823', 'HD 215152', 'HD 216435', 'HD 216536', 'HD 21693', 'HD 217107', 'HD 217786', 'HD 218566', 'HD 219077', 'HD 219134', 'HD 220074', 'HD 220689', 'HD 220773', 'HD 220842', 'HD 221287', 'HD 221585', 'HD 222076', 'HD 222155', 'HD 222582', 'HD 224538', 'HD 22781', 'HD 23079', 'HD 23127', 'HD 238914', 'HD 24040', 'HD 24064', 'HD 25171', 'HD 27442', 'HD 27631', 'HD 27894', 'HD 28254', 'HD 283668', 'HD 285507', 'HD 286123', 'HD 28678', 'HD 29021', 'HD 290327', 'HD 30177', 'HD 30562', 'HD 30669', 'HD 30856', 'HD 31253', 'HD 31527', 'HD 3167', 'HD 32518', 'HD 32963', 'HD 33142', 'HD 33844', 'HD 34445', 'HD 35759', 'HD 3651', 'HD 37124', 'HD 37605', 'HD 38283', 'HD 38529', 'HD 38801', 'HD 38858', 'HD 39194', 'HD 39392', 'HD 40307', 'HD 40956', 'HD 40979', 'HD 41248', 'HD 42012', 'HD 4203', 'HD 4208', 'HD 42618', 'HD 4308', 'HD 4313', 'HD 43197', 'HD 44219', 'HD 44385', 'HD 45350', 'HD 4732', 'HD 47366', 'HD 4747', 'HD 50499', 'HD 51608', 'HD 52265', 'HD 5319', 'HD 5583', 'HD 564', 'HD 5891', 'HD 59686 A', 'HD 62509', 'HD 63765', 'HD 65216', 'HD 66141', 'HD 66428', 'HD 67087', 'HD 6718', 'HD 68402', 'HD 68988', 'HD 7199', 'HD 72659', 'HD 72892', 'HD 73267', 'HD 73526', 'HD 74156', 'HD 7449', 'HD 75784', 'HD 76920', 'HD 77065', 'HD 77338', 'HD 7924', 'HD 79498', 'HD 80606', 'HD 81688', 'HD 82886', 'HD 82943', 'HD 83443', 'HD 8535', 'HD 85390', 'HD 85512', 'HD 86226', 'HD 86264', 'HD 8673', 'HD 86950', 'HD 87646 A', 'HD 87883', 'HD 89307', 'HD 89345', 'HD 89744', 'HD 90156', 'HD 9174', 'HD 92788', 'HD 93385', 'HD 9446', 'HD 95086', 'HD 95089', 'HD 95127', 'HD 95872', 'HD 96063', 'HD 96167', 'HD 96700', 'HD 97619', 'HD 97658', 'HD 98219', 'HD 984', 'HD 98649', 'HD 99109', 'HD 99492', 'HD 99706', 'HD169142', 'HII 1348', 'HIP 105854', 'HIP 107773', 'HIP 109384', 'HIP 109600', 'HIP 116454', 'HIP 11915', 'HIP 14810', 'HIP 5158', 'HIP 57050', 'HIP 64892', 'HIP 65407', 'HIP 65891', 'HIP 67537', 'HIP 67851', 'HIP 70849', 'HIP 73990', 'HIP 74865', 'HIP 74890', 'HIP 75458', 'HIP 77900', 'HIP 78530', 'HIP 8541', 'HIP 91258', 'HIP 97233', 'HN Peg', 'HR 2562', 'HR 810', 'HR 8799', 'HW Vir (AB)', 'IC 4651 9122', 'K2-108', 'K2-110', 'K2-139', 'K2-18', 'K2-19', 'K2-216', 'K2-237', 'K2-24', 'K2-29', 'K2-3', 'K2-30', 'K2-31 ', 'K2-32', 'K2-33', 'K2-34', 'K2-39', 'K2-55', 'K2-60', 'K2-66', 'K2-95', 'K2-99', 'KELT-1', 'KELT-10', 'KELT-11', 'KELT-15', 'KELT-16', 'KELT-17', 'KELT-18', 'KELT-2 A', 'KELT-20', 'KELT-21', 'KELT-3', 'KELT-4 A', 'KELT-6', 'KELT-7', 'KELT-8', 'KIC 7917485', 'KMT-2016-BLG-1107', 'KMT-2016-BLG-1820', 'KMT-2016-BLG-2142', 'KOI-188', 'KOI-192', 'KOI-195', 'KOI-415', 'KOI-830', 'KPS-1', \"Kapteyn's\", 'Kepler-10', 'Kepler-102', 'Kepler-11', 'Kepler-12', 'Kepler-15', 'Kepler-150', 'Kepler-16 (AB)', 'Kepler-1647 (AB)', 'Kepler-167', 'Kepler-17', 'Kepler-18', 'Kepler-19', 'Kepler-20', 'Kepler-21', 'Kepler-289', 'Kepler-34 (AB)', 'Kepler-35 (AB)', 'Kepler-36', 'Kepler-37', 'Kepler-38 A', 'Kepler-39', 'Kepler-4', 'Kepler-40', 'Kepler-41', 'Kepler-412', 'Kepler-419', 'Kepler-420 A', 'Kepler-422', 'Kepler-423', 'Kepler-424', 'Kepler-43', 'Kepler-432', 'Kepler-434', 'Kepler-435', 'Kepler-44', 'Kepler-447', 'Kepler-448', 'Kepler-45', 'Kepler-454', 'Kepler-46', 'Kepler-5', 'Kepler-51', 'Kepler-539', 'Kepler-56', 'Kepler-6', 'Kepler-62', 'Kepler-64 (AB)', 'Kepler-65', 'Kepler-66', 'Kepler-67', 'Kepler-68', 'Kepler-7', 'Kepler-74', 'Kepler-75', 'Kepler-76', 'Kepler-77', 'Kepler-78', 'Kepler-79', 'Kepler-8', 'Kepler-87', 'Kepler-88', 'Kepler-9', 'Kepler-91', 'Kepler-93', 'LHS 1140', 'LKCA 15', 'LP415-17', 'MASCARA-1', 'MASCARA-2', 'MOA-2007-BLG-192L', 'MOA-2007-BLG-197L', 'MOA-2007-BLG-400L', 'MOA-2008-BLG-310L', 'MOA-2008-BLG-379L', 'MOA-2009-BLG-266L', 'MOA-2009-BLG-319', 'MOA-2009-BLG-387L', 'MOA-2010-BLG-117', 'MOA-2010-BLG-328L', 'MOA-2010-BLG-353L', 'MOA-2010-BLG-477L', 'MOA-2011-BLG-262L', 'MOA-2011-BLG-291', 'MOA-2011-BLG-293L', 'MOA-2011-BLG-322', 'MOA-2011-BLGL-028L', 'MOA-2012-BLG-006', 'MOA-2012-BLG-505L', 'MOA-2013-BLG-605L', 'MOA-2016-BLG-227L', 'MOA-bin-1', 'NGTS-1', 'NGTS-2', 'NGTS-3A', 'NLTT 41135', 'NN Ser (AB)', 'OGL-2013-BLG-1721L', 'OGLE-2003-BLG-235L', 'OGLE-2005-071L', 'OGLE-2005-169L', 'OGLE-2006-109L', 'OGLE-2007-BLG-349(AB)', 'OGLE-2009-BLG-151L', 'OGLE-2011-BLG-0251L', 'OGLE-2011-BLG-0265L', 'OGLE-2011-BLG-0420L', 'OGLE-2012-BLG-0026L', 'OGLE-2012-BLG-0358L', 'OGLE-2012-BLG-0406L', 'OGLE-2012-BLG-0563L', 'OGLE-2012-BLG-0724L', 'OGLE-2012-BLG-0950L', 'OGLE-2013-BLG-0102L', 'OGLE-2013-BLG-0132L', 'OGLE-2013-BLG-0341L', 'OGLE-2013-BLG-1761L', 'OGLE-2014-BLG-0124L', 'OGLE-2014-BLG-0257L', 'OGLE-2014-BLG-0676L', 'OGLE-2014-BLG-1112', 'OGLE-2014-BLG-1722', 'OGLE-2014:BLG-1760L', 'OGLE-2015-BLG-0051', 'OGLE-2015-BLG-0966L', 'OGLE-2015-BLG-1319L', 'OGLE-2016-BLG-0613LAB', 'OGLE-2016-BLG-1190L', 'OGLE-2016-BLG-1266', 'OGLE-2016-BLG-1469L', 'OGLE-2017-BLG-0173', 'OGLE-2017-BLG-1140L', 'OGLE-2017-BLG-1434', 'OGLE-2017-BLG-1522', 'OGLE-BLG-1195L', 'OGLE-TR-10', 'OGLE-TR-111', 'OGLE-TR-113', 'OGLE-TR-132', 'OGLE-TR-182', 'OGLE-TR-211', 'OGLE-TR-56', 'OGLE2-TR-L9', 'OY Car', 'POTS-1', 'PSR B0329+54', 'PSR B1620-26', 'Pr 0211', 'Proxima Centauri', 'Qatar-1', 'Qatar-2', 'Qatar-3', 'Qatar-4', 'Qatar-5', 'Qatar-6', 'ROXs 12', 'ROXs 42B', 'RR Cae', 'Ross 128', 'SR 12 (AB)', 'TAP 26', 'TRAPPIST-1', 'TYC 3318-01333-1', 'TYC+1422-614-1', 'TYC-3667-1280-1', 'TrES-1', 'TrES-2', 'TrES-3', 'TrES-4', 'TrES-5', 'UKIRT-2017-BLG-001', 'USco1602-2401', 'USco1610-1913', 'USco1612-1800', 'UZ For (AB)', 'V391 Peg', 'V830 Tau', 'VHS 1256-1257 ', 'WASP-1', 'WASP-10', 'WASP-100', 'WASP-101', 'WASP-102', 'WASP-103', 'WASP-104', 'WASP-105', 'WASP-106', 'WASP-107', 'WASP-108', 'WASP-109', 'WASP-110', 'WASP-111', 'WASP-112', 'WASP-113', 'WASP-114', 'WASP-117', 'WASP-118', 'WASP-119', 'WASP-12', 'WASP-120', 'WASP-121', 'WASP-122', 'WASP-123', 'WASP-124', 'WASP-126', 'WASP-127', 'WASP-128', 'WASP-129', 'WASP-13', 'WASP-130', 'WASP-131', 'WASP-132', 'WASP-133', 'WASP-135', 'WASP-136', 'WASP-138', 'WASP-139', 'WASP-14', 'WASP-140', 'WASP-141', 'WASP-142', 'WASP-144', 'WASP-145A', 'WASP-147', 'WASP-15', 'WASP-151', 'WASP-153', 'WASP-156', 'WASP-157', 'WASP-158', 'WASP-159', 'WASP-16', 'WASP-160 B', 'WASP-161', 'WASP-162', 'WASP-163', 'WASP-164', 'WASP-165', 'WASP-167', 'WASP-168', 'WASP-17', 'WASP-170', 'WASP-172', 'WASP-173A', 'WASP-174', 'WASP-18', 'WASP-19', 'WASP-2', 'WASP-20', 'WASP-21', 'WASP-22', 'WASP-23', 'WASP-24', 'WASP-25', 'WASP-26', 'WASP-28', 'WASP-29', 'WASP-3', 'WASP-31', 'WASP-32', 'WASP-33', 'WASP-34', 'WASP-35', 'WASP-36', 'WASP-37', 'WASP-38', 'WASP-39', 'WASP-4', 'WASP-41', 'WASP-42', 'WASP-43', 'WASP-44', 'WASP-45', 'WASP-46', 'WASP-47', 'WASP-48', 'WASP-49', 'WASP-5', 'WASP-50', 'WASP-52', 'WASP-53', 'WASP-55', 'WASP-58', 'WASP-6', 'WASP-61', 'WASP-62', 'WASP-63', 'WASP-65', 'WASP-66', 'WASP-67', 'WASP-68', 'WASP-69', 'WASP-7', 'WASP-70 A', 'WASP-71', 'WASP-72', 'WASP-73', 'WASP-74', 'WASP-75', 'WASP-76', 'WASP-77A', 'WASP-78', 'WASP-79', 'WASP-8', 'WASP-80', 'WASP-81 ', 'WASP-82', 'WASP-83', 'WASP-84', 'WASP-85', 'WASP-86', 'WASP-87 A', 'WASP-88', 'WASP-89', 'WASP-90', 'WASP-91', 'WASP-92', 'WASP-93', 'WASP-94 A', 'WASP-94 B', 'WASP-95', 'WASP-96', 'WASP-97', 'WASP-98', 'WASP-99', 'WISE 0458+6434 A', 'WISE 1711+3500', 'WISE J0720-0846', 'WTS-1', 'WTS-2', 'Wolf 1061', 'XO-1', 'XO-2N', 'XO-2S', 'XO-3', 'XO-4', 'XO-5', 'XO-6', 'YZ Cet', 'beta Cnc', 'beta Pic', 'beta Umi', 'eps Eridani', 'eps Ind A', 'eps Tau', 'gamma 1 Leo', 'gamma Cephei', 'gamma Lib', 'kappa And', 'ksi Aql', 'mu Leo', 'sig Per', 'tau Cet', 'ups And'])"
      ]
     },
     "execution_count": 44,
     "metadata": {},
     "output_type": "execute_result"
    }
   ],
   "source": [
    "A = dataa.groupby(\"star_name\")\n",
    "A.groups.keys()"
   ]
  },
  {
   "cell_type": "code",
   "execution_count": null,
   "metadata": {},
   "outputs": [],
   "source": []
  },
  {
   "cell_type": "code",
   "execution_count": 83,
   "metadata": {},
   "outputs": [],
   "source": [
    "#A = dataa.groupby(\"star_name\")\n",
    "SystemA_i = dataa[dataa.star_name == \"1SWASP J1407\"]  \n",
    "len(SystemA_i)\n",
    "\n",
    "Mass_System = np.zeros(1000)\n",
    "Mass_Axe = np.zeros(1000) \n",
    "DrawsAA = np.zeros(1000)\n",
    "\n",
    "for planet in range(len(SystemA_i)):\n",
    "    \n",
    "    mu_m, sigma_m = SystemA_i.mass.values[planet], SystemA_i.mass_error_min.values[planet]\n",
    "    lower_m, upper_m = 0, SystemA_i.mass.values[planet]+3*SystemA_i.mass_error_min.values[planet]\n",
    "    \n",
    "    mu_a, sigma_a = SystemA_i.semi_major_axis.values[planet], SystemA_i.semi_major_axis_error_min.values[planet]\n",
    "    lower_a, upper_a = 0, SystemA_i.semi_major_axis.values[planet]+3*SystemA_i.semi_major_axis_error_min.values[planet]\n",
    "    \n",
    "    a_m, b_m = (lower_m - mu_m) / sigma_m, (upper_m - mu_m) / sigma_m\n",
    "    a_a, b_a = (lower_a- mu_a) / sigma_a, (upper_a - mu_a) / sigma_a\n",
    "\n",
    "    \n",
    "    masses = truncnorm.rvs(a_m, b_m, scale=sigma_m, loc=mu_m, size=1000)\n",
    "    axes = truncnorm.rvs(a_a, b_a, scale=sigma_a, loc=mu_a, size=1000)\n",
    "\n",
    "    Mass_Axe += masses*axes\n",
    "    Mass_System += masses\n",
    "    \n",
    "DrawsAA+=Mass_Axe/Mass_System\n",
    "#DrawsAA=np.array(DrawsAA)"
   ]
  },
  {
   "cell_type": "code",
   "execution_count": 84,
   "metadata": {},
   "outputs": [
    {
     "data": {
      "text/plain": [
       "(array([ 28.,  72., 124., 210., 169., 172., 123.,  60.,  32.,  10.]),\n",
       " array([0.03934722, 0.89691076, 1.75447429, 2.61203783, 3.46960136,\n",
       "        4.3271649 , 5.18472843, 6.04229197, 6.89985551, 7.75741904,\n",
       "        8.61498258]),\n",
       " <a list of 10 Patch objects>)"
      ]
     },
     "execution_count": 84,
     "metadata": {},
     "output_type": "execute_result"
    },
    {
     "data": {
      "image/png": "[encoded data removed]",
      "text/plain": [
       "<Figure size 432x288 with 1 Axes>"
      ]
     },
     "metadata": {
      "needs_background": "light"
     },
     "output_type": "display_data"
    }
   ],
   "source": [
    "plt.hist(DrawsAA)"
   ]
  },
  {
   "cell_type": "code",
   "execution_count": null,
   "metadata": {},
   "outputs": [],
   "source": [
    "def fraction_changed(data, dawns):\n",
    "    \n",
    "    p_system    = data.groupby(\"star_name\")\n",
    "    system_list = list(p_system.groups.keys())\n",
    "    draws       = [] #draws of COM for each system. \n",
    "    \n",
    "    for i in range(len(system_list)):\n",
    "        \n",
    "        system_i      = data[data.star_name == system_list[i]]  \n",
    "        system_i_mass = np.zeros(dawns)\n",
    "        cm_i          = np.zeros(dawns) \n",
    "        \n",
    "        for k in range(len(system_i)):\n",
    "            masses = np.random.normal(system_i.mass.values[k],\n",
    "                                      system_i.mass_error_min.values[k],\n",
    "                                      dawns)\n",
    "            axes = np.random.normal(system_i.semi_major_axis.values[k],\n",
    "                                    system_i.semi_major_axis_error_min.values[k],\n",
    "                                    dawns)\n",
    "            cm_i          += masses*axes\n",
    "            system_i_mass += masses\n",
    "        #draws.append([np.abs(cm_i/system_i_mass)]\n",
    "        draws.append([cm_i/system_i_mass])\n",
    "    draws = np.array(draws)\n",
    "    draws = draws[draws>0]\n",
    "    return draws\n",
    "        "
   ]
  },
  {
   "cell_type": "code",
   "execution_count": null,
   "metadata": {},
   "outputs": [],
   "source": [
    "\"\"\"\n",
    "    #Clusters_plot\n",
    "    def clusters_plot(self, save=False, fig_name=\"nn\"):\n",
    "        self.fig_name = fig_name\n",
    "        dsize, lsize, fsize = 3.5, 11, 14\n",
    "        self.color = [\"C\"+str(self.cluster_label[i]+1) for i in range(len(self.cluster_label))]\n",
    "        x = np.linspace(self.data.min(),self.data.max(),1000)\n",
    "        figure, ax = plt.subplots(1, 2, sharex='col', sharey='row', figsize=(12, 5))\n",
    "        \n",
    "        #Gaussians and scaters:\n",
    "        for c in range(self.n):\n",
    "            ax[0].plot(x,norm.pdf(x,self.gmm.means_[c], self.gmm.covariances_[c])[0]/\\\n",
    "                       norm.pdf(x,self.gmm.means_[c], self.gmm.covariances_[c])[0].max(), \n",
    "                      label =r\"Gaussian \"+str(c+1))\n",
    "            \n",
    "            Mass_a=self.data[self.cluster_label==c]    \n",
    "            \n",
    "            ax[0].plot(Mass_a, np.zeros(len(Mass_a)),\"o\", markersize=dsize,\n",
    "                       label='Cluster '+str(c+1), color=\"C\"+str(c))\n",
    "\n",
    "            ax[1].plot(self.data,self.gmm.predict_proba(self.data)[:,c],\"o\",\n",
    "                       markersize=dsize, label=\"Cluster \"+str(c+1))\n",
    "            \n",
    "        ax[0].set(ylabel=r'Normal distribution', xlabel=self.name)\n",
    "        ax[1].set(ylabel=r'Posterior probabilities',  xlabel=self.name)\n",
    "\n",
    "        ax[0].legend(bbox_to_anchor=(0,1.02,1,0.2),loc=\"lower left\", handletextpad=.01,\n",
    "                     edgecolor='black', mode=\"expand\", ncol=self.n, fontsize=lsize)\n",
    "        ax[1].legend(bbox_to_anchor=(0,1.02,1,0.2),loc=\"lower left\", \n",
    "                     mode=\"expand\", ncol=self.n, fontsize=lsize, edgecolor='black') \n",
    "        \n",
    "        plt.rcParams.update({'font.size': fsize})\n",
    "        plt.subplots_adjust(wspace = .2)\n",
    "        \n",
    "        if save == True: \n",
    "            plt.savefig(\"figures/\"+self.fig_name+\".pdf\" ,bbox_inches='tight')\n",
    "\"\"\""
   ]
  },
  {
   "cell_type": "code",
   "execution_count": null,
   "metadata": {},
   "outputs": [],
   "source": [
    "\"\"\"#comparison between AIC and BIC criteria----------------(plot)------------------------\n",
    "\n",
    "def plot_criteria(criteria):\n",
    "  \n",
    "    figure, ax = plt.subplots(1, 2, sharex='col', sharey='row', figsize=(9, 4))\n",
    "    let   = 15 \n",
    "    label = ['BIC','AIC']\n",
    "\n",
    "    for i,criterium in enumerate(criteria):\n",
    "        dim  = len(criteria[i])\n",
    "        norm = min(criteria[i])/max(criteria[i])\n",
    "        \n",
    "        ax[i].plot(range(1, dim+1), criteria[i]/max(criteria[i]), \"o\",\n",
    "                   c=\"C1\",label=label[i]+\" values\")\n",
    "        ax[i].plot(range(1, dim+1),criteria[i]/max(criteria[i]))#, label=label[i])\n",
    "        ax[i].plot(range(1, dim+1),np.ones(dim)*norm,\n",
    "                   \"--\",label=r\"Ideal clusters \"+str(criteria[i].index(min(criteria[i]))+1) )\n",
    "\n",
    "        ax[i].set_xlabel(r'Number of clusters', fontsize=let+1)\n",
    "        ax[i].legend(fontsize=let, loc=1,edgecolor='black')\n",
    "        ax[i].set_xlim(0, dim+1)\n",
    "        ax[i].set_xticks(np.arange(0, dim, step=2))\n",
    "        ax[i].tick_params(labelsize=let)\n",
    "\n",
    "    ax[0].set_ylabel(r'Criterium value normalized', fontsize=let+1)\n",
    "    return [bic,aic]\"\"\""
   ]
  },
  {
   "cell_type": "code",
   "execution_count": null,
   "metadata": {},
   "outputs": [],
   "source": []
  },
  {
   "cell_type": "code",
   "execution_count": null,
   "metadata": {},
   "outputs": [],
   "source": []
  },
  {
   "cell_type": "code",
   "execution_count": null,
   "metadata": {},
   "outputs": [],
   "source": []
  },
  {
   "cell_type": "code",
   "execution_count": null,
   "metadata": {},
   "outputs": [],
   "source": [
    "def fraction_changed(data, dawns):\n",
    "    \n",
    "    p_system    = data.groupby(\"star_name\")\n",
    "    system_list = list(p_system.groups.keys())\n",
    "    draws       = [] #draws of COM for each system. \n",
    "    \n",
    "    for i in range(len(system_list)):\n",
    "        \n",
    "        system_i      = data[data.star_name == system_list[i]]  \n",
    "        system_i_mass = np.zeros(dawns)\n",
    "        cm_i          = np.zeros(dawns) \n",
    "        \n",
    "        for k in range(len(system_i)):\n",
    "            masses = np.random.normal(system_i.mass.values[k],\n",
    "                                      system_i.mass_error_min.values[k],\n",
    "                                      dawns)\n",
    "            axes = np.random.normal(system_i.semi_major_axis.values[k],\n",
    "                                    system_i.semi_major_axis_error_min.values[k],\n",
    "                                    dawns)\n",
    "            cm_i          += masses*axes\n",
    "            system_i_mass += masses\n",
    "        #draws.append([np.abs(cm_i/system_i_mass)]\n",
    "        draws.append([cm_i/system_i_mass])\n",
    "    draws = np.array(draws)\n",
    "    draws = draws[draws>0]\n",
    "    return draws\n",
    "        "
   ]
  },
  {
   "cell_type": "code",
   "execution_count": null,
   "metadata": {},
   "outputs": [],
   "source": [
    "#frc = fraction_changed(data,1000)"
   ]
  },
  {
   "cell_type": "code",
   "execution_count": null,
   "metadata": {},
   "outputs": [],
   "source": [
    "from scipy.stats import truncnorm\n",
    "a=0.1\n",
    "b=2\n",
    "x = np.linspace(truncnorm.ppf(0.01, a, b), \n",
    "                truncnorm.ppf(0.99, a, b), \n",
    "                100)\n",
    "#print(x)\n",
    "#plt.plot(truncnorm.ppf(x,a,b),x)\n",
    "\n",
    "#r = truncnorm.rvs(a, b, size=1000)\n",
    "#len(r)"
   ]
  },
  {
   "cell_type": "code",
   "execution_count": null,
   "metadata": {},
   "outputs": [],
   "source": [
    "#list(p_system.groups.keys())"
   ]
  },
  {
   "cell_type": "code",
   "execution_count": null,
   "metadata": {},
   "outputs": [],
   "source": [
    "system_list = list(p_system.groups.keys())\n",
    "len(system_list)"
   ]
  },
  {
   "cell_type": "code",
   "execution_count": null,
   "metadata": {},
   "outputs": [],
   "source": [
    "data[data.star_name == list(p_system.groups.keys())[i]]"
   ]
  },
  {
   "cell_type": "code",
   "execution_count": null,
   "metadata": {},
   "outputs": [],
   "source": [
    "list(p_system.groups.keys())[1]"
   ]
  },
  {
   "cell_type": "code",
   "execution_count": null,
   "metadata": {},
   "outputs": [],
   "source": [
    "#'dawns' is the number of synthetic systems per each data known\n",
    "#'data' is a DataFrame of the data, with column \"Center of Mass\"\n",
    "#'n_components' is the number of clusters for the lowest BIC/AIC.\n",
    "\n",
    "def fraction_changed(n_components, dawns, data, log=False):\n",
    "    \n",
    "    draws=[]\n",
    "\n",
    "    #1000 draws per planetary mass or systrem mass\n",
    "    \n",
    "    for i in range(len(data.values)):\n",
    "        masses=np.random.normal(data.mass.values[i],\n",
    "                                data.mass_error_min.values[i],\n",
    "                                dawns)\n",
    "        masses = masses[masses>0]\n",
    "        draws += [masses]\n",
    "\n",
    "    if log==True:\n",
    "        mass = np.log10(data[[\"mass\"]])\n",
    "        draws = [np.log10(i) for i in draws]\n",
    "        \n",
    "    else:\n",
    "        mass = data[[\"mass\"]]\n",
    "     \n",
    "    #Gausian mixture model for masses  data:  \n",
    "    gmm = GaussianMixture(n_components,covariance_type='full',random_state=0)\n",
    "    gmm.fit(mass.values)\n",
    "    cluster_label = gmm.predict(mass.values)\n",
    "         \n",
    "    #fraction of the synthttic systems wich change classification group:\n",
    "    fraction_changed = []\n",
    "    \n",
    "    #to get only the posotice values of the draws, just get tyhe positives values: \n",
    "    #draws = [i for i in draws if i > 0] or None\n",
    "    \n",
    "    for index in range(len(draws)):\n",
    "        #draw_i=np.abs(draws[index][:,np.newaxis])\n",
    "        draw_i=draws[index][:,np.newaxis]\n",
    "        orig=gmm.predict(np.array(mass))[index]\n",
    "        fraction_changed+=[(orig!=gmm.predict(draw_i)).sum()/1000]\n",
    "    lid=[len(i) for i in draws]\n",
    "    #print( np.min(lid),np.mean(lid) )\n",
    "    return(draws)\n",
    "    #return((np.array(fraction_changed)<=0.1).sum()/len(fraction_changed))\n",
    "    #return fraction_changed"
   ]
  },
  {
   "cell_type": "code",
   "execution_count": null,
   "metadata": {},
   "outputs": [],
   "source": [
    "#frac_mass=fraction_changed(4,1000,CoM[[\"Center_of_Mass\"]],False)"
   ]
  },
  {
   "cell_type": "code",
   "execution_count": null,
   "metadata": {},
   "outputs": [],
   "source": [
    "#np.log10(data[[\"Center_of_Mass\"]])==np.log10(CoM[[\"Center_of_Mass\"]])"
   ]
  },
  {
   "cell_type": "code",
   "execution_count": 73,
   "metadata": {},
   "outputs": [
    {
     "data": {
      "text/plain": [
       "Text(0.5, 0, 'Center Of Mass (AU)')"
      ]
     },
     "execution_count": 73,
     "metadata": {},
     "output_type": "execute_result"
    },
    {
     "data": {
      "image/png": "[encoded data removed]",
      "text/plain": [
       "<Figure size 432x288 with 1 Axes>"
      ]
     },
     "metadata": {
      "needs_background": "light"
     },
     "output_type": "display_data"
    }
   ],
   "source": [
    "#GaussianMixture:  a firs approximation for 10 grups\n",
    "#----------------------------------------------------------------------\n",
    "\n",
    "gmm = GaussianMixture(1, covariance_type='full', random_state=0)\n",
    "CM=CoM[[\"Center_of_Mass\"]]\n",
    "gmm.fit(CM.values)\n",
    "cluster_label = gmm.predict(CM.values)\n",
    "plt.scatter((CM.values),np.zeros(len(CM)), c=cluster_label);\n",
    "plt.ylim(-0.1,0.1)\n",
    "plt.xlabel(r\"Center Of Mass (AU)\", fontsize=\"15\")\n",
    "#For the CoM is nessesary emply a Logarithm sclae."
   ]
  },
  {
   "cell_type": "code",
   "execution_count": 74,
   "metadata": {},
   "outputs": [
    {
     "ename": "KeyError",
     "evalue": "\"None of [Index(['Center_of_Mass'], dtype='object')] are in the [columns]\"",
     "output_type": "error",
     "traceback": [
      "\u001b[0;31m---------------------------------------------------------------------------\u001b[0m",
      "\u001b[0;31mKeyError\u001b[0m                                  Traceback (most recent call last)",
      "\u001b[0;32m<ipython-input-74-cf3da9652a4b>\u001b[0m in \u001b[0;36m<module>\u001b[0;34m\u001b[0m\n\u001b[1;32m      1\u001b[0m \u001b[0;31m#the log10scale for center of mass of each exoplanetary system:\u001b[0m\u001b[0;34m\u001b[0m\u001b[0;34m\u001b[0m\u001b[0;34m\u001b[0m\u001b[0m\n\u001b[1;32m      2\u001b[0m \u001b[0;31m#----------------------------------------------------------------------\u001b[0m\u001b[0;34m\u001b[0m\u001b[0;34m\u001b[0m\u001b[0;34m\u001b[0m\u001b[0m\n\u001b[0;32m----> 3\u001b[0;31m \u001b[0mCM_log\u001b[0m\u001b[0;34m=\u001b[0m\u001b[0mnp\u001b[0m\u001b[0;34m.\u001b[0m\u001b[0mlog10\u001b[0m\u001b[0;34m(\u001b[0m\u001b[0mdata\u001b[0m\u001b[0;34m[\u001b[0m\u001b[0;34m[\u001b[0m\u001b[0;34m\"Center_of_Mass\"\u001b[0m\u001b[0;34m]\u001b[0m\u001b[0;34m]\u001b[0m\u001b[0;34m)\u001b[0m\u001b[0;34m\u001b[0m\u001b[0;34m\u001b[0m\u001b[0m\n\u001b[0m\u001b[1;32m      4\u001b[0m \u001b[0;34m\u001b[0m\u001b[0m\n\u001b[1;32m      5\u001b[0m \u001b[0mGMM\u001b[0m\u001b[0;34m,\u001b[0m\u001b[0mcluster\u001b[0m\u001b[0;34m=\u001b[0m\u001b[0;34m[\u001b[0m\u001b[0;34m]\u001b[0m\u001b[0;34m,\u001b[0m\u001b[0;34m[\u001b[0m\u001b[0;34m]\u001b[0m\u001b[0;34m\u001b[0m\u001b[0;34m\u001b[0m\u001b[0m\n",
      "\u001b[0;32m~/miniconda3/lib/python3.8/site-packages/pandas/core/frame.py\u001b[0m in \u001b[0;36m__getitem__\u001b[0;34m(self, key)\u001b[0m\n\u001b[1;32m   2903\u001b[0m             \u001b[0;32mif\u001b[0m \u001b[0mis_iterator\u001b[0m\u001b[0;34m(\u001b[0m\u001b[0mkey\u001b[0m\u001b[0;34m)\u001b[0m\u001b[0;34m:\u001b[0m\u001b[0;34m\u001b[0m\u001b[0;34m\u001b[0m\u001b[0m\n\u001b[1;32m   2904\u001b[0m                 \u001b[0mkey\u001b[0m \u001b[0;34m=\u001b[0m \u001b[0mlist\u001b[0m\u001b[0;34m(\u001b[0m\u001b[0mkey\u001b[0m\u001b[0;34m)\u001b[0m\u001b[0;34m\u001b[0m\u001b[0;34m\u001b[0m\u001b[0m\n\u001b[0;32m-> 2905\u001b[0;31m             \u001b[0mindexer\u001b[0m \u001b[0;34m=\u001b[0m \u001b[0mself\u001b[0m\u001b[0;34m.\u001b[0m\u001b[0mloc\u001b[0m\u001b[0;34m.\u001b[0m\u001b[0m_get_listlike_indexer\u001b[0m\u001b[0;34m(\u001b[0m\u001b[0mkey\u001b[0m\u001b[0;34m,\u001b[0m \u001b[0maxis\u001b[0m\u001b[0;34m=\u001b[0m\u001b[0;36m1\u001b[0m\u001b[0;34m,\u001b[0m \u001b[0mraise_missing\u001b[0m\u001b[0;34m=\u001b[0m\u001b[0;32mTrue\u001b[0m\u001b[0;34m)\u001b[0m\u001b[0;34m[\u001b[0m\u001b[0;36m1\u001b[0m\u001b[0;34m]\u001b[0m\u001b[0;34m\u001b[0m\u001b[0;34m\u001b[0m\u001b[0m\n\u001b[0m\u001b[1;32m   2906\u001b[0m \u001b[0;34m\u001b[0m\u001b[0m\n\u001b[1;32m   2907\u001b[0m         \u001b[0;31m# take() does not accept boolean indexers\u001b[0m\u001b[0;34m\u001b[0m\u001b[0;34m\u001b[0m\u001b[0;34m\u001b[0m\u001b[0m\n",
      "\u001b[0;32m~/miniconda3/lib/python3.8/site-packages/pandas/core/indexing.py\u001b[0m in \u001b[0;36m_get_listlike_indexer\u001b[0;34m(self, key, axis, raise_missing)\u001b[0m\n\u001b[1;32m   1252\u001b[0m             \u001b[0mkeyarr\u001b[0m\u001b[0;34m,\u001b[0m \u001b[0mindexer\u001b[0m\u001b[0;34m,\u001b[0m \u001b[0mnew_indexer\u001b[0m \u001b[0;34m=\u001b[0m \u001b[0max\u001b[0m\u001b[0;34m.\u001b[0m\u001b[0m_reindex_non_unique\u001b[0m\u001b[0;34m(\u001b[0m\u001b[0mkeyarr\u001b[0m\u001b[0;34m)\u001b[0m\u001b[0;34m\u001b[0m\u001b[0;34m\u001b[0m\u001b[0m\n\u001b[1;32m   1253\u001b[0m \u001b[0;34m\u001b[0m\u001b[0m\n\u001b[0;32m-> 1254\u001b[0;31m         \u001b[0mself\u001b[0m\u001b[0;34m.\u001b[0m\u001b[0m_validate_read_indexer\u001b[0m\u001b[0;34m(\u001b[0m\u001b[0mkeyarr\u001b[0m\u001b[0;34m,\u001b[0m \u001b[0mindexer\u001b[0m\u001b[0;34m,\u001b[0m \u001b[0maxis\u001b[0m\u001b[0;34m,\u001b[0m \u001b[0mraise_missing\u001b[0m\u001b[0;34m=\u001b[0m\u001b[0mraise_missing\u001b[0m\u001b[0;34m)\u001b[0m\u001b[0;34m\u001b[0m\u001b[0;34m\u001b[0m\u001b[0m\n\u001b[0m\u001b[1;32m   1255\u001b[0m         \u001b[0;32mreturn\u001b[0m \u001b[0mkeyarr\u001b[0m\u001b[0;34m,\u001b[0m \u001b[0mindexer\u001b[0m\u001b[0;34m\u001b[0m\u001b[0;34m\u001b[0m\u001b[0m\n\u001b[1;32m   1256\u001b[0m \u001b[0;34m\u001b[0m\u001b[0m\n",
      "\u001b[0;32m~/miniconda3/lib/python3.8/site-packages/pandas/core/indexing.py\u001b[0m in \u001b[0;36m_validate_read_indexer\u001b[0;34m(self, key, indexer, axis, raise_missing)\u001b[0m\n\u001b[1;32m   1296\u001b[0m             \u001b[0;32mif\u001b[0m \u001b[0mmissing\u001b[0m \u001b[0;34m==\u001b[0m \u001b[0mlen\u001b[0m\u001b[0;34m(\u001b[0m\u001b[0mindexer\u001b[0m\u001b[0;34m)\u001b[0m\u001b[0;34m:\u001b[0m\u001b[0;34m\u001b[0m\u001b[0;34m\u001b[0m\u001b[0m\n\u001b[1;32m   1297\u001b[0m                 \u001b[0maxis_name\u001b[0m \u001b[0;34m=\u001b[0m \u001b[0mself\u001b[0m\u001b[0;34m.\u001b[0m\u001b[0mobj\u001b[0m\u001b[0;34m.\u001b[0m\u001b[0m_get_axis_name\u001b[0m\u001b[0;34m(\u001b[0m\u001b[0maxis\u001b[0m\u001b[0;34m)\u001b[0m\u001b[0;34m\u001b[0m\u001b[0;34m\u001b[0m\u001b[0m\n\u001b[0;32m-> 1298\u001b[0;31m                 \u001b[0;32mraise\u001b[0m \u001b[0mKeyError\u001b[0m\u001b[0;34m(\u001b[0m\u001b[0;34mf\"None of [{key}] are in the [{axis_name}]\"\u001b[0m\u001b[0;34m)\u001b[0m\u001b[0;34m\u001b[0m\u001b[0;34m\u001b[0m\u001b[0m\n\u001b[0m\u001b[1;32m   1299\u001b[0m \u001b[0;34m\u001b[0m\u001b[0m\n\u001b[1;32m   1300\u001b[0m             \u001b[0;31m# We (temporarily) allow for some missing keys with .loc, except in\u001b[0m\u001b[0;34m\u001b[0m\u001b[0;34m\u001b[0m\u001b[0;34m\u001b[0m\u001b[0m\n",
      "\u001b[0;31mKeyError\u001b[0m: \"None of [Index(['Center_of_Mass'], dtype='object')] are in the [columns]\""
     ]
    }
   ],
   "source": [
    "#the log10scale for center of mass of each exoplanetary system:\n",
    "#----------------------------------------------------------------------\n",
    "CM_log=np.log10(data[[\"Center_of_Mass\"]])\n",
    "\n",
    "GMM,cluster=[],[]\n",
    "\n",
    "#Some different components for Gaussian Mixture Model: \n",
    "#----------------------------------------------------------------------\n",
    "for i in [2,3]:\n",
    "    gmm = GaussianMixture(i, covariance_type='full', random_state=0)\n",
    "    GMM.append(gmm)\n",
    "    gmm.fit(CM_log.values)\n",
    "    cluster_label = gmm.predict(CM_log.values)\n",
    "    cluster.append(cluster_label)\n",
    "\n",
    "# (just a plot for two grups)\n",
    "#----------------------------------------------------------------------\n",
    "#plt.rc('text', usetex=True)\n",
    "\n",
    "color=[]\n",
    "#len(cluster[0])\n",
    "for i in range(len(cluster[0])):\n",
    "    if cluster[0][i] == 0:\n",
    "        color.append(\"C1\")\n",
    "    elif cluster[0][i] == 1:\n",
    "        color.append(\"C2\")\n",
    "\n",
    "x=np.linspace(-2.5,4,1000)\n",
    "colors=[\"C1\",\"C2\",\"C3\",\"C4\",\"C5\"]\n",
    "\n",
    "fig, ax1 = plt.subplots(1, 1, sharex='col', sharey='row')\n",
    "\n",
    "plt.gcf().subplots_adjust(bottom=0.15,right=0.96, left=0.115, top=0.93)\n",
    "\n",
    "for i, (v1,v2) in enumerate(zip(GMM[0].means_,GMM[0].covariances_)):\n",
    "    ax1.plot(x, norm.pdf(x,v1,v2)[0]/norm.pdf(x,v1,v2)[0].max(),\n",
    "             c=colors[i],label=\"Cluster \"+str(i+1))\n",
    "    ax1.legend(fontsize=15,edgecolor='black')\n",
    "\n",
    "ax1.scatter((CM_log.values),np.zeros(len(CM_log)),c=color, \n",
    "            label=\"Cluster\",s=10)  \n",
    "\n",
    "ax1.tick_params(labelsize=19)\n",
    "\n",
    "plt.xlabel(r'$\\log_{10}$(CM)',fontsize=20)\n",
    "plt.ylabel(r'Normal Distribution',fontsize=20)\n",
    "plt.savefig(\"figures/GMM1.pdf\")"
   ]
  },
  {
   "cell_type": "code",
   "execution_count": 59,
   "metadata": {
    "scrolled": true
   },
   "outputs": [
    {
     "ename": "NameError",
     "evalue": "name 'cluster' is not defined",
     "output_type": "error",
     "traceback": [
      "\u001b[0;31m---------------------------------------------------------------------------\u001b[0m",
      "\u001b[0;31mNameError\u001b[0m                                 Traceback (most recent call last)",
      "\u001b[0;32m<ipython-input-59-bd69356b7136>\u001b[0m in \u001b[0;36m<module>\u001b[0;34m\u001b[0m\n\u001b[1;32m      2\u001b[0m \u001b[0;31m#----------------------------------------------------------------------\u001b[0m\u001b[0;34m\u001b[0m\u001b[0;34m\u001b[0m\u001b[0;34m\u001b[0m\u001b[0m\n\u001b[1;32m      3\u001b[0m \u001b[0mcolor\u001b[0m\u001b[0;34m=\u001b[0m\u001b[0;34m[\u001b[0m\u001b[0;34m]\u001b[0m\u001b[0;34m\u001b[0m\u001b[0;34m\u001b[0m\u001b[0m\n\u001b[0;32m----> 4\u001b[0;31m \u001b[0mC\u001b[0m \u001b[0;34m=\u001b[0m \u001b[0mcluster\u001b[0m\u001b[0;34m[\u001b[0m\u001b[0;36m1\u001b[0m\u001b[0;34m]\u001b[0m\u001b[0;34m\u001b[0m\u001b[0;34m\u001b[0m\u001b[0m\n\u001b[0m\u001b[1;32m      5\u001b[0m \u001b[0;32mfor\u001b[0m \u001b[0mi\u001b[0m \u001b[0;32min\u001b[0m \u001b[0mrange\u001b[0m\u001b[0;34m(\u001b[0m\u001b[0mlen\u001b[0m\u001b[0;34m(\u001b[0m\u001b[0mcluster\u001b[0m\u001b[0;34m[\u001b[0m\u001b[0;36m1\u001b[0m\u001b[0;34m]\u001b[0m\u001b[0;34m)\u001b[0m\u001b[0;34m)\u001b[0m\u001b[0;34m:\u001b[0m\u001b[0;34m\u001b[0m\u001b[0;34m\u001b[0m\u001b[0m\n\u001b[1;32m      6\u001b[0m     \u001b[0;32mif\u001b[0m \u001b[0mC\u001b[0m\u001b[0;34m[\u001b[0m\u001b[0mi\u001b[0m\u001b[0;34m]\u001b[0m \u001b[0;34m==\u001b[0m \u001b[0;36m0\u001b[0m\u001b[0;34m:\u001b[0m\u001b[0;34m\u001b[0m\u001b[0;34m\u001b[0m\u001b[0m\n",
      "\u001b[0;31mNameError\u001b[0m: name 'cluster' is not defined"
     ]
    }
   ],
   "source": [
    "# (just a plot for five grups)\n",
    "#----------------------------------------------------------------------\n",
    "color=[]\n",
    "C = cluster[1]\n",
    "for i in range(len(cluster[1])):\n",
    "    if C[i] == 0:\n",
    "        color.append(\"C1\")\n",
    "    elif C[i] == 1:\n",
    "        color.append(\"C2\")\n",
    "    elif C[i] == 2:\n",
    "        color.append(\"C3\")\n",
    "    elif C[i] == 3:\n",
    "        color.append(\"C4\")\n",
    "    elif C[i] == 4:\n",
    "        color.append(\"C5\")\n",
    "\n",
    "x=np.linspace(-2.5,4,1000)\n",
    "colors=[\"C1\",\"C2\",\"C3\",\"C4\",\"C5\"]\n",
    "\n",
    "fig2, ax2 = plt.subplots(1, 1, sharex='col', sharey='row')\n",
    "\n",
    "plt.gcf().subplots_adjust(bottom=0.17,right=0.97, left=0.175, top=0.90)\n",
    "\n",
    "for i, (v1,v2) in enumerate(zip(GMM[1].means_,GMM[1].covariances_)):\n",
    "    ax2.plot(x, norm.pdf(x,v1,v2)[0]/norm.pdf(x,v1,v2)[0].max(),\n",
    "             c=colors[i],label=\"Cluster \"+str(i+1))\n",
    "    ax2.legend(fontsize=14, loc=1,edgecolor='black')\n",
    "\n",
    "ax2.scatter((CM_log.values),np.zeros(len(CM_log)),c=color, label=\"Group 1\")  \n",
    "ax2.set_xlim(-2.3,5.2)\n",
    "\n",
    "ax2.tick_params(labelsize=19)\n",
    "\n",
    "#plt.title(r\"GMM with three components\",fontsize=22)\n",
    "plt.xlabel(r'$\\log_{10}$(CM)',fontsize=20)\n",
    "plt.ylabel(r'Normal Distribution',fontsize=20)\n",
    "#plt.savefig(\"figures/GMM3.pdf\")"
   ]
  },
  {
   "cell_type": "code",
   "execution_count": 60,
   "metadata": {},
   "outputs": [
    {
     "ename": "TypeError",
     "evalue": "'function' object is not subscriptable",
     "output_type": "error",
     "traceback": [
      "\u001b[0;31m---------------------------------------------------------------------------\u001b[0m",
      "\u001b[0;31mTypeError\u001b[0m                                 Traceback (most recent call last)",
      "\u001b[0;32m<ipython-input-60-1b7a8a255a28>\u001b[0m in \u001b[0;36m<module>\u001b[0;34m\u001b[0m\n\u001b[1;32m      1\u001b[0m \u001b[0;31m#Some different components for Gaussian Mixture Model:\u001b[0m\u001b[0;34m\u001b[0m\u001b[0;34m\u001b[0m\u001b[0;34m\u001b[0m\u001b[0m\n\u001b[1;32m      2\u001b[0m \u001b[0mdata\u001b[0m \u001b[0;34m=\u001b[0m \u001b[0mCoM\u001b[0m\u001b[0;34m\u001b[0m\u001b[0;34m\u001b[0m\u001b[0m\n\u001b[0;32m----> 3\u001b[0;31m \u001b[0mCM_log\u001b[0m\u001b[0;34m=\u001b[0m\u001b[0mnp\u001b[0m\u001b[0;34m.\u001b[0m\u001b[0mlog10\u001b[0m\u001b[0;34m(\u001b[0m\u001b[0mdata\u001b[0m\u001b[0;34m[\u001b[0m\u001b[0;34m[\u001b[0m\u001b[0;34m\"Center_of_Mass\"\u001b[0m\u001b[0;34m]\u001b[0m\u001b[0;34m]\u001b[0m\u001b[0;34m)\u001b[0m\u001b[0;34m\u001b[0m\u001b[0;34m\u001b[0m\u001b[0m\n\u001b[0m\u001b[1;32m      4\u001b[0m \u001b[0mGMM\u001b[0m\u001b[0;34m,\u001b[0m\u001b[0mcluster\u001b[0m\u001b[0;34m=\u001b[0m\u001b[0;34m[\u001b[0m\u001b[0;34m]\u001b[0m\u001b[0;34m,\u001b[0m\u001b[0;34m[\u001b[0m\u001b[0;34m]\u001b[0m\u001b[0;34m\u001b[0m\u001b[0;34m\u001b[0m\u001b[0m\n\u001b[1;32m      5\u001b[0m \u001b[0mlet\u001b[0m\u001b[0;34m=\u001b[0m\u001b[0;36m16\u001b[0m\u001b[0;34m\u001b[0m\u001b[0;34m\u001b[0m\u001b[0m\n",
      "\u001b[0;31mTypeError\u001b[0m: 'function' object is not subscriptable"
     ]
    }
   ],
   "source": [
    "#Some different components for Gaussian Mixture Model: \n",
    "data = CoM\n",
    "CM_log=np.log10(data[[\"Center_of_Mass\"]])\n",
    "GMM,cluster=[],[]\n",
    "let=16\n",
    "#----------------------------------------------------------------------\n",
    "for i in [4,6]:\n",
    "    gmm = GaussianMixture(i, covariance_type='full', random_state=0)\n",
    "    GMM.append(gmm)\n",
    "    gmm.fit(CM_log.values)\n",
    "    cluster_label = gmm.predict(CM_log.values)\n",
    "    cluster.append(cluster_label)\n",
    "#----------------------------------------------------------------------\n",
    "col=[]\n",
    "\n",
    "for i in range(len(cluster[0])):\n",
    "    if cluster[0][i] == 0:\n",
    "        col.append(\"C1\")\n",
    "    elif cluster[0][i] == 1:\n",
    "        col.append(\"C2\")\n",
    "    elif cluster[0][i] == 2:\n",
    "        col.append(\"C3\")\n",
    "    elif cluster[0][i] == 3:\n",
    "        col.append(\"C4\")\n",
    "\n",
    "lor=[]\n",
    "C = cluster[1]\n",
    "for i in range(len(cluster[1])):\n",
    "    if C[i] == 0:\n",
    "        lor.append(\"C1\")\n",
    "    elif C[i] == 1:\n",
    "        lor.append(\"C2\")\n",
    "    elif C[i] == 2:\n",
    "        lor.append(\"C3\")\n",
    "    elif C[i] == 3:\n",
    "        lor.append(\"C4\")\n",
    "    elif C[i] == 4:\n",
    "        lor.append(\"C5\")  \n",
    "    elif C[i] == 5:\n",
    "        lor.append(\"C6\") \n",
    "    elif C[i] == 6:\n",
    "        lor.append(\"C7\")\n",
    "        \n",
    "x=np.linspace(-2.5,4,1000)\n",
    "colors=[\"C1\",\"C2\",\"C3\",\"C4\",\"C5\",\"C6\",\"C7\"]\n",
    "\n",
    "fig, axs = plt.subplots(1, 2, figsize=(10, 5), sharey=True)\n",
    "\n",
    "plt.gcf().subplots_adjust(bottom=0.12,right=0.99, left=0.07, top=0.88)\n",
    "\n",
    "#axs[0].scatter((CM_log.values),np.zeros(len(CM_log)),c=col)  \n",
    "#axs[1].scatter((CM_log.values),np.zeros(len(CM_log)),c=lor)  \n",
    "\n",
    "#h1 = axs[0].hist(CM_log.values,60, density=True)#,label=r\"Histogram of $r_\\text{cm}$\")\n",
    "\n",
    "sb.distplot(CM_log.values,60,kde=False, norm_hist=True, ax = axs[0])#,label=r\"Histogram of $r_\\text{cm}$\")    \n",
    "sb.distplot(CM_log.values,60,kde=False, norm_hist=True, ax = axs[1])#,label=r\"Histogram of $r_\\text{cm}$\")    \n",
    "    \n",
    "#leg1 = plt.legend(loc='upper left', fontsize=let-5)\n",
    "\n",
    "#izq\n",
    "for i, (v1,v2) in enumerate(zip(GMM[0].means_,GMM[0].covariances_)):\n",
    "    axs[0].plot(x, norm.pdf(x,v1,v2)[0]/norm.pdf(x,v1,v2)[0].max(),\n",
    "             c=colors[i],label=\"Cluster \"+str(i+1),lw=2.5)\n",
    "    axs[0].legend(fontsize=let-2,edgecolor='black',bbox_to_anchor=(-0, 1.02, 1, .15), loc=3,\n",
    "              ncol=2,mode=\"expand\")\n",
    "#der\n",
    "for i, (v1,v2) in enumerate(zip(GMM[1].means_,GMM[1].covariances_)):\n",
    "    axs[1].plot(x, norm.pdf(x,v1,v2)[0]/norm.pdf(x,v1,v2)[0].max(),\n",
    "             c=colors[i],label=\"Cluster \"+str(i+1),lw=2.5)\n",
    "    axs[1].legend(fontsize=let-2,edgecolor='black',bbox_to_anchor=(0, 1.02, 1, .102), loc=3,\n",
    "              ncol=3, mode=\"expand\")\n",
    "    \n",
    "axs[0].set_ylim(-0.1,1.4,1/10)\n",
    "axs[0].set_xlim(CM_log.values.min(),CM_log.values.max())\n",
    "axs[1].set_xlim(CM_log.values.min(),CM_log.values.max())\n",
    "#axs[0].set_xscale('log')\n",
    "axs[0].tick_params(labelsize=let)\n",
    "axs[1].tick_params(labelsize=let)\n",
    "\n",
    "plt.subplots_adjust(wspace=0.05)\n",
    "\n",
    "#axs.xlabel(r'$\\log_{10}$(CM)',fontsize=20)\n",
    "axs[0].set_ylabel(r'Normal Distribution',fontsize=let)\n",
    "fig.text(0.53, 0.0, r\"$\\log_{10}(r_\\text{cm})$ (AU)\", \n",
    "         fontsize=let, ha='center', va='center')\n",
    "\n",
    "fig.text(.355, .8, r\"Histogram of $r_\\text{cm}$\", color='k',\n",
    "         fontsize=let, bbox=dict(facecolor=\"C0\",alpha = .4))\n",
    "\n",
    "fig.text(.825, .8, r\"Histogram of $r_\\text{cm}$\", color='k',\n",
    "         fontsize=let, bbox=dict(facecolor=\"C0\",alpha = .4))\n",
    "#plt.gca().add_artist(leg1)\n",
    "\n",
    "#plt.savefig(\"figures/GMM_2-3-hist.pdf\",bbox_inches='tight')\n",
    "plt.savefig(\"figures/GMM_4-6-hist.pdf\",bbox_inches='tight')\n"
   ]
  },
  {
   "cell_type": "markdown",
   "metadata": {},
   "source": [
    "To determine the number of cluster in the Gaussian Mixture Model, it may use a bayessian information criterion"
   ]
  },
  {
   "cell_type": "markdown",
   "metadata": {},
   "source": [
    "The posteriror probabilities are determinated by the function `gmm.predict_proba()`"
   ]
  },
  {
   "cell_type": "code",
   "execution_count": null,
   "metadata": {
    "scrolled": false
   },
   "outputs": [],
   "source": [
    "# The posterior probabilities: \n",
    "names=[\"Earth-centered\", \"Close\",\"Far away\",\"Venusian-centered\"]\n",
    "plt.figure(figsize=(7,5.6))\n",
    "\n",
    "for i in range(4):\n",
    "    plt.scatter(CM_log,gmm.predict_proba(CM_log)[:,i],label=names[i], s=7);\n",
    "\n",
    "plt.gcf().subplots_adjust(bottom=0.15,right=0.97, left=0.15, top=0.83)\n",
    "plt.tick_params(labelsize=20)    \n",
    "plt.xlabel(r'$\\log_{10}(r_\\text{cm}) \\text{(AU)}$',fontsize=22)\n",
    "plt.ylabel(r'Posterior Probabilities',fontsize=22)\n",
    "plt.xlim(-2.5,4)\n",
    "\n",
    "plt.xticks(np.arange(int(min(m)), int(max(m))+2, 1.0))\n",
    "\n",
    "plt.legend(fontsize=17.5,edgecolor='black', \n",
    "           bbox_to_anchor=(-0.02, 1.20, 1.037, 0.06), loc=2,\n",
    "           ncol=2, mode=\"expand\")\n",
    "plt.savefig(\"figures/Prob.pdf\")"
   ]
  },
  {
   "cell_type": "code",
   "execution_count": null,
   "metadata": {},
   "outputs": [],
   "source": [
    "gmm.predict_proba(CM_log)[794]\n",
    "CM_log.values[794]"
   ]
  },
  {
   "cell_type": "markdown",
   "metadata": {},
   "source": [
    "The probability for a synthetic draw of a system called AA, with a $\\mu=0.8$ and $\\sigma=0.03$ in the CM, can be established as:"
   ]
  },
  {
   "cell_type": "code",
   "execution_count": null,
   "metadata": {},
   "outputs": [],
   "source": [
    "AA=np.log10(np.random.normal(0.8,0.03,1000))\n",
    "AA=AA[:,np.newaxis]\n",
    "names=[\"Earth-centered\", \"Close\",\"Far away\",\"Venusian-centered\"]\n",
    "plt.figure(figsize=(7,5.6))\n",
    "\n",
    "#production of probability for a syntethic planetary system \n",
    "for i in range(4):\n",
    "    plt.scatter(AA,gmm.predict_proba(AA)[:,i],label=names[i])\n",
    "\n",
    "plt.gcf().subplots_adjust(bottom=0.15,right=0.965, left=0.14, top=0.83)\n",
    "plt.legend(fontsize=17.5,edgecolor='black', \n",
    "           bbox_to_anchor=(-0.02, 1.20, 1.037, 0.055), loc=2,\n",
    "           ncol=2, mode=\"expand\")\n",
    "plt.tick_params(labelsize=20)    \n",
    "plt.xlabel(r'$\\log_{10}$(CM)',fontsize=22)\n",
    "plt.ylabel(r'Probability',fontsize=22)\n",
    "#plt.savefig(\"figures/draw.pdf\")"
   ]
  },
  {
   "cell_type": "markdown",
   "metadata": {},
   "source": [
    "## ... Draws\n",
    "Employing m and $\\Delta$m, a and $\\Delta$a, from `data2`."
   ]
  },
  {
   "cell_type": "code",
   "execution_count": null,
   "metadata": {},
   "outputs": [],
   "source": [
    "# Group the planetary system:\n",
    "data2 = dataB[['star_name','mass', 'mass_error_min',\n",
    "               'semi_major_axis','semi_major_axis_error_min']]\n",
    "Planetary_System = data2.groupby(\"star_name\")\n",
    "Systems_List = list(Planetary_System.groups.keys())"
   ]
  },
  {
   "cell_type": "markdown",
   "metadata": {},
   "source": [
    "A first way to get the drows for each system:"
   ]
  },
  {
   "cell_type": "code",
   "execution_count": null,
   "metadata": {
    "scrolled": true
   },
   "outputs": [],
   "source": [
    "#%%time\n",
    "#-------------------------------------------------------------------------\n",
    "# Draws, for each planetary system\n",
    "draws=[]#drows of COM for each system. \n",
    "for i in range(len(Systems_List)):\n",
    "    system_i = data2[data2.star_name == Systems_List[i]]    \n",
    "    draw_i=[]\n",
    "    for j in  range(1000):\n",
    "        #Get random values for each planet in a system and the COM for those values\n",
    "        masses=np.random.normal(system_i.mass,system_i.mass_error_min)\n",
    "        axes=np.random.normal(system_i.semi_major_axis,\n",
    "                              system_i.semi_major_axis_error_min)\n",
    "        draw_i += [(masses*axes).sum()/masses.sum()]\n",
    "    draws.append(draw_i)\n"
   ]
  },
  {
   "cell_type": "code",
   "execution_count": null,
   "metadata": {},
   "outputs": [],
   "source": [
    "#len(draws[0])"
   ]
  },
  {
   "cell_type": "markdown",
   "metadata": {},
   "source": [
    "Second way to get the draws for each system (in a shorter time):"
   ]
  },
  {
   "cell_type": "code",
   "execution_count": null,
   "metadata": {},
   "outputs": [],
   "source": [
    "#%%time\n",
    "data2 = dataB[['star_name','mass', 'mass_error_min',\n",
    "               'semi_major_axis','semi_major_axis_error_min']]\n",
    "Planetary_System = data2.groupby(\"star_name\")\n",
    "Systems_List = list(Planetary_System.groups.keys())\n",
    "\n",
    "DrawsA=[]#drows of COM for each system. \n",
    "for i in range(len(Systems_List)):\n",
    "    SystemA_i = data2[data2.star_name == Systems_List[i]]  \n",
    "    \n",
    "    \n",
    "    \n",
    "    Mass_System = np.zeros(1000)\n",
    "    Mass_Axe = np.zeros(1000) \n",
    "    for k in range(len(SystemA_i)):\n",
    "        Masses = np.random.normal(SystemA_i.mass.values[k],\n",
    "                                  SystemA_i.mass_error_min.values[k],1000)\n",
    "        Axes = np.random.normal(SystemA_i.semi_major_axis.values[k],\n",
    "                                SystemA_i.semi_major_axis_error_min.values[k],\n",
    "                                1000)\n",
    "        Mass_Axe += Masses*Axes\n",
    "        Mass_System += Masses\n",
    "        #print(SystemA_i.mass.values[k])\n",
    "    DrawsA.append(Mass_Axe/Mass_System)\n",
    "len(DrawsA)"
   ]
  },
  {
   "cell_type": "code",
   "execution_count": null,
   "metadata": {},
   "outputs": [],
   "source": [
    "len(CM_log.values)"
   ]
  },
  {
   "cell_type": "code",
   "execution_count": null,
   "metadata": {},
   "outputs": [],
   "source": [
    "from scipy.stats import truncnorm\n",
    "\n",
    "lower, upper = 0, max(DrawsA[8])\n",
    "mu, sigma = DrawsA[8].mean(), DrawsA[8].std()\n",
    "\n",
    "a, b = (lower - mu) / sigma, (upper - mu) / sigma\n",
    "\n",
    "x = np.linspace(truncnorm.pdf(0.01, a, b), \n",
    "                truncnorm.pdf(0.99, a, b), \n",
    "                1000)\n",
    "values = truncnorm.rvs(a, b, scale=sigma, loc=mu, size=1000)\n",
    "#print(x)\n",
    "#plt.hist(DrawsA[8], density=True)\n",
    "#plt.hist(DrawsA[8], density=True, alpha=.2)\n",
    "#plt.hist(values, density=True, alpha=.2)\n",
    "#plt.plot(np.linspace(min(values),max(values),1000),\n",
    "#         norm.pdf(np.linspace(min(values),max(values),1000),mu,sigma))\n",
    "#r = truncnorm.rvs(a, b, size=1000)\n",
    "#len(r)"
   ]
  },
  {
   "cell_type": "code",
   "execution_count": 75,
   "metadata": {},
   "outputs": [
    {
     "data": {
      "text/html": [
       "<div>\n",
       "<style scoped>\n",
       "    .dataframe tbody tr th:only-of-type {\n",
       "        vertical-align: middle;\n",
       "    }\n",
       "\n",
       "    .dataframe tbody tr th {\n",
       "        vertical-align: top;\n",
       "    }\n",
       "\n",
       "    .dataframe thead th {\n",
       "        text-align: right;\n",
       "    }\n",
       "</style>\n",
       "<table border=\"1\" class=\"dataframe\">\n",
       "  <thead>\n",
       "    <tr style=\"text-align: right;\">\n",
       "      <th></th>\n",
       "      <th>star_name</th>\n",
       "      <th>mass</th>\n",
       "      <th>mass_error_min</th>\n",
       "      <th>semi_major_axis</th>\n",
       "      <th>semi_major_axis_error_min</th>\n",
       "    </tr>\n",
       "  </thead>\n",
       "  <tbody>\n",
       "    <tr>\n",
       "      <th>0</th>\n",
       "      <td>11 Com</td>\n",
       "      <td>19.40000</td>\n",
       "      <td>1.50000</td>\n",
       "      <td>1.2900</td>\n",
       "      <td>0.05000</td>\n",
       "    </tr>\n",
       "    <tr>\n",
       "      <th>1</th>\n",
       "      <td>11 Oph</td>\n",
       "      <td>21.00000</td>\n",
       "      <td>3.00000</td>\n",
       "      <td>243.0000</td>\n",
       "      <td>55.00000</td>\n",
       "    </tr>\n",
       "    <tr>\n",
       "      <th>2</th>\n",
       "      <td>11 UMi</td>\n",
       "      <td>10.50000</td>\n",
       "      <td>2.47000</td>\n",
       "      <td>1.5400</td>\n",
       "      <td>0.07000</td>\n",
       "    </tr>\n",
       "    <tr>\n",
       "      <th>4</th>\n",
       "      <td>14 Her</td>\n",
       "      <td>4.64000</td>\n",
       "      <td>0.19000</td>\n",
       "      <td>2.7700</td>\n",
       "      <td>0.05000</td>\n",
       "    </tr>\n",
       "    <tr>\n",
       "      <th>5</th>\n",
       "      <td>16 Cyg B</td>\n",
       "      <td>1.68000</td>\n",
       "      <td>0.07000</td>\n",
       "      <td>1.6800</td>\n",
       "      <td>0.03000</td>\n",
       "    </tr>\n",
       "    <tr>\n",
       "      <th>...</th>\n",
       "      <td>...</td>\n",
       "      <td>...</td>\n",
       "      <td>...</td>\n",
       "      <td>...</td>\n",
       "      <td>...</td>\n",
       "    </tr>\n",
       "    <tr>\n",
       "      <th>3817</th>\n",
       "      <td>tau Cet</td>\n",
       "      <td>0.01240</td>\n",
       "      <td>0.00431</td>\n",
       "      <td>1.3340</td>\n",
       "      <td>0.04400</td>\n",
       "    </tr>\n",
       "    <tr>\n",
       "      <th>3818</th>\n",
       "      <td>tau Cet</td>\n",
       "      <td>0.00551</td>\n",
       "      <td>0.00130</td>\n",
       "      <td>0.1330</td>\n",
       "      <td>0.00200</td>\n",
       "    </tr>\n",
       "    <tr>\n",
       "      <th>3819</th>\n",
       "      <td>tau Cet</td>\n",
       "      <td>0.00576</td>\n",
       "      <td>0.00082</td>\n",
       "      <td>0.2430</td>\n",
       "      <td>0.00300</td>\n",
       "    </tr>\n",
       "    <tr>\n",
       "      <th>3821</th>\n",
       "      <td>ups And</td>\n",
       "      <td>0.62000</td>\n",
       "      <td>0.09000</td>\n",
       "      <td>0.0590</td>\n",
       "      <td>0.00100</td>\n",
       "    </tr>\n",
       "    <tr>\n",
       "      <th>3824</th>\n",
       "      <td>ups And</td>\n",
       "      <td>1.05900</td>\n",
       "      <td>0.02800</td>\n",
       "      <td>5.2456</td>\n",
       "      <td>0.00067</td>\n",
       "    </tr>\n",
       "  </tbody>\n",
       "</table>\n",
       "<p>1217 rows × 5 columns</p>\n",
       "</div>"
      ],
      "text/plain": [
       "     star_name      mass  mass_error_min  semi_major_axis  \\\n",
       "0       11 Com  19.40000         1.50000           1.2900   \n",
       "1       11 Oph  21.00000         3.00000         243.0000   \n",
       "2       11 UMi  10.50000         2.47000           1.5400   \n",
       "4       14 Her   4.64000         0.19000           2.7700   \n",
       "5     16 Cyg B   1.68000         0.07000           1.6800   \n",
       "...        ...       ...             ...              ...   \n",
       "3817   tau Cet   0.01240         0.00431           1.3340   \n",
       "3818   tau Cet   0.00551         0.00130           0.1330   \n",
       "3819   tau Cet   0.00576         0.00082           0.2430   \n",
       "3821   ups And   0.62000         0.09000           0.0590   \n",
       "3824   ups And   1.05900         0.02800           5.2456   \n",
       "\n",
       "      semi_major_axis_error_min  \n",
       "0                       0.05000  \n",
       "1                      55.00000  \n",
       "2                       0.07000  \n",
       "4                       0.05000  \n",
       "5                       0.03000  \n",
       "...                         ...  \n",
       "3817                    0.04400  \n",
       "3818                    0.00200  \n",
       "3819                    0.00300  \n",
       "3821                    0.00100  \n",
       "3824                    0.00067  \n",
       "\n",
       "[1217 rows x 5 columns]"
      ]
     },
     "execution_count": 75,
     "metadata": {},
     "output_type": "execute_result"
    }
   ],
   "source": [
    "dataa"
   ]
  },
  {
   "cell_type": "code",
   "execution_count": 76,
   "metadata": {},
   "outputs": [],
   "source": [
    "A = dataa.groupby(\"star_name\")\n",
    "SystemA_i = dataa[dataa.star_name == \"TRAPPIST-1\"]  \n",
    "len(SystemA_i)\n",
    "\n",
    "Mass_System = np.zeros(1000)\n",
    "Mass_Axe = np.zeros(1000) \n",
    "DrawsAA = []\n",
    "\n",
    "for planet in range(len(SystemA_i)):\n",
    "    \n",
    "    mu_m, sigma_m = SystemA_i.mass.values[planet], SystemA_i.mass_error_min.values[planet]\n",
    "    lower_m, upper_m = 0, SystemA_i.mass.values[planet]+3*SystemA_i.mass_error_min.values[planet]\n",
    "    \n",
    "    mu_a, sigma_a = SystemA_i.semi_major_axis.values[planet], SystemA_i.semi_major_axis_error_min.values[planet]\n",
    "    lower_a, upper_a = 0, SystemA_i.semi_major_axis.values[planet]+3*SystemA_i.semi_major_axis_error_min.values[planet]\n",
    "    \n",
    "    a_m, b_m = (lower_m - mu_m) / sigma_m, (upper_m - mu_m) / sigma_m\n",
    "    a_a, b_a = (lower_a- mu_a) / sigma_a, (upper_a - mu_a) / sigma_a\n",
    "\n",
    "    \n",
    "    masses = truncnorm.rvs(a_m, b_m, scale=sigma_m, loc=mu_m, size=1000)\n",
    "    axes = truncnorm.rvs(a_a, b_a, scale=sigma_a, loc=mu_a, size=1000)\n",
    "\n",
    "    Mass_Axe += masses*axes\n",
    "    Mass_System += masses\n",
    "    \n",
    "DrawsAA.append(Mass_Axe/Mass_System)"
   ]
  },
  {
   "cell_type": "code",
   "execution_count": 77,
   "metadata": {},
   "outputs": [
    {
     "ename": "NameError",
     "evalue": "name 'DrawsA' is not defined",
     "output_type": "error",
     "traceback": [
      "\u001b[0;31m---------------------------------------------------------------------------\u001b[0m",
      "\u001b[0;31mNameError\u001b[0m                                 Traceback (most recent call last)",
      "\u001b[0;32m<ipython-input-77-11e74a475595>\u001b[0m in \u001b[0;36m<module>\u001b[0;34m\u001b[0m\n\u001b[1;32m      1\u001b[0m \u001b[0mplt\u001b[0m\u001b[0;34m.\u001b[0m\u001b[0mhist\u001b[0m\u001b[0;34m(\u001b[0m\u001b[0mDrawsAA\u001b[0m\u001b[0;34m[\u001b[0m\u001b[0;36m0\u001b[0m\u001b[0;34m]\u001b[0m\u001b[0;34m,\u001b[0m \u001b[0mbins\u001b[0m\u001b[0;34m=\u001b[0m\u001b[0;36m10\u001b[0m\u001b[0;34m,\u001b[0m \u001b[0malpha\u001b[0m\u001b[0;34m=\u001b[0m\u001b[0;36m.5\u001b[0m\u001b[0;34m)\u001b[0m\u001b[0;34m\u001b[0m\u001b[0;34m\u001b[0m\u001b[0m\n\u001b[0;32m----> 2\u001b[0;31m \u001b[0mplt\u001b[0m\u001b[0;34m.\u001b[0m\u001b[0mhist\u001b[0m\u001b[0;34m(\u001b[0m\u001b[0mDrawsA\u001b[0m\u001b[0;34m[\u001b[0m\u001b[0;36m794\u001b[0m\u001b[0;34m]\u001b[0m\u001b[0;34m,\u001b[0m \u001b[0mbins\u001b[0m\u001b[0;34m=\u001b[0m\u001b[0;36m50\u001b[0m\u001b[0;34m,\u001b[0m \u001b[0malpha\u001b[0m\u001b[0;34m=\u001b[0m\u001b[0;36m.3\u001b[0m\u001b[0;34m)\u001b[0m\u001b[0;34m\u001b[0m\u001b[0;34m\u001b[0m\u001b[0m\n\u001b[0m\u001b[1;32m      3\u001b[0m \u001b[0mplt\u001b[0m\u001b[0;34m.\u001b[0m\u001b[0mxlim\u001b[0m\u001b[0;34m(\u001b[0m\u001b[0;34m-\u001b[0m\u001b[0;36m0.01\u001b[0m\u001b[0;34m,\u001b[0m\u001b[0;36m0.05\u001b[0m\u001b[0;34m)\u001b[0m\u001b[0;34m\u001b[0m\u001b[0;34m\u001b[0m\u001b[0m\n",
      "\u001b[0;31mNameError\u001b[0m: name 'DrawsA' is not defined"
     ]
    },
    {
     "data": {
      "image/png": "[encoded data removed]",
      "text/plain": [
       "<Figure size 432x288 with 1 Axes>"
      ]
     },
     "metadata": {
      "needs_background": "light"
     },
     "output_type": "display_data"
    }
   ],
   "source": [
    "plt.hist(DrawsAA[0], bins=10, alpha=.5)\n",
    "plt.hist(DrawsA[794], bins=50, alpha=.3)\n",
    "plt.xlim(-0.01,0.05)"
   ]
  },
  {
   "cell_type": "code",
   "execution_count": null,
   "metadata": {},
   "outputs": [],
   "source": [
    "print(DrawsA[794].mean())\n",
    "print(DrawsAA[0].mean())\n"
   ]
  },
  {
   "cell_type": "code",
   "execution_count": null,
   "metadata": {},
   "outputs": [],
   "source": [
    "def frac_change(data):\n",
    "    \n",
    "    Planetary_System = data.groupby(\"star_name\")\n",
    "    Systems_List = list(Planetary_System.groups.keys())\n",
    "    DrawsA=[]#drows of COM for each system. \n",
    "    \n",
    "    for i in range(len(Systems_List)):\n",
    "        \n",
    "        SystemA_i = data[data.star_name == Systems_List[i]]  \n",
    "        \n",
    "        a_mass, b_mass = 0, \n",
    "        \n",
    "        lower, upper = 0, max(DrawsA[8])\n",
    "        mu, sigma = DrawsA[8].mean(), DrawsA[8].std()\n",
    "\n",
    "        \n",
    "        Mass_System = np.zeros(1000)\n",
    "        Mass_Axe = np.zeros(1000) \n",
    "        for k in range(len(SystemA_i)):\n",
    "            Masses = np.random.normal(SystemA_i.mass.values[k],\n",
    "                                      SystemA_i.mass_error_min.values[k],1000)\n",
    "            Axeses = np.random.normal(SystemA_i.semi_major_axis.values[k],\n",
    "                                    SystemA_i.semi_major_axis_error_min.values[k],\n",
    "                                    1000)\n",
    "            Mass_Axe += Masses*Axes\n",
    "            Mass_System += Masses\n",
    "        #print(SystemA_i.mass.values[k])\n",
    "        DrawsA.append(Mass_Axe/Mass_System)\n",
    "    "
   ]
  },
  {
   "cell_type": "code",
   "execution_count": 78,
   "metadata": {},
   "outputs": [
    {
     "ename": "NameError",
     "evalue": "name 'Systems_List' is not defined",
     "output_type": "error",
     "traceback": [
      "\u001b[0;31m---------------------------------------------------------------------------\u001b[0m",
      "\u001b[0;31mNameError\u001b[0m                                 Traceback (most recent call last)",
      "\u001b[0;32m<ipython-input-78-71dd68408b00>\u001b[0m in \u001b[0;36m<module>\u001b[0;34m\u001b[0m\n\u001b[0;32m----> 1\u001b[0;31m \u001b[0mSystems_List\u001b[0m\u001b[0;34m.\u001b[0m\u001b[0mindex\u001b[0m\u001b[0;34m(\u001b[0m\u001b[0;34m\"TRAPPIST-1\"\u001b[0m\u001b[0;34m)\u001b[0m\u001b[0;34m\u001b[0m\u001b[0;34m\u001b[0m\u001b[0m\n\u001b[0m",
      "\u001b[0;31mNameError\u001b[0m: name 'Systems_List' is not defined"
     ]
    }
   ],
   "source": [
    "Systems_List.index(\"TRAPPIST-1\")"
   ]
  },
  {
   "cell_type": "code",
   "execution_count": 79,
   "metadata": {},
   "outputs": [
    {
     "ename": "NameError",
     "evalue": "name 'DrawsA' is not defined",
     "output_type": "error",
     "traceback": [
      "\u001b[0;31m---------------------------------------------------------------------------\u001b[0m",
      "\u001b[0;31mNameError\u001b[0m                                 Traceback (most recent call last)",
      "\u001b[0;32m<ipython-input-79-6be330c25b35>\u001b[0m in \u001b[0;36m<module>\u001b[0;34m\u001b[0m\n\u001b[0;32m----> 1\u001b[0;31m \u001b[0mTras\u001b[0m \u001b[0;34m=\u001b[0m \u001b[0mDrawsA\u001b[0m\u001b[0;34m[\u001b[0m\u001b[0mSystems_List\u001b[0m\u001b[0;34m.\u001b[0m\u001b[0mindex\u001b[0m\u001b[0;34m(\u001b[0m\u001b[0;34m\"TRAPPIST-1\"\u001b[0m\u001b[0;34m)\u001b[0m\u001b[0;34m]\u001b[0m\u001b[0;34m\u001b[0m\u001b[0;34m\u001b[0m\u001b[0m\n\u001b[0m\u001b[1;32m      2\u001b[0m \u001b[0mfig\u001b[0m\u001b[0;34m,\u001b[0m \u001b[0max1\u001b[0m \u001b[0;34m=\u001b[0m \u001b[0mplt\u001b[0m\u001b[0;34m.\u001b[0m\u001b[0msubplots\u001b[0m\u001b[0;34m(\u001b[0m\u001b[0;36m1\u001b[0m\u001b[0;34m,\u001b[0m \u001b[0;36m1\u001b[0m\u001b[0;34m)\u001b[0m\u001b[0;34m\u001b[0m\u001b[0;34m\u001b[0m\u001b[0m\n\u001b[1;32m      3\u001b[0m \u001b[0;34m\u001b[0m\u001b[0m\n\u001b[1;32m      4\u001b[0m \u001b[0mlet\u001b[0m\u001b[0;34m=\u001b[0m\u001b[0;36m15\u001b[0m\u001b[0;34m\u001b[0m\u001b[0;34m\u001b[0m\u001b[0m\n\u001b[1;32m      5\u001b[0m \u001b[0;34m\u001b[0m\u001b[0m\n",
      "\u001b[0;31mNameError\u001b[0m: name 'DrawsA' is not defined"
     ]
    }
   ],
   "source": [
    "Tras = DrawsA[Systems_List.index(\"TRAPPIST-1\")]\n",
    "fig, ax1 = plt.subplots(1, 1)\n",
    "\n",
    "let=15\n",
    "\n",
    "ax1 = sb.distplot(Tras, ax=ax1, bins=50, \n",
    "                  label=r' Synthetic $r_\\text{cm}$ (AU)',\n",
    "                  kde_kws={\"lw\": 2, \"label\": r\" Synthetic density\"})\n",
    "\n",
    "ax1.set_xlabel(r\"$\\log_{10}$(Mass) (M$_\\text{Jup}$)\",fontsize=let)\n",
    "#_xlabel(,fontsize=let);ax.set_ylabel(r\"Orbital period (years)\",fontsize=let)\n",
    "ax1.set_ylabel(r\"Distribution\", fontsize=let)\n",
    "ax1.tick_params(labelsize=let)\n",
    "\n",
    "\n",
    "ax1.legend(loc='upper left',fontsize=let);\n",
    "plt.savefig(\"figures/Tras_hists.pdf\", bbox_inches='tight')"
   ]
  },
  {
   "cell_type": "code",
   "execution_count": null,
   "metadata": {},
   "outputs": [],
   "source": [
    "plt.hist(DrawsA[794], bins=100)"
   ]
  },
  {
   "cell_type": "code",
   "execution_count": null,
   "metadata": {
    "scrolled": true
   },
   "outputs": [],
   "source": [
    "kk=8\n",
    "Draw_i=np.log10(DrawsA[kk][:,np.newaxis])\n",
    "orig=gmm.predict(np.array(CM_log))[kk]\n",
    "print(orig)\n",
    "print((orig!=gmm.predict(Draw_i)).sum()/1000)\n",
    "for i in range(4):\n",
    "    plt.scatter(Draw_i,gmm.predict_proba(Draw_i)[:,i])"
   ]
  },
  {
   "cell_type": "code",
   "execution_count": null,
   "metadata": {},
   "outputs": [],
   "source": [
    "plt.hist(np.log10(DrawsA[8]), bins=10)"
   ]
  },
  {
   "cell_type": "code",
   "execution_count": null,
   "metadata": {},
   "outputs": [],
   "source": [
    "# CM_log is the centero of mass in log scale for each system\n",
    "frac=[]\n",
    "for kk in range(len(DrawsA)):\n",
    "    Draw_i=np.log10(DrawsA[kk][:,np.newaxis])\n",
    "    orig=gmm.predict(np.array(CM_log))[kk]\n",
    "#    print(kk)\n",
    "    frac+=[(orig!=gmm.predict(Draw_i)).sum()/1000] # AA es el elemento i de draws (que debe ser un array de 1000 elementos)\n",
    "\n",
    "\n",
    "#for i in range(4):\n",
    "#    plt.scatter(Draw_i,gmm.predict_proba(Draw_i)[:,i])\n",
    "#orig\n",
    "#AA\n",
    "#orig=gmm.predict(np.array([[0.8]])) # 0.8 es el centro de masa para el sistema i\n",
    "#(orig!=gmm.predict(AA)).sum()/1000 # AA es el elemento i de draws (que debe ser un array de 1000 elementos)\n",
    "#DrawsA[0]\n",
    "#Draw_i=DrawsA[0][0][:,np.newaxis]\n",
    "#gmm.predict(Draw_i)\n",
    "#Draw_i\n",
    "#gmm.predict(Draw_i)\n",
    "plt.hist(frac)\n",
    "print((np.array(frac)==0).sum()/len(frac))\n",
    "np.max(frac)"
   ]
  },
  {
   "cell_type": "code",
   "execution_count": null,
   "metadata": {},
   "outputs": [],
   "source": [
    "orig=gmm.predict(np.array(CM_log))[2]\n",
    "print(CM_log.values)\n",
    "DrawsA[2][0]"
   ]
  },
  {
   "cell_type": "markdown",
   "metadata": {},
   "source": [
    "#### Metallicity"
   ]
  },
  {
   "cell_type": "code",
   "execution_count": null,
   "metadata": {},
   "outputs": [],
   "source": [
    "dataMet = data_ep[pd.notnull(data_ep[\"star_metallicity\"])]\n",
    "dataMetA = dataMet[pd.notnull(dataMet[\"star_metallicity_error_min\"])]\n",
    "dataMet = dataMetA[['star_name',\"star_metallicity\",\"star_metallicity_error_min\"]]"
   ]
  },
  {
   "cell_type": "code",
   "execution_count": null,
   "metadata": {},
   "outputs": [],
   "source": [
    "gmm2 = GaussianMixture(3, covariance_type='full', random_state=0)\n",
    "B=dataMet[[\"star_metallicity\"]]\n",
    "gmm2.fit(B.values)\n",
    "cluster_label = gmm2.predict(B.values)\n",
    "B.values[:, 0]\n",
    "plt.scatter((B.values),np.zeros(len(B)), c=cluster_label);\n",
    "plt.ylim(-0.1,1)"
   ]
  },
  {
   "cell_type": "code",
   "execution_count": null,
   "metadata": {},
   "outputs": [],
   "source": [
    "bic=[]\n",
    "for i in range(15):\n",
    "    i+=1\n",
    "    gmm2 = GaussianMixture(i, covariance_type='full', random_state=0)\n",
    "    A=data1[[\"center_of_Mass\"]]\n",
    "    gmm2.fit(B.values)\n",
    "    bic+=[gmm2.bic(B.values)]\n",
    "plt.plot(range(1,16),bic)"
   ]
  },
  {
   "cell_type": "code",
   "execution_count": null,
   "metadata": {},
   "outputs": [],
   "source": [
    "plt.figure(figsize=(15,5))\n",
    "sma=np.linspace(-2.5,4,1000)\n",
    "for m,s in zip(gmm.means_,gmm.covariances_):\n",
    "    plt.plot(sma, norm.pdf(sma,m,s)[0])\n",
    "plt.scatter((A.values),np.zeros(len(A)), c = cluster_label);"
   ]
  },
  {
   "cell_type": "code",
   "execution_count": null,
   "metadata": {},
   "outputs": [],
   "source": []
  },
  {
   "cell_type": "code",
   "execution_count": null,
   "metadata": {},
   "outputs": [],
   "source": []
  },
  {
   "cell_type": "code",
   "execution_count": null,
   "metadata": {},
   "outputs": [],
   "source": []
  },
  {
   "cell_type": "code",
   "execution_count": null,
   "metadata": {},
   "outputs": [],
   "source": []
  },
  {
   "cell_type": "code",
   "execution_count": null,
   "metadata": {},
   "outputs": [],
   "source": []
  }
 ],
 "metadata": {
  "celltoolbar": "Slideshow",
  "kernelspec": {
   "display_name": "Python 3",
   "language": "python",
   "name": "python3"
  },
  "language_info": {
   "codemirror_mode": {
    "name": "ipython",
    "version": 3
   },
   "file_extension": ".py",
   "mimetype": "text/x-python",
   "name": "python",
   "nbconvert_exporter": "python",
   "pygments_lexer": "ipython3",
   "version": "3.8.3"
  }
 },
 "nbformat": 4,
 "nbformat_minor": 2
}
