{
 "cells": [
  {
   "cell_type": "markdown",
   "metadata": {
    "slideshow": {
     "slide_type": "slide"
    }
   },
   "source": [
    "# Classification for the centar of mass $(r_\\text{cm})$ of exoplanetary systems through GMM \n",
    "\n",
    "We use Gaussian Mixture Model to clasify the center of mass of exoplanetary systems, employing the observational data  "
   ]
  },
  {
   "cell_type": "markdown",
   "metadata": {
    "slideshow": {
     "slide_type": "subslide"
    }
   },
   "source": [
    "## 1. Read and clean the file from exoplanet.eu\n",
    "\n",
    "From the most complete list of observed exoplanets planets to date, <a href=\"http://exoplanet.eu/\">exoplanet.eu</a>, we take the planetary mass $M_{tp}$, the semi_major $a$ and the Metallicity Fe/H (with their respective uncertainties).  \n",
    "\n",
    "It is necessary processing the data with the prurpose to obtain the Center of Mass $r_\\text{cm}$, as a DataFrame `data`, without NaN values in the columns of _mass_ ($M_{tp}$) and _semi major axis_($a$). Finally, we get the data cleaned.\n",
    "\n",
    "**Remember**: `pd.notnull(\"name_of_column\")` deletes the NaN values in the column. \n",
    "\n",
    "**Remember**: `data=data[['column_a','column_b',..,'column_n',]]` to get a new order in the DataFrame"
   ]
  },
  {
   "cell_type": "code",
   "execution_count": 22,
   "metadata": {
    "slideshow": {
     "slide_type": "skip"
    }
   },
   "outputs": [
    {
     "data": {
      "text/html": [
       "\n",
       "<style>\n",
       ".output_png {\n",
       "    display: table-cell;\n",
       "    text-align: center;\n",
       "    vertical-align: middle;\n",
       "}\n",
       "</style>\n"
      ],
      "text/plain": [
       "<IPython.core.display.HTML object>"
      ]
     },
     "execution_count": 22,
     "metadata": {},
     "output_type": "execute_result"
    }
   ],
   "source": [
    "from IPython.core.display import HTML\n",
    "HTML(\"\"\"\n",
    "<style>\n",
    ".output_png {\n",
    "    display: table-cell;\n",
    "    text-align: center;\n",
    "    vertical-align: middle;\n",
    "}\n",
    "</style>\n",
    "\"\"\")"
   ]
  },
  {
   "cell_type": "code",
   "execution_count": 23,
   "metadata": {
    "slideshow": {
     "slide_type": "subslide"
    }
   },
   "outputs": [],
   "source": [
    "import pandas as pd; \n",
    "import numpy as np\n",
    "from scipy.stats import norm \n",
    "import random\n",
    "from sklearn.mixture import GaussianMixture\n",
    "import matplotlib.pyplot as plt \n",
    "import seaborn as sb\n",
    "from matplotlib import rc, cm, rcParams\n",
    "\n",
    "rcParams['text.latex.preamble']=[r\"\\usepackage{amsmath}\"]\n",
    "rc('text', usetex=True)\n",
    "%matplotlib inline"
   ]
  },
  {
   "cell_type": "markdown",
   "metadata": {
    "slideshow": {
     "slide_type": "subslide"
    }
   },
   "source": [
    "Now, the data is read (only mass and semi major axis with their uncertainties)."
   ]
  },
  {
   "cell_type": "code",
   "execution_count": 24,
   "metadata": {
    "scrolled": true,
    "slideshow": {
     "slide_type": "fragment"
    }
   },
   "outputs": [
    {
     "name": "stdout",
     "output_type": "stream",
     "text": [
      "Total of NaN values = 8485\n"
     ]
    },
    {
     "data": {
      "text/plain": [
       "mass                         2158\n",
       "mass_error_min               2369\n",
       "semi_major_axis              1476\n",
       "semi_major_axis_error_min    2477\n",
       "star_name                       5\n",
       "dtype: int64"
      ]
     },
     "execution_count": 24,
     "metadata": {},
     "output_type": "execute_result"
    }
   ],
   "source": [
    "data_ep = pd.read_csv('data/exoplanet.eu_catalog.csv', \n",
    "                      usecols=['mass','mass_error_min','semi_major_axis',\n",
    "                               'semi_major_axis_error_min','star_name'])\n",
    "\n",
    "# It replaces the inf values:\n",
    "data_ep = data_ep.replace([np.inf, -np.inf], np.nan) \n",
    "\n",
    "# Total of NaN values:\n",
    "print(\"Total of NaN values = \"+str(data_ep.isnull().sum().sum()))\n",
    "\n",
    "# Numer of nan values per column:\n",
    "data_ep.isnull().sum()"
   ]
  },
  {
   "cell_type": "markdown",
   "metadata": {
    "slideshow": {
     "slide_type": "fragment"
    }
   },
   "source": [
    "After check for missing values in the data, we can see that some names of stars do not exists!!<font color='red'> Does it mean that some stars do not have names?</font> We will discuss latter. \n",
    "\n",
    "For the time being, we are going to continue cleaning the data. We do not take into account the NaN values."
   ]
  },
  {
   "cell_type": "code",
   "execution_count": 25,
   "metadata": {
    "slideshow": {
     "slide_type": "subslide"
    }
   },
   "outputs": [
    {
     "name": "stdout",
     "output_type": "stream",
     "text": [
      "Total of planets with complete data = 1217\n"
     ]
    }
   ],
   "source": [
    "dataB = data_ep.dropna(subset=['mass','mass_error_min','semi_major_axis',\n",
    "                               'semi_major_axis_error_min'])\n",
    "\n",
    "# Clean the data for the star names:\n",
    "dataB = dataB.dropna(subset=['star_name'])\n",
    "\n",
    "# Data after cleaning:\n",
    "data = dataB[['star_name','mass', 'mass_error_min',\n",
    "              'semi_major_axis','semi_major_axis_error_min']]\n",
    "\n",
    "print(\"Total of planets with complete data = \"+str(len(data)))"
   ]
  },
  {
   "cell_type": "markdown",
   "metadata": {
    "slideshow": {
     "slide_type": "subslide"
    }
   },
   "source": [
    "The cleaning result is a data frame with complete information of the numer of total planets per system $N_{tp}$, thir masses and semi-major axis with respective uncertainties. The data can group by the name of the host star."
   ]
  },
  {
   "cell_type": "code",
   "execution_count": 26,
   "metadata": {
    "slideshow": {
     "slide_type": "fragment"
    }
   },
   "outputs": [
    {
     "data": {
      "text/html": [
       "<div>\n",
       "<style scoped>\n",
       "    .dataframe tbody tr th:only-of-type {\n",
       "        vertical-align: middle;\n",
       "    }\n",
       "\n",
       "    .dataframe tbody tr th {\n",
       "        vertical-align: top;\n",
       "    }\n",
       "\n",
       "    .dataframe thead th {\n",
       "        text-align: right;\n",
       "    }\n",
       "</style>\n",
       "<table border=\"1\" class=\"dataframe\">\n",
       "  <thead>\n",
       "    <tr style=\"text-align: right;\">\n",
       "      <th></th>\n",
       "      <th>star_name</th>\n",
       "      <th>mass</th>\n",
       "      <th>mass_error_min</th>\n",
       "      <th>semi_major_axis</th>\n",
       "      <th>semi_major_axis_error_min</th>\n",
       "    </tr>\n",
       "  </thead>\n",
       "  <tbody>\n",
       "    <tr>\n",
       "      <th>3568</th>\n",
       "      <td>TRAPPIST-1</td>\n",
       "      <td>0.00270</td>\n",
       "      <td>0.00230</td>\n",
       "      <td>0.01111</td>\n",
       "      <td>0.00034</td>\n",
       "    </tr>\n",
       "    <tr>\n",
       "      <th>3569</th>\n",
       "      <td>TRAPPIST-1</td>\n",
       "      <td>0.00434</td>\n",
       "      <td>0.00190</td>\n",
       "      <td>0.01521</td>\n",
       "      <td>0.00047</td>\n",
       "    </tr>\n",
       "    <tr>\n",
       "      <th>3570</th>\n",
       "      <td>TRAPPIST-1</td>\n",
       "      <td>0.00130</td>\n",
       "      <td>0.00085</td>\n",
       "      <td>0.02144</td>\n",
       "      <td>0.00063</td>\n",
       "    </tr>\n",
       "    <tr>\n",
       "      <th>3571</th>\n",
       "      <td>TRAPPIST-1</td>\n",
       "      <td>0.00200</td>\n",
       "      <td>0.00180</td>\n",
       "      <td>0.02817</td>\n",
       "      <td>0.00087</td>\n",
       "    </tr>\n",
       "    <tr>\n",
       "      <th>3572</th>\n",
       "      <td>TRAPPIST-1</td>\n",
       "      <td>0.00210</td>\n",
       "      <td>0.00057</td>\n",
       "      <td>0.03710</td>\n",
       "      <td>0.00110</td>\n",
       "    </tr>\n",
       "    <tr>\n",
       "      <th>3573</th>\n",
       "      <td>TRAPPIST-1</td>\n",
       "      <td>0.00422</td>\n",
       "      <td>0.00280</td>\n",
       "      <td>0.04510</td>\n",
       "      <td>0.00140</td>\n",
       "    </tr>\n",
       "  </tbody>\n",
       "</table>\n",
       "</div>"
      ],
      "text/plain": [
       "       star_name     mass  mass_error_min  semi_major_axis  \\\n",
       "3568  TRAPPIST-1  0.00270         0.00230          0.01111   \n",
       "3569  TRAPPIST-1  0.00434         0.00190          0.01521   \n",
       "3570  TRAPPIST-1  0.00130         0.00085          0.02144   \n",
       "3571  TRAPPIST-1  0.00200         0.00180          0.02817   \n",
       "3572  TRAPPIST-1  0.00210         0.00057          0.03710   \n",
       "3573  TRAPPIST-1  0.00422         0.00280          0.04510   \n",
       "\n",
       "      semi_major_axis_error_min  \n",
       "3568                    0.00034  \n",
       "3569                    0.00047  \n",
       "3570                    0.00063  \n",
       "3571                    0.00087  \n",
       "3572                    0.00110  \n",
       "3573                    0.00140  "
      ]
     },
     "execution_count": 26,
     "metadata": {},
     "output_type": "execute_result"
    }
   ],
   "source": [
    "#The system for comparisons: \n",
    "A = data.groupby(\"star_name\")\n",
    "SystemA_i = data[data.star_name == \"TRAPPIST-1\"]  \n",
    "SystemA_i"
   ]
  },
  {
   "cell_type": "markdown",
   "metadata": {
    "slideshow": {
     "slide_type": "subslide"
    }
   },
   "source": [
    "Let's plot the distribution of the logarithm of planetary mass, $M_\\text{tp}$, and the distribution of the logarithm of semi-major axis $a$:"
   ]
  },
  {
   "cell_type": "code",
   "execution_count": 27,
   "metadata": {
    "slideshow": {
     "slide_type": "subslide"
    }
   },
   "outputs": [
    {
     "data": {
      "text/plain": [
       "<matplotlib.legend.Legend at 0x7f52fce8e2b0>"
      ]
     },
     "execution_count": 27,
     "metadata": {},
     "output_type": "execute_result"
    },
    {
     "data": {
      "image/png": "[encoded data removed]",
      "text/plain": [
       "<Figure size 720x360 with 2 Axes>"
      ]
     },
     "metadata": {
      "needs_background": "light"
     },
     "output_type": "display_data"
    }
   ],
   "source": [
    "# -Plot----distributions \n",
    "fig, (ax1,ax2) = plt.subplots(1, 2, figsize=(10, 5))\n",
    "\n",
    "let, bins = 15, 20\n",
    "\n",
    "m=np.log10(data.mass.values)\n",
    "a=np.log10(data.semi_major_axis.values)\n",
    "\n",
    "ax1 = sb.distplot(m, ax=ax1, bins=bins, label=r'Mass (M$_\\text{Jup}$)',\n",
    "                  kde_kws={\"lw\": 2, \"label\": r\"Mass density\"})\n",
    "\n",
    "ax2 = sb.distplot(a, ax=ax2, bins=bins,label=r'Semi-Major axis $a$ (AU)',\n",
    "                  kde_kws={\"lw\": 2, \"label\": r\"$a$ Density\"})\n",
    "\n",
    "ax1.set_xlabel(r\"$\\log_{10}$(Mass) (M$_\\text{Jup}$)\",fontsize=let)\n",
    "ax2.set_xlabel(r\"$\\log_{10}(a)$ (AU)\",fontsize=let)\n",
    "ax1.set_ylabel(r\"Counts\", fontsize=let)\n",
    "ax1.tick_params(labelsize=let); ax2.tick_params(labelsize=let)\n",
    "\n",
    "ax1.set_xticks(np.arange(int(min(m))-1, int(max(m))+2, 1.0))\n",
    "ax2.set_xticks(np.arange(int(min(a))-1, int(max(a))+2, 1.0))\n",
    "\n",
    "\n",
    "ax1.legend(loc='upper left',fontsize=let);ax2.legend(loc='upper right',fontsize=let)\n",
    "#plt.savefig(\"figures/hists.pdf\", bbox_inches='tight')"
   ]
  },
  {
   "cell_type": "markdown",
   "metadata": {
    "slideshow": {
     "slide_type": "subslide"
    }
   },
   "source": [
    "So, `data` is a DataFrame without NaN values in columns of names, masses, semi major axis and their uncertainties. Finally, we got 1217 rows, it means, exoplanets with confirmed data. "
   ]
  },
  {
   "cell_type": "markdown",
   "metadata": {
    "slideshow": {
     "slide_type": "slide"
    }
   },
   "source": [
    "## 2. Get the center of Mass \n",
    "We need to estimate the $r_\\text{cm}$ for each system. The definition of center of mass:\n",
    "\\begin{equation*}\n",
    "r_\\text{cm} = \\frac{\\sum\\limits_{k=1}^n(m_{k}\\vec{r_{k}})}{\\sum \\limits_{k=1}^{n}m_{k}} %=\\frac{\\sum\\limits_{k=1}^n(m_{k}\\vec{r_{k}})}{M_{T}}\n",
    "\\end{equation*}\n",
    "To do it, is nessesary get the values mass $m$ times disnace $r$, for each planet, so with the columns of `mass` and distance from the star `semi_major_axis` we can get $m_{k}\\vec{r_{k}}$ values. Then, we take the sum for all planets in each systems, as a result we got $\\text{CM}_i$ for $i\\in\\{0,1,2,3,4,\\ldots,n\\}$.\n",
    "\n",
    "Our variable for clasify the systems is CM but some systems only have one planet, so, the center of mass for this systems CM$_j$, can be taked as the mass $m_j$.\n",
    "\n",
    "**Remember:** The `data.groupby(\"key\")` split the data in groups which are the key.\n",
    "\n",
    "**Remember:** The `data[i].multiply(data[j])` multiplies the comun i and j of DataFrame or Series i and j, row by row.\n",
    "\n",
    "**Remember:** The `data.groupby.groups.keys()` get the keys of the split data."
   ]
  },
  {
   "cell_type": "code",
   "execution_count": 28,
   "metadata": {
    "slideshow": {
     "slide_type": "subslide"
    }
   },
   "outputs": [
    {
     "name": "stdout",
     "output_type": "stream",
     "text": [
      "The number of planetary systems = 987\n",
      "Systems with more than one planet = 154\n"
     ]
    }
   ],
   "source": [
    "# Group by the name system:\n",
    "p_system = data.groupby(\"star_name\")\n",
    "print('The number of planetary systems = '+ str(len(p_system)))\n",
    "\n",
    "# The numer of exoplanets around each star:\n",
    "number=(data[\"star_name\"].value_counts()).to_frame()\n",
    "\n",
    "# The number of systems with more than one exoplanet:\n",
    "count = 0\n",
    "for i, index in enumerate(number.star_name.values):\n",
    "    if index>1.:\n",
    "        count+=1 \n",
    "print(\"Systems with more than one planet = \"+str(count))"
   ]
  },
  {
   "cell_type": "code",
   "execution_count": 29,
   "metadata": {
    "scrolled": true,
    "slideshow": {
     "slide_type": "subslide"
    }
   },
   "outputs": [],
   "source": [
    "#-----------------------function center of mass-----------------------\n",
    "#it returns a data frame group bay systems:\n",
    "\n",
    "def CoM(data): #data is a dataframe with mass and semi major axis \n",
    "    \n",
    "    # Multiplications between columns mass and axis, CM_i new column:\n",
    "    data = data.assign(CM_i=data[\"semi_major_axis\"]*data[\"mass\"])\n",
    "    #print(data)\n",
    "    # Group by each planet in the system:\n",
    "    p_system = data.groupby(\"star_name\") \n",
    "    system = list(p_system.groups.keys())\n",
    "    # Total mass per system:\n",
    "    M_total = p_system[\"mass\"].sum()\n",
    "    sum_rm = p_system['CM_i'].sum() # sum of masses in each system.\n",
    "    # Center of mass:\n",
    "    CoM = sum_rm.divide(M_total)\n",
    "    \n",
    "    system = list(p_system.groups.keys())\n",
    "    \n",
    "    NewData = pd.DataFrame({'System_name':system,\n",
    "                            'Total_mass':M_total.tolist(),\n",
    "                            'Center_of_Mass':CoM.tolist()})\n",
    "\n",
    "    return NewData\n",
    "\n",
    "CoM=CoM(data);#CoM"
   ]
  },
  {
   "cell_type": "markdown",
   "metadata": {
    "slideshow": {
     "slide_type": "subslide"
    }
   },
   "source": [
    "Therefore, the distribution of the $r_\\text{cm}$"
   ]
  },
  {
   "cell_type": "code",
   "execution_count": 30,
   "metadata": {
    "slideshow": {
     "slide_type": "fragment"
    }
   },
   "outputs": [
    {
     "data": {
      "text/plain": [
       "<matplotlib.legend.Legend at 0x7f52fce797f0>"
      ]
     },
     "execution_count": 30,
     "metadata": {},
     "output_type": "execute_result"
    },
    {
     "data": {
      "image/png": "[encoded data removed]",
      "text/plain": [
       "<Figure size 720x360 with 1 Axes>"
      ]
     },
     "metadata": {
      "needs_background": "light"
     },
     "output_type": "display_data"
    }
   ],
   "source": [
    "#histogram \n",
    "lat=15\n",
    "\n",
    "x=CoM.Center_of_Mass.values\n",
    "\n",
    "fig, ax = plt.subplots(1, 1, figsize=(10, 5))\n",
    "\n",
    "ax = sb.distplot(np.log10(x), bins=60, label=r\"Histogram of $r_\\text{cm}$\",\n",
    "                kde_kws={\"lw\": 2, \"label\": r\"Density estimation\"})\n",
    "\n",
    "ax.set_xticklabels([r'$10^{-3}$',r'$10^{-2}$',r'$10^{-1}$',r'$10^{0}$',\n",
    "                    r'$10^{1}$',r'$10^{2}$',r'$10^{3}$'])#,\n",
    "#                    r'$10^{3}$',r'$10^{4}$'])\n",
    "\n",
    "ax.set(xlim=(np.log10(x).min(),np.log10(x).max()))\n",
    "\n",
    "plt.xlabel(r\"$\\log_{10}(r_\\text{cm})$ (AU)\", fontsize=lat)\n",
    "plt.ylabel(r\"Counts\", fontsize=lat)\n",
    "ax.tick_params(labelsize=lat)\n",
    "plt.legend(fontsize=lat)\n",
    "#plt.savefig(\"figures/CMhist.pdf\",bbox_inches='tight')"
   ]
  },
  {
   "cell_type": "markdown",
   "metadata": {
    "slideshow": {
     "slide_type": "fragment"
    }
   },
   "source": [
    "However, the calculus of the $r_\\text{cm}$, was made without take into account the mass of the star."
   ]
  },
  {
   "cell_type": "markdown",
   "metadata": {
    "slideshow": {
     "slide_type": "slide"
    }
   },
   "source": [
    "## 3. Gaussian Mixture Model\n",
    "\n",
    "At first we will use the Gaussian Mixture Model to clasify the $r_\\text{cm}$ in $n$ finite distributions. Python has the library `sckit-learn`, which uses the Expectation Maximization algorithm to determine the maximum likelihood for  a determined number $n$ of clusters (more informtion  <a href=\"https://scikit-learn.org/stable/modules/mixture.html\">Gaussian Mixture</a>). \n",
    "\n",
    "\n",
    "### Class: Classification\n",
    "\n",
    "We use the `GaussianMixture` package from `sckit-learn` to classify our data in different clusrers ($n$). Here, we employ the number of compnents, `n_components` as the numer of clusters $n$. We also use criteria to determine the ideal number of clusters. To do that we implement oriented programming language. "
   ]
  },
  {
   "cell_type": "code",
   "execution_count": 49,
   "metadata": {},
   "outputs": [],
   "source": [
    "# data is a DataFrame with the previous column Center_of_Mass.\n",
    "\n",
    "class classification:\n",
    "\n",
    "    def __init__(self, data, log=False):\n",
    "        if log==True:\n",
    "            self.data=np.reshape(np.log10(data.Center_of_Mass.values),(-1,1))\n",
    "        else: \n",
    "            self.data=np.reshape(data.Center_of_Mass.values,(-1,1))\n",
    "    \n",
    "    def GMM(self, n_components):\n",
    "        self.gmm = GaussianMixture(n_components, covariance_type='full', random_state=0)\n",
    "        self.gmm.fit(self.data)\n",
    "        self.cluster_label = self.gmm.predict(self.data)\n",
    "        \n",
    "        #plot\n",
    "    def cluster_plot(self):\n",
    "        color = [\"C\"+str(CL[i]+1) for i in range(len(cluster_label))]\n",
    "        x     = np.linspace(min(self.data),max(self.data),1000)\n",
    "        \n",
    "        "
   ]
  },
  {
   "cell_type": "code",
   "execution_count": 45,
   "metadata": {},
   "outputs": [],
   "source": [
    "def classif(n_components, data, log=False):\n",
    "    mass=data.\n",
    "    gmm = GaussianMixture(n_components, \n",
    "                          covariance_type='full',\n",
    "                          random_state=0)\n",
    "    gmm.fit(mass.values)\n",
    "    cluster_label = gmm.predict(mass.values)\n",
    "    \n",
    "    #Figures:\n",
    "    CL = cluster_label\n",
    "    color=[\"C\"+str(CL[i]+1) for i in range(len(cluster_label))]\n",
    "    x=np.linspace(mass.values.min(),mass.values.max(),1000)\n",
    "        \n",
    "    figure, ax = plt.subplots(1, 2, sharex='col', \n",
    "                              sharey='row', figsize=(10, 5))\n",
    "    \n",
    "    #Gaussians:\n",
    "    for c in range(n_components):\n",
    "        ax[0].plot(x,norm.pdf(x,gmm.means_[c],\n",
    "                              gmm.covariances_[c])[0]/\n",
    "                   norm.pdf(x,gmm.means_[c],\n",
    "                            gmm.covariances_[c])[0].max())\n",
    "\n",
    "    #Scatter:\n",
    "        Mass_a=mass.values[CL==c]    \n",
    "        ax[0].plot(Mass_a,\n",
    "                   np.zeros(len(Mass_a)),\"o\",label='cluster '+str(c+1))#,\n",
    "#                   color='C'+str(c))\n",
    "        ax[1].plot(mass,gmm.predict_proba(mass)[:,c],\"o\",\n",
    "                   label=r'Pcluster '+str(c+1))\n",
    "    \n",
    "    if log==True:\n",
    "        ax[0].set(xlabel=r'$\\log_{10}$(Mass)')\n",
    "        ax[1].set(xlabel=r'$\\log_{10}$(Mass)')\n",
    "    else:\n",
    "        ax[0].set(xlabel=r'Mass')\n",
    "        ax[1].set(xlabel=r'Mass')\n",
    "        \n",
    "    ax[0].set(ylabel=r'Normal distribution')\n",
    "    ax[1].set(ylabel=r'Posterior probabilities')\n",
    "\n",
    "    ax[0].legend()  \n",
    "    ax[1].legend() \n",
    "        \n",
    "    plt.subplots_adjust(wspace = .1)"
   ]
  },
  {
   "cell_type": "code",
   "execution_count": 48,
   "metadata": {},
   "outputs": [
    {
     "data": {
      "image/png": "[encoded data removed]",
      "text/plain": [
       "<Figure size 720x360 with 2 Axes>"
      ]
     },
     "metadata": {
      "needs_background": "light"
     },
     "output_type": "display_data"
    }
   ],
   "source": [
    "A=classif(4, np.log10(CoM[[\"Center_of_Mass\"]]), True)"
   ]
  },
  {
   "cell_type": "code",
   "execution_count": 40,
   "metadata": {},
   "outputs": [
    {
     "data": {
      "text/plain": [
       "array([2, 3, 2, 1, 2, 2, 2, 1, 2, 3, 2, 2, 1, 1, 1, 2, 1, 2, 2, 1, 1, 2,\n",
       "       2, 2, 2, 2, 1, 2, 3, 2, 3, 3, 2, 2, 3, 0, 3, 3, 2, 2, 3, 3, 2, 2,\n",
       "       1, 2, 0, 0, 0, 0, 0, 0, 0, 0, 0, 0, 0, 0, 0, 2, 0, 0, 0, 0, 0, 0,\n",
       "       0, 0, 0, 0, 0, 0, 0, 0, 0, 0, 0, 0, 3, 3, 2, 1, 3, 0, 0, 0, 0, 0,\n",
       "       3, 3, 0, 0, 0, 0, 0, 0, 0, 0, 0, 0, 0, 0, 1, 0, 0, 0, 0, 3, 2, 0,\n",
       "       2, 0, 0, 3, 1, 2, 3, 0, 0, 0, 0, 0, 0, 0, 0, 0, 3, 0, 2, 3, 2, 3,\n",
       "       3, 1, 2, 2, 3, 3, 0, 1, 1, 1, 0, 0, 0, 0, 2, 0, 0, 0, 0, 0, 0, 0,\n",
       "       0, 0, 0, 0, 0, 0, 0, 0, 0, 0, 0, 0, 0, 0, 0, 0, 0, 0, 0, 0, 0, 0,\n",
       "       0, 0, 3, 0, 3, 0, 0, 0, 0, 0, 0, 0, 0, 0, 0, 0, 0, 0, 0, 0, 0, 0,\n",
       "       0, 0, 0, 0, 0, 0, 0, 0, 0, 0, 3, 0, 0, 0, 0, 0, 0, 0, 0, 0, 0, 0,\n",
       "       0, 0, 0, 0, 0, 0, 0, 0, 0, 0, 0, 0, 0, 0, 0, 0, 0, 0, 0, 0, 0, 0,\n",
       "       0, 0, 2, 0, 0, 0, 0, 2, 2, 3, 2, 2, 3, 0, 3, 0, 0, 3, 2, 2, 0, 2,\n",
       "       2, 2, 1, 2, 3, 0, 2, 2, 2, 3, 3, 2, 2, 2, 2, 2, 2, 3, 2, 2, 1, 2,\n",
       "       2, 3, 2, 2, 2, 2, 2, 3, 0, 3, 2, 2, 2, 2, 2, 2, 2, 2, 2, 2, 3, 2,\n",
       "       2, 3, 2, 2, 3, 2, 2, 2, 2, 2, 2, 2, 2, 0, 3, 3, 2, 0, 2, 3, 2, 2,\n",
       "       2, 0, 2, 2, 2, 2, 2, 2, 3, 2, 3, 2, 2, 2, 3, 2, 0, 2, 2, 3, 2, 2,\n",
       "       3, 2, 2, 2, 3, 2, 2, 2, 2, 2, 2, 2, 2, 2, 2, 2, 3, 2, 2, 2, 2, 0,\n",
       "       2, 2, 2, 2, 2, 2, 0, 0, 2, 2, 2, 2, 3, 1, 3, 2, 2, 2, 3, 2, 2, 2,\n",
       "       2, 2, 2, 2, 3, 2, 2, 3, 3, 2, 2, 2, 0, 2, 2, 2, 2, 0, 2, 3, 3, 2,\n",
       "       2, 3, 2, 2, 2, 2, 2, 2, 2, 2, 2, 2, 2, 2, 2, 2, 2, 2, 2, 2, 2, 2,\n",
       "       2, 2, 2, 2, 0, 0, 2, 2, 2, 2, 2, 2, 2, 2, 3, 0, 3, 2, 2, 2, 2, 3,\n",
       "       3, 2, 2, 2, 2, 2, 2, 0, 2, 3, 2, 2, 0, 2, 2, 2, 3, 0, 2, 2, 2, 2,\n",
       "       2, 2, 2, 1, 2, 3, 3, 2, 3, 2, 2, 2, 2, 2, 2, 2, 2, 2, 2, 2, 0, 2,\n",
       "       2, 3, 2, 2, 2, 2, 2, 2, 3, 0, 0, 2, 3, 3, 2, 2, 0, 2, 2, 3, 2, 2,\n",
       "       2, 2, 2, 2, 2, 0, 3, 3, 2, 3, 3, 3, 1, 2, 2, 2, 2, 2, 3, 2, 0, 2,\n",
       "       1, 2, 2, 0, 2, 1, 1, 2, 3, 2, 3, 0, 2, 3, 2, 2, 1, 3, 2, 2, 2, 2,\n",
       "       1, 1, 2, 2, 1, 1, 2, 0, 2, 1, 1, 2, 1, 2, 2, 0, 0, 3, 3, 0, 0, 0,\n",
       "       3, 0, 3, 0, 0, 3, 0, 0, 0, 0, 0, 0, 0, 3, 0, 0, 0, 0, 0, 0, 0, 0,\n",
       "       0, 0, 0, 0, 2, 0, 0, 2, 3, 2, 2, 0, 0, 0, 3, 0, 0, 3, 3, 0, 3, 0,\n",
       "       0, 2, 3, 2, 2, 0, 0, 0, 3, 0, 3, 2, 3, 0, 0, 3, 3, 0, 0, 0, 0, 2,\n",
       "       3, 0, 0, 3, 0, 3, 0, 0, 0, 0, 3, 0, 2, 3, 0, 3, 3, 3, 0, 3, 3, 0,\n",
       "       3, 0, 2, 0, 0, 0, 0, 0, 0, 3, 0, 3, 3, 3, 0, 0, 0, 1, 0, 0, 0, 3,\n",
       "       2, 2, 2, 2, 2, 2, 2, 2, 2, 2, 2, 2, 2, 2, 2, 2, 2, 2, 2, 2, 2, 0,\n",
       "       0, 0, 0, 2, 2, 2, 2, 2, 2, 2, 3, 2, 2, 3, 2, 2, 2, 2, 2, 2, 2, 2,\n",
       "       3, 2, 2, 3, 2, 2, 2, 2, 2, 2, 3, 2, 2, 3, 3, 2, 2, 2, 3, 2, 0, 0,\n",
       "       0, 0, 0, 0, 0, 0, 2, 0, 2, 1, 2, 0, 0, 0, 0, 0, 0, 0, 1, 1, 2, 0,\n",
       "       1, 0, 0, 2, 2, 3, 0, 0, 0, 0, 0, 2, 1, 1, 1, 2, 2, 0, 1, 0, 0, 0,\n",
       "       0, 0, 0, 0, 0, 0, 0, 0, 0, 0, 0, 0, 0, 0, 0, 0, 0, 0, 0, 0, 0, 0,\n",
       "       0, 0, 0, 0, 0, 0, 0, 0, 0, 0, 0, 0, 0, 0, 0, 0, 0, 0, 0, 0, 0, 0,\n",
       "       0, 0, 0, 0, 0, 0, 0, 0, 0, 0, 0, 0, 0, 0, 0, 0, 0, 0, 0, 0, 0, 0,\n",
       "       0, 0, 0, 0, 0, 0, 0, 0, 0, 0, 0, 0, 0, 0, 0, 0, 0, 0, 0, 0, 0, 2,\n",
       "       0, 0, 0, 0, 0, 2, 0, 0, 0, 0, 0, 2, 0, 0, 0, 0, 0, 0, 0, 0, 0, 0,\n",
       "       0, 0, 0, 0, 0, 0, 0, 0, 0, 0, 0, 0, 0, 0, 2, 0, 0, 0, 0, 0, 0, 0,\n",
       "       0, 0, 0, 0, 0, 0, 0, 0, 0, 0, 0, 0, 2, 1, 2, 0, 0, 3, 0, 0, 3, 0,\n",
       "       0, 0, 0, 0, 2, 1, 2, 2, 1, 2, 2, 2, 2, 1, 3, 2, 2, 3, 2])"
      ]
     },
     "execution_count": 40,
     "metadata": {},
     "output_type": "execute_result"
    }
   ],
   "source": [
    "AA = classification(CoM, True)\n",
    "AA.GMM(4)\n",
    "AA.cluster_label"
   ]
  },
  {
   "cell_type": "code",
   "execution_count": 31,
   "metadata": {
    "slideshow": {
     "slide_type": "subslide"
    }
   },
   "outputs": [],
   "source": [
    "#'n_components' is the number of clusters.\n",
    "# \"data\" is a data frame with a Center_of_Mass. \n",
    "\n",
    "def classification(n_components, data, log=False):\n",
    "    \n",
    "    x = np.reshape(data.Center_of_Mass.values,(-1,1))\n",
    "    \n",
    "    gmm = GaussianMixture(n_components, covariance_type='full', random_state=0)\n",
    "    gmm.fit(x)\n",
    "    cluster_label = gmm.predict(x)\n",
    "    \n",
    "    return cluster_label"
   ]
  },
  {
   "cell_type": "code",
   "execution_count": 47,
   "metadata": {},
   "outputs": [
    {
     "data": {
      "image/png": "[encoded data removed]",
      "text/plain": [
       "<Figure size 720x360 with 2 Axes>"
      ]
     },
     "metadata": {
      "needs_background": "light"
     },
     "output_type": "display_data"
    }
   ],
   "source": [
    "a = classification(4, np.log10(CoM[[\"Center_of_Mass\"]]), True)\n"
   ]
  },
  {
   "cell_type": "code",
   "execution_count": 12,
   "metadata": {},
   "outputs": [
    {
     "ename": "NameError",
     "evalue": "name 'n_components' is not defined",
     "output_type": "error",
     "traceback": [
      "\u001b[0;31m---------------------------------------------------------------------------\u001b[0m",
      "\u001b[0;31mNameError\u001b[0m                                 Traceback (most recent call last)",
      "\u001b[0;32m<ipython-input-12-b584331e6531>\u001b[0m in \u001b[0;36m<module>\u001b[0;34m\u001b[0m\n\u001b[1;32m      1\u001b[0m \u001b[0mx\u001b[0m \u001b[0;34m=\u001b[0m \u001b[0mnp\u001b[0m\u001b[0;34m.\u001b[0m\u001b[0mreshape\u001b[0m\u001b[0;34m(\u001b[0m\u001b[0mnp\u001b[0m\u001b[0;34m.\u001b[0m\u001b[0mlog10\u001b[0m\u001b[0;34m(\u001b[0m\u001b[0mCoM\u001b[0m\u001b[0;34m.\u001b[0m\u001b[0mCenter_of_Mass\u001b[0m\u001b[0;34m.\u001b[0m\u001b[0mvalues\u001b[0m\u001b[0;34m)\u001b[0m\u001b[0;34m,\u001b[0m\u001b[0;34m(\u001b[0m\u001b[0;34m-\u001b[0m\u001b[0;36m1\u001b[0m\u001b[0;34m,\u001b[0m\u001b[0;36m1\u001b[0m\u001b[0;34m)\u001b[0m\u001b[0;34m)\u001b[0m\u001b[0;34m\u001b[0m\u001b[0;34m\u001b[0m\u001b[0m\n\u001b[0;32m----> 2\u001b[0;31m \u001b[0mgmm\u001b[0m \u001b[0;34m=\u001b[0m \u001b[0mGaussianMixture\u001b[0m\u001b[0;34m(\u001b[0m\u001b[0mn_components\u001b[0m\u001b[0;34m,\u001b[0m \u001b[0mcovariance_type\u001b[0m\u001b[0;34m=\u001b[0m\u001b[0;34m'full'\u001b[0m\u001b[0;34m,\u001b[0m \u001b[0mrandom_state\u001b[0m\u001b[0;34m=\u001b[0m\u001b[0;36m0\u001b[0m\u001b[0;34m)\u001b[0m\u001b[0;34m\u001b[0m\u001b[0;34m\u001b[0m\u001b[0m\n\u001b[0m\u001b[1;32m      3\u001b[0m \u001b[0mgmm\u001b[0m\u001b[0;34m.\u001b[0m\u001b[0mfit\u001b[0m\u001b[0;34m(\u001b[0m\u001b[0mx\u001b[0m\u001b[0;34m)\u001b[0m\u001b[0;34m\u001b[0m\u001b[0;34m\u001b[0m\u001b[0m\n",
      "\u001b[0;31mNameError\u001b[0m: name 'n_components' is not defined"
     ]
    }
   ],
   "source": [
    "x = np.reshape(np.log10(CoM.Center_of_Mass.values),(-1,1))\n",
    "gmm = GaussianMixture(n_components, covariance_type='full', random_state=0)   \n",
    "gmm.fit(x)"
   ]
  },
  {
   "cell_type": "code",
   "execution_count": null,
   "metadata": {},
   "outputs": [],
   "source": [
    "#Figures:\n",
    "n_components = 4\n",
    "CL = classification(4, CoM, True)\n",
    "color=[\"C\"+str(CL[i]+1) for i in range(len(CL))]\n",
    "xx=np.linspace(x.min(),x.max(),1000)\n",
    "        \n",
    "figure, ax = plt.subplots(1, 2, sharex='col', sharey='row', figsize=(10, 5))\n",
    " \n",
    "\n",
    "#Gaussians:\n",
    "for c in range(n_components):\n",
    "    ax[0].plot(xx,norm.pdf(xx,gmm.means_[c],\n",
    "                          gmm.covariances_[c])[0]/\n",
    "               norm.pdf(xx,gmm.means_[c],\n",
    "                        gmm.covariances_[c])[0].max())\n",
    "\n",
    "#Scatter:\n",
    "    Mass_a=x[CL==c]    \n",
    "    ax[0].plot(Mass_a,\n",
    "               np.zeros(len(Mass_a)),\"o\",label='cluster '+str(c+1),color='C'+str(c))\n",
    "    ax[1].plot(x,gmm.predict_proba(x)[:,c],\"o\",\n",
    "                   label=r'Pcluster '+str(c+1))\n",
    "\n",
    "ax[0].set(xlabel=r'Mass')\n",
    "ax[1].set(xlabel=r'Mass')\n",
    "        \n",
    "ax[0].set(ylabel=r'Normal distribution')\n",
    "ax[1].set(ylabel=r'Posterior probabilities')\n",
    "\n",
    "ax[0].legend()  \n",
    "ax[1].legend() \n",
    "        "
   ]
  },
  {
   "cell_type": "code",
   "execution_count": null,
   "metadata": {},
   "outputs": [],
   "source": []
  },
  {
   "cell_type": "code",
   "execution_count": null,
   "metadata": {},
   "outputs": [],
   "source": []
  },
  {
   "cell_type": "code",
   "execution_count": null,
   "metadata": {},
   "outputs": [],
   "source": []
  },
  {
   "cell_type": "markdown",
   "metadata": {},
   "source": [
    "### Function: Information Criterion AIC/BIC\n",
    "Now, we need to determine the idel number of clusters. To do that, we use the information criterion as strategy to avoiding underfit or overfit. The information criteria determine the quality of models and score them (more information <a href=\"https://en.wikipedia.org/wiki/Model_selection#Criteria\">Model selection</a>).  \n",
    "\n",
    "\n",
    "We define a function wich gets the information criteria for different numbers of components (the number of mixture components $n$), in order to obtain the minimum value of criterium to determine the ideal number of clsuters. The lowest BIC/AIC is preferred.\n",
    "\n",
    "Then, it plots the BIC and AIC values to observe their behavior."
   ]
  },
  {
   "cell_type": "code",
   "execution_count": null,
   "metadata": {
    "slideshow": {
     "slide_type": "fragment"
    }
   },
   "outputs": [],
   "source": [
    "# \"data\" is a data frame with a Center_of_Mass. \n",
    "# \"times\" is the number of clusters in the criteria: AIC and BIC\n",
    "\n",
    "def inf_criterion(times, data, log=False):\n",
    "    \n",
    "    bic, aic = [], []\n",
    "    \n",
    "    if log==True:\n",
    "        x = np.reshape(np.log10(data.Center_of_Mass.values), (-1,1))\n",
    "    else:\n",
    "        x = np.reshape(data.Center_of_Mass.values, (-1,1))\n",
    "    \n",
    "    for i in range(times):\n",
    "        i += 1\n",
    "        gmm = GaussianMixture(i, covariance_type='full', random_state=0)\n",
    "        gmm.fit(x)\n",
    "        bic.append(gmm.bic(x)); aic.append(gmm.aic(x))\n",
    "    \n",
    "    criteria = [bic,aic]  \n",
    "    min_criteria = [min(criteria[0])/max(criteria[0]),min(criteria[1])/max(criteria[1])]\n",
    "    \n",
    "    print('Ideal number of clusters, BIC = '+str(criteria[0].index(min(criteria[0]))+1))\n",
    "    print('Ideal number of clusters, AIC = '+str(criteria[1].index(min(criteria[1]))+1))   \n",
    "    \n",
    "    return criteria"
   ]
  },
  {
   "cell_type": "code",
   "execution_count": null,
   "metadata": {
    "slideshow": {
     "slide_type": "skip"
    }
   },
   "outputs": [],
   "source": [
    "#comparison between AIC and BIC criteria----------------(plot)------------------------\n",
    "\n",
    "def plot_criteria(criteria):\n",
    "  \n",
    "    figure, ax = plt.subplots(1, 2, sharex='col', sharey='row', figsize=(9, 4))\n",
    "    let   = 15 \n",
    "    label = ['BIC','AIC']\n",
    "\n",
    "    for i,criterium in enumerate(criteria):\n",
    "        dim  = len(criteria[i])\n",
    "        norm = min(criteria[i])/max(criteria[i])\n",
    "        \n",
    "        ax[i].plot(range(1, dim+1), criteria[i]/max(criteria[i]), \"o\",\n",
    "                   c=\"C1\",label=label[i]+\" values\")\n",
    "        ax[i].plot(range(1, dim+1),criteria[i]/max(criteria[i]))#, label=label[i])\n",
    "        ax[i].plot(range(1, dim+1),np.ones(dim)*norm,\n",
    "                   \"--\",label=r\"Ideal clusters \"+str(criteria[i].index(min(criteria[i]))+1) )\n",
    "\n",
    "        ax[i].set_xlabel(r'Number of clusters', fontsize=let+1)\n",
    "        ax[i].legend(fontsize=let, loc=1,edgecolor='black')\n",
    "        ax[i].set_xlim(0, dim+1)\n",
    "        ax[i].set_xticks(np.arange(0, dim, step=2))\n",
    "        ax[i].tick_params(labelsize=let)\n",
    "\n",
    "    ax[0].set_ylabel(r'Criterium value normalized', fontsize=let+1)\n",
    "    return [bic,aic]"
   ]
  },
  {
   "cell_type": "markdown",
   "metadata": {
    "slideshow": {
     "slide_type": "subslide"
    }
   },
   "source": [
    "The ideal numer of cluster to group the center of mass $r_\\text{cm}$ is determined through:  "
   ]
  },
  {
   "cell_type": "code",
   "execution_count": null,
   "metadata": {
    "slideshow": {
     "slide_type": "fragment"
    }
   },
   "outputs": [],
   "source": [
    "b = inf_criterion(15, CoM, False)\n",
    "b_plot = plot_criteria(b)"
   ]
  },
  {
   "cell_type": "markdown",
   "metadata": {
    "slideshow": {
     "slide_type": "subslide"
    }
   },
   "source": [
    "The ideal numer of cluster to group the logarithm of the center of mass $r_\\text{cm}$ is determined through: "
   ]
  },
  {
   "cell_type": "code",
   "execution_count": null,
   "metadata": {
    "slideshow": {
     "slide_type": "fragment"
    }
   },
   "outputs": [],
   "source": [
    "a = inf_criterion(15, CoM, log=True)\n",
    "a_plot = plot_criteria(a)"
   ]
  },
  {
   "cell_type": "code",
   "execution_count": null,
   "metadata": {},
   "outputs": [],
   "source": []
  },
  {
   "cell_type": "code",
   "execution_count": null,
   "metadata": {},
   "outputs": [],
   "source": []
  },
  {
   "cell_type": "code",
   "execution_count": null,
   "metadata": {},
   "outputs": [],
   "source": []
  },
  {
   "cell_type": "code",
   "execution_count": null,
   "metadata": {},
   "outputs": [],
   "source": []
  },
  {
   "cell_type": "code",
   "execution_count": null,
   "metadata": {},
   "outputs": [],
   "source": []
  },
  {
   "cell_type": "code",
   "execution_count": null,
   "metadata": {},
   "outputs": [],
   "source": []
  },
  {
   "cell_type": "code",
   "execution_count": null,
   "metadata": {},
   "outputs": [],
   "source": []
  },
  {
   "cell_type": "code",
   "execution_count": null,
   "metadata": {},
   "outputs": [],
   "source": []
  },
  {
   "cell_type": "code",
   "execution_count": null,
   "metadata": {},
   "outputs": [],
   "source": []
  },
  {
   "cell_type": "code",
   "execution_count": null,
   "metadata": {},
   "outputs": [],
   "source": []
  },
  {
   "cell_type": "code",
   "execution_count": null,
   "metadata": {},
   "outputs": [],
   "source": []
  },
  {
   "cell_type": "code",
   "execution_count": null,
   "metadata": {},
   "outputs": [],
   "source": []
  },
  {
   "cell_type": "code",
   "execution_count": null,
   "metadata": {},
   "outputs": [],
   "source": []
  },
  {
   "cell_type": "code",
   "execution_count": null,
   "metadata": {},
   "outputs": [],
   "source": []
  },
  {
   "cell_type": "code",
   "execution_count": null,
   "metadata": {
    "slideshow": {
     "slide_type": "subslide"
    }
   },
   "outputs": [],
   "source": []
  },
  {
   "cell_type": "code",
   "execution_count": null,
   "metadata": {},
   "outputs": [],
   "source": []
  },
  {
   "cell_type": "code",
   "execution_count": null,
   "metadata": {},
   "outputs": [],
   "source": [
    "class_mass = classification(4, np.log10(CoM[[\"Center_of_Mass\"]]),True)"
   ]
  },
  {
   "cell_type": "code",
   "execution_count": null,
   "metadata": {},
   "outputs": [],
   "source": []
  },
  {
   "cell_type": "code",
   "execution_count": null,
   "metadata": {},
   "outputs": [],
   "source": []
  },
  {
   "cell_type": "code",
   "execution_count": null,
   "metadata": {},
   "outputs": [],
   "source": []
  },
  {
   "cell_type": "code",
   "execution_count": null,
   "metadata": {},
   "outputs": [],
   "source": []
  },
  {
   "cell_type": "code",
   "execution_count": null,
   "metadata": {},
   "outputs": [],
   "source": []
  },
  {
   "cell_type": "code",
   "execution_count": null,
   "metadata": {},
   "outputs": [],
   "source": []
  },
  {
   "cell_type": "code",
   "execution_count": null,
   "metadata": {},
   "outputs": [],
   "source": []
  },
  {
   "cell_type": "code",
   "execution_count": null,
   "metadata": {},
   "outputs": [],
   "source": []
  },
  {
   "cell_type": "code",
   "execution_count": null,
   "metadata": {},
   "outputs": [],
   "source": []
  },
  {
   "cell_type": "code",
   "execution_count": null,
   "metadata": {},
   "outputs": [],
   "source": []
  },
  {
   "cell_type": "markdown",
   "metadata": {},
   "source": [
    "### Function: Fraction changed\n",
    "This function generates 1000 synthetic systems ( _Dawns_ ) per each data (the mass an its uncertainty). We take draws from this, and stimate the validation of the classification.\n",
    "\n",
    "The posteriror probabilities are determinated by the function `gmm.predict()`"
   ]
  },
  {
   "cell_type": "code",
   "execution_count": null,
   "metadata": {},
   "outputs": [],
   "source": [
    "def fraction_changed(data, dawns):\n",
    "    \n",
    "    p_system    = data.groupby(\"star_name\")\n",
    "    system_list = list(p_system.groups.keys())\n",
    "    draws       = [] #draws of COM for each system. \n",
    "    \n",
    "    for i in range(len(system_list)):\n",
    "        \n",
    "        system_i      = data[data.star_name == system_list[i]]  \n",
    "        system_i_mass = np.zeros(dawns)\n",
    "        cm_i          = np.zeros(dawns) \n",
    "        \n",
    "        for k in range(len(system_i)):\n",
    "            masses = np.random.normal(system_i.mass.values[k],\n",
    "                                      system_i.mass_error_min.values[k],\n",
    "                                      dawns)\n",
    "            axes = np.random.normal(system_i.semi_major_axis.values[k],\n",
    "                                    system_i.semi_major_axis_error_min.values[k],\n",
    "                                    dawns)\n",
    "            cm_i          += masses*axes\n",
    "            system_i_mass += masses\n",
    "        #draws.append([np.abs(cm_i/system_i_mass)]\n",
    "        draws.append([cm_i/system_i_mass])\n",
    "    draws = np.array(draws)\n",
    "    draws = draws[draws>0]\n",
    "    return draws\n",
    "        "
   ]
  },
  {
   "cell_type": "code",
   "execution_count": null,
   "metadata": {},
   "outputs": [],
   "source": [
    "frc = fraction_changed(data,1000)\n",
    "len(frc)"
   ]
  },
  {
   "cell_type": "code",
   "execution_count": null,
   "metadata": {},
   "outputs": [],
   "source": [
    "from scipy.stats import truncnorm\n",
    "a=0.1\n",
    "b=2\n",
    "x = np.linspace(truncnorm.ppf(0.01, a, b), \n",
    "                truncnorm.ppf(0.99, a, b), \n",
    "                100)\n",
    "#print(x)\n",
    "#plt.plot(truncnorm.ppf(x,a,b),x)\n",
    "\n",
    "#r = truncnorm.rvs(a, b, size=1000)\n",
    "#len(r)"
   ]
  },
  {
   "cell_type": "code",
   "execution_count": null,
   "metadata": {},
   "outputs": [],
   "source": [
    "#list(p_system.groups.keys())"
   ]
  },
  {
   "cell_type": "code",
   "execution_count": null,
   "metadata": {},
   "outputs": [],
   "source": [
    "system_list = list(p_system.groups.keys())\n",
    "len(system_list)"
   ]
  },
  {
   "cell_type": "code",
   "execution_count": null,
   "metadata": {},
   "outputs": [],
   "source": [
    "data[data.star_name == list(p_system.groups.keys())[i]]"
   ]
  },
  {
   "cell_type": "code",
   "execution_count": null,
   "metadata": {},
   "outputs": [],
   "source": [
    "list(p_system.groups.keys())[1]"
   ]
  },
  {
   "cell_type": "code",
   "execution_count": null,
   "metadata": {},
   "outputs": [],
   "source": [
    "#'dawns' is the number of synthetic systems per each data known\n",
    "#'data' is a DataFrame of the data, with column \"Center of Mass\"\n",
    "#'n_components' is the number of clusters for the lowest BIC/AIC.\n",
    "\n",
    "def fraction_changed(n_components, dawns, data, log=False):\n",
    "    \n",
    "    draws=[]\n",
    "\n",
    "    #1000 draws per planetary mass or systrem mass\n",
    "    \n",
    "    for i in range(len(data.values)):\n",
    "        masses=np.random.normal(data.mass.values[i],\n",
    "                                data.mass_error_min.values[i],\n",
    "                                dawns)\n",
    "        masses = masses[masses>0]\n",
    "        draws += [masses]\n",
    "\n",
    "    if log==True:\n",
    "        mass = np.log10(data[[\"mass\"]])\n",
    "        draws = [np.log10(i) for i in draws]\n",
    "        \n",
    "    else:\n",
    "        mass = data[[\"mass\"]]\n",
    "     \n",
    "    #Gausian mixture model for masses  data:  \n",
    "    gmm = GaussianMixture(n_components,covariance_type='full',random_state=0)\n",
    "    gmm.fit(mass.values)\n",
    "    cluster_label = gmm.predict(mass.values)\n",
    "         \n",
    "    #fraction of the synthttic systems wich change classification group:\n",
    "    fraction_changed = []\n",
    "    \n",
    "    #to get only the posotice values of the draws, just get tyhe positives values: \n",
    "    #draws = [i for i in draws if i > 0] or None\n",
    "    \n",
    "    for index in range(len(draws)):\n",
    "        #draw_i=np.abs(draws[index][:,np.newaxis])\n",
    "        draw_i=draws[index][:,np.newaxis]\n",
    "        orig=gmm.predict(np.array(mass))[index]\n",
    "        fraction_changed+=[(orig!=gmm.predict(draw_i)).sum()/1000]\n",
    "    lid=[len(i) for i in draws]\n",
    "    #print( np.min(lid),np.mean(lid) )\n",
    "    return(draws)\n",
    "    #return((np.array(fraction_changed)<=0.1).sum()/len(fraction_changed))\n",
    "    #return fraction_changed"
   ]
  },
  {
   "cell_type": "code",
   "execution_count": null,
   "metadata": {},
   "outputs": [],
   "source": [
    "#frac_mass=fraction_changed(4,1000,CoM[[\"Center_of_Mass\"]],False)"
   ]
  },
  {
   "cell_type": "code",
   "execution_count": null,
   "metadata": {},
   "outputs": [],
   "source": [
    "#np.log10(data[[\"Center_of_Mass\"]])==np.log10(CoM[[\"Center_of_Mass\"]])"
   ]
  },
  {
   "cell_type": "code",
   "execution_count": null,
   "metadata": {},
   "outputs": [],
   "source": [
    "#GaussianMixture:  a firs approximation for 10 grups\n",
    "#----------------------------------------------------------------------\n",
    "data = CoM\n",
    "gmm = GaussianMixture(1, covariance_type='full', random_state=0)\n",
    "CM=CoM[[\"Center_of_Mass\"]]\n",
    "gmm.fit(CM.values)\n",
    "cluster_label = gmm.predict(CM.values)\n",
    "plt.scatter((CM.values),np.zeros(len(CM)), c=cluster_label);\n",
    "plt.ylim(-0.1,0.1)\n",
    "plt.xlabel(r\"Center Of Mass (AU)\", fontsize=\"15\")\n",
    "#For the CoM is nessesary emply a Logarithm sclae."
   ]
  },
  {
   "cell_type": "code",
   "execution_count": null,
   "metadata": {},
   "outputs": [],
   "source": [
    "#the log10scale for center of mass of each exoplanetary system:\n",
    "#----------------------------------------------------------------------\n",
    "CM_log=np.log10(data[[\"Center_of_Mass\"]])\n",
    "\n",
    "GMM,cluster=[],[]\n",
    "\n",
    "#Some different components for Gaussian Mixture Model: \n",
    "#----------------------------------------------------------------------\n",
    "for i in [2,3]:\n",
    "    gmm = GaussianMixture(i, covariance_type='full', random_state=0)\n",
    "    GMM.append(gmm)\n",
    "    gmm.fit(CM_log.values)\n",
    "    cluster_label = gmm.predict(CM_log.values)\n",
    "    cluster.append(cluster_label)\n",
    "\n",
    "# (just a plot for two grups)\n",
    "#----------------------------------------------------------------------\n",
    "#plt.rc('text', usetex=True)\n",
    "\n",
    "color=[]\n",
    "#len(cluster[0])\n",
    "for i in range(len(cluster[0])):\n",
    "    if cluster[0][i] == 0:\n",
    "        color.append(\"C1\")\n",
    "    elif cluster[0][i] == 1:\n",
    "        color.append(\"C2\")\n",
    "\n",
    "x=np.linspace(-2.5,4,1000)\n",
    "colors=[\"C1\",\"C2\",\"C3\",\"C4\",\"C5\"]\n",
    "\n",
    "fig, ax1 = plt.subplots(1, 1, sharex='col', sharey='row')\n",
    "\n",
    "plt.gcf().subplots_adjust(bottom=0.15,right=0.96, left=0.115, top=0.93)\n",
    "\n",
    "for i, (v1,v2) in enumerate(zip(GMM[0].means_,GMM[0].covariances_)):\n",
    "    ax1.plot(x, norm.pdf(x,v1,v2)[0]/norm.pdf(x,v1,v2)[0].max(),\n",
    "             c=colors[i],label=\"Cluster \"+str(i+1))\n",
    "    ax1.legend(fontsize=15,edgecolor='black')\n",
    "\n",
    "ax1.scatter((CM_log.values),np.zeros(len(CM_log)),c=color, \n",
    "            label=\"Cluster\",s=10)  \n",
    "\n",
    "ax1.tick_params(labelsize=19)\n",
    "\n",
    "plt.xlabel(r'$\\log_{10}$(CM)',fontsize=20)\n",
    "plt.ylabel(r'Normal Distribution',fontsize=20)\n",
    "plt.savefig(\"figures/GMM1.pdf\")"
   ]
  },
  {
   "cell_type": "code",
   "execution_count": null,
   "metadata": {
    "scrolled": true
   },
   "outputs": [],
   "source": [
    "# (just a plot for five grups)\n",
    "#----------------------------------------------------------------------\n",
    "color=[]\n",
    "C = cluster[1]\n",
    "for i in range(len(cluster[1])):\n",
    "    if C[i] == 0:\n",
    "        color.append(\"C1\")\n",
    "    elif C[i] == 1:\n",
    "        color.append(\"C2\")\n",
    "    elif C[i] == 2:\n",
    "        color.append(\"C3\")\n",
    "    elif C[i] == 3:\n",
    "        color.append(\"C4\")\n",
    "    elif C[i] == 4:\n",
    "        color.append(\"C5\")\n",
    "\n",
    "x=np.linspace(-2.5,4,1000)\n",
    "colors=[\"C1\",\"C2\",\"C3\",\"C4\",\"C5\"]\n",
    "\n",
    "fig2, ax2 = plt.subplots(1, 1, sharex='col', sharey='row')\n",
    "\n",
    "plt.gcf().subplots_adjust(bottom=0.17,right=0.97, left=0.175, top=0.90)\n",
    "\n",
    "for i, (v1,v2) in enumerate(zip(GMM[1].means_,GMM[1].covariances_)):\n",
    "    ax2.plot(x, norm.pdf(x,v1,v2)[0]/norm.pdf(x,v1,v2)[0].max(),\n",
    "             c=colors[i],label=\"Cluster \"+str(i+1))\n",
    "    ax2.legend(fontsize=14, loc=1,edgecolor='black')\n",
    "\n",
    "ax2.scatter((CM_log.values),np.zeros(len(CM_log)),c=color, label=\"Group 1\")  \n",
    "ax2.set_xlim(-2.3,5.2)\n",
    "\n",
    "ax2.tick_params(labelsize=19)\n",
    "\n",
    "#plt.title(r\"GMM with three components\",fontsize=22)\n",
    "plt.xlabel(r'$\\log_{10}$(CM)',fontsize=20)\n",
    "plt.ylabel(r'Normal Distribution',fontsize=20)\n",
    "#plt.savefig(\"figures/GMM3.pdf\")"
   ]
  },
  {
   "cell_type": "code",
   "execution_count": null,
   "metadata": {},
   "outputs": [],
   "source": [
    "#Some different components for Gaussian Mixture Model: \n",
    "data = CoM\n",
    "CM_log=np.log10(data[[\"Center_of_Mass\"]])\n",
    "GMM,cluster=[],[]\n",
    "let=16\n",
    "#----------------------------------------------------------------------\n",
    "for i in [4,6]:\n",
    "    gmm = GaussianMixture(i, covariance_type='full', random_state=0)\n",
    "    GMM.append(gmm)\n",
    "    gmm.fit(CM_log.values)\n",
    "    cluster_label = gmm.predict(CM_log.values)\n",
    "    cluster.append(cluster_label)\n",
    "#----------------------------------------------------------------------\n",
    "col=[]\n",
    "\n",
    "for i in range(len(cluster[0])):\n",
    "    if cluster[0][i] == 0:\n",
    "        col.append(\"C1\")\n",
    "    elif cluster[0][i] == 1:\n",
    "        col.append(\"C2\")\n",
    "    elif cluster[0][i] == 2:\n",
    "        col.append(\"C3\")\n",
    "    elif cluster[0][i] == 3:\n",
    "        col.append(\"C4\")\n",
    "\n",
    "lor=[]\n",
    "C = cluster[1]\n",
    "for i in range(len(cluster[1])):\n",
    "    if C[i] == 0:\n",
    "        lor.append(\"C1\")\n",
    "    elif C[i] == 1:\n",
    "        lor.append(\"C2\")\n",
    "    elif C[i] == 2:\n",
    "        lor.append(\"C3\")\n",
    "    elif C[i] == 3:\n",
    "        lor.append(\"C4\")\n",
    "    elif C[i] == 4:\n",
    "        lor.append(\"C5\")  \n",
    "    elif C[i] == 5:\n",
    "        lor.append(\"C6\") \n",
    "    elif C[i] == 6:\n",
    "        lor.append(\"C7\")\n",
    "        \n",
    "x=np.linspace(-2.5,4,1000)\n",
    "colors=[\"C1\",\"C2\",\"C3\",\"C4\",\"C5\",\"C6\",\"C7\"]\n",
    "\n",
    "fig, axs = plt.subplots(1, 2, figsize=(10, 5), sharey=True)\n",
    "\n",
    "plt.gcf().subplots_adjust(bottom=0.12,right=0.99, left=0.07, top=0.88)\n",
    "\n",
    "#axs[0].scatter((CM_log.values),np.zeros(len(CM_log)),c=col)  \n",
    "#axs[1].scatter((CM_log.values),np.zeros(len(CM_log)),c=lor)  \n",
    "\n",
    "#h1 = axs[0].hist(CM_log.values,60, density=True)#,label=r\"Histogram of $r_\\text{cm}$\")\n",
    "\n",
    "sb.distplot(CM_log.values,60,kde=False, norm_hist=True, ax = axs[0])#,label=r\"Histogram of $r_\\text{cm}$\")    \n",
    "sb.distplot(CM_log.values,60,kde=False, norm_hist=True, ax = axs[1])#,label=r\"Histogram of $r_\\text{cm}$\")    \n",
    "    \n",
    "#leg1 = plt.legend(loc='upper left', fontsize=let-5)\n",
    "\n",
    "#izq\n",
    "for i, (v1,v2) in enumerate(zip(GMM[0].means_,GMM[0].covariances_)):\n",
    "    axs[0].plot(x, norm.pdf(x,v1,v2)[0]/norm.pdf(x,v1,v2)[0].max(),\n",
    "             c=colors[i],label=\"Cluster \"+str(i+1),lw=2.5)\n",
    "    axs[0].legend(fontsize=let-2,edgecolor='black',bbox_to_anchor=(-0, 1.02, 1, .15), loc=3,\n",
    "              ncol=2,mode=\"expand\")\n",
    "#der\n",
    "for i, (v1,v2) in enumerate(zip(GMM[1].means_,GMM[1].covariances_)):\n",
    "    axs[1].plot(x, norm.pdf(x,v1,v2)[0]/norm.pdf(x,v1,v2)[0].max(),\n",
    "             c=colors[i],label=\"Cluster \"+str(i+1),lw=2.5)\n",
    "    axs[1].legend(fontsize=let-2,edgecolor='black',bbox_to_anchor=(0, 1.02, 1, .102), loc=3,\n",
    "              ncol=3, mode=\"expand\")\n",
    "    \n",
    "axs[0].set_ylim(-0.1,1.4,1/10)\n",
    "axs[0].set_xlim(CM_log.values.min(),CM_log.values.max())\n",
    "axs[1].set_xlim(CM_log.values.min(),CM_log.values.max())\n",
    "#axs[0].set_xscale('log')\n",
    "axs[0].tick_params(labelsize=let)\n",
    "axs[1].tick_params(labelsize=let)\n",
    "\n",
    "plt.subplots_adjust(wspace=0.05)\n",
    "\n",
    "#axs.xlabel(r'$\\log_{10}$(CM)',fontsize=20)\n",
    "axs[0].set_ylabel(r'Normal Distribution',fontsize=let)\n",
    "fig.text(0.53, 0.0, r\"$\\log_{10}(r_\\text{cm})$ (AU)\", \n",
    "         fontsize=let, ha='center', va='center')\n",
    "\n",
    "fig.text(.355, .8, r\"Histogram of $r_\\text{cm}$\", color='k',\n",
    "         fontsize=let, bbox=dict(facecolor=\"C0\",alpha = .4))\n",
    "\n",
    "fig.text(.825, .8, r\"Histogram of $r_\\text{cm}$\", color='k',\n",
    "         fontsize=let, bbox=dict(facecolor=\"C0\",alpha = .4))\n",
    "#plt.gca().add_artist(leg1)\n",
    "\n",
    "#plt.savefig(\"figures/GMM_2-3-hist.pdf\",bbox_inches='tight')\n",
    "plt.savefig(\"figures/GMM_4-6-hist.pdf\",bbox_inches='tight')\n"
   ]
  },
  {
   "cell_type": "markdown",
   "metadata": {},
   "source": [
    "To determine the number of cluster in the Gaussian Mixture Model, it may use a bayessian information criterion"
   ]
  },
  {
   "cell_type": "code",
   "execution_count": null,
   "metadata": {},
   "outputs": [],
   "source": [
    "#Bayesian information criterion \n",
    "CM_log=np.log10(data[[\"Center_of_Mass\"]])\n",
    "print(CM_log)\n",
    "bic,aic = [],[]\n",
    "tries=16\n",
    "\n",
    "for i in range(tries):\n",
    "    i+=1\n",
    "    gmm = GaussianMixture(i, covariance_type='full', random_state=0)\n",
    "    CM_log=np.log10(data[[\"Center_of_Mass\"]])\n",
    "    gmm.fit(CM_log.values)\n",
    "    bic+=[gmm.bic(CM_log.values)]\n",
    "    aic+=[gmm.aic(CM_log.values)]\n",
    "#bic\n",
    "# (just a plot to bayessian criterion)\n",
    "#----------------------------------------------------------------------\n",
    "\n",
    "#fig = plt.figure(figsize=(4,3))\n",
    "#plt.plot(range(1,11),bic)\n",
    "\n",
    "let=17\n",
    "names=[r\"Normal BIC\",r\"Normal AIC\"]\n",
    "criteria = [bic, aic]\n",
    "\n",
    "x=range(1,tries+1)\n",
    "\n",
    "fig, axs = plt.subplots(1, 2, figsize=(11, 5))#, sharex=True)# sharex='col', sharey='row')\n",
    "plt.gcf().subplots_adjust(bottom=0.12,right=0.99, left=0.07, top=0.88)\n",
    "\n",
    "for i in range(len(criteria)):\n",
    "    y=criteria[i]/max(criteria[i])\n",
    "    h = axs[i].plot(x,y, lw=\"2\")\n",
    "    f = axs[i].plot(x,y, \"o\", c=\"C1\",label=names[i],markersize=4)\n",
    "    \n",
    "    g = axs[i].plot(x,np.ones(len(criteria[i]))*min(criteria[i])/max(criteria[i]),\"--\")\n",
    "\n",
    "    axs[i].set_ylim(.71,1.01)\n",
    "    axs[i].set_xlim(0,tries+1)\n",
    "    axs[i].tick_params(labelsize=let)\n",
    "    axs[i].legend(fontsize=let, loc=1,edgecolor='black')\n",
    "    #axs[i].set_yticks(range(0,1),.1)\n",
    "    axs[i].set_ylabel(names[i],fontsize=let)\n",
    "    axs[i].set_xticks(np.arange(min(x), max(x)+1, 3.0))\n",
    "    \n",
    "fig.text(0.53, 0.0, r'Number of Clusters', fontsize=let+2, ha='center', va='center')\n",
    "fig.tight_layout(pad=2.0)\n",
    "    \n",
    "#plt.title(r\"Bayessian Information Criterion\",fontsize=16)\n",
    "#plt.xlabel(,fontsize=let)\n",
    "plt.savefig(\"figures/BIC-AIC.pdf\",bbox_inches='tight')"
   ]
  },
  {
   "cell_type": "code",
   "execution_count": null,
   "metadata": {},
   "outputs": [],
   "source": [
    "criteria"
   ]
  },
  {
   "cell_type": "code",
   "execution_count": null,
   "metadata": {},
   "outputs": [],
   "source": [
    "print(bic.index(min(bic))+1,aic.index(min(aic))+1)"
   ]
  },
  {
   "cell_type": "code",
   "execution_count": null,
   "metadata": {
    "scrolled": true
   },
   "outputs": [],
   "source": [
    "# GaussianMixture, for the log of CM: \n",
    "# 4 groups due tu the bic\n",
    "gmm = GaussianMixture(4, covariance_type='full', random_state=0)\n",
    "CM_log=np.log10(data[[\"Center_of_Mass\"]])\n",
    "gmm.fit(CM_log.values)\n",
    "cluster_label = gmm.predict(CM_log.values)\n",
    "plt.scatter((CM_log.values),np.zeros(len(CM_log)),c=cluster_label);\n",
    "plt.ylim(-0.1,1)"
   ]
  },
  {
   "cell_type": "code",
   "execution_count": null,
   "metadata": {},
   "outputs": [],
   "source": [
    "cluster_label[794]"
   ]
  },
  {
   "cell_type": "markdown",
   "metadata": {},
   "source": [
    "The probabilities or verisimilitudes, are defined by normal distribution for each group from the gaussian mixture model:"
   ]
  },
  {
   "cell_type": "code",
   "execution_count": null,
   "metadata": {
    "scrolled": true
   },
   "outputs": [],
   "source": [
    "#gmm.means_\n",
    "#just a plot to bayessian criterion for 4 clusters \n",
    "#----------------------------------------------------------------------\n",
    "plt.figure(figsize=(15,7))\n",
    "plt.gcf().subplots_adjust(bottom=0.15,right=0.96, left=0.08, top=0.93)\n",
    "\n",
    "color=[]\n",
    "CL = cluster_label\n",
    "for i in range(len(cluster[1])):\n",
    "    if CL[i] == 0:\n",
    "        color.append(\"C1\")\n",
    "    elif CL[i] == 1:\n",
    "        color.append(\"C2\")\n",
    "    elif CL[i] == 2:\n",
    "        color.append(\"C3\")\n",
    "    elif CL[i] == 3:\n",
    "        color.append(\"C4\")\n",
    "    elif CL[i] == 4:\n",
    "        color.append(\"C5\")\n",
    "        \n",
    "colors=[\"C1\",\"C2\",\"C3\",\"C4\",\"C5\"]\n",
    "\n",
    "#fig4, ax4 = plt.subplots(1, 1, sharex='col', sharey='row')\n",
    "\n",
    "for i, (v1,v2) in enumerate(zip(gmm.means_,gmm.covariances_)):\n",
    "    plt.plot(x, norm.pdf(x,v1,v2)[0]/norm.pdf(x,v1,v2)[0].max(),\n",
    "             c=colors[i],label=\"Cluster \"+str(i+1),lw=2)\n",
    "    plt.legend(fontsize=24, loc=1,edgecolor='black')\n",
    "\n",
    "plt.scatter((CM_log.values),np.zeros(len(CM_log)),c=color, label=\"Group 1\")  \n",
    "#plt.hist(CM_log.values,100, density=True)\n",
    "\n",
    "plt.xlim(-2.2,3.7)\n",
    "\n",
    "plt.tick_params(labelsize=24)\n",
    "\n",
    "plt.title(r\"GMM for the BIC clusters\",fontsize=25)\n",
    "plt.xlabel(r'$\\log_{10}$(CM)',fontsize=26)\n",
    "plt.ylabel(r'Normal Distribution',fontsize=26)\n",
    "#plt.savefig(\"figures/GMM4.pdf\") "
   ]
  },
  {
   "cell_type": "markdown",
   "metadata": {},
   "source": [
    "The posteriror probabilities are determinated by the function `gmm.predict_proba()`"
   ]
  },
  {
   "cell_type": "code",
   "execution_count": null,
   "metadata": {
    "scrolled": false
   },
   "outputs": [],
   "source": [
    "# The posterior probabilities: \n",
    "names=[\"Earth-centered\", \"Close\",\"Far away\",\"Venusian-centered\"]\n",
    "plt.figure(figsize=(7,5.6))\n",
    "\n",
    "for i in range(4):\n",
    "    plt.scatter(CM_log,gmm.predict_proba(CM_log)[:,i],label=names[i], s=7);\n",
    "\n",
    "plt.gcf().subplots_adjust(bottom=0.15,right=0.97, left=0.15, top=0.83)\n",
    "plt.tick_params(labelsize=20)    \n",
    "plt.xlabel(r'$\\log_{10}(r_\\text{cm}) \\text{(AU)}$',fontsize=22)\n",
    "plt.ylabel(r'Posterior Probabilities',fontsize=22)\n",
    "plt.xlim(-2.5,4)\n",
    "\n",
    "plt.xticks(np.arange(int(min(m)), int(max(m))+2, 1.0))\n",
    "\n",
    "plt.legend(fontsize=17.5,edgecolor='black', \n",
    "           bbox_to_anchor=(-0.02, 1.20, 1.037, 0.06), loc=2,\n",
    "           ncol=2, mode=\"expand\")\n",
    "plt.savefig(\"figures/Prob.pdf\")"
   ]
  },
  {
   "cell_type": "code",
   "execution_count": null,
   "metadata": {},
   "outputs": [],
   "source": [
    "gmm.predict_proba(CM_log)[794]\n",
    "CM_log.values[794]"
   ]
  },
  {
   "cell_type": "markdown",
   "metadata": {},
   "source": [
    "The probability for a synthetic draw of a system called AA, with a $\\mu=0.8$ and $\\sigma=0.03$ in the CM, can be established as:"
   ]
  },
  {
   "cell_type": "code",
   "execution_count": null,
   "metadata": {},
   "outputs": [],
   "source": [
    "AA=np.log10(np.random.normal(0.8,0.03,1000))\n",
    "AA=AA[:,np.newaxis]\n",
    "names=[\"Earth-centered\", \"Close\",\"Far away\",\"Venusian-centered\"]\n",
    "plt.figure(figsize=(7,5.6))\n",
    "\n",
    "#production of probability for a syntethic planetary system \n",
    "for i in range(4):\n",
    "    plt.scatter(AA,gmm.predict_proba(AA)[:,i],label=names[i])\n",
    "\n",
    "plt.gcf().subplots_adjust(bottom=0.15,right=0.965, left=0.14, top=0.83)\n",
    "plt.legend(fontsize=17.5,edgecolor='black', \n",
    "           bbox_to_anchor=(-0.02, 1.20, 1.037, 0.055), loc=2,\n",
    "           ncol=2, mode=\"expand\")\n",
    "plt.tick_params(labelsize=20)    \n",
    "plt.xlabel(r'$\\log_{10}$(CM)',fontsize=22)\n",
    "plt.ylabel(r'Probability',fontsize=22)\n",
    "#plt.savefig(\"figures/draw.pdf\")"
   ]
  },
  {
   "cell_type": "code",
   "execution_count": null,
   "metadata": {},
   "outputs": [],
   "source": [
    "AA"
   ]
  },
  {
   "cell_type": "markdown",
   "metadata": {},
   "source": [
    "## ... Draws\n",
    "Employing m and $\\Delta$m, a and $\\Delta$a, from `data2`."
   ]
  },
  {
   "cell_type": "code",
   "execution_count": null,
   "metadata": {},
   "outputs": [],
   "source": [
    "# Group the planetary system:\n",
    "data2 = dataB[['star_name','mass', 'mass_error_min',\n",
    "               'semi_major_axis','semi_major_axis_error_min']]\n",
    "Planetary_System = data2.groupby(\"star_name\")\n",
    "Systems_List = list(Planetary_System.groups.keys())"
   ]
  },
  {
   "cell_type": "markdown",
   "metadata": {},
   "source": [
    "A first way to get the drows for each system:"
   ]
  },
  {
   "cell_type": "code",
   "execution_count": null,
   "metadata": {
    "scrolled": true
   },
   "outputs": [],
   "source": [
    "#%%time\n",
    "#-------------------------------------------------------------------------\n",
    "# Draws, for each planetary system\n",
    "draws=[]#drows of COM for each system. \n",
    "for i in range(len(Systems_List)):\n",
    "    system_i = data2[data2.star_name == Systems_List[i]]    \n",
    "    draw_i=[]\n",
    "    for j in  range(1000):\n",
    "        #Get random values for each planet in a system and the COM for those values\n",
    "        masses=np.random.normal(system_i.mass,system_i.mass_error_min)\n",
    "        axes=np.random.normal(system_i.semi_major_axis,\n",
    "                              system_i.semi_major_axis_error_min)\n",
    "        draw_i += [(masses*axes).sum()/masses.sum()]\n",
    "    draws.append(draw_i)\n"
   ]
  },
  {
   "cell_type": "code",
   "execution_count": null,
   "metadata": {},
   "outputs": [],
   "source": [
    "#len(draws[0])"
   ]
  },
  {
   "cell_type": "markdown",
   "metadata": {},
   "source": [
    "Second way to get the draws for each system (in a shorter time):"
   ]
  },
  {
   "cell_type": "code",
   "execution_count": null,
   "metadata": {},
   "outputs": [],
   "source": [
    "#%%time\n",
    "DrawsA=[]#drows of COM for each system. \n",
    "for i in range(len(Systems_List)):\n",
    "    SystemA_i = data2[data2.star_name == Systems_List[i]]  \n",
    "    Mass_System = np.zeros(1000)\n",
    "    Mass_Axe = np.zeros(1000) \n",
    "    for k in range(len(SystemA_i)):\n",
    "        Masses = np.random.normal(SystemA_i.mass.values[k],\n",
    "                                  SystemA_i.mass_error_min.values[k],1000)\n",
    "        Axes = np.random.normal(SystemA_i.semi_major_axis.values[k],\n",
    "                                SystemA_i.semi_major_axis_error_min.values[k],\n",
    "                                1000)\n",
    "        Mass_Axe += Masses*Axes\n",
    "        Mass_System += Masses\n",
    "        #print(SystemA_i.mass.values[k])\n",
    "    DrawsA.append(np.abs(Mass_Axe/Mass_System))\n",
    "len(DrawsA)"
   ]
  },
  {
   "cell_type": "code",
   "execution_count": null,
   "metadata": {},
   "outputs": [],
   "source": [
    "Systems_List.index(\"TRAPPIST-1\")"
   ]
  },
  {
   "cell_type": "code",
   "execution_count": null,
   "metadata": {},
   "outputs": [],
   "source": [
    "Tras = DrawsA[Systems_List.index(\"TRAPPIST-1\")]\n",
    "fig, ax1 = plt.subplots(1, 1)\n",
    "\n",
    "let=15\n",
    "\n",
    "ax1 = sb.distplot(Tras, ax=ax1, bins=50, \n",
    "                  label=r' Synthetic $r_\\text{cm}$ (AU)',\n",
    "                  kde_kws={\"lw\": 2, \"label\": r\" Synthetic density\"})\n",
    "\n",
    "ax1.set_xlabel(r\"$\\log_{10}$(Mass) (M$_\\text{Jup}$)\",fontsize=let)\n",
    "#_xlabel(,fontsize=let);ax.set_ylabel(r\"Orbital period (years)\",fontsize=let)\n",
    "ax1.set_ylabel(r\"Distribution\", fontsize=let)\n",
    "ax1.tick_params(labelsize=let)\n",
    "\n",
    "\n",
    "ax1.legend(loc='upper left',fontsize=let);\n",
    "plt.savefig(\"figures/Tras_hists.pdf\", bbox_inches='tight')"
   ]
  },
  {
   "cell_type": "code",
   "execution_count": null,
   "metadata": {},
   "outputs": [],
   "source": []
  },
  {
   "cell_type": "code",
   "execution_count": null,
   "metadata": {},
   "outputs": [],
   "source": [
    "#import seaborn as sns\n",
    "#sns.set()\n",
    "fig, (ax1,ax2) = plt.subplots(nrows=1, ncols=2, figsize=(8, 5))\n",
    "\n",
    "f1 = ax1.hist(DrawsA[2][0],10,alpha=0.8,label=Systems_List[2]+\" DrawsA\")\n",
    "f2 = ax1.hist(draws[2],10, alpha=0.6,label=Systems_List[2]+\" draws\")\n",
    "ax1.legend(bbox_to_anchor=(0., 1.02, 1., .102), loc=3,ncol=1, mode=\"expand\", borderaxespad=0.)\n",
    "f2 = sns.kdeplot(DrawsA[2][0], shade=True,label=Systems_List[2]+\" DrawsA\")\n",
    "f3 = sns.kdeplot(draws[2], shade=True,label=Systems_List[2]+\" draws\")\n",
    "ax2.legend(bbox_to_anchor=(0., 1.02, 1., .102), loc=3,ncol=1, mode=\"expand\", borderaxespad=0.)"
   ]
  },
  {
   "cell_type": "markdown",
   "metadata": {},
   "source": [
    "The probability of each draw to belong a each group, taking draws form `DrawsA`"
   ]
  },
  {
   "cell_type": "code",
   "execution_count": null,
   "metadata": {
    "scrolled": true
   },
   "outputs": [],
   "source": [
    "kk=8\n",
    "Draw_i=np.log10(DrawsA[kk][0][:,np.newaxis])\n",
    "orig=gmm.predict(np.array(CM_log))[kk]\n",
    "print(orig)\n",
    "print((orig!=gmm.predict(Draw_i)).sum()/1000)\n",
    "for i in range(4):\n",
    "    plt.scatter(Draw_i,gmm.predict_proba(Draw_i)[:,i])"
   ]
  },
  {
   "cell_type": "code",
   "execution_count": null,
   "metadata": {},
   "outputs": [],
   "source": [
    "np.log10(DrawsA[8])[0][:10]"
   ]
  },
  {
   "cell_type": "code",
   "execution_count": null,
   "metadata": {},
   "outputs": [],
   "source": [
    "plt.hist(np.log10(DrawsA[8])[0])"
   ]
  },
  {
   "cell_type": "code",
   "execution_count": null,
   "metadata": {},
   "outputs": [],
   "source": [
    "# CM_log is the centero of mass in log scale for each system\n",
    "frac=[]\n",
    "for kk in range(len(DrawsA)):\n",
    "    Draw_i=np.log10(DrawsA[kk][0][:,np.newaxis])\n",
    "    orig=gmm.predict(np.array(CM_log))[kk]\n",
    "#    print(kk)\n",
    "    frac+=[(orig!=gmm.predict(Draw_i)).sum()/1000] # AA es el elemento i de draws (que debe ser un array de 1000 elementos)\n",
    "\n",
    "\n",
    "#for i in range(4):\n",
    "#    plt.scatter(Draw_i,gmm.predict_proba(Draw_i)[:,i])\n",
    "#orig\n",
    "#AA\n",
    "#orig=gmm.predict(np.array([[0.8]])) # 0.8 es el centro de masa para el sistema i\n",
    "#(orig!=gmm.predict(AA)).sum()/1000 # AA es el elemento i de draws (que debe ser un array de 1000 elementos)\n",
    "#DrawsA[0]\n",
    "#Draw_i=DrawsA[0][0][:,np.newaxis]\n",
    "#gmm.predict(Draw_i)\n",
    "#Draw_i\n",
    "#gmm.predict(Draw_i)\n",
    "plt.hist(frac)\n",
    "print((np.array(frac)==0).sum()/len(frac))\n",
    "np.max(frac)"
   ]
  },
  {
   "cell_type": "code",
   "execution_count": null,
   "metadata": {},
   "outputs": [],
   "source": [
    "orig=gmm.predict(np.array(CM_log))[2]\n",
    "print(CM_log.values)\n",
    "DrawsA[2][0]"
   ]
  },
  {
   "cell_type": "markdown",
   "metadata": {},
   "source": [
    "#### Metallicity"
   ]
  },
  {
   "cell_type": "code",
   "execution_count": null,
   "metadata": {},
   "outputs": [],
   "source": [
    "dataMet = data_ep[pd.notnull(data_ep[\"star_metallicity\"])]\n",
    "dataMetA = dataMet[pd.notnull(dataMet[\"star_metallicity_error_min\"])]\n",
    "dataMet = dataMetA[['star_name',\"star_metallicity\",\"star_metallicity_error_min\"]]"
   ]
  },
  {
   "cell_type": "code",
   "execution_count": null,
   "metadata": {},
   "outputs": [],
   "source": [
    "gmm2 = GaussianMixture(3, covariance_type='full', random_state=0)\n",
    "B=dataMet[[\"star_metallicity\"]]\n",
    "gmm2.fit(B.values)\n",
    "cluster_label = gmm2.predict(B.values)\n",
    "B.values[:, 0]\n",
    "plt.scatter((B.values),np.zeros(len(B)), c=cluster_label);\n",
    "plt.ylim(-0.1,1)"
   ]
  },
  {
   "cell_type": "code",
   "execution_count": null,
   "metadata": {},
   "outputs": [],
   "source": [
    "bic=[]\n",
    "for i in range(15):\n",
    "    i+=1\n",
    "    gmm2 = GaussianMixture(i, covariance_type='full', random_state=0)\n",
    "    A=data1[[\"center_of_Mass\"]]\n",
    "    gmm2.fit(B.values)\n",
    "    bic+=[gmm2.bic(B.values)]\n",
    "plt.plot(range(1,16),bic)"
   ]
  },
  {
   "cell_type": "code",
   "execution_count": null,
   "metadata": {},
   "outputs": [],
   "source": [
    "plt.figure(figsize=(15,5))\n",
    "sma=np.linspace(-2.5,4,1000)\n",
    "for m,s in zip(gmm.means_,gmm.covariances_):\n",
    "    plt.plot(sma, norm.pdf(sma,m,s)[0])\n",
    "plt.scatter((A.values),np.zeros(len(A)), c = cluster_label);"
   ]
  },
  {
   "cell_type": "code",
   "execution_count": null,
   "metadata": {},
   "outputs": [],
   "source": []
  }
 ],
 "metadata": {
  "celltoolbar": "Slideshow",
  "kernelspec": {
   "display_name": "Python 3",
   "language": "python",
   "name": "python3"
  },
  "language_info": {
   "codemirror_mode": {
    "name": "ipython",
    "version": 3
   },
   "file_extension": ".py",
   "mimetype": "text/x-python",
   "name": "python",
   "nbconvert_exporter": "python",
   "pygments_lexer": "ipython3",
   "version": "3.8.3"
  }
 },
 "nbformat": 4,
 "nbformat_minor": 2
}
