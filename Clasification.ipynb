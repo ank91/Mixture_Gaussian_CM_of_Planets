{
 "cells": [
  {
   "cell_type": "markdown",
   "metadata": {
    "slideshow": {
     "slide_type": "slide"
    }
   },
   "source": [
    "# Classification through GMM for the centar of mass $(r_\\text{cm})$ of exoplanetary systems. \n",
    "\n",
    "We use Gaussian Mixture Model to clasify the center of mass of exoplanetary systems, employing the observational data  "
   ]
  },
  {
   "cell_type": "markdown",
   "metadata": {
    "slideshow": {
     "slide_type": "subslide"
    }
   },
   "source": [
    "## 1. Read and clean the file from exoplanet.eu\n",
    "\n",
    "From the most complete list of observed exoplanets planets to date, <a href=\"http://exoplanet.eu/\">exoplanet.eu</a>, we take the planetary mass $M_{tp}$, the semi_major $a$ and the Metallicity Fe/H (with their respective uncertainties).  \n",
    "\n",
    "It is necessary processing the data with the prurpose to obtain the Center of Mass $r_\\text{cm}$, as a DataFrame `data`, without NaN values in the columns of _mass_ ($M_{tp}$) and _semi major axis_($a$). Finally, we get the data cleaned.\n",
    "\n",
    "**Remember**: `pd.notnull(\"name_of_column\")` deletes the NaN values in the column. \n",
    "\n",
    "**Remember**: `data=data[['column_a','column_b',..,'column_n',]]` to get a new order in the DataFrame"
   ]
  },
  {
   "cell_type": "code",
   "execution_count": 275,
   "metadata": {
    "slideshow": {
     "slide_type": "skip"
    }
   },
   "outputs": [
    {
     "data": {
      "text/html": [
       "\n",
       "<style>\n",
       ".output_png {\n",
       "    display: table-cell;\n",
       "    text-align: center;\n",
       "    vertical-align: middle;\n",
       "}\n",
       "</style>\n"
      ],
      "text/plain": [
       "<IPython.core.display.HTML object>"
      ]
     },
     "execution_count": 275,
     "metadata": {},
     "output_type": "execute_result"
    }
   ],
   "source": [
    "from IPython.core.display import HTML\n",
    "HTML(\"\"\"\n",
    "<style>\n",
    ".output_png {\n",
    "    display: table-cell;\n",
    "    text-align: center;\n",
    "    vertical-align: middle;\n",
    "}\n",
    "</style>\n",
    "\"\"\")"
   ]
  },
  {
   "cell_type": "code",
   "execution_count": 276,
   "metadata": {
    "slideshow": {
     "slide_type": "subslide"
    }
   },
   "outputs": [],
   "source": [
    "import pandas as pd; \n",
    "import numpy as np\n",
    "from scipy.stats import norm \n",
    "import random\n",
    "from sklearn.mixture import GaussianMixture\n",
    "import matplotlib.pyplot as plt \n",
    "import seaborn as sb\n",
    "from matplotlib import rc, cm, rcParams\n",
    "\n",
    "rcParams['text.latex.preamble']=[r\"\\usepackage{amsmath}\"]\n",
    "rc('text', usetex=True)\n",
    "%matplotlib inline"
   ]
  },
  {
   "cell_type": "markdown",
   "metadata": {
    "slideshow": {
     "slide_type": "subslide"
    }
   },
   "source": [
    "Now, the data is read (only mass and semi major axis with their uncertainties)."
   ]
  },
  {
   "cell_type": "code",
   "execution_count": 277,
   "metadata": {
    "scrolled": true,
    "slideshow": {
     "slide_type": "fragment"
    }
   },
   "outputs": [
    {
     "name": "stdout",
     "output_type": "stream",
     "text": [
      "Total of NaN values = 8485\n"
     ]
    },
    {
     "data": {
      "text/plain": [
       "mass                         2158\n",
       "mass_error_min               2369\n",
       "semi_major_axis              1476\n",
       "semi_major_axis_error_min    2477\n",
       "star_name                       5\n",
       "dtype: int64"
      ]
     },
     "execution_count": 277,
     "metadata": {},
     "output_type": "execute_result"
    }
   ],
   "source": [
    "data_ep = pd.read_csv('data/exoplanet.eu_catalog.csv', \n",
    "                      usecols=['mass','mass_error_min','semi_major_axis',\n",
    "                               'semi_major_axis_error_min','star_name'])\n",
    "\n",
    "# It replaces the inf values:\n",
    "data_ep = data_ep.replace([np.inf, -np.inf], np.nan) \n",
    "\n",
    "# Total of NaN values:\n",
    "print(\"Total of NaN values = \"+str(data_ep.isnull().sum().sum()))\n",
    "\n",
    "# Numer of nan values per column:\n",
    "data_ep.isnull().sum()"
   ]
  },
  {
   "cell_type": "markdown",
   "metadata": {
    "slideshow": {
     "slide_type": "fragment"
    }
   },
   "source": [
    "After check for missing values in the data, we can see that some names of stars do not exists!!<font color='red'> Does it mean that some stars do not have names?</font> We will discuss latter. \n",
    "\n",
    "For the time being, we are going to continue cleaning the data. We do not take into account the NaN values."
   ]
  },
  {
   "cell_type": "code",
   "execution_count": 278,
   "metadata": {
    "slideshow": {
     "slide_type": "subslide"
    }
   },
   "outputs": [
    {
     "name": "stdout",
     "output_type": "stream",
     "text": [
      "Total of planets with complete data = 1217\n"
     ]
    }
   ],
   "source": [
    "dataB = data_ep.dropna(subset=['mass','mass_error_min','semi_major_axis',\n",
    "                               'semi_major_axis_error_min'])\n",
    "\n",
    "# Clean the data for the star names:\n",
    "dataB = dataB.dropna(subset=['star_name'])\n",
    "\n",
    "# Data after cleaning:\n",
    "data = dataB[['star_name','mass', 'mass_error_min',\n",
    "              'semi_major_axis','semi_major_axis_error_min']]\n",
    "\n",
    "print(\"Total of planets with complete data = \"+str(len(data)))"
   ]
  },
  {
   "cell_type": "markdown",
   "metadata": {
    "slideshow": {
     "slide_type": "subslide"
    }
   },
   "source": [
    "The cleaning result is a data frame with complete information of the numer of total planets per system $N_{tp}$, thir masses and semi-major axis with respective uncertainties. The data can group by the name of the host star."
   ]
  },
  {
   "cell_type": "code",
   "execution_count": 279,
   "metadata": {
    "slideshow": {
     "slide_type": "fragment"
    }
   },
   "outputs": [
    {
     "data": {
      "text/html": [
       "<div>\n",
       "<style scoped>\n",
       "    .dataframe tbody tr th:only-of-type {\n",
       "        vertical-align: middle;\n",
       "    }\n",
       "\n",
       "    .dataframe tbody tr th {\n",
       "        vertical-align: top;\n",
       "    }\n",
       "\n",
       "    .dataframe thead th {\n",
       "        text-align: right;\n",
       "    }\n",
       "</style>\n",
       "<table border=\"1\" class=\"dataframe\">\n",
       "  <thead>\n",
       "    <tr style=\"text-align: right;\">\n",
       "      <th></th>\n",
       "      <th>star_name</th>\n",
       "      <th>mass</th>\n",
       "      <th>mass_error_min</th>\n",
       "      <th>semi_major_axis</th>\n",
       "      <th>semi_major_axis_error_min</th>\n",
       "    </tr>\n",
       "  </thead>\n",
       "  <tbody>\n",
       "    <tr>\n",
       "      <th>3568</th>\n",
       "      <td>TRAPPIST-1</td>\n",
       "      <td>0.00270</td>\n",
       "      <td>0.00230</td>\n",
       "      <td>0.01111</td>\n",
       "      <td>0.00034</td>\n",
       "    </tr>\n",
       "    <tr>\n",
       "      <th>3569</th>\n",
       "      <td>TRAPPIST-1</td>\n",
       "      <td>0.00434</td>\n",
       "      <td>0.00190</td>\n",
       "      <td>0.01521</td>\n",
       "      <td>0.00047</td>\n",
       "    </tr>\n",
       "    <tr>\n",
       "      <th>3570</th>\n",
       "      <td>TRAPPIST-1</td>\n",
       "      <td>0.00130</td>\n",
       "      <td>0.00085</td>\n",
       "      <td>0.02144</td>\n",
       "      <td>0.00063</td>\n",
       "    </tr>\n",
       "    <tr>\n",
       "      <th>3571</th>\n",
       "      <td>TRAPPIST-1</td>\n",
       "      <td>0.00200</td>\n",
       "      <td>0.00180</td>\n",
       "      <td>0.02817</td>\n",
       "      <td>0.00087</td>\n",
       "    </tr>\n",
       "    <tr>\n",
       "      <th>3572</th>\n",
       "      <td>TRAPPIST-1</td>\n",
       "      <td>0.00210</td>\n",
       "      <td>0.00057</td>\n",
       "      <td>0.03710</td>\n",
       "      <td>0.00110</td>\n",
       "    </tr>\n",
       "    <tr>\n",
       "      <th>3573</th>\n",
       "      <td>TRAPPIST-1</td>\n",
       "      <td>0.00422</td>\n",
       "      <td>0.00280</td>\n",
       "      <td>0.04510</td>\n",
       "      <td>0.00140</td>\n",
       "    </tr>\n",
       "  </tbody>\n",
       "</table>\n",
       "</div>"
      ],
      "text/plain": [
       "       star_name     mass  mass_error_min  semi_major_axis  \\\n",
       "3568  TRAPPIST-1  0.00270         0.00230          0.01111   \n",
       "3569  TRAPPIST-1  0.00434         0.00190          0.01521   \n",
       "3570  TRAPPIST-1  0.00130         0.00085          0.02144   \n",
       "3571  TRAPPIST-1  0.00200         0.00180          0.02817   \n",
       "3572  TRAPPIST-1  0.00210         0.00057          0.03710   \n",
       "3573  TRAPPIST-1  0.00422         0.00280          0.04510   \n",
       "\n",
       "      semi_major_axis_error_min  \n",
       "3568                    0.00034  \n",
       "3569                    0.00047  \n",
       "3570                    0.00063  \n",
       "3571                    0.00087  \n",
       "3572                    0.00110  \n",
       "3573                    0.00140  "
      ]
     },
     "execution_count": 279,
     "metadata": {},
     "output_type": "execute_result"
    }
   ],
   "source": [
    "#The system for comparisons: \n",
    "A = data.groupby(\"star_name\")\n",
    "SystemA_i = data[data.star_name == \"TRAPPIST-1\"]  \n",
    "SystemA_i"
   ]
  },
  {
   "cell_type": "markdown",
   "metadata": {
    "slideshow": {
     "slide_type": "subslide"
    }
   },
   "source": [
    "Let's plot the distribution of the logarithm of planetary mass, $M_\\text{tp}$, and the distribution of the logarithm of semi-major axis $a$:"
   ]
  },
  {
   "cell_type": "code",
   "execution_count": 280,
   "metadata": {
    "slideshow": {
     "slide_type": "subslide"
    }
   },
   "outputs": [
    {
     "data": {
      "text/plain": [
       "<matplotlib.legend.Legend at 0x7f832f2b03d0>"
      ]
     },
     "execution_count": 280,
     "metadata": {},
     "output_type": "execute_result"
    },
    {
     "data": {
      "image/png": "[encoded data removed]",
      "text/plain": [
       "<Figure size 720x360 with 2 Axes>"
      ]
     },
     "metadata": {
      "needs_background": "light"
     },
     "output_type": "display_data"
    }
   ],
   "source": [
    "# -Plot----distributions \n",
    "fig, (ax1,ax2) = plt.subplots(1, 2, figsize=(10, 5))\n",
    "\n",
    "let, bins = 15, 20\n",
    "\n",
    "m=np.log10(data.mass.values)\n",
    "a=np.log10(data.semi_major_axis.values)\n",
    "\n",
    "ax1 = sb.distplot(m, ax=ax1, bins=bins, label=r'Mass (M$_\\text{Jup}$)',\n",
    "                  kde_kws={\"lw\": 2, \"label\": r\"Mass density\"})\n",
    "\n",
    "ax2 = sb.distplot(a, ax=ax2, bins=bins,label=r'Semi-Major axis $a$ (AU)',\n",
    "                  kde_kws={\"lw\": 2, \"label\": r\"$a$ Density\"})\n",
    "\n",
    "ax1.set_xlabel(r\"$\\log_{10}$(Mass) (M$_\\text{Jup}$)\",fontsize=let)\n",
    "ax2.set_xlabel(r\"$\\log_{10}(a)$ (AU)\",fontsize=let)\n",
    "ax1.set_ylabel(r\"Counts\", fontsize=let)\n",
    "ax1.tick_params(labelsize=let); ax2.tick_params(labelsize=let)\n",
    "\n",
    "ax1.set_xticks(np.arange(int(min(m))-1, int(max(m))+2, 1.0))\n",
    "ax2.set_xticks(np.arange(int(min(a))-1, int(max(a))+2, 1.0))\n",
    "\n",
    "\n",
    "ax1.legend(loc='upper left',fontsize=let);ax2.legend(loc='upper right',fontsize=let)\n",
    "#plt.savefig(\"figures/hists.pdf\", bbox_inches='tight')"
   ]
  },
  {
   "cell_type": "markdown",
   "metadata": {
    "slideshow": {
     "slide_type": "subslide"
    }
   },
   "source": [
    "So, `data` is a DataFrame without NaN values in columns of names, masses, semi major axis and their uncertainties. Finally, we got 1217 rows, it means, exoplanets with confirmed data. "
   ]
  },
  {
   "cell_type": "markdown",
   "metadata": {
    "slideshow": {
     "slide_type": "slide"
    }
   },
   "source": [
    "## 2. Get the center of Mass \n",
    "We need to estimate the $r_\\text{cm}$ for each system. The definition of center of mass:\n",
    "\\begin{equation*}\n",
    "r_\\text{cm} = \\frac{\\sum\\limits_{k=1}^n(m_{k}\\vec{r_{k}})}{\\sum \\limits_{k=1}^{n}m_{k}} %=\\frac{\\sum\\limits_{k=1}^n(m_{k}\\vec{r_{k}})}{M_{T}}\n",
    "\\end{equation*}\n",
    "To do it, is nessesary get the values mass $m$ times disnace $r$, for each planet, so with the columns of `mass` and distance from the star `semi_major_axis` we can get $m_{k}\\vec{r_{k}}$ values. Then, we take the sum for all planets in each systems, as a result we got $\\text{CM}_i$ for $i\\in\\{0,1,2,3,4,\\ldots,n\\}$.\n",
    "\n",
    "Our variable for clasify the systems is CM but some systems only have one planet, so, the center of mass for this systems CM$_j$, can be taked as the mass $m_j$.\n",
    "\n",
    "**Remember:** The `data.groupby(\"key\")` split the data in groups which are the key.\n",
    "\n",
    "**Remember:** The `data[i].multiply(data[j])` multiplies the comun i and j of DataFrame or Series i and j, row by row.\n",
    "\n",
    "**Remember:** The `data.groupby.groups.keys()` get the keys of the split data."
   ]
  },
  {
   "cell_type": "code",
   "execution_count": 281,
   "metadata": {
    "slideshow": {
     "slide_type": "subslide"
    }
   },
   "outputs": [
    {
     "name": "stdout",
     "output_type": "stream",
     "text": [
      "The number of planetary systems = 987\n",
      "Systems with more than one planet = 154\n"
     ]
    }
   ],
   "source": [
    "# Group by the name system:\n",
    "p_system = data.groupby(\"star_name\")\n",
    "print('The number of planetary systems = '+ str(len(p_system)))\n",
    "\n",
    "# The numer of exoplanets around each star:\n",
    "number=(data[\"star_name\"].value_counts()).to_frame()\n",
    "\n",
    "# The number of systems with more than one exoplanet:\n",
    "count = 0\n",
    "for i, index in enumerate(number.star_name.values):\n",
    "    if index>1.:\n",
    "        count+=1 \n",
    "print(\"Systems with more than one planet = \"+str(count))"
   ]
  },
  {
   "cell_type": "code",
   "execution_count": 282,
   "metadata": {
    "scrolled": true,
    "slideshow": {
     "slide_type": "subslide"
    }
   },
   "outputs": [],
   "source": [
    "#-----------------------function center of mass-----------------------\n",
    "#it returns a data frame group bay systems:\n",
    "\n",
    "def CoM(data): #data is a dataframe with mass and semi major axis \n",
    "    \n",
    "    # Multiplications between columns mass and axis, CM_i new column:\n",
    "    data = data.assign(CM_i=data[\"semi_major_axis\"]*data[\"mass\"])\n",
    "    #print(data)\n",
    "    # Group by each planet in the system:\n",
    "    p_system = data.groupby(\"star_name\") \n",
    "    system = list(p_system.groups.keys())\n",
    "    # Total mass per system:\n",
    "    M_total = p_system[\"mass\"].sum()\n",
    "    sum_rm = p_system['CM_i'].sum() # sum of masses in each system.\n",
    "    # Center of mass:\n",
    "    CoM = sum_rm.divide(M_total)\n",
    "    \n",
    "    system = list(p_system.groups.keys())\n",
    "    \n",
    "    NewData = pd.DataFrame({'System_name':system,\n",
    "                            'Total_mass':M_total.tolist(),\n",
    "                            'Center_of_Mass':CoM.tolist()})\n",
    "\n",
    "    return NewData\n",
    "\n",
    "CoM=CoM(data);#CoM"
   ]
  },
  {
   "cell_type": "markdown",
   "metadata": {
    "slideshow": {
     "slide_type": "subslide"
    }
   },
   "source": [
    "Therefore, the distribution of the $r_\\text{cm}$"
   ]
  },
  {
   "cell_type": "code",
   "execution_count": 283,
   "metadata": {
    "slideshow": {
     "slide_type": "fragment"
    }
   },
   "outputs": [
    {
     "data": {
      "text/plain": [
       "<matplotlib.legend.Legend at 0x7f832f297b80>"
      ]
     },
     "execution_count": 283,
     "metadata": {},
     "output_type": "execute_result"
    },
    {
     "data": {
      "image/png": "[encoded data removed]",
      "text/plain": [
       "<Figure size 720x360 with 1 Axes>"
      ]
     },
     "metadata": {
      "needs_background": "light"
     },
     "output_type": "display_data"
    }
   ],
   "source": [
    "#histogram \n",
    "lat=15\n",
    "\n",
    "x=CoM.Center_of_Mass.values\n",
    "\n",
    "fig, ax = plt.subplots(1, 1, figsize=(10, 5))\n",
    "\n",
    "ax = sb.distplot(np.log10(x), bins=60, label=r\"Histogram of $r_\\text{cm}$\",\n",
    "                kde_kws={\"lw\": 2, \"label\": r\"Density estimation\"})\n",
    "\n",
    "ax.set_xticklabels([r'$10^{-3}$',r'$10^{-2}$',r'$10^{-1}$',r'$10^{0}$',\n",
    "                    r'$10^{1}$',r'$10^{2}$',r'$10^{3}$'])#,\n",
    "#                    r'$10^{3}$',r'$10^{4}$'])\n",
    "\n",
    "ax.set(xlim=(np.log10(x).min(),np.log10(x).max()))\n",
    "\n",
    "plt.xlabel(r\"$\\log_{10}(r_\\text{cm})$ (AU)\", fontsize=lat)\n",
    "plt.ylabel(r\"Counts\", fontsize=lat)\n",
    "ax.tick_params(labelsize=lat)\n",
    "plt.legend(fontsize=lat)\n",
    "#plt.savefig(\"figures/CMhist.pdf\",bbox_inches='tight')"
   ]
  },
  {
   "cell_type": "markdown",
   "metadata": {
    "slideshow": {
     "slide_type": "fragment"
    }
   },
   "source": [
    "However, the calculus of the $r_\\text{cm}$, was made without take into account the mass of the star."
   ]
  },
  {
   "cell_type": "markdown",
   "metadata": {
    "slideshow": {
     "slide_type": "slide"
    }
   },
   "source": [
    "## 3. Gaussian Mixture Model\n",
    "\n",
    "At first we will use the Gaussian Mixture Model to clasify the $r_\\text{cm}$ in $n$ finite distributions. Python has the library `sckit-learn`, which uses the Expectation Maximization algorithm to determine the maximum likelihood for  a determined number $n$ of clusters (more informtion  <a href=\"https://scikit-learn.org/stable/modules/mixture.html\">Gaussian Mixture</a>). \n",
    "\n",
    "\n",
    "### Function: Classification\n",
    "\n",
    "We employ the `GaussianMixture` package from `sckit-learn` to classify our data in different clusrers ($n$). Here, we employ the number of compnents, `n_components` as the numer of clusters $n$. \n",
    "\n",
    "Normal Gaussian plots are generated in order to represent the clusters in our data."
   ]
  },
  {
   "cell_type": "code",
   "execution_count": 379,
   "metadata": {
    "slideshow": {
     "slide_type": "subslide"
    }
   },
   "outputs": [],
   "source": [
    "#'n_components' is the number of clusters.\n",
    "\n",
    "def classification(n_components, data, log=False):\n",
    "    gmm = GaussianMixture(n_components, \n",
    "                          covariance_type='full',\n",
    "                          random_state=0)\n",
    "    gmm.fit(mass.values)\n",
    "    cluster_label = gmm.predict(mass.values)\n",
    "    \n",
    "    #Figures:\n",
    "    CL = cluster_label\n",
    "    color=[\"C\"+str(CL[i]+1) for i in range(len(cluster_label))]\n",
    "    x=np.linspace(mass.values.min(),mass.values.max(),1000)\n",
    "        \n",
    "    figure, ax = plt.subplots(1, 2, sharex='col', \n",
    "                              sharey='row', figsize=(10, 5))\n",
    "    \n",
    "    #Gaussians:\n",
    "    for c in range(n_components):\n",
    "        ax[0].plot(x,norm.pdf(x,gmm.means_[c],\n",
    "                              gmm.covariances_[c])[0]/\n",
    "                   norm.pdf(x,gmm.means_[c],\n",
    "                            gmm.covariances_[c])[0].max())\n",
    "\n",
    "    #Scatter:\n",
    "        Mass_a=mass.values[CL==c]    \n",
    "        ax[0].plot(Mass_a,\n",
    "                   np.zeros(len(Mass_a)),\"o\",label='cluster '+str(c+1))#,\n",
    "#                   color='C'+str(c))\n",
    "        ax[1].plot(mass,gmm.predict_proba(mass)[:,c],\"o\",\n",
    "                   label=r'Pcluster '+str(c+1))\n",
    "    \n",
    "    if log==True:\n",
    "        ax[0].set(xlabel=r'$\\log_{10}$(Mass)')\n",
    "        ax[1].set(xlabel=r'$\\log_{10}$(Mass)')\n",
    "    else:\n",
    "        ax[0].set(xlabel=r'Mass')\n",
    "        ax[1].set(xlabel=r'Mass')\n",
    "        \n",
    "    ax[0].set(ylabel=r'Normal distribution')\n",
    "    ax[1].set(ylabel=r'Posterior probabilities')\n",
    "\n",
    "    ax[0].legend()  \n",
    "    ax[1].legend() \n",
    "        \n",
    "    plt.subplots_adjust(wspace = .1)"
   ]
  },
  {
   "cell_type": "code",
   "execution_count": null,
   "metadata": {},
   "outputs": [],
   "source": []
  },
  {
   "cell_type": "code",
   "execution_count": null,
   "metadata": {},
   "outputs": [],
   "source": []
  },
  {
   "cell_type": "code",
   "execution_count": null,
   "metadata": {},
   "outputs": [],
   "source": []
  },
  {
   "cell_type": "code",
   "execution_count": null,
   "metadata": {},
   "outputs": [],
   "source": []
  },
  {
   "cell_type": "markdown",
   "metadata": {},
   "source": [
    "### Function: Information Criterion AIC/BIC\n",
    "Now, we need to determine the idel number of clusters. To do that, we use the information criterion as strategy to avoiding underfit or overfit. The information criteria determine the quality of models and score them (more information <a href=\"https://en.wikipedia.org/wiki/Model_selection#Criteria\">Model selection</a>).  \n",
    "\n",
    "\n",
    "We define a function wich gets the information criteria for different numbers of components (the number of mixture components $n$), in order to obtain the minimum value of criterium to determine the ideal number of clsuters. The lowest BIC/AIC is preferred.\n",
    "\n",
    "Then, it plots the BIC and AIC values to observe their behavior."
   ]
  },
  {
   "cell_type": "code",
   "execution_count": 291,
   "metadata": {
    "slideshow": {
     "slide_type": "fragment"
    }
   },
   "outputs": [],
   "source": [
    "# \"data\" is a data frame with a Center_of_Mass. \n",
    "# \"times\" is the number of clusters in the criteria: AIC and BIC\n",
    "\n",
    "def inf_criterion(times, data, log=False):\n",
    "    \n",
    "    bic, aic = [], []\n",
    "    \n",
    "    if log==True:\n",
    "        x = np.reshape(np.log10(data.Center_of_Mass.values), (-1,1))\n",
    "    else:\n",
    "        x = np.reshape(data.Center_of_Mass.values, (-1,1))\n",
    "    \n",
    "    for i in range(times):\n",
    "        i += 1\n",
    "        gmm = GaussianMixture(i, covariance_type='full', random_state=0)\n",
    "        gmm.fit(x)\n",
    "        bic.append(gmm.bic(x)); aic.append(gmm.aic(x))\n",
    "    \n",
    "    criteria = [bic,aic]  \n",
    "    min_criteria = [min(criteria[0])/max(criteria[0]),min(criteria[1])/max(criteria[1])]\n",
    "    \n",
    "    print('Ideal number of clusters, BIC = '+str(criteria[0].index(min(criteria[0]))+1))\n",
    "    print('Ideal number of clusters, AIC = '+str(criteria[1].index(min(criteria[1]))+1))   \n",
    "    \n",
    "    return criteria"
   ]
  },
  {
   "cell_type": "code",
   "execution_count": 375,
   "metadata": {
    "slideshow": {
     "slide_type": "skip"
    }
   },
   "outputs": [],
   "source": [
    "#comparison between AIC and BIC criteria----------------(plot)------------------------\n",
    "\n",
    "def plot_criteria(criteria):\n",
    "  \n",
    "    figure, ax = plt.subplots(1, 2, sharex='col', sharey='row', figsize=(9, 4))\n",
    "    let   = 15 \n",
    "    label = ['BIC','AIC']\n",
    "\n",
    "    for i,criterium in enumerate(criteria):\n",
    "        dim  = len(criteria[i])\n",
    "        norm = min(criteria[i])/max(criteria[i])\n",
    "        \n",
    "        ax[i].plot(range(1, dim+1), criteria[i]/max(criteria[i]), \"o\",\n",
    "                   c=\"C1\",label=label[i]+\" values\")\n",
    "        ax[i].plot(range(1, dim+1),criteria[i]/max(criteria[i]))#, label=label[i])\n",
    "        ax[i].plot(range(1, dim+1),np.ones(dim)*norm,\n",
    "                   \"--\",label=r\"Ideal clusters \"+str(criteria[i].index(min(criteria[i]))+1) )\n",
    "\n",
    "        ax[i].set_xlabel(r'Number of clusters', fontsize=let+1)\n",
    "        ax[i].legend(fontsize=let, loc=1,edgecolor='black')\n",
    "        ax[i].set_xlim(0, dim+1)\n",
    "        ax[i].set_xticks(np.arange(0, dim, step=2))\n",
    "        ax[i].tick_params(labelsize=let)\n",
    "\n",
    "    ax[0].set_ylabel(r'Criterium value normalized', fontsize=let+1)\n",
    "    return [bic,aic]"
   ]
  },
  {
   "cell_type": "markdown",
   "metadata": {
    "slideshow": {
     "slide_type": "subslide"
    }
   },
   "source": [
    "The ideal numer of cluster to group the center of mass $r_\\text{cm}$ is determined through:  "
   ]
  },
  {
   "cell_type": "code",
   "execution_count": 376,
   "metadata": {
    "slideshow": {
     "slide_type": "fragment"
    }
   },
   "outputs": [
    {
     "name": "stdout",
     "output_type": "stream",
     "text": [
      "Ideal number of clusters, BIC = 6\n",
      "Ideal number of clusters, AIC = 15\n"
     ]
    },
    {
     "data": {
      "image/png": "[encoded data removed]",
      "text/plain": [
       "<Figure size 648x288 with 2 Axes>"
      ]
     },
     "metadata": {
      "needs_background": "light"
     },
     "output_type": "display_data"
    }
   ],
   "source": [
    "b = inf_criterion(15, CoM, False)\n",
    "b_plot = plot_criteria(b)"
   ]
  },
  {
   "cell_type": "markdown",
   "metadata": {
    "slideshow": {
     "slide_type": "subslide"
    }
   },
   "source": [
    "The ideal numer of cluster to group the logarithm of the center of mass $r_\\text{cm}$ is determined through: "
   ]
  },
  {
   "cell_type": "code",
   "execution_count": 377,
   "metadata": {
    "slideshow": {
     "slide_type": "fragment"
    }
   },
   "outputs": [
    {
     "name": "stdout",
     "output_type": "stream",
     "text": [
      "Ideal number of clusters, BIC = 4\n",
      "Ideal number of clusters, AIC = 11\n"
     ]
    },
    {
     "data": {
      "image/png": "[encoded data removed]",
      "text/plain": [
       "<Figure size 648x288 with 2 Axes>"
      ]
     },
     "metadata": {
      "needs_background": "light"
     },
     "output_type": "display_data"
    }
   ],
   "source": [
    "a = inf_criterion(15, CoM, log=True)\n",
    "a_plot = plot_criteria(a)"
   ]
  },
  {
   "cell_type": "code",
   "execution_count": null,
   "metadata": {},
   "outputs": [],
   "source": []
  },
  {
   "cell_type": "code",
   "execution_count": null,
   "metadata": {},
   "outputs": [],
   "source": []
  },
  {
   "cell_type": "code",
   "execution_count": null,
   "metadata": {},
   "outputs": [],
   "source": []
  },
  {
   "cell_type": "code",
   "execution_count": null,
   "metadata": {},
   "outputs": [],
   "source": []
  },
  {
   "cell_type": "code",
   "execution_count": null,
   "metadata": {},
   "outputs": [],
   "source": []
  },
  {
   "cell_type": "code",
   "execution_count": null,
   "metadata": {},
   "outputs": [],
   "source": []
  },
  {
   "cell_type": "code",
   "execution_count": null,
   "metadata": {},
   "outputs": [],
   "source": []
  },
  {
   "cell_type": "code",
   "execution_count": null,
   "metadata": {},
   "outputs": [],
   "source": []
  },
  {
   "cell_type": "code",
   "execution_count": null,
   "metadata": {},
   "outputs": [],
   "source": []
  },
  {
   "cell_type": "code",
   "execution_count": null,
   "metadata": {},
   "outputs": [],
   "source": []
  },
  {
   "cell_type": "code",
   "execution_count": null,
   "metadata": {},
   "outputs": [],
   "source": []
  },
  {
   "cell_type": "code",
   "execution_count": null,
   "metadata": {},
   "outputs": [],
   "source": []
  },
  {
   "cell_type": "code",
   "execution_count": null,
   "metadata": {},
   "outputs": [],
   "source": []
  },
  {
   "cell_type": "code",
   "execution_count": null,
   "metadata": {},
   "outputs": [],
   "source": []
  },
  {
   "cell_type": "code",
   "execution_count": 84,
   "metadata": {
    "slideshow": {
     "slide_type": "subslide"
    }
   },
   "outputs": [],
   "source": []
  },
  {
   "cell_type": "code",
   "execution_count": 88,
   "metadata": {},
   "outputs": [
    {
     "ename": "ValueError",
     "evalue": "Expected 2D array, got 1D array instead:\narray=[1.70000000e+00 4.22000000e-01 1.29000000e+00 2.43000000e+02\n 1.54000000e+00 2.77000000e+00 1.68000000e+00 3.30000000e+02\n 3.90000000e+00 1.90000000e-01 1.55841053e+00 9.20000000e-01\n 5.20000000e+01 1.56000000e+02 1.50000000e+01 2.89700000e+00\n 4.60000000e+01 3.53000000e+00 4.48000000e+00 2.30000000e+02\n 5.18000000e+02 9.95000000e-01 1.82000000e+00 8.70000000e-01\n 1.19000000e+00 5.57983015e+00 1.40000000e+01 4.21118047e+00\n 3.27171136e-01 1.93000000e+00 4.90000000e-01 1.62000000e-01\n 1.46000000e+00 1.30000000e+00 5.76000000e-01 6.60000000e-02\n 2.41000000e-01 5.00000000e-01 1.19000000e+00 4.20000000e+00\n 5.95713889e-01 6.05120000e-01 2.28000000e+00 1.34000000e+00\n 6.70000000e+01 2.60000000e+00 8.38000000e-03 2.54000000e-02\n 1.05500000e-01 4.35100000e-02 4.01600000e-02 5.10000000e-02\n 2.70000000e-02 4.50000000e-02 6.18000000e-02 4.61000000e-02\n 2.95000000e-02 5.18000000e-02 2.81000000e-02 2.33909831e+00\n 4.17000000e-02 9.20000000e-02 4.77000000e-02 9.80000000e-02\n 5.78000000e-02 5.26000000e-02 4.76000000e-02 5.90000000e-02\n 3.90000000e-02 5.70000000e-02 8.40000000e-02 5.86000000e-02\n 7.10000000e-02 9.00000000e-02 4.94700000e-02 8.55000000e-02\n 1.72000000e-02 6.30000000e-02 4.07000000e-01 3.60000000e-01\n 8.19000000e+00 1.14800000e+03 1.48000000e-01 1.02000000e-01\n 8.80000000e-03 6.21000000e-02 9.43000000e-02 9.30900000e-02\n 1.36700000e-01 2.57300000e-01 4.80000000e-02 5.93000000e-02\n 4.67000000e-02 5.75000000e-02 4.95503386e-02 5.91000000e-02\n 9.16000000e-02 6.55151046e-02 7.23900000e-02 4.04000000e-02\n 5.62982301e-02 8.23165563e-02 3.30000000e+02 3.51383592e-02\n 1.41100000e-02 7.20000000e-02 5.30000000e-02 6.06284379e-01\n 2.41000000e+00 1.14319728e-01 9.70000000e-01 1.01000000e-01\n 7.52656766e-02 4.61326641e-01 3.00000000e+01 4.50000000e+00\n 2.29663595e-01 8.27339105e-02 3.55700000e-02 2.87000000e-02\n 6.08000000e-02 7.20287586e-02 1.19000000e-01 6.00000000e-02\n 2.88700000e-02 6.66100000e-02 3.24000000e-01 7.83990000e-02\n 1.04349162e+00 2.32212082e-01 4.20868710e+00 1.43749463e-01\n 1.63530000e-01 4.48000000e+01 8.25882353e-01 3.52325893e+00\n 1.85301864e-01 2.91000000e-01 3.59820569e-02 1.03000000e+02\n 3.20000000e+02 2.00000000e+03 5.56100000e-02 4.39000000e-02\n 5.30000000e-02 3.84000000e-02 1.12176404e+00 5.94000000e-02\n 9.64000000e-02 4.13000000e-02 5.59000000e-02 4.66000000e-02\n 6.74000000e-02 3.61000000e-02 4.94000000e-02 4.14000000e-02\n 2.32000000e-02 4.65000000e-02 4.79000000e-02 4.03000000e-02\n 4.34000000e-02 6.67000000e-02 3.86600000e-02 4.19000000e-02\n 5.50000000e-02 3.44000000e-02 5.03000000e-02 6.77000000e-02\n 4.98000000e-02 2.38000000e-02 3.79000000e-02 5.23000000e-02\n 5.09000000e-02 4.46000000e-02 6.08000000e-02 4.26000000e-02\n 5.75000000e-02 4.43000000e-02 5.71422892e-01 4.52000000e-02\n 3.21879703e-01 6.15000000e-02 5.43000000e-02 4.38000000e-02\n 4.07900000e-02 4.53000000e-02 5.06900000e-02 3.69400000e-02\n 3.15900000e-02 4.11700000e-02 4.60400000e-02 4.23000000e-02\n 4.06000000e-02 5.23500000e-02 3.95100000e-02 4.36300000e-02\n 6.50500000e-02 3.79000000e-02 4.49000000e-02 5.30000000e-02\n 4.44000000e-02 4.49000000e-02 4.61400000e-02 4.79500000e-02\n 4.05700000e-02 3.81500000e-02 2.71200000e-02 3.74400000e-02\n 1.30800000e-01 1.76100000e-02 5.89000000e-02 2.30000000e-02\n 4.61900000e-02 4.67600000e-02 5.02500000e-02 3.39700000e-02\n 2.54700000e-02 5.16300000e-02 4.73500000e-02 6.11000000e-02\n 4.13100000e-02 5.47500000e-02 4.85000000e-02 4.35400000e-02\n 4.78000000e-02 4.02400000e-02 3.72700000e-02 3.16600000e-02\n 3.19900000e-02 5.29000000e-02 6.00000000e-02 3.62000000e-02\n 4.99700000e-02 5.83000000e-02 3.68900000e-02 4.94400000e-02\n 3.64900000e-02 5.51100000e-02 5.36700000e-02 5.42000000e-02\n 5.04600000e-02 4.63900000e-02 2.49800000e-02 4.75300000e-02\n 2.35445452e+00 3.62300000e-02 4.01200000e-02 4.66700000e-02\n 3.04800000e-02 7.60000000e-01 1.03000000e+00 1.53200000e-01\n 9.06423529e-01 2.01000000e+00 4.60000000e-01 8.10000000e-02\n 2.49000000e-01 4.98000000e-02 7.00000000e-02 2.64300000e-01\n 2.33500000e+00 4.30000000e+00 1.24290984e-01 2.03000000e+00\n 4.59000000e+00 2.20000000e+00 6.54000000e+02 2.16000000e+00\n 2.69000000e-01 1.02000000e-01 2.00000000e+00 1.40000000e+00\n 1.74835997e+00 3.30000000e-01 1.47400000e-01 1.93485507e+00\n 2.50000000e+00 9.20000000e-01 2.10511628e+00 1.60000000e+00\n 5.16000000e+00 3.53000000e-01 1.16000000e+00 2.08525352e+00\n 8.00000000e+01 1.73000000e+00 1.08000000e+00 5.74941799e-01\n 1.70000000e+00 1.71000000e+00 2.82968759e+00 1.89000000e+00\n 4.10000000e+00 2.97000000e-01 8.09000000e-02 5.40000000e-01\n 1.81050000e+00 2.35000000e+00 1.53378650e+00 8.70000000e-01\n 2.90000000e+00 2.09000000e+00 1.85000000e+00 2.62000000e+00\n 2.17382199e+00 1.81411114e+00 6.38000000e-01 8.18804140e-01\n 2.50784232e+00 2.40770388e-01 1.32000000e+00 8.90000000e-01\n 1.78377372e-01 1.75931776e+00 5.15000000e+00 2.36000000e+00\n 3.40000000e+00 1.89719276e+00 5.69694656e+00 3.03000000e+00\n 2.77000000e+00 3.79000000e-02 2.33143861e-01 4.50000000e-01\n 4.60000000e+00 8.58295515e-02 1.51089585e+00 3.19300000e-01\n 7.81059140e-01 2.45000000e+00 9.30000000e-01 4.28800000e-02\n 1.31000000e+00 1.93030000e+00 6.70000000e+00 3.20000000e+00\n 1.48000000e+00 1.28000000e+00 1.31600000e-01 4.30000000e+00\n 6.00000000e-01 3.46901245e+00 2.00000000e+00 8.26586826e-01\n 4.95000000e-01 1.88000000e+00 5.00000000e-02 1.52000000e+00\n 2.10000000e+00 5.42673267e-01 1.92756184e+00 3.07891892e+00\n 6.80000000e-01 2.14800000e+00 4.43000000e+00 1.90163399e+00\n 1.40000000e-01 1.60000000e+00 8.75000000e-01 1.13000000e+00\n 1.92438027e+00 1.13000000e+00 9.40000000e-01 5.42000000e+00\n 2.31238141e+00 1.30000000e+00 1.29000000e+00 2.54000000e+00\n 1.62300000e-01 1.16000000e+00 2.40000000e+00 9.80000000e-01\n 1.42000000e+00 9.72833617e-02 1.15703476e+00 1.39000000e+00\n 1.65000000e+00 2.90743658e+00 3.88575777e+00 1.92000000e+00\n 1.09900000e-01 3.14200000e-02 2.00000000e+00 3.76477421e+00\n 2.07000000e+00 2.80000000e+00 1.53120000e-01 5.11000000e+01\n 1.38800000e-01 5.02000000e+00 2.60000000e+00 2.07000000e+00\n 1.49464250e-01 1.71479053e+00 1.20000000e+00 2.23000000e+00\n 3.35291132e+00 2.56000000e+00 8.96000000e-01 1.68000000e+00\n 2.69106971e-01 1.38100000e+00 1.44260465e+00 3.66082070e-01\n 5.10000000e-01 2.10000000e+00 9.47000000e-01 1.05000000e+00\n 4.74700000e-02 1.10000000e+00 7.50000000e+00 1.22000000e+00\n 3.18000000e+00 1.02170611e-01 2.56000000e+00 6.09000000e-01\n 2.25860999e-01 3.46057330e+00 2.38000000e+00 6.87300000e-01\n 6.22000000e+00 2.31722719e+00 1.60000000e+00 3.36000000e+00\n 4.94000000e+00 7.40000000e-01 1.25000000e+00 2.30600000e+00\n 1.83000000e+00 5.10000000e+00 1.35000000e+00 2.28000000e+00\n 1.16700000e+00 1.59600000e+00 2.40000000e+00 5.70000000e+00\n 4.92000000e+00 1.29000000e+00 3.02000000e+00 1.16000000e+00\n 3.25000000e+00 4.74465252e+00 2.15000000e+00 3.30000000e+00\n 7.29000000e-02 1.04000000e-01 1.24000000e+00 2.28000000e+00\n 3.43000000e+00 4.50411924e+00 2.30000000e+00 2.69000000e+00\n 2.00000000e+00 1.26000000e+00 4.36807826e-01 1.09789736e-01\n 5.90000000e-01 3.41000000e+00 1.06000000e+00 1.90188679e+00\n 2.82673209e+00 3.89000000e-01 2.64439252e-01 1.69490806e+00\n 2.20682507e+00 1.02000000e+00 3.56042753e+00 1.70000000e+00\n 1.03760000e+00 1.11107511e-01 1.08000000e+00 2.31635441e-01\n 1.40000000e+00 8.46000000e-01 1.07000000e-01 1.67000000e+00\n 1.16400000e+00 1.65000000e+00 5.54000000e-01 1.18000000e-01\n 1.19000000e+00 9.20000000e-01 1.19000000e+00 1.40000000e+00\n 1.92000000e+00 2.89500000e+00 1.54323546e+00 1.64000000e+01\n 3.86000000e+00 2.63730266e-01 3.16000000e-01 2.07100000e+00\n 5.30000000e-01 1.20000000e+00 7.60000000e-01 1.08600000e+00\n 1.69000000e+00 9.49000000e-01 1.20965035e+00 1.20000000e+00\n 3.18000000e+00 2.78455120e+00 3.56000000e+00 2.18000000e+00\n 7.04000000e-02 1.36000000e+00 4.74000000e+00 2.28000000e-01\n 2.19800000e+00 8.40000000e-01 3.17821021e+00 4.01061093e+00\n 5.57540000e+00 1.14900000e+00 4.38000000e-01 6.14000000e-02\n 1.03676100e-01 3.13000000e+00 4.49000000e-01 6.60000000e-01\n 1.65000000e+00 2.14500000e+00 4.06000000e-02 2.45000000e+00\n 3.15253012e+00 2.60000000e-01 2.60000000e+00 2.86000000e+00\n 3.02000000e+00 2.72000000e+00 1.31859942e+00 3.60000000e+00\n 3.34000000e+00 1.05000000e-01 4.40000000e-01 2.50000000e-01\n 2.20000000e+00 6.00000000e-01 1.91182100e-01 5.24833333e-01\n 6.17000000e+01 1.51000000e+00 1.28000000e+00 5.20000000e+00\n 9.90000000e-01 1.30000000e+00 2.78920468e-01 1.60000000e+00\n 8.00000000e-02 1.23000000e+00 1.80000000e+01 5.60000000e+00\n 1.10500000e+00 1.23000000e-01 2.14000000e+00 2.27000000e+01\n 1.38000000e+02 8.10000000e-01 7.20000000e-01 1.13400000e+00\n 7.06000000e-01 9.80000000e-02 4.80000000e+00 3.56613613e-01\n 7.10495146e+00 9.08737014e-01 1.59000000e+02 2.66914191e-01\n 2.81000000e+00 4.96000000e+00 3.19000000e+00 1.00000000e+01\n 2.61395349e+01 2.30000000e+01 2.10000000e+00 1.27500000e+00\n 3.20000000e+03 7.10000000e+02 2.80000000e+00 5.70000000e-02\n 2.55000000e+00 7.95000000e+02 2.03000000e+01 9.25000000e-01\n 1.45000000e+01 4.69000000e+00 2.03800000e+00 5.73000000e-02\n 1.02100000e-01 1.81100000e-01 1.42900000e-01 8.07256881e-02\n 2.80000000e-02 3.52000000e-02 2.06316347e-01 4.21700000e-02\n 1.51443556e-01 4.98600000e-02 2.20000000e-02 1.28731458e-01\n 4.09000000e-02 4.41900000e-02 6.20000000e-02 3.47000000e-02\n 4.50000000e-02 5.98300000e-02 6.53000000e-02 1.59000000e-01\n 2.47200000e-02 5.25000000e-02 6.22900000e-02 4.61300000e-02\n 2.04400000e-02 4.88100000e-02 4.55000000e-02 5.49800000e-02\n 5.42000000e-02 5.22400000e-02 4.11700000e-02 4.32100000e-02\n 2.14408960e+00 4.41500000e-02 4.57100000e-02 2.03000000e+00\n 3.42000000e-01 1.08000000e+00 8.30000000e-01 4.64000000e-02\n 9.10000000e-02 4.14000000e-02 5.93000000e-01 4.33000000e-02\n 2.69000000e-02 2.52830508e-01 2.04643279e-01 1.17000000e-01\n 4.40718921e-01 5.56000000e-02 5.71400000e-02 1.24000000e+00\n 7.04800000e-01 2.72050000e+00 1.88737968e+00 2.59100000e-02\n 8.69677731e-02 8.50000000e-02 1.77056002e-01 4.27172000e-02\n 4.89512195e-01 1.08960000e+00 6.03470000e-01 1.23675517e-01\n 1.00300000e-01 4.64400000e-01 1.55000000e-01 4.56000000e-02\n 8.00000000e-02 2.90000000e-02 2.95900000e-02 1.32912067e+00\n 3.82000000e-01 8.20000000e-02 3.58500000e-02 6.41677500e-01\n 4.49000000e-02 5.91150498e-01 1.14300000e-01 9.48000000e-02\n 4.55000000e-02 7.69000000e-02 1.51000000e-01 2.70000000e-02\n 1.28028810e+00 2.20852686e-01 5.06400000e-02 4.33017518e-01\n 4.98800000e-01 1.58364319e-01 4.56700000e-02 4.39629194e-01\n 6.34000000e-01 6.80000000e-02 1.35200000e-01 1.17100000e-01\n 1.36055889e+00 6.24600000e-02 8.40000000e-02 8.00000000e-02\n 2.80000000e-02 4.50100000e-02 1.00000000e-02 2.11278792e-01\n 4.83000000e-02 4.74729738e-01 1.52900000e-01 1.68305163e-01\n 7.20000000e-02 5.30000000e-02 7.45000940e-02 1.57000000e+01\n 1.13491913e-01 4.30000000e-02 5.70000000e-02 6.60000000e-01\n 4.29000000e+00 8.50000000e-01 1.25000000e+00 3.30000000e+00\n 3.20000000e+00 2.00000000e+00 1.80000000e+00 2.90000000e+00\n 9.20000000e-01 1.72000000e+00 2.00000000e+00 8.40000000e-01\n 1.40000000e+00 1.10000000e+00 3.60000000e+00 7.14000000e+00\n 1.02000000e+01 1.12000000e+00 4.20000000e+00 1.64000000e+00\n 8.30000000e+00 3.26000000e-02 6.30000000e-02 2.30000000e-02\n 2.40000000e-02 4.88628945e+00 2.60000000e+00 5.10000000e+00\n 3.60000000e+00 4.00000000e+00 2.89739479e+00 2.59000000e+00\n 3.10000000e-01 3.86000000e+00 1.89000000e+00 1.90000000e-01\n 4.51721519e+00 8.70000000e-01 3.45000000e+00 7.40000000e-01\n 1.60000000e+00 2.70000000e+00 8.00000000e-01 3.60000000e+00\n 7.02000000e-01 1.80000000e+00 3.48000000e+00 6.10000000e-01\n 4.40000000e+00 9.63000000e+00 2.26126229e+00 1.75000000e+00\n 7.30000000e-01 2.40000000e+00 2.45000000e-01 6.40000000e+00\n 2.17000000e+00 4.20000000e-01 3.30000000e-01 3.75000000e+00\n 1.02000000e+00 1.18000000e+00 5.90000000e-01 1.16000000e+00\n 4.16200000e-02 4.70000000e-02 2.29000000e-02 3.06000000e-02\n 5.10000000e-02 5.10000000e-02 2.25000000e-02 3.08000000e-02\n 6.18000000e+00 3.73400000e-02 1.02600000e+01 2.30000000e+01\n 4.69683207e+00 4.85000000e-02 2.33200000e-02 2.14900000e-02\n 3.78300000e-02 2.86100000e-02 4.12700000e-02 4.23000000e-02\n 2.10000000e+02 1.40000000e+02 5.30000000e+00 4.96000000e-02\n 1.08300000e+03 9.75000000e-02 2.69179112e-02 1.41400000e+00\n 1.25152966e+00 2.10000000e-01 3.93000000e-02 3.55500000e-02\n 2.26000000e-02 5.08400000e-02 2.44600000e-02 4.18000000e+00\n 1.00000000e+03 8.40000000e+02 4.30000000e+02 2.80000000e+00\n 1.70000000e+00 5.70000000e-02 1.02000000e+02 3.82000000e-02\n 3.71000000e-02 4.57000000e-02 5.06000000e-02 4.01000000e-02\n 1.98500000e-02 2.91800000e-02 7.50000000e-02 9.17000000e-02\n 5.50000000e-02 3.97000000e-02 4.63000000e-02 4.57000000e-02\n 3.91400000e-02 3.82000000e-02 5.88500000e-02 2.85100000e-02\n 9.45900000e-02 5.45300000e-02 3.63000000e-02 2.34000000e-02\n 5.22000000e-02 2.54400000e-02 3.10700000e-02 4.31000000e-02\n 4.99000000e-02 4.49000000e-02 5.20000000e-02 3.59000000e-02\n 6.28000000e-02 5.37900000e-02 1.01200000e-01 6.07000000e-02\n 6.70000000e-02 3.45000000e-02 2.43000000e-02 6.61000000e-02\n 4.94000000e-02 6.20000000e-02 3.60000000e-02 3.23000000e-02\n 4.69000000e-02 3.47000000e-02 3.16000000e-02 2.61000000e-02\n 5.49000000e-02 4.99000000e-02 5.50000000e-02 4.80000000e-02\n 4.53000000e-02 5.29000000e-02 5.17000000e-02 5.38000000e-02\n 4.21000000e-02 4.55000000e-02 6.73000000e-02 8.71000000e-02\n 2.66000000e-02 2.81800000e-02 4.82300000e-02 3.65000000e-02\n 5.19000000e-02 5.15000000e-02 3.37000000e-02 6.94000000e-02\n 2.48000000e-02 5.55000000e-02 2.04700000e-02 1.61600000e-02\n 3.13800000e-02 6.00300000e-02 5.20000000e-02 4.69800000e-02\n 3.76000000e-02 3.65100000e-02 4.74000000e-02 3.98500000e-02\n 4.46900000e-02 4.57000000e-02 3.13000000e-02 4.65700000e-02\n 3.94000000e-02 2.55800000e-02 5.24000000e-02 4.31700000e-02\n 2.62400000e-02 4.33900000e-02 7.55100000e-02 4.86000000e-02\n 2.31200000e-02 8.35000000e-01 4.58000000e-02 1.52600000e-02\n 3.47300000e-02 4.05400000e-02 2.44800000e-02 7.60461860e-01\n 3.44400000e-02 3.78000000e-02 2.72900000e-02 2.91300000e-02\n 2.72000000e-02 3.30445478e+00 5.33000000e-02 5.61000000e-02\n 4.21000000e-02 5.14000000e-02 5.67000000e-02 5.74000000e-02\n 3.34000000e-02 5.46000000e-02 5.17000000e-02 6.20600000e-02\n 4.52500000e-02 6.17000000e-02 4.85300000e-02 4.63100000e-02\n 3.70800000e-02 5.51200000e-02 3.70000000e-02 3.75000000e-02\n 3.30000000e-02 2.40000000e-02 4.15000000e-02 5.39000000e-02\n 8.01000000e-02 3.46000000e-02 2.39564774e+00 4.47000000e-02\n 5.90000000e-02 7.71000000e-02 3.90000000e-02 6.17000000e-02\n 2.94600000e-02 6.43100000e-02 4.27000000e-02 5.62000000e-02\n 3.70000000e-02 3.48000000e-02 4.21100000e-02 5.50000000e-02\n 3.35000000e-02 3.41600000e-02 4.53000000e-02 3.30300000e-02\n 3.60000000e-02 7.17000000e-02 5.00000000e+00 1.50000000e+01\n 1.30000000e+00 4.70000000e-02 1.85500000e-02 3.06811904e-01\n 4.88000000e-02 3.69000000e-02 4.21351504e-01 4.54000000e-02\n 5.48500000e-02 4.87000000e-02 8.15000000e-02 2.21546315e-02\n 1.70000000e+00 1.31800000e+01 1.40000000e+00 3.39000000e+00\n 1.28200000e+01 1.90000000e+00 1.19000000e+00 2.05000000e+00\n 2.00583041e+00 5.50000000e+01 5.80000000e-01 1.10000000e+00\n 1.80000000e+00 7.02670086e-01 3.33035759e+00].\nReshape your data either using array.reshape(-1, 1) if your data has a single feature or array.reshape(1, -1) if it contains a single sample.",
     "output_type": "error",
     "traceback": [
      "\u001b[0;31m---------------------------------------------------------------------------\u001b[0m",
      "\u001b[0;31mValueError\u001b[0m                                Traceback (most recent call last)",
      "\u001b[0;32m<ipython-input-88-6da93bb51d6c>\u001b[0m in \u001b[0;36m<module>\u001b[0;34m\u001b[0m\n\u001b[0;32m----> 1\u001b[0;31m \u001b[0minfo_mass\u001b[0m \u001b[0;34m=\u001b[0m \u001b[0minf_criterion\u001b[0m\u001b[0;34m(\u001b[0m\u001b[0;36m20\u001b[0m\u001b[0;34m,\u001b[0m  \u001b[0mCoM\u001b[0m\u001b[0;34m,\u001b[0m \u001b[0;32mTrue\u001b[0m\u001b[0;34m)\u001b[0m\u001b[0;34m\u001b[0m\u001b[0;34m\u001b[0m\u001b[0m\n\u001b[0m",
      "\u001b[0;32m<ipython-input-84-a559bb96bb8c>\u001b[0m in \u001b[0;36minf_criterion\u001b[0;34m(times, CoM, figure)\u001b[0m\n\u001b[1;32m      9\u001b[0m         \u001b[0mi\u001b[0m \u001b[0;34m+=\u001b[0m \u001b[0;36m1\u001b[0m\u001b[0;34m\u001b[0m\u001b[0;34m\u001b[0m\u001b[0m\n\u001b[1;32m     10\u001b[0m         \u001b[0mgmm\u001b[0m \u001b[0;34m=\u001b[0m \u001b[0mGaussianMixture\u001b[0m\u001b[0;34m(\u001b[0m\u001b[0mi\u001b[0m\u001b[0;34m,\u001b[0m \u001b[0mcovariance_type\u001b[0m\u001b[0;34m=\u001b[0m\u001b[0;34m'full'\u001b[0m\u001b[0;34m,\u001b[0m \u001b[0mrandom_state\u001b[0m\u001b[0;34m=\u001b[0m\u001b[0;36m0\u001b[0m\u001b[0;34m)\u001b[0m\u001b[0;34m\u001b[0m\u001b[0;34m\u001b[0m\u001b[0m\n\u001b[0;32m---> 11\u001b[0;31m         \u001b[0mgmm\u001b[0m\u001b[0;34m.\u001b[0m\u001b[0mfit\u001b[0m\u001b[0;34m(\u001b[0m\u001b[0mCoM\u001b[0m\u001b[0;34m.\u001b[0m\u001b[0mCenter_of_Mass\u001b[0m\u001b[0;34m.\u001b[0m\u001b[0mvalues\u001b[0m\u001b[0;34m)\u001b[0m\u001b[0;34m\u001b[0m\u001b[0;34m\u001b[0m\u001b[0m\n\u001b[0m\u001b[1;32m     12\u001b[0m         \u001b[0mbic\u001b[0m\u001b[0;34m+=\u001b[0m\u001b[0;34m[\u001b[0m\u001b[0mgmm\u001b[0m\u001b[0;34m.\u001b[0m\u001b[0mbic\u001b[0m\u001b[0;34m(\u001b[0m\u001b[0mCoM\u001b[0m\u001b[0;34m.\u001b[0m\u001b[0mCenter_of_Mass\u001b[0m\u001b[0;34m.\u001b[0m\u001b[0mvalues\u001b[0m\u001b[0;34m)\u001b[0m\u001b[0;34m]\u001b[0m\u001b[0;34m\u001b[0m\u001b[0;34m\u001b[0m\u001b[0m\n\u001b[1;32m     13\u001b[0m         \u001b[0maic\u001b[0m\u001b[0;34m+=\u001b[0m\u001b[0;34m[\u001b[0m\u001b[0mgmm\u001b[0m\u001b[0;34m.\u001b[0m\u001b[0maic\u001b[0m\u001b[0;34m(\u001b[0m\u001b[0mCoM\u001b[0m\u001b[0;34m.\u001b[0m\u001b[0mCenter_of_Mass\u001b[0m\u001b[0;34m.\u001b[0m\u001b[0mvalues\u001b[0m\u001b[0;34m)\u001b[0m\u001b[0;34m]\u001b[0m\u001b[0;34m\u001b[0m\u001b[0;34m\u001b[0m\u001b[0m\n",
      "\u001b[0;32m~/miniconda3/lib/python3.8/site-packages/sklearn/mixture/_base.py\u001b[0m in \u001b[0;36mfit\u001b[0;34m(self, X, y)\u001b[0m\n\u001b[1;32m    191\u001b[0m         \u001b[0mself\u001b[0m\u001b[0;34m\u001b[0m\u001b[0;34m\u001b[0m\u001b[0m\n\u001b[1;32m    192\u001b[0m         \"\"\"\n\u001b[0;32m--> 193\u001b[0;31m         \u001b[0mself\u001b[0m\u001b[0;34m.\u001b[0m\u001b[0mfit_predict\u001b[0m\u001b[0;34m(\u001b[0m\u001b[0mX\u001b[0m\u001b[0;34m,\u001b[0m \u001b[0my\u001b[0m\u001b[0;34m)\u001b[0m\u001b[0;34m\u001b[0m\u001b[0;34m\u001b[0m\u001b[0m\n\u001b[0m\u001b[1;32m    194\u001b[0m         \u001b[0;32mreturn\u001b[0m \u001b[0mself\u001b[0m\u001b[0;34m\u001b[0m\u001b[0;34m\u001b[0m\u001b[0m\n\u001b[1;32m    195\u001b[0m \u001b[0;34m\u001b[0m\u001b[0m\n",
      "\u001b[0;32m~/miniconda3/lib/python3.8/site-packages/sklearn/mixture/_base.py\u001b[0m in \u001b[0;36mfit_predict\u001b[0;34m(self, X, y)\u001b[0m\n\u001b[1;32m    218\u001b[0m             \u001b[0mComponent\u001b[0m \u001b[0mlabels\u001b[0m\u001b[0;34m.\u001b[0m\u001b[0;34m\u001b[0m\u001b[0;34m\u001b[0m\u001b[0m\n\u001b[1;32m    219\u001b[0m         \"\"\"\n\u001b[0;32m--> 220\u001b[0;31m         \u001b[0mX\u001b[0m \u001b[0;34m=\u001b[0m \u001b[0m_check_X\u001b[0m\u001b[0;34m(\u001b[0m\u001b[0mX\u001b[0m\u001b[0;34m,\u001b[0m \u001b[0mself\u001b[0m\u001b[0;34m.\u001b[0m\u001b[0mn_components\u001b[0m\u001b[0;34m,\u001b[0m \u001b[0mensure_min_samples\u001b[0m\u001b[0;34m=\u001b[0m\u001b[0;36m2\u001b[0m\u001b[0;34m)\u001b[0m\u001b[0;34m\u001b[0m\u001b[0;34m\u001b[0m\u001b[0m\n\u001b[0m\u001b[1;32m    221\u001b[0m         \u001b[0mself\u001b[0m\u001b[0;34m.\u001b[0m\u001b[0m_check_n_features\u001b[0m\u001b[0;34m(\u001b[0m\u001b[0mX\u001b[0m\u001b[0;34m,\u001b[0m \u001b[0mreset\u001b[0m\u001b[0;34m=\u001b[0m\u001b[0;32mTrue\u001b[0m\u001b[0;34m)\u001b[0m\u001b[0;34m\u001b[0m\u001b[0;34m\u001b[0m\u001b[0m\n\u001b[1;32m    222\u001b[0m         \u001b[0mself\u001b[0m\u001b[0;34m.\u001b[0m\u001b[0m_check_initial_parameters\u001b[0m\u001b[0;34m(\u001b[0m\u001b[0mX\u001b[0m\u001b[0;34m)\u001b[0m\u001b[0;34m\u001b[0m\u001b[0;34m\u001b[0m\u001b[0m\n",
      "\u001b[0;32m~/miniconda3/lib/python3.8/site-packages/sklearn/mixture/_base.py\u001b[0m in \u001b[0;36m_check_X\u001b[0;34m(X, n_components, n_features, ensure_min_samples)\u001b[0m\n\u001b[1;32m     50\u001b[0m     \u001b[0mX\u001b[0m \u001b[0;34m:\u001b[0m \u001b[0marray\u001b[0m\u001b[0;34m,\u001b[0m \u001b[0mshape\u001b[0m \u001b[0;34m(\u001b[0m\u001b[0mn_samples\u001b[0m\u001b[0;34m,\u001b[0m \u001b[0mn_features\u001b[0m\u001b[0;34m)\u001b[0m\u001b[0;34m\u001b[0m\u001b[0;34m\u001b[0m\u001b[0m\n\u001b[1;32m     51\u001b[0m     \"\"\"\n\u001b[0;32m---> 52\u001b[0;31m     X = check_array(X, dtype=[np.float64, np.float32],\n\u001b[0m\u001b[1;32m     53\u001b[0m                     ensure_min_samples=ensure_min_samples)\n\u001b[1;32m     54\u001b[0m     \u001b[0;32mif\u001b[0m \u001b[0mn_components\u001b[0m \u001b[0;32mis\u001b[0m \u001b[0;32mnot\u001b[0m \u001b[0;32mNone\u001b[0m \u001b[0;32mand\u001b[0m \u001b[0mX\u001b[0m\u001b[0;34m.\u001b[0m\u001b[0mshape\u001b[0m\u001b[0;34m[\u001b[0m\u001b[0;36m0\u001b[0m\u001b[0;34m]\u001b[0m \u001b[0;34m<\u001b[0m \u001b[0mn_components\u001b[0m\u001b[0;34m:\u001b[0m\u001b[0;34m\u001b[0m\u001b[0;34m\u001b[0m\u001b[0m\n",
      "\u001b[0;32m~/miniconda3/lib/python3.8/site-packages/sklearn/utils/validation.py\u001b[0m in \u001b[0;36minner_f\u001b[0;34m(*args, **kwargs)\u001b[0m\n\u001b[1;32m     71\u001b[0m                           FutureWarning)\n\u001b[1;32m     72\u001b[0m         \u001b[0mkwargs\u001b[0m\u001b[0;34m.\u001b[0m\u001b[0mupdate\u001b[0m\u001b[0;34m(\u001b[0m\u001b[0;34m{\u001b[0m\u001b[0mk\u001b[0m\u001b[0;34m:\u001b[0m \u001b[0marg\u001b[0m \u001b[0;32mfor\u001b[0m \u001b[0mk\u001b[0m\u001b[0;34m,\u001b[0m \u001b[0marg\u001b[0m \u001b[0;32min\u001b[0m \u001b[0mzip\u001b[0m\u001b[0;34m(\u001b[0m\u001b[0msig\u001b[0m\u001b[0;34m.\u001b[0m\u001b[0mparameters\u001b[0m\u001b[0;34m,\u001b[0m \u001b[0margs\u001b[0m\u001b[0;34m)\u001b[0m\u001b[0;34m}\u001b[0m\u001b[0;34m)\u001b[0m\u001b[0;34m\u001b[0m\u001b[0;34m\u001b[0m\u001b[0m\n\u001b[0;32m---> 73\u001b[0;31m         \u001b[0;32mreturn\u001b[0m \u001b[0mf\u001b[0m\u001b[0;34m(\u001b[0m\u001b[0;34m**\u001b[0m\u001b[0mkwargs\u001b[0m\u001b[0;34m)\u001b[0m\u001b[0;34m\u001b[0m\u001b[0;34m\u001b[0m\u001b[0m\n\u001b[0m\u001b[1;32m     74\u001b[0m     \u001b[0;32mreturn\u001b[0m \u001b[0minner_f\u001b[0m\u001b[0;34m\u001b[0m\u001b[0;34m\u001b[0m\u001b[0m\n\u001b[1;32m     75\u001b[0m \u001b[0;34m\u001b[0m\u001b[0m\n",
      "\u001b[0;32m~/miniconda3/lib/python3.8/site-packages/sklearn/utils/validation.py\u001b[0m in \u001b[0;36mcheck_array\u001b[0;34m(array, accept_sparse, accept_large_sparse, dtype, order, copy, force_all_finite, ensure_2d, allow_nd, ensure_min_samples, ensure_min_features, estimator)\u001b[0m\n\u001b[1;32m    618\u001b[0m             \u001b[0;31m# If input is 1D raise error\u001b[0m\u001b[0;34m\u001b[0m\u001b[0;34m\u001b[0m\u001b[0;34m\u001b[0m\u001b[0m\n\u001b[1;32m    619\u001b[0m             \u001b[0;32mif\u001b[0m \u001b[0marray\u001b[0m\u001b[0;34m.\u001b[0m\u001b[0mndim\u001b[0m \u001b[0;34m==\u001b[0m \u001b[0;36m1\u001b[0m\u001b[0;34m:\u001b[0m\u001b[0;34m\u001b[0m\u001b[0;34m\u001b[0m\u001b[0m\n\u001b[0;32m--> 620\u001b[0;31m                 raise ValueError(\n\u001b[0m\u001b[1;32m    621\u001b[0m                     \u001b[0;34m\"Expected 2D array, got 1D array instead:\\narray={}.\\n\"\u001b[0m\u001b[0;34m\u001b[0m\u001b[0;34m\u001b[0m\u001b[0m\n\u001b[1;32m    622\u001b[0m                     \u001b[0;34m\"Reshape your data either using array.reshape(-1, 1) if \"\u001b[0m\u001b[0;34m\u001b[0m\u001b[0;34m\u001b[0m\u001b[0m\n",
      "\u001b[0;31mValueError\u001b[0m: Expected 2D array, got 1D array instead:\narray=[1.70000000e+00 4.22000000e-01 1.29000000e+00 2.43000000e+02\n 1.54000000e+00 2.77000000e+00 1.68000000e+00 3.30000000e+02\n 3.90000000e+00 1.90000000e-01 1.55841053e+00 9.20000000e-01\n 5.20000000e+01 1.56000000e+02 1.50000000e+01 2.89700000e+00\n 4.60000000e+01 3.53000000e+00 4.48000000e+00 2.30000000e+02\n 5.18000000e+02 9.95000000e-01 1.82000000e+00 8.70000000e-01\n 1.19000000e+00 5.57983015e+00 1.40000000e+01 4.21118047e+00\n 3.27171136e-01 1.93000000e+00 4.90000000e-01 1.62000000e-01\n 1.46000000e+00 1.30000000e+00 5.76000000e-01 6.60000000e-02\n 2.41000000e-01 5.00000000e-01 1.19000000e+00 4.20000000e+00\n 5.95713889e-01 6.05120000e-01 2.28000000e+00 1.34000000e+00\n 6.70000000e+01 2.60000000e+00 8.38000000e-03 2.54000000e-02\n 1.05500000e-01 4.35100000e-02 4.01600000e-02 5.10000000e-02\n 2.70000000e-02 4.50000000e-02 6.18000000e-02 4.61000000e-02\n 2.95000000e-02 5.18000000e-02 2.81000000e-02 2.33909831e+00\n 4.17000000e-02 9.20000000e-02 4.77000000e-02 9.80000000e-02\n 5.78000000e-02 5.26000000e-02 4.76000000e-02 5.90000000e-02\n 3.90000000e-02 5.70000000e-02 8.40000000e-02 5.86000000e-02\n 7.10000000e-02 9.00000000e-02 4.94700000e-02 8.55000000e-02\n 1.72000000e-02 6.30000000e-02 4.07000000e-01 3.60000000e-01\n 8.19000000e+00 1.14800000e+03 1.48000000e-01 1.02000000e-01\n 8.80000000e-03 6.21000000e-02 9.43000000e-02 9.30900000e-02\n 1.36700000e-01 2.57300000e-01 4.80000000e-02 5.93000000e-02\n 4.67000000e-02 5.75000000e-02 4.95503386e-02 5.91000000e-02\n 9.16000000e-02 6.55151046e-02 7.23900000e-02 4.04000000e-02\n 5.62982301e-02 8.23165563e-02 3.30000000e+02 3.51383592e-02\n 1.41100000e-02 7.20000000e-02 5.30000000e-02 6.06284379e-01\n 2.41000000e+00 1.14319728e-01 9.70000000e-01 1.01000000e-01\n 7.52656766e-02 4.61326641e-01 3.00000000e+01 4.50000000e+00\n 2.29663595e-01 8.27339105e-02 3.55700000e-02 2.87000000e-02\n 6.08000000e-02 7.20287586e-02 1.19000000e-01 6.00000000e-02\n 2.88700000e-02 6.66100000e-02 3.24000000e-01 7.83990000e-02\n 1.04349162e+00 2.32212082e-01 4.20868710e+00 1.43749463e-01\n 1.63530000e-01 4.48000000e+01 8.25882353e-01 3.52325893e+00\n 1.85301864e-01 2.91000000e-01 3.59820569e-02 1.03000000e+02\n 3.20000000e+02 2.00000000e+03 5.56100000e-02 4.39000000e-02\n 5.30000000e-02 3.84000000e-02 1.12176404e+00 5.94000000e-02\n 9.64000000e-02 4.13000000e-02 5.59000000e-02 4.66000000e-02\n 6.74000000e-02 3.61000000e-02 4.94000000e-02 4.14000000e-02\n 2.32000000e-02 4.65000000e-02 4.79000000e-02 4.03000000e-02\n 4.34000000e-02 6.67000000e-02 3.86600000e-02 4.19000000e-02\n 5.50000000e-02 3.44000000e-02 5.03000000e-02 6.77000000e-02\n 4.98000000e-02 2.38000000e-02 3.79000000e-02 5.23000000e-02\n 5.09000000e-02 4.46000000e-02 6.08000000e-02 4.26000000e-02\n 5.75000000e-02 4.43000000e-02 5.71422892e-01 4.52000000e-02\n 3.21879703e-01 6.15000000e-02 5.43000000e-02 4.38000000e-02\n 4.07900000e-02 4.53000000e-02 5.06900000e-02 3.69400000e-02\n 3.15900000e-02 4.11700000e-02 4.60400000e-02 4.23000000e-02\n 4.06000000e-02 5.23500000e-02 3.95100000e-02 4.36300000e-02\n 6.50500000e-02 3.79000000e-02 4.49000000e-02 5.30000000e-02\n 4.44000000e-02 4.49000000e-02 4.61400000e-02 4.79500000e-02\n 4.05700000e-02 3.81500000e-02 2.71200000e-02 3.74400000e-02\n 1.30800000e-01 1.76100000e-02 5.89000000e-02 2.30000000e-02\n 4.61900000e-02 4.67600000e-02 5.02500000e-02 3.39700000e-02\n 2.54700000e-02 5.16300000e-02 4.73500000e-02 6.11000000e-02\n 4.13100000e-02 5.47500000e-02 4.85000000e-02 4.35400000e-02\n 4.78000000e-02 4.02400000e-02 3.72700000e-02 3.16600000e-02\n 3.19900000e-02 5.29000000e-02 6.00000000e-02 3.62000000e-02\n 4.99700000e-02 5.83000000e-02 3.68900000e-02 4.94400000e-02\n 3.64900000e-02 5.51100000e-02 5.36700000e-02 5.42000000e-02\n 5.04600000e-02 4.63900000e-02 2.49800000e-02 4.75300000e-02\n 2.35445452e+00 3.62300000e-02 4.01200000e-02 4.66700000e-02\n 3.04800000e-02 7.60000000e-01 1.03000000e+00 1.53200000e-01\n 9.06423529e-01 2.01000000e+00 4.60000000e-01 8.10000000e-02\n 2.49000000e-01 4.98000000e-02 7.00000000e-02 2.64300000e-01\n 2.33500000e+00 4.30000000e+00 1.24290984e-01 2.03000000e+00\n 4.59000000e+00 2.20000000e+00 6.54000000e+02 2.16000000e+00\n 2.69000000e-01 1.02000000e-01 2.00000000e+00 1.40000000e+00\n 1.74835997e+00 3.30000000e-01 1.47400000e-01 1.93485507e+00\n 2.50000000e+00 9.20000000e-01 2.10511628e+00 1.60000000e+00\n 5.16000000e+00 3.53000000e-01 1.16000000e+00 2.08525352e+00\n 8.00000000e+01 1.73000000e+00 1.08000000e+00 5.74941799e-01\n 1.70000000e+00 1.71000000e+00 2.82968759e+00 1.89000000e+00\n 4.10000000e+00 2.97000000e-01 8.09000000e-02 5.40000000e-01\n 1.81050000e+00 2.35000000e+00 1.53378650e+00 8.70000000e-01\n 2.90000000e+00 2.09000000e+00 1.85000000e+00 2.62000000e+00\n 2.17382199e+00 1.81411114e+00 6.38000000e-01 8.18804140e-01\n 2.50784232e+00 2.40770388e-01 1.32000000e+00 8.90000000e-01\n 1.78377372e-01 1.75931776e+00 5.15000000e+00 2.36000000e+00\n 3.40000000e+00 1.89719276e+00 5.69694656e+00 3.03000000e+00\n 2.77000000e+00 3.79000000e-02 2.33143861e-01 4.50000000e-01\n 4.60000000e+00 8.58295515e-02 1.51089585e+00 3.19300000e-01\n 7.81059140e-01 2.45000000e+00 9.30000000e-01 4.28800000e-02\n 1.31000000e+00 1.93030000e+00 6.70000000e+00 3.20000000e+00\n 1.48000000e+00 1.28000000e+00 1.31600000e-01 4.30000000e+00\n 6.00000000e-01 3.46901245e+00 2.00000000e+00 8.26586826e-01\n 4.95000000e-01 1.88000000e+00 5.00000000e-02 1.52000000e+00\n 2.10000000e+00 5.42673267e-01 1.92756184e+00 3.07891892e+00\n 6.80000000e-01 2.14800000e+00 4.43000000e+00 1.90163399e+00\n 1.40000000e-01 1.60000000e+00 8.75000000e-01 1.13000000e+00\n 1.92438027e+00 1.13000000e+00 9.40000000e-01 5.42000000e+00\n 2.31238141e+00 1.30000000e+00 1.29000000e+00 2.54000000e+00\n 1.62300000e-01 1.16000000e+00 2.40000000e+00 9.80000000e-01\n 1.42000000e+00 9.72833617e-02 1.15703476e+00 1.39000000e+00\n 1.65000000e+00 2.90743658e+00 3.88575777e+00 1.92000000e+00\n 1.09900000e-01 3.14200000e-02 2.00000000e+00 3.76477421e+00\n 2.07000000e+00 2.80000000e+00 1.53120000e-01 5.11000000e+01\n 1.38800000e-01 5.02000000e+00 2.60000000e+00 2.07000000e+00\n 1.49464250e-01 1.71479053e+00 1.20000000e+00 2.23000000e+00\n 3.35291132e+00 2.56000000e+00 8.96000000e-01 1.68000000e+00\n 2.69106971e-01 1.38100000e+00 1.44260465e+00 3.66082070e-01\n 5.10000000e-01 2.10000000e+00 9.47000000e-01 1.05000000e+00\n 4.74700000e-02 1.10000000e+00 7.50000000e+00 1.22000000e+00\n 3.18000000e+00 1.02170611e-01 2.56000000e+00 6.09000000e-01\n 2.25860999e-01 3.46057330e+00 2.38000000e+00 6.87300000e-01\n 6.22000000e+00 2.31722719e+00 1.60000000e+00 3.36000000e+00\n 4.94000000e+00 7.40000000e-01 1.25000000e+00 2.30600000e+00\n 1.83000000e+00 5.10000000e+00 1.35000000e+00 2.28000000e+00\n 1.16700000e+00 1.59600000e+00 2.40000000e+00 5.70000000e+00\n 4.92000000e+00 1.29000000e+00 3.02000000e+00 1.16000000e+00\n 3.25000000e+00 4.74465252e+00 2.15000000e+00 3.30000000e+00\n 7.29000000e-02 1.04000000e-01 1.24000000e+00 2.28000000e+00\n 3.43000000e+00 4.50411924e+00 2.30000000e+00 2.69000000e+00\n 2.00000000e+00 1.26000000e+00 4.36807826e-01 1.09789736e-01\n 5.90000000e-01 3.41000000e+00 1.06000000e+00 1.90188679e+00\n 2.82673209e+00 3.89000000e-01 2.64439252e-01 1.69490806e+00\n 2.20682507e+00 1.02000000e+00 3.56042753e+00 1.70000000e+00\n 1.03760000e+00 1.11107511e-01 1.08000000e+00 2.31635441e-01\n 1.40000000e+00 8.46000000e-01 1.07000000e-01 1.67000000e+00\n 1.16400000e+00 1.65000000e+00 5.54000000e-01 1.18000000e-01\n 1.19000000e+00 9.20000000e-01 1.19000000e+00 1.40000000e+00\n 1.92000000e+00 2.89500000e+00 1.54323546e+00 1.64000000e+01\n 3.86000000e+00 2.63730266e-01 3.16000000e-01 2.07100000e+00\n 5.30000000e-01 1.20000000e+00 7.60000000e-01 1.08600000e+00\n 1.69000000e+00 9.49000000e-01 1.20965035e+00 1.20000000e+00\n 3.18000000e+00 2.78455120e+00 3.56000000e+00 2.18000000e+00\n 7.04000000e-02 1.36000000e+00 4.74000000e+00 2.28000000e-01\n 2.19800000e+00 8.40000000e-01 3.17821021e+00 4.01061093e+00\n 5.57540000e+00 1.14900000e+00 4.38000000e-01 6.14000000e-02\n 1.03676100e-01 3.13000000e+00 4.49000000e-01 6.60000000e-01\n 1.65000000e+00 2.14500000e+00 4.06000000e-02 2.45000000e+00\n 3.15253012e+00 2.60000000e-01 2.60000000e+00 2.86000000e+00\n 3.02000000e+00 2.72000000e+00 1.31859942e+00 3.60000000e+00\n 3.34000000e+00 1.05000000e-01 4.40000000e-01 2.50000000e-01\n 2.20000000e+00 6.00000000e-01 1.91182100e-01 5.24833333e-01\n 6.17000000e+01 1.51000000e+00 1.28000000e+00 5.20000000e+00\n 9.90000000e-01 1.30000000e+00 2.78920468e-01 1.60000000e+00\n 8.00000000e-02 1.23000000e+00 1.80000000e+01 5.60000000e+00\n 1.10500000e+00 1.23000000e-01 2.14000000e+00 2.27000000e+01\n 1.38000000e+02 8.10000000e-01 7.20000000e-01 1.13400000e+00\n 7.06000000e-01 9.80000000e-02 4.80000000e+00 3.56613613e-01\n 7.10495146e+00 9.08737014e-01 1.59000000e+02 2.66914191e-01\n 2.81000000e+00 4.96000000e+00 3.19000000e+00 1.00000000e+01\n 2.61395349e+01 2.30000000e+01 2.10000000e+00 1.27500000e+00\n 3.20000000e+03 7.10000000e+02 2.80000000e+00 5.70000000e-02\n 2.55000000e+00 7.95000000e+02 2.03000000e+01 9.25000000e-01\n 1.45000000e+01 4.69000000e+00 2.03800000e+00 5.73000000e-02\n 1.02100000e-01 1.81100000e-01 1.42900000e-01 8.07256881e-02\n 2.80000000e-02 3.52000000e-02 2.06316347e-01 4.21700000e-02\n 1.51443556e-01 4.98600000e-02 2.20000000e-02 1.28731458e-01\n 4.09000000e-02 4.41900000e-02 6.20000000e-02 3.47000000e-02\n 4.50000000e-02 5.98300000e-02 6.53000000e-02 1.59000000e-01\n 2.47200000e-02 5.25000000e-02 6.22900000e-02 4.61300000e-02\n 2.04400000e-02 4.88100000e-02 4.55000000e-02 5.49800000e-02\n 5.42000000e-02 5.22400000e-02 4.11700000e-02 4.32100000e-02\n 2.14408960e+00 4.41500000e-02 4.57100000e-02 2.03000000e+00\n 3.42000000e-01 1.08000000e+00 8.30000000e-01 4.64000000e-02\n 9.10000000e-02 4.14000000e-02 5.93000000e-01 4.33000000e-02\n 2.69000000e-02 2.52830508e-01 2.04643279e-01 1.17000000e-01\n 4.40718921e-01 5.56000000e-02 5.71400000e-02 1.24000000e+00\n 7.04800000e-01 2.72050000e+00 1.88737968e+00 2.59100000e-02\n 8.69677731e-02 8.50000000e-02 1.77056002e-01 4.27172000e-02\n 4.89512195e-01 1.08960000e+00 6.03470000e-01 1.23675517e-01\n 1.00300000e-01 4.64400000e-01 1.55000000e-01 4.56000000e-02\n 8.00000000e-02 2.90000000e-02 2.95900000e-02 1.32912067e+00\n 3.82000000e-01 8.20000000e-02 3.58500000e-02 6.41677500e-01\n 4.49000000e-02 5.91150498e-01 1.14300000e-01 9.48000000e-02\n 4.55000000e-02 7.69000000e-02 1.51000000e-01 2.70000000e-02\n 1.28028810e+00 2.20852686e-01 5.06400000e-02 4.33017518e-01\n 4.98800000e-01 1.58364319e-01 4.56700000e-02 4.39629194e-01\n 6.34000000e-01 6.80000000e-02 1.35200000e-01 1.17100000e-01\n 1.36055889e+00 6.24600000e-02 8.40000000e-02 8.00000000e-02\n 2.80000000e-02 4.50100000e-02 1.00000000e-02 2.11278792e-01\n 4.83000000e-02 4.74729738e-01 1.52900000e-01 1.68305163e-01\n 7.20000000e-02 5.30000000e-02 7.45000940e-02 1.57000000e+01\n 1.13491913e-01 4.30000000e-02 5.70000000e-02 6.60000000e-01\n 4.29000000e+00 8.50000000e-01 1.25000000e+00 3.30000000e+00\n 3.20000000e+00 2.00000000e+00 1.80000000e+00 2.90000000e+00\n 9.20000000e-01 1.72000000e+00 2.00000000e+00 8.40000000e-01\n 1.40000000e+00 1.10000000e+00 3.60000000e+00 7.14000000e+00\n 1.02000000e+01 1.12000000e+00 4.20000000e+00 1.64000000e+00\n 8.30000000e+00 3.26000000e-02 6.30000000e-02 2.30000000e-02\n 2.40000000e-02 4.88628945e+00 2.60000000e+00 5.10000000e+00\n 3.60000000e+00 4.00000000e+00 2.89739479e+00 2.59000000e+00\n 3.10000000e-01 3.86000000e+00 1.89000000e+00 1.90000000e-01\n 4.51721519e+00 8.70000000e-01 3.45000000e+00 7.40000000e-01\n 1.60000000e+00 2.70000000e+00 8.00000000e-01 3.60000000e+00\n 7.02000000e-01 1.80000000e+00 3.48000000e+00 6.10000000e-01\n 4.40000000e+00 9.63000000e+00 2.26126229e+00 1.75000000e+00\n 7.30000000e-01 2.40000000e+00 2.45000000e-01 6.40000000e+00\n 2.17000000e+00 4.20000000e-01 3.30000000e-01 3.75000000e+00\n 1.02000000e+00 1.18000000e+00 5.90000000e-01 1.16000000e+00\n 4.16200000e-02 4.70000000e-02 2.29000000e-02 3.06000000e-02\n 5.10000000e-02 5.10000000e-02 2.25000000e-02 3.08000000e-02\n 6.18000000e+00 3.73400000e-02 1.02600000e+01 2.30000000e+01\n 4.69683207e+00 4.85000000e-02 2.33200000e-02 2.14900000e-02\n 3.78300000e-02 2.86100000e-02 4.12700000e-02 4.23000000e-02\n 2.10000000e+02 1.40000000e+02 5.30000000e+00 4.96000000e-02\n 1.08300000e+03 9.75000000e-02 2.69179112e-02 1.41400000e+00\n 1.25152966e+00 2.10000000e-01 3.93000000e-02 3.55500000e-02\n 2.26000000e-02 5.08400000e-02 2.44600000e-02 4.18000000e+00\n 1.00000000e+03 8.40000000e+02 4.30000000e+02 2.80000000e+00\n 1.70000000e+00 5.70000000e-02 1.02000000e+02 3.82000000e-02\n 3.71000000e-02 4.57000000e-02 5.06000000e-02 4.01000000e-02\n 1.98500000e-02 2.91800000e-02 7.50000000e-02 9.17000000e-02\n 5.50000000e-02 3.97000000e-02 4.63000000e-02 4.57000000e-02\n 3.91400000e-02 3.82000000e-02 5.88500000e-02 2.85100000e-02\n 9.45900000e-02 5.45300000e-02 3.63000000e-02 2.34000000e-02\n 5.22000000e-02 2.54400000e-02 3.10700000e-02 4.31000000e-02\n 4.99000000e-02 4.49000000e-02 5.20000000e-02 3.59000000e-02\n 6.28000000e-02 5.37900000e-02 1.01200000e-01 6.07000000e-02\n 6.70000000e-02 3.45000000e-02 2.43000000e-02 6.61000000e-02\n 4.94000000e-02 6.20000000e-02 3.60000000e-02 3.23000000e-02\n 4.69000000e-02 3.47000000e-02 3.16000000e-02 2.61000000e-02\n 5.49000000e-02 4.99000000e-02 5.50000000e-02 4.80000000e-02\n 4.53000000e-02 5.29000000e-02 5.17000000e-02 5.38000000e-02\n 4.21000000e-02 4.55000000e-02 6.73000000e-02 8.71000000e-02\n 2.66000000e-02 2.81800000e-02 4.82300000e-02 3.65000000e-02\n 5.19000000e-02 5.15000000e-02 3.37000000e-02 6.94000000e-02\n 2.48000000e-02 5.55000000e-02 2.04700000e-02 1.61600000e-02\n 3.13800000e-02 6.00300000e-02 5.20000000e-02 4.69800000e-02\n 3.76000000e-02 3.65100000e-02 4.74000000e-02 3.98500000e-02\n 4.46900000e-02 4.57000000e-02 3.13000000e-02 4.65700000e-02\n 3.94000000e-02 2.55800000e-02 5.24000000e-02 4.31700000e-02\n 2.62400000e-02 4.33900000e-02 7.55100000e-02 4.86000000e-02\n 2.31200000e-02 8.35000000e-01 4.58000000e-02 1.52600000e-02\n 3.47300000e-02 4.05400000e-02 2.44800000e-02 7.60461860e-01\n 3.44400000e-02 3.78000000e-02 2.72900000e-02 2.91300000e-02\n 2.72000000e-02 3.30445478e+00 5.33000000e-02 5.61000000e-02\n 4.21000000e-02 5.14000000e-02 5.67000000e-02 5.74000000e-02\n 3.34000000e-02 5.46000000e-02 5.17000000e-02 6.20600000e-02\n 4.52500000e-02 6.17000000e-02 4.85300000e-02 4.63100000e-02\n 3.70800000e-02 5.51200000e-02 3.70000000e-02 3.75000000e-02\n 3.30000000e-02 2.40000000e-02 4.15000000e-02 5.39000000e-02\n 8.01000000e-02 3.46000000e-02 2.39564774e+00 4.47000000e-02\n 5.90000000e-02 7.71000000e-02 3.90000000e-02 6.17000000e-02\n 2.94600000e-02 6.43100000e-02 4.27000000e-02 5.62000000e-02\n 3.70000000e-02 3.48000000e-02 4.21100000e-02 5.50000000e-02\n 3.35000000e-02 3.41600000e-02 4.53000000e-02 3.30300000e-02\n 3.60000000e-02 7.17000000e-02 5.00000000e+00 1.50000000e+01\n 1.30000000e+00 4.70000000e-02 1.85500000e-02 3.06811904e-01\n 4.88000000e-02 3.69000000e-02 4.21351504e-01 4.54000000e-02\n 5.48500000e-02 4.87000000e-02 8.15000000e-02 2.21546315e-02\n 1.70000000e+00 1.31800000e+01 1.40000000e+00 3.39000000e+00\n 1.28200000e+01 1.90000000e+00 1.19000000e+00 2.05000000e+00\n 2.00583041e+00 5.50000000e+01 5.80000000e-01 1.10000000e+00\n 1.80000000e+00 7.02670086e-01 3.33035759e+00].\nReshape your data either using array.reshape(-1, 1) if your data has a single feature or array.reshape(1, -1) if it contains a single sample."
     ]
    }
   ],
   "source": []
  },
  {
   "cell_type": "code",
   "execution_count": 62,
   "metadata": {},
   "outputs": [
    {
     "data": {
      "image/png": "[encoded data removed]",
      "text/plain": [
       "<Figure size 720x360 with 2 Axes>"
      ]
     },
     "metadata": {
      "needs_background": "light"
     },
     "output_type": "display_data"
    }
   ],
   "source": [
    "class_mass = classification(4, np.log10(CoM[[\"Center_of_Mass\"]]),True)"
   ]
  },
  {
   "cell_type": "code",
   "execution_count": null,
   "metadata": {},
   "outputs": [],
   "source": []
  },
  {
   "cell_type": "code",
   "execution_count": null,
   "metadata": {},
   "outputs": [],
   "source": []
  },
  {
   "cell_type": "code",
   "execution_count": null,
   "metadata": {},
   "outputs": [],
   "source": []
  },
  {
   "cell_type": "code",
   "execution_count": null,
   "metadata": {},
   "outputs": [],
   "source": []
  },
  {
   "cell_type": "code",
   "execution_count": null,
   "metadata": {},
   "outputs": [],
   "source": []
  },
  {
   "cell_type": "code",
   "execution_count": null,
   "metadata": {},
   "outputs": [],
   "source": []
  },
  {
   "cell_type": "code",
   "execution_count": null,
   "metadata": {},
   "outputs": [],
   "source": []
  },
  {
   "cell_type": "code",
   "execution_count": null,
   "metadata": {},
   "outputs": [],
   "source": []
  },
  {
   "cell_type": "code",
   "execution_count": null,
   "metadata": {},
   "outputs": [],
   "source": []
  },
  {
   "cell_type": "code",
   "execution_count": null,
   "metadata": {},
   "outputs": [],
   "source": []
  },
  {
   "cell_type": "markdown",
   "metadata": {},
   "source": [
    "### Function: Fraction changed\n",
    "This function generates 1000 synthetic systems ( _Dawns_ ) per each data (the mass an its uncertainty). We take draws from this, and stimate the validation of the classification.\n",
    "\n",
    "The posteriror probabilities are determinated by the function `gmm.predict()`"
   ]
  },
  {
   "cell_type": "code",
   "execution_count": 13,
   "metadata": {},
   "outputs": [],
   "source": [
    "def fraction_changed(data, dawns):\n",
    "    \n",
    "    p_system    = data.groupby(\"star_name\")\n",
    "    system_list = list(p_system.groups.keys())\n",
    "    draws       = [] #draws of COM for each system. \n",
    "    \n",
    "    for i in range(len(system_list)):\n",
    "        \n",
    "        system_i      = data[data.star_name == system_list[i]]  \n",
    "        system_i_mass = np.zeros(dawns)\n",
    "        cm_i          = np.zeros(dawns) \n",
    "        \n",
    "        for k in range(len(system_i)):\n",
    "            masses = np.random.normal(system_i.mass.values[k],\n",
    "                                      system_i.mass_error_min.values[k],\n",
    "                                      dawns)\n",
    "            axes = np.random.normal(system_i.semi_major_axis.values[k],\n",
    "                                    system_i.semi_major_axis_error_min.values[k],\n",
    "                                    dawns)\n",
    "            cm_i          += masses*axes\n",
    "            system_i_mass += masses\n",
    "        #draws.append([np.abs(cm_i/system_i_mass)]\n",
    "        draws.append([cm_i/system_i_mass])\n",
    "    draws = np.array(draws)\n",
    "    draws = draws[draws>0]\n",
    "    return draws\n",
    "        "
   ]
  },
  {
   "cell_type": "code",
   "execution_count": 14,
   "metadata": {},
   "outputs": [
    {
     "data": {
      "text/plain": [
       "986186"
      ]
     },
     "execution_count": 14,
     "metadata": {},
     "output_type": "execute_result"
    }
   ],
   "source": [
    "frc = fraction_changed(data,1000)\n",
    "len(frc)"
   ]
  },
  {
   "cell_type": "code",
   "execution_count": 15,
   "metadata": {},
   "outputs": [],
   "source": [
    "from scipy.stats import truncnorm\n",
    "a=0.1\n",
    "b=2\n",
    "x = np.linspace(truncnorm.ppf(0.01, a, b), \n",
    "                truncnorm.ppf(0.99, a, b), \n",
    "                100)\n",
    "#print(x)\n",
    "#plt.plot(truncnorm.ppf(x,a,b),x)\n",
    "\n",
    "#r = truncnorm.rvs(a, b, size=1000)\n",
    "#len(r)"
   ]
  },
  {
   "cell_type": "code",
   "execution_count": 16,
   "metadata": {},
   "outputs": [],
   "source": [
    "#list(p_system.groups.keys())"
   ]
  },
  {
   "cell_type": "code",
   "execution_count": 17,
   "metadata": {},
   "outputs": [
    {
     "data": {
      "text/plain": [
       "987"
      ]
     },
     "execution_count": 17,
     "metadata": {},
     "output_type": "execute_result"
    }
   ],
   "source": [
    "system_list = list(p_system.groups.keys())\n",
    "len(system_list)"
   ]
  },
  {
   "cell_type": "code",
   "execution_count": 18,
   "metadata": {},
   "outputs": [
    {
     "data": {
      "text/html": [
       "<div>\n",
       "<style scoped>\n",
       "    .dataframe tbody tr th:only-of-type {\n",
       "        vertical-align: middle;\n",
       "    }\n",
       "\n",
       "    .dataframe tbody tr th {\n",
       "        vertical-align: top;\n",
       "    }\n",
       "\n",
       "    .dataframe thead th {\n",
       "        text-align: right;\n",
       "    }\n",
       "</style>\n",
       "<table border=\"1\" class=\"dataframe\">\n",
       "  <thead>\n",
       "    <tr style=\"text-align: right;\">\n",
       "      <th></th>\n",
       "      <th>star_name</th>\n",
       "      <th>mass</th>\n",
       "      <th>mass_error_min</th>\n",
       "      <th>semi_major_axis</th>\n",
       "      <th>semi_major_axis_error_min</th>\n",
       "    </tr>\n",
       "  </thead>\n",
       "  <tbody>\n",
       "    <tr>\n",
       "      <th>3821</th>\n",
       "      <td>ups And</td>\n",
       "      <td>0.620</td>\n",
       "      <td>0.090</td>\n",
       "      <td>0.0590</td>\n",
       "      <td>0.00100</td>\n",
       "    </tr>\n",
       "    <tr>\n",
       "      <th>3824</th>\n",
       "      <td>ups And</td>\n",
       "      <td>1.059</td>\n",
       "      <td>0.028</td>\n",
       "      <td>5.2456</td>\n",
       "      <td>0.00067</td>\n",
       "    </tr>\n",
       "  </tbody>\n",
       "</table>\n",
       "</div>"
      ],
      "text/plain": [
       "     star_name   mass  mass_error_min  semi_major_axis  \\\n",
       "3821   ups And  0.620           0.090           0.0590   \n",
       "3824   ups And  1.059           0.028           5.2456   \n",
       "\n",
       "      semi_major_axis_error_min  \n",
       "3821                    0.00100  \n",
       "3824                    0.00067  "
      ]
     },
     "execution_count": 18,
     "metadata": {},
     "output_type": "execute_result"
    }
   ],
   "source": [
    "data[data.star_name == list(p_system.groups.keys())[i]]"
   ]
  },
  {
   "cell_type": "code",
   "execution_count": 19,
   "metadata": {},
   "outputs": [
    {
     "data": {
      "text/plain": [
       "' TYC 4282-605-1'"
      ]
     },
     "execution_count": 19,
     "metadata": {},
     "output_type": "execute_result"
    }
   ],
   "source": [
    "list(p_system.groups.keys())[1]"
   ]
  },
  {
   "cell_type": "code",
   "execution_count": 20,
   "metadata": {},
   "outputs": [],
   "source": [
    "#'dawns' is the number of synthetic systems per each data known\n",
    "#'data' is a DataFrame of the data, with column \"Center of Mass\"\n",
    "#'n_components' is the number of clusters for the lowest BIC/AIC.\n",
    "\n",
    "def fraction_changed(n_components, dawns, data, log=False):\n",
    "    \n",
    "    draws=[]\n",
    "\n",
    "    #1000 draws per planetary mass or systrem mass\n",
    "    \n",
    "    for i in range(len(data.values)):\n",
    "        masses=np.random.normal(data.mass.values[i],\n",
    "                                data.mass_error_min.values[i],\n",
    "                                dawns)\n",
    "        masses = masses[masses>0]\n",
    "        draws += [masses]\n",
    "\n",
    "    if log==True:\n",
    "        mass = np.log10(data[[\"mass\"]])\n",
    "        draws = [np.log10(i) for i in draws]\n",
    "        \n",
    "    else:\n",
    "        mass = data[[\"mass\"]]\n",
    "     \n",
    "    #Gausian mixture model for masses  data:  \n",
    "    gmm = GaussianMixture(n_components,covariance_type='full',random_state=0)\n",
    "    gmm.fit(mass.values)\n",
    "    cluster_label = gmm.predict(mass.values)\n",
    "         \n",
    "    #fraction of the synthttic systems wich change classification group:\n",
    "    fraction_changed = []\n",
    "    \n",
    "    #to get only the posotice values of the draws, just get tyhe positives values: \n",
    "    #draws = [i for i in draws if i > 0] or None\n",
    "    \n",
    "    for index in range(len(draws)):\n",
    "        #draw_i=np.abs(draws[index][:,np.newaxis])\n",
    "        draw_i=draws[index][:,np.newaxis]\n",
    "        orig=gmm.predict(np.array(mass))[index]\n",
    "        fraction_changed+=[(orig!=gmm.predict(draw_i)).sum()/1000]\n",
    "    lid=[len(i) for i in draws]\n",
    "    #print( np.min(lid),np.mean(lid) )\n",
    "    return(draws)\n",
    "    #return((np.array(fraction_changed)<=0.1).sum()/len(fraction_changed))\n",
    "    #return fraction_changed"
   ]
  },
  {
   "cell_type": "code",
   "execution_count": 21,
   "metadata": {},
   "outputs": [],
   "source": [
    "#frac_mass=fraction_changed(4,1000,CoM[[\"Center_of_Mass\"]],False)"
   ]
  },
  {
   "cell_type": "code",
   "execution_count": 22,
   "metadata": {},
   "outputs": [],
   "source": [
    "#np.log10(data[[\"Center_of_Mass\"]])==np.log10(CoM[[\"Center_of_Mass\"]])"
   ]
  },
  {
   "cell_type": "code",
   "execution_count": 95,
   "metadata": {},
   "outputs": [
    {
     "data": {
      "text/plain": [
       "Text(0.5, 0, 'Center Of Mass (AU)')"
      ]
     },
     "execution_count": 95,
     "metadata": {},
     "output_type": "execute_result"
    },
    {
     "data": {
      "image/png": "[encoded data removed]",
      "text/plain": [
       "<Figure size 432x288 with 1 Axes>"
      ]
     },
     "metadata": {
      "needs_background": "light"
     },
     "output_type": "display_data"
    }
   ],
   "source": [
    "#GaussianMixture:  a firs approximation for 10 grups\n",
    "#----------------------------------------------------------------------\n",
    "data = CoM\n",
    "gmm = GaussianMixture(1, covariance_type='full', random_state=0)\n",
    "CM=CoM[[\"Center_of_Mass\"]]\n",
    "gmm.fit(CM.values)\n",
    "cluster_label = gmm.predict(CM.values)\n",
    "plt.scatter((CM.values),np.zeros(len(CM)), c=cluster_label);\n",
    "plt.ylim(-0.1,0.1)\n",
    "plt.xlabel(r\"Center Of Mass (AU)\", fontsize=\"15\")\n",
    "#For the CoM is nessesary emply a Logarithm sclae."
   ]
  },
  {
   "cell_type": "code",
   "execution_count": 96,
   "metadata": {},
   "outputs": [
    {
     "data": {
      "image/png": "[encoded data removed]",
      "text/plain": [
       "<Figure size 432x288 with 1 Axes>"
      ]
     },
     "metadata": {
      "needs_background": "light"
     },
     "output_type": "display_data"
    }
   ],
   "source": [
    "#the log10scale for center of mass of each exoplanetary system:\n",
    "#----------------------------------------------------------------------\n",
    "CM_log=np.log10(data[[\"Center_of_Mass\"]])\n",
    "\n",
    "GMM,cluster=[],[]\n",
    "\n",
    "#Some different components for Gaussian Mixture Model: \n",
    "#----------------------------------------------------------------------\n",
    "for i in [2,3]:\n",
    "    gmm = GaussianMixture(i, covariance_type='full', random_state=0)\n",
    "    GMM.append(gmm)\n",
    "    gmm.fit(CM_log.values)\n",
    "    cluster_label = gmm.predict(CM_log.values)\n",
    "    cluster.append(cluster_label)\n",
    "\n",
    "# (just a plot for two grups)\n",
    "#----------------------------------------------------------------------\n",
    "#plt.rc('text', usetex=True)\n",
    "\n",
    "color=[]\n",
    "#len(cluster[0])\n",
    "for i in range(len(cluster[0])):\n",
    "    if cluster[0][i] == 0:\n",
    "        color.append(\"C1\")\n",
    "    elif cluster[0][i] == 1:\n",
    "        color.append(\"C2\")\n",
    "\n",
    "x=np.linspace(-2.5,4,1000)\n",
    "colors=[\"C1\",\"C2\",\"C3\",\"C4\",\"C5\"]\n",
    "\n",
    "fig, ax1 = plt.subplots(1, 1, sharex='col', sharey='row')\n",
    "\n",
    "plt.gcf().subplots_adjust(bottom=0.15,right=0.96, left=0.115, top=0.93)\n",
    "\n",
    "for i, (v1,v2) in enumerate(zip(GMM[0].means_,GMM[0].covariances_)):\n",
    "    ax1.plot(x, norm.pdf(x,v1,v2)[0]/norm.pdf(x,v1,v2)[0].max(),\n",
    "             c=colors[i],label=\"Cluster \"+str(i+1))\n",
    "    ax1.legend(fontsize=15,edgecolor='black')\n",
    "\n",
    "ax1.scatter((CM_log.values),np.zeros(len(CM_log)),c=color, \n",
    "            label=\"Cluster\",s=10)  \n",
    "\n",
    "ax1.tick_params(labelsize=19)\n",
    "\n",
    "plt.xlabel(r'$\\log_{10}$(CM)',fontsize=20)\n",
    "plt.ylabel(r'Normal Distribution',fontsize=20)\n",
    "plt.savefig(\"figures/GMM1.pdf\")"
   ]
  },
  {
   "cell_type": "code",
   "execution_count": 97,
   "metadata": {
    "scrolled": true
   },
   "outputs": [
    {
     "data": {
      "text/plain": [
       "Text(0, 0.5, 'Normal Distribution')"
      ]
     },
     "execution_count": 97,
     "metadata": {},
     "output_type": "execute_result"
    },
    {
     "data": {
      "image/png": "[encoded data removed]",
      "text/plain": [
       "<Figure size 432x288 with 1 Axes>"
      ]
     },
     "metadata": {
      "needs_background": "light"
     },
     "output_type": "display_data"
    }
   ],
   "source": [
    "# (just a plot for five grups)\n",
    "#----------------------------------------------------------------------\n",
    "color=[]\n",
    "C = cluster[1]\n",
    "for i in range(len(cluster[1])):\n",
    "    if C[i] == 0:\n",
    "        color.append(\"C1\")\n",
    "    elif C[i] == 1:\n",
    "        color.append(\"C2\")\n",
    "    elif C[i] == 2:\n",
    "        color.append(\"C3\")\n",
    "    elif C[i] == 3:\n",
    "        color.append(\"C4\")\n",
    "    elif C[i] == 4:\n",
    "        color.append(\"C5\")\n",
    "\n",
    "x=np.linspace(-2.5,4,1000)\n",
    "colors=[\"C1\",\"C2\",\"C3\",\"C4\",\"C5\"]\n",
    "\n",
    "fig2, ax2 = plt.subplots(1, 1, sharex='col', sharey='row')\n",
    "\n",
    "plt.gcf().subplots_adjust(bottom=0.17,right=0.97, left=0.175, top=0.90)\n",
    "\n",
    "for i, (v1,v2) in enumerate(zip(GMM[1].means_,GMM[1].covariances_)):\n",
    "    ax2.plot(x, norm.pdf(x,v1,v2)[0]/norm.pdf(x,v1,v2)[0].max(),\n",
    "             c=colors[i],label=\"Cluster \"+str(i+1))\n",
    "    ax2.legend(fontsize=14, loc=1,edgecolor='black')\n",
    "\n",
    "ax2.scatter((CM_log.values),np.zeros(len(CM_log)),c=color, label=\"Group 1\")  \n",
    "ax2.set_xlim(-2.3,5.2)\n",
    "\n",
    "ax2.tick_params(labelsize=19)\n",
    "\n",
    "#plt.title(r\"GMM with three components\",fontsize=22)\n",
    "plt.xlabel(r'$\\log_{10}$(CM)',fontsize=20)\n",
    "plt.ylabel(r'Normal Distribution',fontsize=20)\n",
    "#plt.savefig(\"figures/GMM3.pdf\")"
   ]
  },
  {
   "cell_type": "code",
   "execution_count": 98,
   "metadata": {},
   "outputs": [
    {
     "data": {
      "image/png": "[encoded data removed]",
      "text/plain": [
       "<Figure size 720x360 with 2 Axes>"
      ]
     },
     "metadata": {
      "needs_background": "light"
     },
     "output_type": "display_data"
    }
   ],
   "source": [
    "#Some different components for Gaussian Mixture Model: \n",
    "data = CoM\n",
    "CM_log=np.log10(data[[\"Center_of_Mass\"]])\n",
    "GMM,cluster=[],[]\n",
    "let=16\n",
    "#----------------------------------------------------------------------\n",
    "for i in [4,6]:\n",
    "    gmm = GaussianMixture(i, covariance_type='full', random_state=0)\n",
    "    GMM.append(gmm)\n",
    "    gmm.fit(CM_log.values)\n",
    "    cluster_label = gmm.predict(CM_log.values)\n",
    "    cluster.append(cluster_label)\n",
    "#----------------------------------------------------------------------\n",
    "col=[]\n",
    "\n",
    "for i in range(len(cluster[0])):\n",
    "    if cluster[0][i] == 0:\n",
    "        col.append(\"C1\")\n",
    "    elif cluster[0][i] == 1:\n",
    "        col.append(\"C2\")\n",
    "    elif cluster[0][i] == 2:\n",
    "        col.append(\"C3\")\n",
    "    elif cluster[0][i] == 3:\n",
    "        col.append(\"C4\")\n",
    "\n",
    "lor=[]\n",
    "C = cluster[1]\n",
    "for i in range(len(cluster[1])):\n",
    "    if C[i] == 0:\n",
    "        lor.append(\"C1\")\n",
    "    elif C[i] == 1:\n",
    "        lor.append(\"C2\")\n",
    "    elif C[i] == 2:\n",
    "        lor.append(\"C3\")\n",
    "    elif C[i] == 3:\n",
    "        lor.append(\"C4\")\n",
    "    elif C[i] == 4:\n",
    "        lor.append(\"C5\")  \n",
    "    elif C[i] == 5:\n",
    "        lor.append(\"C6\") \n",
    "    elif C[i] == 6:\n",
    "        lor.append(\"C7\")\n",
    "        \n",
    "x=np.linspace(-2.5,4,1000)\n",
    "colors=[\"C1\",\"C2\",\"C3\",\"C4\",\"C5\",\"C6\",\"C7\"]\n",
    "\n",
    "fig, axs = plt.subplots(1, 2, figsize=(10, 5), sharey=True)\n",
    "\n",
    "plt.gcf().subplots_adjust(bottom=0.12,right=0.99, left=0.07, top=0.88)\n",
    "\n",
    "#axs[0].scatter((CM_log.values),np.zeros(len(CM_log)),c=col)  \n",
    "#axs[1].scatter((CM_log.values),np.zeros(len(CM_log)),c=lor)  \n",
    "\n",
    "#h1 = axs[0].hist(CM_log.values,60, density=True)#,label=r\"Histogram of $r_\\text{cm}$\")\n",
    "\n",
    "sb.distplot(CM_log.values,60,kde=False, norm_hist=True, ax = axs[0])#,label=r\"Histogram of $r_\\text{cm}$\")    \n",
    "sb.distplot(CM_log.values,60,kde=False, norm_hist=True, ax = axs[1])#,label=r\"Histogram of $r_\\text{cm}$\")    \n",
    "    \n",
    "#leg1 = plt.legend(loc='upper left', fontsize=let-5)\n",
    "\n",
    "#izq\n",
    "for i, (v1,v2) in enumerate(zip(GMM[0].means_,GMM[0].covariances_)):\n",
    "    axs[0].plot(x, norm.pdf(x,v1,v2)[0]/norm.pdf(x,v1,v2)[0].max(),\n",
    "             c=colors[i],label=\"Cluster \"+str(i+1),lw=2.5)\n",
    "    axs[0].legend(fontsize=let-2,edgecolor='black',bbox_to_anchor=(-0, 1.02, 1, .15), loc=3,\n",
    "              ncol=2,mode=\"expand\")\n",
    "#der\n",
    "for i, (v1,v2) in enumerate(zip(GMM[1].means_,GMM[1].covariances_)):\n",
    "    axs[1].plot(x, norm.pdf(x,v1,v2)[0]/norm.pdf(x,v1,v2)[0].max(),\n",
    "             c=colors[i],label=\"Cluster \"+str(i+1),lw=2.5)\n",
    "    axs[1].legend(fontsize=let-2,edgecolor='black',bbox_to_anchor=(0, 1.02, 1, .102), loc=3,\n",
    "              ncol=3, mode=\"expand\")\n",
    "    \n",
    "axs[0].set_ylim(-0.1,1.4,1/10)\n",
    "axs[0].set_xlim(CM_log.values.min(),CM_log.values.max())\n",
    "axs[1].set_xlim(CM_log.values.min(),CM_log.values.max())\n",
    "#axs[0].set_xscale('log')\n",
    "axs[0].tick_params(labelsize=let)\n",
    "axs[1].tick_params(labelsize=let)\n",
    "\n",
    "plt.subplots_adjust(wspace=0.05)\n",
    "\n",
    "#axs.xlabel(r'$\\log_{10}$(CM)',fontsize=20)\n",
    "axs[0].set_ylabel(r'Normal Distribution',fontsize=let)\n",
    "fig.text(0.53, 0.0, r\"$\\log_{10}(r_\\text{cm})$ (AU)\", \n",
    "         fontsize=let, ha='center', va='center')\n",
    "\n",
    "fig.text(.355, .8, r\"Histogram of $r_\\text{cm}$\", color='k',\n",
    "         fontsize=let, bbox=dict(facecolor=\"C0\",alpha = .4))\n",
    "\n",
    "fig.text(.825, .8, r\"Histogram of $r_\\text{cm}$\", color='k',\n",
    "         fontsize=let, bbox=dict(facecolor=\"C0\",alpha = .4))\n",
    "#plt.gca().add_artist(leg1)\n",
    "\n",
    "#plt.savefig(\"figures/GMM_2-3-hist.pdf\",bbox_inches='tight')\n",
    "plt.savefig(\"figures/GMM_4-6-hist.pdf\",bbox_inches='tight')\n"
   ]
  },
  {
   "cell_type": "markdown",
   "metadata": {},
   "source": [
    "To determine the number of cluster in the Gaussian Mixture Model, it may use a bayessian information criterion"
   ]
  },
  {
   "cell_type": "code",
   "execution_count": 99,
   "metadata": {},
   "outputs": [
    {
     "name": "stdout",
     "output_type": "stream",
     "text": [
      "     Center_of_Mass\n",
      "0          0.230449\n",
      "1         -0.374688\n",
      "2          0.110590\n",
      "3          2.385606\n",
      "4          0.187521\n",
      "..              ...\n",
      "982       -0.236572\n",
      "983        0.041393\n",
      "984        0.255273\n",
      "985       -0.153249\n",
      "986        0.522491\n",
      "\n",
      "[987 rows x 1 columns]\n"
     ]
    },
    {
     "data": {
      "image/png": "[encoded data removed]",
      "text/plain": [
       "<Figure size 792x360 with 2 Axes>"
      ]
     },
     "metadata": {
      "needs_background": "light"
     },
     "output_type": "display_data"
    }
   ],
   "source": [
    "#Bayesian information criterion \n",
    "CM_log=np.log10(data[[\"Center_of_Mass\"]])\n",
    "print(CM_log)\n",
    "bic,aic = [],[]\n",
    "tries=16\n",
    "\n",
    "for i in range(tries):\n",
    "    i+=1\n",
    "    gmm = GaussianMixture(i, covariance_type='full', random_state=0)\n",
    "    CM_log=np.log10(data[[\"Center_of_Mass\"]])\n",
    "    gmm.fit(CM_log.values)\n",
    "    bic+=[gmm.bic(CM_log.values)]\n",
    "    aic+=[gmm.aic(CM_log.values)]\n",
    "#bic\n",
    "# (just a plot to bayessian criterion)\n",
    "#----------------------------------------------------------------------\n",
    "\n",
    "#fig = plt.figure(figsize=(4,3))\n",
    "#plt.plot(range(1,11),bic)\n",
    "\n",
    "let=17\n",
    "names=[r\"Normal BIC\",r\"Normal AIC\"]\n",
    "criteria = [bic, aic]\n",
    "\n",
    "x=range(1,tries+1)\n",
    "\n",
    "fig, axs = plt.subplots(1, 2, figsize=(11, 5))#, sharex=True)# sharex='col', sharey='row')\n",
    "plt.gcf().subplots_adjust(bottom=0.12,right=0.99, left=0.07, top=0.88)\n",
    "\n",
    "for i in range(len(criteria)):\n",
    "    y=criteria[i]/max(criteria[i])\n",
    "    h = axs[i].plot(x,y, lw=\"2\")\n",
    "    f = axs[i].plot(x,y, \"o\", c=\"C1\",label=names[i],markersize=4)\n",
    "    \n",
    "    g = axs[i].plot(x,np.ones(len(criteria[i]))*min(criteria[i])/max(criteria[i]),\"--\")\n",
    "\n",
    "    axs[i].set_ylim(.71,1.01)\n",
    "    axs[i].set_xlim(0,tries+1)\n",
    "    axs[i].tick_params(labelsize=let)\n",
    "    axs[i].legend(fontsize=let, loc=1,edgecolor='black')\n",
    "    #axs[i].set_yticks(range(0,1),.1)\n",
    "    axs[i].set_ylabel(names[i],fontsize=let)\n",
    "    axs[i].set_xticks(np.arange(min(x), max(x)+1, 3.0))\n",
    "    \n",
    "fig.text(0.53, 0.0, r'Number of Clusters', fontsize=let+2, ha='center', va='center')\n",
    "fig.tight_layout(pad=2.0)\n",
    "    \n",
    "#plt.title(r\"Bayessian Information Criterion\",fontsize=16)\n",
    "#plt.xlabel(,fontsize=let)\n",
    "plt.savefig(\"figures/BIC-AIC.pdf\",bbox_inches='tight')"
   ]
  },
  {
   "cell_type": "code",
   "execution_count": 126,
   "metadata": {},
   "outputs": [
    {
     "data": {
      "text/plain": [
       "[[2729.2512027299563,\n",
       "  2182.4200423937723,\n",
       "  2076.4834526776117,\n",
       "  2058.5442288309937,\n",
       "  2075.199979528344,\n",
       "  2095.8477816974646,\n",
       "  2110.6668228664316,\n",
       "  2134.0948862679156,\n",
       "  2151.986155752861,\n",
       "  2137.5662518487425,\n",
       "  2149.041448987332,\n",
       "  2169.1365830364807,\n",
       "  2192.662284320168,\n",
       "  2214.453053034691,\n",
       "  2232.572893659738,\n",
       "  2247.9788200845464],\n",
       " [2719.461862651089,\n",
       "  2157.946692196605,\n",
       "  2037.326092362144,\n",
       "  2004.7028583972256,\n",
       "  2006.6745989762755,\n",
       "  2012.6383910270954,\n",
       "  2012.773422077762,\n",
       "  2021.5174753609454,\n",
       "  2024.7247347275907,\n",
       "  1995.6208207051716,\n",
       "  1992.4120077254606,\n",
       "  1997.8231316563088,\n",
       "  2006.664822821696,\n",
       "  2013.7715814179182,\n",
       "  2017.207411924665,\n",
       "  2017.9293282311728]]"
      ]
     },
     "execution_count": 126,
     "metadata": {},
     "output_type": "execute_result"
    }
   ],
   "source": [
    "criteria"
   ]
  },
  {
   "cell_type": "code",
   "execution_count": 28,
   "metadata": {},
   "outputs": [
    {
     "name": "stdout",
     "output_type": "stream",
     "text": [
      "4 11\n"
     ]
    }
   ],
   "source": [
    "print(bic.index(min(bic))+1,aic.index(min(aic))+1)"
   ]
  },
  {
   "cell_type": "code",
   "execution_count": 29,
   "metadata": {
    "scrolled": true
   },
   "outputs": [
    {
     "data": {
      "text/plain": [
       "(-0.1, 1.0)"
      ]
     },
     "execution_count": 29,
     "metadata": {},
     "output_type": "execute_result"
    },
    {
     "data": {
      "image/png": "[encoded data removed]",
      "text/plain": [
       "<Figure size 432x288 with 1 Axes>"
      ]
     },
     "metadata": {
      "needs_background": "light"
     },
     "output_type": "display_data"
    }
   ],
   "source": [
    "# GaussianMixture, for the log of CM: \n",
    "# 4 groups due tu the bic\n",
    "gmm = GaussianMixture(4, covariance_type='full', random_state=0)\n",
    "CM_log=np.log10(data[[\"Center_of_Mass\"]])\n",
    "gmm.fit(CM_log.values)\n",
    "cluster_label = gmm.predict(CM_log.values)\n",
    "plt.scatter((CM_log.values),np.zeros(len(CM_log)),c=cluster_label);\n",
    "plt.ylim(-0.1,1)"
   ]
  },
  {
   "cell_type": "code",
   "execution_count": 30,
   "metadata": {},
   "outputs": [
    {
     "data": {
      "text/plain": [
       "0"
      ]
     },
     "execution_count": 30,
     "metadata": {},
     "output_type": "execute_result"
    }
   ],
   "source": [
    "cluster_label[794]"
   ]
  },
  {
   "cell_type": "markdown",
   "metadata": {},
   "source": [
    "The probabilities or verisimilitudes, are defined by normal distribution for each group from the gaussian mixture model:"
   ]
  },
  {
   "cell_type": "code",
   "execution_count": 31,
   "metadata": {
    "scrolled": true
   },
   "outputs": [
    {
     "name": "stderr",
     "output_type": "stream",
     "text": [
      "<ipython-input-31-5f526d304325>:26: RuntimeWarning: invalid value encountered in true_divide\n",
      "  plt.plot(x, norm.pdf(x,v1,v2)[0]/norm.pdf(x,v1,v2)[0].max(),\n"
     ]
    },
    {
     "data": {
      "text/plain": [
       "Text(0, 0.5, 'Normal Distribution')"
      ]
     },
     "execution_count": 31,
     "metadata": {},
     "output_type": "execute_result"
    },
    {
     "data": {
      "image/png": "[encoded data removed]",
      "text/plain": [
       "<Figure size 1080x504 with 1 Axes>"
      ]
     },
     "metadata": {
      "needs_background": "light"
     },
     "output_type": "display_data"
    }
   ],
   "source": [
    "#gmm.means_\n",
    "#just a plot to bayessian criterion for 4 clusters \n",
    "#----------------------------------------------------------------------\n",
    "plt.figure(figsize=(15,7))\n",
    "plt.gcf().subplots_adjust(bottom=0.15,right=0.96, left=0.08, top=0.93)\n",
    "\n",
    "color=[]\n",
    "CL = cluster_label\n",
    "for i in range(len(cluster[1])):\n",
    "    if CL[i] == 0:\n",
    "        color.append(\"C1\")\n",
    "    elif CL[i] == 1:\n",
    "        color.append(\"C2\")\n",
    "    elif CL[i] == 2:\n",
    "        color.append(\"C3\")\n",
    "    elif CL[i] == 3:\n",
    "        color.append(\"C4\")\n",
    "    elif CL[i] == 4:\n",
    "        color.append(\"C5\")\n",
    "        \n",
    "colors=[\"C1\",\"C2\",\"C3\",\"C4\",\"C5\"]\n",
    "\n",
    "#fig4, ax4 = plt.subplots(1, 1, sharex='col', sharey='row')\n",
    "\n",
    "for i, (v1,v2) in enumerate(zip(gmm.means_,gmm.covariances_)):\n",
    "    plt.plot(x, norm.pdf(x,v1,v2)[0]/norm.pdf(x,v1,v2)[0].max(),\n",
    "             c=colors[i],label=\"Cluster \"+str(i+1),lw=2)\n",
    "    plt.legend(fontsize=24, loc=1,edgecolor='black')\n",
    "\n",
    "plt.scatter((CM_log.values),np.zeros(len(CM_log)),c=color, label=\"Group 1\")  \n",
    "#plt.hist(CM_log.values,100, density=True)\n",
    "\n",
    "plt.xlim(-2.2,3.7)\n",
    "\n",
    "plt.tick_params(labelsize=24)\n",
    "\n",
    "plt.title(r\"GMM for the BIC clusters\",fontsize=25)\n",
    "plt.xlabel(r'$\\log_{10}$(CM)',fontsize=26)\n",
    "plt.ylabel(r'Normal Distribution',fontsize=26)\n",
    "#plt.savefig(\"figures/GMM4.pdf\") "
   ]
  },
  {
   "cell_type": "markdown",
   "metadata": {},
   "source": [
    "The posteriror probabilities are determinated by the function `gmm.predict_proba()`"
   ]
  },
  {
   "cell_type": "code",
   "execution_count": 32,
   "metadata": {
    "scrolled": false
   },
   "outputs": [
    {
     "data": {
      "image/png": "[encoded data removed]",
      "text/plain": [
       "<Figure size 504x403.2 with 1 Axes>"
      ]
     },
     "metadata": {
      "needs_background": "light"
     },
     "output_type": "display_data"
    }
   ],
   "source": [
    "# The posterior probabilities: \n",
    "names=[\"Earth-centered\", \"Close\",\"Far away\",\"Venusian-centered\"]\n",
    "plt.figure(figsize=(7,5.6))\n",
    "\n",
    "for i in range(4):\n",
    "    plt.scatter(CM_log,gmm.predict_proba(CM_log)[:,i],label=names[i], s=7);\n",
    "\n",
    "plt.gcf().subplots_adjust(bottom=0.15,right=0.97, left=0.15, top=0.83)\n",
    "plt.tick_params(labelsize=20)    \n",
    "plt.xlabel(r'$\\log_{10}(r_\\text{cm}) \\text{(AU)}$',fontsize=22)\n",
    "plt.ylabel(r'Posterior Probabilities',fontsize=22)\n",
    "plt.xlim(-2.5,4)\n",
    "\n",
    "plt.xticks(np.arange(int(min(m)), int(max(m))+2, 1.0))\n",
    "\n",
    "plt.legend(fontsize=17.5,edgecolor='black', \n",
    "           bbox_to_anchor=(-0.02, 1.20, 1.037, 0.06), loc=2,\n",
    "           ncol=2, mode=\"expand\")\n",
    "plt.savefig(\"figures/Prob.pdf\")"
   ]
  },
  {
   "cell_type": "code",
   "execution_count": 33,
   "metadata": {},
   "outputs": [
    {
     "data": {
      "text/plain": [
       "array([-1.56995864])"
      ]
     },
     "execution_count": 33,
     "metadata": {},
     "output_type": "execute_result"
    }
   ],
   "source": [
    "gmm.predict_proba(CM_log)[794]\n",
    "CM_log.values[794]"
   ]
  },
  {
   "cell_type": "markdown",
   "metadata": {},
   "source": [
    "The probability for a synthetic draw of a system called AA, with a $\\mu=0.8$ and $\\sigma=0.03$ in the CM, can be established as:"
   ]
  },
  {
   "cell_type": "code",
   "execution_count": 34,
   "metadata": {},
   "outputs": [
    {
     "data": {
      "text/plain": [
       "Text(0, 0.5, 'Probability')"
      ]
     },
     "execution_count": 34,
     "metadata": {},
     "output_type": "execute_result"
    },
    {
     "data": {
      "image/png": "[encoded data removed]",
      "text/plain": [
       "<Figure size 504x403.2 with 1 Axes>"
      ]
     },
     "metadata": {
      "needs_background": "light"
     },
     "output_type": "display_data"
    }
   ],
   "source": [
    "AA=np.log10(np.random.normal(0.8,0.03,1000))\n",
    "AA=AA[:,np.newaxis]\n",
    "names=[\"Earth-centered\", \"Close\",\"Far away\",\"Venusian-centered\"]\n",
    "plt.figure(figsize=(7,5.6))\n",
    "\n",
    "#production of probability for a syntethic planetary system \n",
    "for i in range(4):\n",
    "    plt.scatter(AA,gmm.predict_proba(AA)[:,i],label=names[i])\n",
    "\n",
    "plt.gcf().subplots_adjust(bottom=0.15,right=0.965, left=0.14, top=0.83)\n",
    "plt.legend(fontsize=17.5,edgecolor='black', \n",
    "           bbox_to_anchor=(-0.02, 1.20, 1.037, 0.055), loc=2,\n",
    "           ncol=2, mode=\"expand\")\n",
    "plt.tick_params(labelsize=20)    \n",
    "plt.xlabel(r'$\\log_{10}$(CM)',fontsize=22)\n",
    "plt.ylabel(r'Probability',fontsize=22)\n",
    "#plt.savefig(\"figures/draw.pdf\")"
   ]
  },
  {
   "cell_type": "code",
   "execution_count": 35,
   "metadata": {},
   "outputs": [
    {
     "data": {
      "text/plain": [
       "array([[-0.0933829 ],\n",
       "       [-0.10095462],\n",
       "       [-0.08517192],\n",
       "       [-0.08657566],\n",
       "       [-0.10562582],\n",
       "       [-0.10724327],\n",
       "       [-0.0923692 ],\n",
       "       [-0.09167237],\n",
       "       [-0.07779594],\n",
       "       [-0.09555286],\n",
       "       [-0.1052271 ],\n",
       "       [-0.08804963],\n",
       "       [-0.08742887],\n",
       "       [-0.09912062],\n",
       "       [-0.11301957],\n",
       "       [-0.12109258],\n",
       "       [-0.10482937],\n",
       "       [-0.10926331],\n",
       "       [-0.07505631],\n",
       "       [-0.10663291],\n",
       "       [-0.08949883],\n",
       "       [-0.0924312 ],\n",
       "       [-0.09894637],\n",
       "       [-0.10727752],\n",
       "       [-0.074624  ],\n",
       "       [-0.10173548],\n",
       "       [-0.14782194],\n",
       "       [-0.0875984 ],\n",
       "       [-0.13006224],\n",
       "       [-0.11559165],\n",
       "       [-0.11006743],\n",
       "       [-0.09444942],\n",
       "       [-0.11976685],\n",
       "       [-0.10031916],\n",
       "       [-0.09870017],\n",
       "       [-0.08050875],\n",
       "       [-0.10521011],\n",
       "       [-0.11337251],\n",
       "       [-0.0961448 ],\n",
       "       [-0.09054462],\n",
       "       [-0.09195145],\n",
       "       [-0.10228488],\n",
       "       [-0.08331237],\n",
       "       [-0.09823777],\n",
       "       [-0.09595119],\n",
       "       [-0.08128823],\n",
       "       [-0.10623352],\n",
       "       [-0.12938423],\n",
       "       [-0.11233061],\n",
       "       [-0.09214428],\n",
       "       [-0.09998709],\n",
       "       [-0.079084  ],\n",
       "       [-0.09850913],\n",
       "       [-0.07368873],\n",
       "       [-0.09720647],\n",
       "       [-0.09389641],\n",
       "       [-0.09533787],\n",
       "       [-0.10078168],\n",
       "       [-0.11543907],\n",
       "       [-0.10329665],\n",
       "       [-0.09725626],\n",
       "       [-0.08740231],\n",
       "       [-0.08763472],\n",
       "       [-0.15251033],\n",
       "       [-0.07692269],\n",
       "       [-0.11973839],\n",
       "       [-0.09116744],\n",
       "       [-0.07862294],\n",
       "       [-0.09340849],\n",
       "       [-0.10638355],\n",
       "       [-0.06227603],\n",
       "       [-0.09517192],\n",
       "       [-0.0949737 ],\n",
       "       [-0.07937239],\n",
       "       [-0.07098602],\n",
       "       [-0.09179663],\n",
       "       [-0.09737052],\n",
       "       [-0.07132445],\n",
       "       [-0.11924332],\n",
       "       [-0.1110308 ],\n",
       "       [-0.10226945],\n",
       "       [-0.11061237],\n",
       "       [-0.10599256],\n",
       "       [-0.10704668],\n",
       "       [-0.08344783],\n",
       "       [-0.10074343],\n",
       "       [-0.10930276],\n",
       "       [-0.1198698 ],\n",
       "       [-0.11062659],\n",
       "       [-0.1060151 ],\n",
       "       [-0.09197836],\n",
       "       [-0.11439061],\n",
       "       [-0.11600863],\n",
       "       [-0.09119433],\n",
       "       [-0.10586699],\n",
       "       [-0.11508869],\n",
       "       [-0.07185184],\n",
       "       [-0.09886547],\n",
       "       [-0.08368805],\n",
       "       [-0.10711675],\n",
       "       [-0.09597685],\n",
       "       [-0.06335773],\n",
       "       [-0.12214305],\n",
       "       [-0.08522326],\n",
       "       [-0.09239605],\n",
       "       [-0.11122132],\n",
       "       [-0.106941  ],\n",
       "       [-0.07578264],\n",
       "       [-0.08268966],\n",
       "       [-0.08860992],\n",
       "       [-0.11555221],\n",
       "       [-0.08320686],\n",
       "       [-0.11203038],\n",
       "       [-0.10331134],\n",
       "       [-0.10111549],\n",
       "       [-0.11109812],\n",
       "       [-0.12412936],\n",
       "       [-0.08906824],\n",
       "       [-0.06946725],\n",
       "       [-0.07983228],\n",
       "       [-0.09829482],\n",
       "       [-0.11931198],\n",
       "       [-0.10538265],\n",
       "       [-0.09533488],\n",
       "       [-0.09715072],\n",
       "       [-0.11376429],\n",
       "       [-0.11589104],\n",
       "       [-0.06912838],\n",
       "       [-0.1117749 ],\n",
       "       [-0.07017089],\n",
       "       [-0.1165098 ],\n",
       "       [-0.12700492],\n",
       "       [-0.11546494],\n",
       "       [-0.08802137],\n",
       "       [-0.11343693],\n",
       "       [-0.09779055],\n",
       "       [-0.07238969],\n",
       "       [-0.08300378],\n",
       "       [-0.07211342],\n",
       "       [-0.11524488],\n",
       "       [-0.10035831],\n",
       "       [-0.10522305],\n",
       "       [-0.1085734 ],\n",
       "       [-0.0661143 ],\n",
       "       [-0.10740549],\n",
       "       [-0.11538349],\n",
       "       [-0.06390913],\n",
       "       [-0.09634408],\n",
       "       [-0.08472339],\n",
       "       [-0.09974052],\n",
       "       [-0.11127963],\n",
       "       [-0.10322541],\n",
       "       [-0.10162672],\n",
       "       [-0.1012091 ],\n",
       "       [-0.11036646],\n",
       "       [-0.09855394],\n",
       "       [-0.1246166 ],\n",
       "       [-0.11455912],\n",
       "       [-0.10173962],\n",
       "       [-0.08914181],\n",
       "       [-0.11047837],\n",
       "       [-0.09650712],\n",
       "       [-0.11429508],\n",
       "       [-0.06981226],\n",
       "       [-0.07275326],\n",
       "       [-0.09136976],\n",
       "       [-0.06679511],\n",
       "       [-0.06892093],\n",
       "       [-0.09934527],\n",
       "       [-0.10057641],\n",
       "       [-0.10943691],\n",
       "       [-0.12048496],\n",
       "       [-0.10037478],\n",
       "       [-0.10719163],\n",
       "       [-0.08974246],\n",
       "       [-0.11493902],\n",
       "       [-0.08299889],\n",
       "       [-0.13346039],\n",
       "       [-0.10687208],\n",
       "       [-0.08196516],\n",
       "       [-0.10299618],\n",
       "       [-0.10400771],\n",
       "       [-0.0735628 ],\n",
       "       [-0.09692935],\n",
       "       [-0.075375  ],\n",
       "       [-0.10318355],\n",
       "       [-0.07211051],\n",
       "       [-0.07345606],\n",
       "       [-0.13230221],\n",
       "       [-0.14149663],\n",
       "       [-0.07680731],\n",
       "       [-0.07994017],\n",
       "       [-0.11827474],\n",
       "       [-0.12345286],\n",
       "       [-0.09020909],\n",
       "       [-0.06208425],\n",
       "       [-0.07271428],\n",
       "       [-0.07410341],\n",
       "       [-0.09160684],\n",
       "       [-0.1130589 ],\n",
       "       [-0.08371016],\n",
       "       [-0.13040554],\n",
       "       [-0.09907831],\n",
       "       [-0.04473923],\n",
       "       [-0.10499355],\n",
       "       [-0.10212812],\n",
       "       [-0.11777256],\n",
       "       [-0.12400944],\n",
       "       [-0.13414429],\n",
       "       [-0.09183234],\n",
       "       [-0.10165033],\n",
       "       [-0.11858141],\n",
       "       [-0.08927342],\n",
       "       [-0.09039764],\n",
       "       [-0.0702431 ],\n",
       "       [-0.10043409],\n",
       "       [-0.10439179],\n",
       "       [-0.10220613],\n",
       "       [-0.08206778],\n",
       "       [-0.09428371],\n",
       "       [-0.09166674],\n",
       "       [-0.12105101],\n",
       "       [-0.08235561],\n",
       "       [-0.10484411],\n",
       "       [-0.08687604],\n",
       "       [-0.09983563],\n",
       "       [-0.13218448],\n",
       "       [-0.09984235],\n",
       "       [-0.10460791],\n",
       "       [-0.10410104],\n",
       "       [-0.10584388],\n",
       "       [-0.07085332],\n",
       "       [-0.11917404],\n",
       "       [-0.12023605],\n",
       "       [-0.09257313],\n",
       "       [-0.10557075],\n",
       "       [-0.11538902],\n",
       "       [-0.08696384],\n",
       "       [-0.08801732],\n",
       "       [-0.10459304],\n",
       "       [-0.09806901],\n",
       "       [-0.09403887],\n",
       "       [-0.10570803],\n",
       "       [-0.09441211],\n",
       "       [-0.10240136],\n",
       "       [-0.10066309],\n",
       "       [-0.11041944],\n",
       "       [-0.07981311],\n",
       "       [-0.08435135],\n",
       "       [-0.112062  ],\n",
       "       [-0.10305075],\n",
       "       [-0.10100252],\n",
       "       [-0.12047227],\n",
       "       [-0.10091498],\n",
       "       [-0.11030971],\n",
       "       [-0.12521487],\n",
       "       [-0.12306265],\n",
       "       [-0.10824162],\n",
       "       [-0.09182983],\n",
       "       [-0.11407172],\n",
       "       [-0.1270921 ],\n",
       "       [-0.10192264],\n",
       "       [-0.07409311],\n",
       "       [-0.09907045],\n",
       "       [-0.09368583],\n",
       "       [-0.11534105],\n",
       "       [-0.11338053],\n",
       "       [-0.10685978],\n",
       "       [-0.08575025],\n",
       "       [-0.11656178],\n",
       "       [-0.09269587],\n",
       "       [-0.10803925],\n",
       "       [-0.09007065],\n",
       "       [-0.09495575],\n",
       "       [-0.09179261],\n",
       "       [-0.10981456],\n",
       "       [-0.09432559],\n",
       "       [-0.11057981],\n",
       "       [-0.10449066],\n",
       "       [-0.07158138],\n",
       "       [-0.10325147],\n",
       "       [-0.10509994],\n",
       "       [-0.1024834 ],\n",
       "       [-0.07364962],\n",
       "       [-0.09173189],\n",
       "       [-0.07220023],\n",
       "       [-0.11731697],\n",
       "       [-0.07734346],\n",
       "       [-0.09105189],\n",
       "       [-0.11247585],\n",
       "       [-0.10768802],\n",
       "       [-0.09860368],\n",
       "       [-0.1085026 ],\n",
       "       [-0.08993784],\n",
       "       [-0.09648553],\n",
       "       [-0.08175254],\n",
       "       [-0.10612046],\n",
       "       [-0.10501594],\n",
       "       [-0.10263657],\n",
       "       [-0.12924655],\n",
       "       [-0.0861308 ],\n",
       "       [-0.12920946],\n",
       "       [-0.11248094],\n",
       "       [-0.12714139],\n",
       "       [-0.09443265],\n",
       "       [-0.12749164],\n",
       "       [-0.08290786],\n",
       "       [-0.09890719],\n",
       "       [-0.10481358],\n",
       "       [-0.09901398],\n",
       "       [-0.08887421],\n",
       "       [-0.09786693],\n",
       "       [-0.10209086],\n",
       "       [-0.07192117],\n",
       "       [-0.07999553],\n",
       "       [-0.09327605],\n",
       "       [-0.10471762],\n",
       "       [-0.08934914],\n",
       "       [-0.07357562],\n",
       "       [-0.08838869],\n",
       "       [-0.09236331],\n",
       "       [-0.09115539],\n",
       "       [-0.08913667],\n",
       "       [-0.11522437],\n",
       "       [-0.09378672],\n",
       "       [-0.1435253 ],\n",
       "       [-0.11039702],\n",
       "       [-0.08724688],\n",
       "       [-0.10569255],\n",
       "       [-0.11820433],\n",
       "       [-0.07002953],\n",
       "       [-0.08674006],\n",
       "       [-0.06518555],\n",
       "       [-0.10350978],\n",
       "       [-0.09829786],\n",
       "       [-0.09460687],\n",
       "       [-0.09350152],\n",
       "       [-0.07744433],\n",
       "       [-0.06905991],\n",
       "       [-0.1088768 ],\n",
       "       [-0.07711915],\n",
       "       [-0.11904403],\n",
       "       [-0.12060407],\n",
       "       [-0.11244739],\n",
       "       [-0.08330369],\n",
       "       [-0.10064229],\n",
       "       [-0.09376032],\n",
       "       [-0.10972628],\n",
       "       [-0.098489  ],\n",
       "       [-0.10224788],\n",
       "       [-0.12528174],\n",
       "       [-0.10291272],\n",
       "       [-0.09384706],\n",
       "       [-0.07408985],\n",
       "       [-0.09330864],\n",
       "       [-0.07323842],\n",
       "       [-0.10270109],\n",
       "       [-0.09868486],\n",
       "       [-0.0868132 ],\n",
       "       [-0.11544386],\n",
       "       [-0.11607426],\n",
       "       [-0.09483229],\n",
       "       [-0.1107652 ],\n",
       "       [-0.0882683 ],\n",
       "       [-0.07876681],\n",
       "       [-0.10382764],\n",
       "       [-0.09473117],\n",
       "       [-0.08507379],\n",
       "       [-0.10431869],\n",
       "       [-0.07552194],\n",
       "       [-0.10387888],\n",
       "       [-0.11733607],\n",
       "       [-0.08448503],\n",
       "       [-0.11806995],\n",
       "       [-0.10377466],\n",
       "       [-0.07766836],\n",
       "       [-0.07551076],\n",
       "       [-0.0950923 ],\n",
       "       [-0.08626424],\n",
       "       [-0.08714516],\n",
       "       [-0.10653508],\n",
       "       [-0.11497917],\n",
       "       [-0.08856858],\n",
       "       [-0.10729725],\n",
       "       [-0.08609368],\n",
       "       [-0.09716359],\n",
       "       [-0.10750569],\n",
       "       [-0.1029257 ],\n",
       "       [-0.07584298],\n",
       "       [-0.09624043],\n",
       "       [-0.10131474],\n",
       "       [-0.07550179],\n",
       "       [-0.09037523],\n",
       "       [-0.09291757],\n",
       "       [-0.10183626],\n",
       "       [-0.09144129],\n",
       "       [-0.11938178],\n",
       "       [-0.08463977],\n",
       "       [-0.10090878],\n",
       "       [-0.0669375 ],\n",
       "       [-0.08445655],\n",
       "       [-0.08079826],\n",
       "       [-0.12308583],\n",
       "       [-0.11217575],\n",
       "       [-0.11776723],\n",
       "       [-0.11742826],\n",
       "       [-0.07748381],\n",
       "       [-0.08196417],\n",
       "       [-0.09853842],\n",
       "       [-0.10935489],\n",
       "       [-0.08995022],\n",
       "       [-0.07250998],\n",
       "       [-0.08758079],\n",
       "       [-0.08306146],\n",
       "       [-0.09974461],\n",
       "       [-0.08171038],\n",
       "       [-0.04391764],\n",
       "       [-0.09512884],\n",
       "       [-0.10898665],\n",
       "       [-0.08389568],\n",
       "       [-0.12459614],\n",
       "       [-0.09952919],\n",
       "       [-0.09435205],\n",
       "       [-0.10777926],\n",
       "       [-0.08702959],\n",
       "       [-0.10628166],\n",
       "       [-0.07669108],\n",
       "       [-0.10374943],\n",
       "       [-0.09868684],\n",
       "       [-0.10318895],\n",
       "       [-0.08723247],\n",
       "       [-0.08044563],\n",
       "       [-0.14227   ],\n",
       "       [-0.07298109],\n",
       "       [-0.07219959],\n",
       "       [-0.11755861],\n",
       "       [-0.07370376],\n",
       "       [-0.10280456],\n",
       "       [-0.0973163 ],\n",
       "       [-0.11181968],\n",
       "       [-0.08525729],\n",
       "       [-0.1007104 ],\n",
       "       [-0.07003741],\n",
       "       [-0.10314699],\n",
       "       [-0.08992643],\n",
       "       [-0.09152041],\n",
       "       [-0.08329807],\n",
       "       [-0.07324772],\n",
       "       [-0.06832568],\n",
       "       [-0.10192122],\n",
       "       [-0.10128853],\n",
       "       [-0.12096352],\n",
       "       [-0.09361667],\n",
       "       [-0.08332936],\n",
       "       [-0.08517269],\n",
       "       [-0.09027039],\n",
       "       [-0.09542292],\n",
       "       [-0.09214063],\n",
       "       [-0.09051135],\n",
       "       [-0.0784236 ],\n",
       "       [-0.09578762],\n",
       "       [-0.08298212],\n",
       "       [-0.0899616 ],\n",
       "       [-0.08652708],\n",
       "       [-0.08229419],\n",
       "       [-0.07320319],\n",
       "       [-0.0937445 ],\n",
       "       [-0.07441768],\n",
       "       [-0.10844186],\n",
       "       [-0.13342649],\n",
       "       [-0.14333607],\n",
       "       [-0.09619654],\n",
       "       [-0.13355927],\n",
       "       [-0.09192821],\n",
       "       [-0.10640675],\n",
       "       [-0.09926174],\n",
       "       [-0.11709795],\n",
       "       [-0.08120137],\n",
       "       [-0.09272876],\n",
       "       [-0.0550467 ],\n",
       "       [-0.10711063],\n",
       "       [-0.11658587],\n",
       "       [-0.11551662],\n",
       "       [-0.05511273],\n",
       "       [-0.08386707],\n",
       "       [-0.07087634],\n",
       "       [-0.1119043 ],\n",
       "       [-0.08742904],\n",
       "       [-0.12001439],\n",
       "       [-0.08853444],\n",
       "       [-0.08234358],\n",
       "       [-0.11554977],\n",
       "       [-0.08231501],\n",
       "       [-0.08704126],\n",
       "       [-0.10546918],\n",
       "       [-0.12696022],\n",
       "       [-0.0853374 ],\n",
       "       [-0.07332061],\n",
       "       [-0.09030472],\n",
       "       [-0.07027437],\n",
       "       [-0.08792687],\n",
       "       [-0.10353285],\n",
       "       [-0.10569062],\n",
       "       [-0.10115394],\n",
       "       [-0.09286549],\n",
       "       [-0.09003197],\n",
       "       [-0.11950426],\n",
       "       [-0.11823084],\n",
       "       [-0.13273816],\n",
       "       [-0.10803033],\n",
       "       [-0.1167077 ],\n",
       "       [-0.10804487],\n",
       "       [-0.10820931],\n",
       "       [-0.10844408],\n",
       "       [-0.11635454],\n",
       "       [-0.1040076 ],\n",
       "       [-0.08914475],\n",
       "       [-0.08319867],\n",
       "       [-0.10897247],\n",
       "       [-0.07925759],\n",
       "       [-0.11110236],\n",
       "       [-0.13422643],\n",
       "       [-0.08088167],\n",
       "       [-0.09387378],\n",
       "       [-0.13108711],\n",
       "       [-0.10434104],\n",
       "       [-0.11034219],\n",
       "       [-0.11209497],\n",
       "       [-0.07588746],\n",
       "       [-0.09803609],\n",
       "       [-0.10233937],\n",
       "       [-0.1237453 ],\n",
       "       [-0.11719584],\n",
       "       [-0.09975845],\n",
       "       [-0.08639303],\n",
       "       [-0.08485034],\n",
       "       [-0.10077935],\n",
       "       [-0.09178532],\n",
       "       [-0.10643313],\n",
       "       [-0.0834984 ],\n",
       "       [-0.11234019],\n",
       "       [-0.09730897],\n",
       "       [-0.11250179],\n",
       "       [-0.0866809 ],\n",
       "       [-0.09186382],\n",
       "       [-0.11532376],\n",
       "       [-0.06229503],\n",
       "       [-0.09208733],\n",
       "       [-0.10408448],\n",
       "       [-0.11350708],\n",
       "       [-0.11102854],\n",
       "       [-0.1106187 ],\n",
       "       [-0.09157697],\n",
       "       [-0.05162118],\n",
       "       [-0.11773308],\n",
       "       [-0.0941958 ],\n",
       "       [-0.0810362 ],\n",
       "       [-0.1309942 ],\n",
       "       [-0.10758646],\n",
       "       [-0.066216  ],\n",
       "       [-0.07814809],\n",
       "       [-0.08976196],\n",
       "       [-0.11153046],\n",
       "       [-0.07190342],\n",
       "       [-0.07512554],\n",
       "       [-0.09867815],\n",
       "       [-0.10695375],\n",
       "       [-0.12185003],\n",
       "       [-0.0808631 ],\n",
       "       [-0.07429245],\n",
       "       [-0.1355267 ],\n",
       "       [-0.08748601],\n",
       "       [-0.14017945],\n",
       "       [-0.1049689 ],\n",
       "       [-0.07850746],\n",
       "       [-0.08756119],\n",
       "       [-0.1079717 ],\n",
       "       [-0.0898178 ],\n",
       "       [-0.08420653],\n",
       "       [-0.09346396],\n",
       "       [-0.09190976],\n",
       "       [-0.091273  ],\n",
       "       [-0.09345281],\n",
       "       [-0.1139152 ],\n",
       "       [-0.1012195 ],\n",
       "       [-0.09737392],\n",
       "       [-0.14825924],\n",
       "       [-0.08273529],\n",
       "       [-0.09868413],\n",
       "       [-0.10282239],\n",
       "       [-0.086665  ],\n",
       "       [-0.13030844],\n",
       "       [-0.10460376],\n",
       "       [-0.10322085],\n",
       "       [-0.05958608],\n",
       "       [-0.09062829],\n",
       "       [-0.06547661],\n",
       "       [-0.08848736],\n",
       "       [-0.09084759],\n",
       "       [-0.09906729],\n",
       "       [-0.08579307],\n",
       "       [-0.07942751],\n",
       "       [-0.11222962],\n",
       "       [-0.10104125],\n",
       "       [-0.09026335],\n",
       "       [-0.08872939],\n",
       "       [-0.10832588],\n",
       "       [-0.09373027],\n",
       "       [-0.09540869],\n",
       "       [-0.07519605],\n",
       "       [-0.12352345],\n",
       "       [-0.07021163],\n",
       "       [-0.11756003],\n",
       "       [-0.07770989],\n",
       "       [-0.10482814],\n",
       "       [-0.12113231],\n",
       "       [-0.10219754],\n",
       "       [-0.12782234],\n",
       "       [-0.11412399],\n",
       "       [-0.09025224],\n",
       "       [-0.10978732],\n",
       "       [-0.09311912],\n",
       "       [-0.10780534],\n",
       "       [-0.11029381],\n",
       "       [-0.12867963],\n",
       "       [-0.10149307],\n",
       "       [-0.07894788],\n",
       "       [-0.08836993],\n",
       "       [-0.07109088],\n",
       "       [-0.08530726],\n",
       "       [-0.09861467],\n",
       "       [-0.10339499],\n",
       "       [-0.09888784],\n",
       "       [-0.09673026],\n",
       "       [-0.08500721],\n",
       "       [-0.10657837],\n",
       "       [-0.1027702 ],\n",
       "       [-0.07408031],\n",
       "       [-0.08372103],\n",
       "       [-0.06380136],\n",
       "       [-0.11783435],\n",
       "       [-0.10820381],\n",
       "       [-0.10140103],\n",
       "       [-0.08811632],\n",
       "       [-0.07632318],\n",
       "       [-0.12746089],\n",
       "       [-0.11244024],\n",
       "       [-0.09063428],\n",
       "       [-0.09724221],\n",
       "       [-0.09352168],\n",
       "       [-0.05713989],\n",
       "       [-0.08973776],\n",
       "       [-0.12643933],\n",
       "       [-0.12041152],\n",
       "       [-0.08991233],\n",
       "       [-0.09256418],\n",
       "       [-0.07297138],\n",
       "       [-0.09844673],\n",
       "       [-0.07444019],\n",
       "       [-0.06121901],\n",
       "       [-0.08410936],\n",
       "       [-0.09797914],\n",
       "       [-0.11692999],\n",
       "       [-0.11322192],\n",
       "       [-0.09974303],\n",
       "       [-0.07289826],\n",
       "       [-0.08620861],\n",
       "       [-0.08605615],\n",
       "       [-0.0617113 ],\n",
       "       [-0.09760615],\n",
       "       [-0.0887429 ],\n",
       "       [-0.12376951],\n",
       "       [-0.11830717],\n",
       "       [-0.10693152],\n",
       "       [-0.08964299],\n",
       "       [-0.10035256],\n",
       "       [-0.07922619],\n",
       "       [-0.08601665],\n",
       "       [-0.1026554 ],\n",
       "       [-0.10628008],\n",
       "       [-0.08788518],\n",
       "       [-0.07056763],\n",
       "       [-0.11029566],\n",
       "       [-0.09121916],\n",
       "       [-0.10842954],\n",
       "       [-0.0960885 ],\n",
       "       [-0.12616201],\n",
       "       [-0.07746743],\n",
       "       [-0.13956919],\n",
       "       [-0.09372593],\n",
       "       [-0.096268  ],\n",
       "       [-0.09930073],\n",
       "       [-0.1008196 ],\n",
       "       [-0.11863377],\n",
       "       [-0.0953265 ],\n",
       "       [-0.07035757],\n",
       "       [-0.10616938],\n",
       "       [-0.10175459],\n",
       "       [-0.1003727 ],\n",
       "       [-0.08840567],\n",
       "       [-0.11817313],\n",
       "       [-0.10339032],\n",
       "       [-0.09242386],\n",
       "       [-0.09919335],\n",
       "       [-0.09457769],\n",
       "       [-0.10130511],\n",
       "       [-0.09095578],\n",
       "       [-0.10170004],\n",
       "       [-0.07963798],\n",
       "       [-0.08256948],\n",
       "       [-0.11445529],\n",
       "       [-0.11489579],\n",
       "       [-0.11403777],\n",
       "       [-0.11182934],\n",
       "       [-0.11104441],\n",
       "       [-0.11634753],\n",
       "       [-0.08602   ],\n",
       "       [-0.10128165],\n",
       "       [-0.09835508],\n",
       "       [-0.07784658],\n",
       "       [-0.11531077],\n",
       "       [-0.12402465],\n",
       "       [-0.10947236],\n",
       "       [-0.10089194],\n",
       "       [-0.0923305 ],\n",
       "       [-0.0927448 ],\n",
       "       [-0.08141904],\n",
       "       [-0.10690666],\n",
       "       [-0.10326232],\n",
       "       [-0.09945327],\n",
       "       [-0.05702932],\n",
       "       [-0.11202502],\n",
       "       [-0.09350422],\n",
       "       [-0.09015787],\n",
       "       [-0.06684354],\n",
       "       [-0.09545491],\n",
       "       [-0.10373245],\n",
       "       [-0.05556432],\n",
       "       [-0.11013822],\n",
       "       [-0.09986184],\n",
       "       [-0.07803614],\n",
       "       [-0.11703672],\n",
       "       [-0.0944056 ],\n",
       "       [-0.09832207],\n",
       "       [-0.07762431],\n",
       "       [-0.0744001 ],\n",
       "       [-0.09966007],\n",
       "       [-0.10370644],\n",
       "       [-0.09014424],\n",
       "       [-0.10062895],\n",
       "       [-0.11604384],\n",
       "       [-0.07680683],\n",
       "       [-0.11512758],\n",
       "       [-0.10638441],\n",
       "       [-0.10316065],\n",
       "       [-0.10204552],\n",
       "       [-0.1014374 ],\n",
       "       [-0.0946611 ],\n",
       "       [-0.10541564],\n",
       "       [-0.09526545],\n",
       "       [-0.09140264],\n",
       "       [-0.08904194],\n",
       "       [-0.09589588],\n",
       "       [-0.08647742],\n",
       "       [-0.09753105],\n",
       "       [-0.11445197],\n",
       "       [-0.08838195],\n",
       "       [-0.1017576 ],\n",
       "       [-0.09755672],\n",
       "       [-0.08236306],\n",
       "       [-0.0879485 ],\n",
       "       [-0.11287513],\n",
       "       [-0.09665894],\n",
       "       [-0.10404895],\n",
       "       [-0.10243908],\n",
       "       [-0.08771473],\n",
       "       [-0.08986824],\n",
       "       [-0.08807261],\n",
       "       [-0.10242248],\n",
       "       [-0.07309972],\n",
       "       [-0.0919291 ],\n",
       "       [-0.10533702],\n",
       "       [-0.08617694],\n",
       "       [-0.13503188],\n",
       "       [-0.06985024],\n",
       "       [-0.10987021],\n",
       "       [-0.10026679],\n",
       "       [-0.07493736],\n",
       "       [-0.12015191],\n",
       "       [-0.1118213 ],\n",
       "       [-0.14897895],\n",
       "       [-0.09137062],\n",
       "       [-0.09964721],\n",
       "       [-0.10932992],\n",
       "       [-0.08844748],\n",
       "       [-0.08838542],\n",
       "       [-0.09353212],\n",
       "       [-0.13247474],\n",
       "       [-0.08523924],\n",
       "       [-0.10906996],\n",
       "       [-0.08316102],\n",
       "       [-0.08022354],\n",
       "       [-0.1053009 ],\n",
       "       [-0.07725336],\n",
       "       [-0.11268734],\n",
       "       [-0.09959469],\n",
       "       [-0.09386386],\n",
       "       [-0.1175254 ],\n",
       "       [-0.08179441],\n",
       "       [-0.1167787 ],\n",
       "       [-0.12362159],\n",
       "       [-0.10542164],\n",
       "       [-0.10416316],\n",
       "       [-0.10553942],\n",
       "       [-0.08472957],\n",
       "       [-0.11835762],\n",
       "       [-0.1174407 ],\n",
       "       [-0.09255043],\n",
       "       [-0.07765235],\n",
       "       [-0.0854378 ],\n",
       "       [-0.11334061],\n",
       "       [-0.08998592],\n",
       "       [-0.12812411],\n",
       "       [-0.09606475],\n",
       "       [-0.09958336],\n",
       "       [-0.09857539],\n",
       "       [-0.07563553],\n",
       "       [-0.09550873],\n",
       "       [-0.07854077],\n",
       "       [-0.11641953],\n",
       "       [-0.0731134 ],\n",
       "       [-0.09737827],\n",
       "       [-0.10067108],\n",
       "       [-0.10156592],\n",
       "       [-0.09495146],\n",
       "       [-0.0731496 ],\n",
       "       [-0.08603702],\n",
       "       [-0.11077543],\n",
       "       [-0.11088465],\n",
       "       [-0.079494  ],\n",
       "       [-0.07619792],\n",
       "       [-0.089807  ],\n",
       "       [-0.08756749],\n",
       "       [-0.0912907 ],\n",
       "       [-0.10898024],\n",
       "       [-0.09655387],\n",
       "       [-0.06561314],\n",
       "       [-0.0916946 ],\n",
       "       [-0.1103257 ],\n",
       "       [-0.09228759],\n",
       "       [-0.10583204],\n",
       "       [-0.09044988],\n",
       "       [-0.07715844],\n",
       "       [-0.11087385],\n",
       "       [-0.10991238],\n",
       "       [-0.11367746],\n",
       "       [-0.10012752],\n",
       "       [-0.09209449],\n",
       "       [-0.10077914],\n",
       "       [-0.09736694],\n",
       "       [-0.13921126],\n",
       "       [-0.08327856],\n",
       "       [-0.10422944],\n",
       "       [-0.09508096],\n",
       "       [-0.08699552],\n",
       "       [-0.08188669],\n",
       "       [-0.11673255],\n",
       "       [-0.09147386],\n",
       "       [-0.10886349],\n",
       "       [-0.08622276],\n",
       "       [-0.10493555],\n",
       "       [-0.11007288],\n",
       "       [-0.12328424],\n",
       "       [-0.10065732],\n",
       "       [-0.1355458 ],\n",
       "       [-0.10473585],\n",
       "       [-0.10418721],\n",
       "       [-0.11294388],\n",
       "       [-0.08820837],\n",
       "       [-0.10263515],\n",
       "       [-0.07432493],\n",
       "       [-0.10746879],\n",
       "       [-0.09475138],\n",
       "       [-0.11141925],\n",
       "       [-0.11892016],\n",
       "       [-0.09715657],\n",
       "       [-0.07388106],\n",
       "       [-0.08385474],\n",
       "       [-0.10764109],\n",
       "       [-0.10306292],\n",
       "       [-0.09710403],\n",
       "       [-0.06495988],\n",
       "       [-0.08170546],\n",
       "       [-0.09341002],\n",
       "       [-0.08187801],\n",
       "       [-0.14801294],\n",
       "       [-0.07504402],\n",
       "       [-0.12589504],\n",
       "       [-0.12752105],\n",
       "       [-0.09756892],\n",
       "       [-0.0880659 ],\n",
       "       [-0.07561428],\n",
       "       [-0.07664894],\n",
       "       [-0.07573607],\n",
       "       [-0.08821803],\n",
       "       [-0.07819033],\n",
       "       [-0.09720805],\n",
       "       [-0.09282236],\n",
       "       [-0.09432897],\n",
       "       [-0.09467066],\n",
       "       [-0.11175866],\n",
       "       [-0.13990558],\n",
       "       [-0.12714389],\n",
       "       [-0.06887811],\n",
       "       [-0.11340647],\n",
       "       [-0.1162035 ],\n",
       "       [-0.08929193],\n",
       "       [-0.09839797],\n",
       "       [-0.07451079],\n",
       "       [-0.10942427],\n",
       "       [-0.0933963 ],\n",
       "       [-0.10346412],\n",
       "       [-0.09202907],\n",
       "       [-0.09636951],\n",
       "       [-0.07956273],\n",
       "       [-0.10224594],\n",
       "       [-0.08759616],\n",
       "       [-0.09328098],\n",
       "       [-0.09564333],\n",
       "       [-0.09028667],\n",
       "       [-0.06186542],\n",
       "       [-0.11572456],\n",
       "       [-0.09259549],\n",
       "       [-0.10442333],\n",
       "       [-0.07559785],\n",
       "       [-0.07282608],\n",
       "       [-0.08311648],\n",
       "       [-0.08249952],\n",
       "       [-0.08311897],\n",
       "       [-0.09232778],\n",
       "       [-0.10071567],\n",
       "       [-0.11740923],\n",
       "       [-0.09085382],\n",
       "       [-0.07364966],\n",
       "       [-0.09440529],\n",
       "       [-0.09418734],\n",
       "       [-0.04347994],\n",
       "       [-0.10583618],\n",
       "       [-0.10139441],\n",
       "       [-0.09511708],\n",
       "       [-0.11622204],\n",
       "       [-0.07917046],\n",
       "       [-0.09238332],\n",
       "       [-0.07358023],\n",
       "       [-0.10382098],\n",
       "       [-0.07845047],\n",
       "       [-0.10467567],\n",
       "       [-0.11810365],\n",
       "       [-0.10960991],\n",
       "       [-0.11504929],\n",
       "       [-0.09061416],\n",
       "       [-0.09651869],\n",
       "       [-0.09803585],\n",
       "       [-0.09989378],\n",
       "       [-0.09287833],\n",
       "       [-0.08852465],\n",
       "       [-0.09389188],\n",
       "       [-0.08722606],\n",
       "       [-0.10388933],\n",
       "       [-0.08970261],\n",
       "       [-0.098166  ],\n",
       "       [-0.12147165],\n",
       "       [-0.09365187],\n",
       "       [-0.08573696],\n",
       "       [-0.06604865],\n",
       "       [-0.10663107],\n",
       "       [-0.08684991],\n",
       "       [-0.10233773],\n",
       "       [-0.09193715],\n",
       "       [-0.09367797],\n",
       "       [-0.08988932],\n",
       "       [-0.08258953],\n",
       "       [-0.07272356],\n",
       "       [-0.07087688],\n",
       "       [-0.10538195],\n",
       "       [-0.11710408],\n",
       "       [-0.07895333],\n",
       "       [-0.09432463],\n",
       "       [-0.09996263],\n",
       "       [-0.08234948],\n",
       "       [-0.09826524],\n",
       "       [-0.07524825],\n",
       "       [-0.12523338],\n",
       "       [-0.09263582],\n",
       "       [-0.09499841],\n",
       "       [-0.10505743],\n",
       "       [-0.10644998],\n",
       "       [-0.09407894],\n",
       "       [-0.08111894],\n",
       "       [-0.12942221]])"
      ]
     },
     "execution_count": 35,
     "metadata": {},
     "output_type": "execute_result"
    }
   ],
   "source": [
    "AA"
   ]
  },
  {
   "cell_type": "markdown",
   "metadata": {},
   "source": [
    "## ... Draws\n",
    "Employing m and $\\Delta$m, a and $\\Delta$a, from `data2`."
   ]
  },
  {
   "cell_type": "code",
   "execution_count": 36,
   "metadata": {},
   "outputs": [],
   "source": [
    "# Group the planetary system:\n",
    "data2 = dataB[['star_name','mass', 'mass_error_min',\n",
    "               'semi_major_axis','semi_major_axis_error_min']]\n",
    "Planetary_System = data2.groupby(\"star_name\")\n",
    "Systems_List = list(Planetary_System.groups.keys())"
   ]
  },
  {
   "cell_type": "markdown",
   "metadata": {},
   "source": [
    "A first way to get the drows for each system:"
   ]
  },
  {
   "cell_type": "code",
   "execution_count": 37,
   "metadata": {
    "scrolled": true
   },
   "outputs": [],
   "source": [
    "#%%time\n",
    "#-------------------------------------------------------------------------\n",
    "# Draws, for each planetary system\n",
    "draws=[]#drows of COM for each system. \n",
    "for i in range(len(Systems_List)):\n",
    "    system_i = data2[data2.star_name == Systems_List[i]]    \n",
    "    draw_i=[]\n",
    "    for j in  range(1000):\n",
    "        #Get random values for each planet in a system and the COM for those values\n",
    "        masses=np.random.normal(system_i.mass,system_i.mass_error_min)\n",
    "        axes=np.random.normal(system_i.semi_major_axis,\n",
    "                              system_i.semi_major_axis_error_min)\n",
    "        draw_i += [(masses*axes).sum()/masses.sum()]\n",
    "    draws.append(draw_i)\n"
   ]
  },
  {
   "cell_type": "code",
   "execution_count": 38,
   "metadata": {},
   "outputs": [],
   "source": [
    "#len(draws[0])"
   ]
  },
  {
   "cell_type": "markdown",
   "metadata": {},
   "source": [
    "Second way to get the draws for each system (in a shorter time):"
   ]
  },
  {
   "cell_type": "code",
   "execution_count": 39,
   "metadata": {},
   "outputs": [
    {
     "data": {
      "text/plain": [
       "987"
      ]
     },
     "execution_count": 39,
     "metadata": {},
     "output_type": "execute_result"
    }
   ],
   "source": [
    "#%%time\n",
    "DrawsA=[]#drows of COM for each system. \n",
    "for i in range(len(Systems_List)):\n",
    "    SystemA_i = data2[data2.star_name == Systems_List[i]]  \n",
    "    Mass_System = np.zeros(1000)\n",
    "    Mass_Axe = np.zeros(1000) \n",
    "    for k in range(len(SystemA_i)):\n",
    "        Masses = np.random.normal(SystemA_i.mass.values[k],\n",
    "                                  SystemA_i.mass_error_min.values[k],1000)\n",
    "        Axes = np.random.normal(SystemA_i.semi_major_axis.values[k],\n",
    "                                SystemA_i.semi_major_axis_error_min.values[k],\n",
    "                                1000)\n",
    "        Mass_Axe += Masses*Axes\n",
    "        Mass_System += Masses\n",
    "        #print(SystemA_i.mass.values[k])\n",
    "    DrawsA.append(np.abs(Mass_Axe/Mass_System))\n",
    "len(DrawsA)"
   ]
  },
  {
   "cell_type": "code",
   "execution_count": 40,
   "metadata": {},
   "outputs": [
    {
     "data": {
      "text/plain": [
       "794"
      ]
     },
     "execution_count": 40,
     "metadata": {},
     "output_type": "execute_result"
    }
   ],
   "source": [
    "Systems_List.index(\"TRAPPIST-1\")"
   ]
  },
  {
   "cell_type": "code",
   "execution_count": 41,
   "metadata": {},
   "outputs": [
    {
     "data": {
      "image/png": "[encoded data removed]",
      "text/plain": [
       "<Figure size 432x288 with 1 Axes>"
      ]
     },
     "metadata": {
      "needs_background": "light"
     },
     "output_type": "display_data"
    }
   ],
   "source": [
    "Tras = DrawsA[Systems_List.index(\"TRAPPIST-1\")]\n",
    "fig, ax1 = plt.subplots(1, 1)\n",
    "\n",
    "let=15\n",
    "\n",
    "ax1 = sb.distplot(Tras, ax=ax1, bins=50, \n",
    "                  label=r' Synthetic $r_\\text{cm}$ (AU)',\n",
    "                  kde_kws={\"lw\": 2, \"label\": r\" Synthetic density\"})\n",
    "\n",
    "ax1.set_xlabel(r\"$\\log_{10}$(Mass) (M$_\\text{Jup}$)\",fontsize=let)\n",
    "#_xlabel(,fontsize=let);ax.set_ylabel(r\"Orbital period (years)\",fontsize=let)\n",
    "ax1.set_ylabel(r\"Distribution\", fontsize=let)\n",
    "ax1.tick_params(labelsize=let)\n",
    "\n",
    "\n",
    "ax1.legend(loc='upper left',fontsize=let);\n",
    "plt.savefig(\"figures/Tras_hists.pdf\", bbox_inches='tight')"
   ]
  },
  {
   "cell_type": "code",
   "execution_count": null,
   "metadata": {},
   "outputs": [],
   "source": []
  },
  {
   "cell_type": "code",
   "execution_count": 42,
   "metadata": {},
   "outputs": [
    {
     "ename": "NameError",
     "evalue": "name 'sns' is not defined",
     "output_type": "error",
     "traceback": [
      "\u001b[0;31m---------------------------------------------------------------------------\u001b[0m",
      "\u001b[0;31mNameError\u001b[0m                                 Traceback (most recent call last)",
      "\u001b[0;32m<ipython-input-42-7e07e6f46bc8>\u001b[0m in \u001b[0;36m<module>\u001b[0;34m\u001b[0m\n\u001b[1;32m      6\u001b[0m \u001b[0mf2\u001b[0m \u001b[0;34m=\u001b[0m \u001b[0max1\u001b[0m\u001b[0;34m.\u001b[0m\u001b[0mhist\u001b[0m\u001b[0;34m(\u001b[0m\u001b[0mdraws\u001b[0m\u001b[0;34m[\u001b[0m\u001b[0;36m2\u001b[0m\u001b[0;34m]\u001b[0m\u001b[0;34m,\u001b[0m\u001b[0;36m10\u001b[0m\u001b[0;34m,\u001b[0m \u001b[0malpha\u001b[0m\u001b[0;34m=\u001b[0m\u001b[0;36m0.6\u001b[0m\u001b[0;34m,\u001b[0m\u001b[0mlabel\u001b[0m\u001b[0;34m=\u001b[0m\u001b[0mSystems_List\u001b[0m\u001b[0;34m[\u001b[0m\u001b[0;36m2\u001b[0m\u001b[0;34m]\u001b[0m\u001b[0;34m+\u001b[0m\u001b[0;34m\" draws\"\u001b[0m\u001b[0;34m)\u001b[0m\u001b[0;34m\u001b[0m\u001b[0;34m\u001b[0m\u001b[0m\n\u001b[1;32m      7\u001b[0m \u001b[0max1\u001b[0m\u001b[0;34m.\u001b[0m\u001b[0mlegend\u001b[0m\u001b[0;34m(\u001b[0m\u001b[0mbbox_to_anchor\u001b[0m\u001b[0;34m=\u001b[0m\u001b[0;34m(\u001b[0m\u001b[0;36m0.\u001b[0m\u001b[0;34m,\u001b[0m \u001b[0;36m1.02\u001b[0m\u001b[0;34m,\u001b[0m \u001b[0;36m1.\u001b[0m\u001b[0;34m,\u001b[0m \u001b[0;36m.102\u001b[0m\u001b[0;34m)\u001b[0m\u001b[0;34m,\u001b[0m \u001b[0mloc\u001b[0m\u001b[0;34m=\u001b[0m\u001b[0;36m3\u001b[0m\u001b[0;34m,\u001b[0m\u001b[0mncol\u001b[0m\u001b[0;34m=\u001b[0m\u001b[0;36m1\u001b[0m\u001b[0;34m,\u001b[0m \u001b[0mmode\u001b[0m\u001b[0;34m=\u001b[0m\u001b[0;34m\"expand\"\u001b[0m\u001b[0;34m,\u001b[0m \u001b[0mborderaxespad\u001b[0m\u001b[0;34m=\u001b[0m\u001b[0;36m0.\u001b[0m\u001b[0;34m)\u001b[0m\u001b[0;34m\u001b[0m\u001b[0;34m\u001b[0m\u001b[0m\n\u001b[0;32m----> 8\u001b[0;31m \u001b[0mf2\u001b[0m \u001b[0;34m=\u001b[0m \u001b[0msns\u001b[0m\u001b[0;34m.\u001b[0m\u001b[0mkdeplot\u001b[0m\u001b[0;34m(\u001b[0m\u001b[0mDrawsA\u001b[0m\u001b[0;34m[\u001b[0m\u001b[0;36m2\u001b[0m\u001b[0;34m]\u001b[0m\u001b[0;34m[\u001b[0m\u001b[0;36m0\u001b[0m\u001b[0;34m]\u001b[0m\u001b[0;34m,\u001b[0m \u001b[0mshade\u001b[0m\u001b[0;34m=\u001b[0m\u001b[0;32mTrue\u001b[0m\u001b[0;34m,\u001b[0m\u001b[0mlabel\u001b[0m\u001b[0;34m=\u001b[0m\u001b[0mSystems_List\u001b[0m\u001b[0;34m[\u001b[0m\u001b[0;36m2\u001b[0m\u001b[0;34m]\u001b[0m\u001b[0;34m+\u001b[0m\u001b[0;34m\" DrawsA\"\u001b[0m\u001b[0;34m)\u001b[0m\u001b[0;34m\u001b[0m\u001b[0;34m\u001b[0m\u001b[0m\n\u001b[0m\u001b[1;32m      9\u001b[0m \u001b[0mf3\u001b[0m \u001b[0;34m=\u001b[0m \u001b[0msns\u001b[0m\u001b[0;34m.\u001b[0m\u001b[0mkdeplot\u001b[0m\u001b[0;34m(\u001b[0m\u001b[0mdraws\u001b[0m\u001b[0;34m[\u001b[0m\u001b[0;36m2\u001b[0m\u001b[0;34m]\u001b[0m\u001b[0;34m,\u001b[0m \u001b[0mshade\u001b[0m\u001b[0;34m=\u001b[0m\u001b[0;32mTrue\u001b[0m\u001b[0;34m,\u001b[0m\u001b[0mlabel\u001b[0m\u001b[0;34m=\u001b[0m\u001b[0mSystems_List\u001b[0m\u001b[0;34m[\u001b[0m\u001b[0;36m2\u001b[0m\u001b[0;34m]\u001b[0m\u001b[0;34m+\u001b[0m\u001b[0;34m\" draws\"\u001b[0m\u001b[0;34m)\u001b[0m\u001b[0;34m\u001b[0m\u001b[0;34m\u001b[0m\u001b[0m\n\u001b[1;32m     10\u001b[0m \u001b[0max2\u001b[0m\u001b[0;34m.\u001b[0m\u001b[0mlegend\u001b[0m\u001b[0;34m(\u001b[0m\u001b[0mbbox_to_anchor\u001b[0m\u001b[0;34m=\u001b[0m\u001b[0;34m(\u001b[0m\u001b[0;36m0.\u001b[0m\u001b[0;34m,\u001b[0m \u001b[0;36m1.02\u001b[0m\u001b[0;34m,\u001b[0m \u001b[0;36m1.\u001b[0m\u001b[0;34m,\u001b[0m \u001b[0;36m.102\u001b[0m\u001b[0;34m)\u001b[0m\u001b[0;34m,\u001b[0m \u001b[0mloc\u001b[0m\u001b[0;34m=\u001b[0m\u001b[0;36m3\u001b[0m\u001b[0;34m,\u001b[0m\u001b[0mncol\u001b[0m\u001b[0;34m=\u001b[0m\u001b[0;36m1\u001b[0m\u001b[0;34m,\u001b[0m \u001b[0mmode\u001b[0m\u001b[0;34m=\u001b[0m\u001b[0;34m\"expand\"\u001b[0m\u001b[0;34m,\u001b[0m \u001b[0mborderaxespad\u001b[0m\u001b[0;34m=\u001b[0m\u001b[0;36m0.\u001b[0m\u001b[0;34m)\u001b[0m\u001b[0;34m\u001b[0m\u001b[0;34m\u001b[0m\u001b[0m\n",
      "\u001b[0;31mNameError\u001b[0m: name 'sns' is not defined"
     ]
    },
    {
     "data": {
      "image/png": "[encoded data removed]",
      "text/plain": [
       "<Figure size 576x360 with 2 Axes>"
      ]
     },
     "metadata": {
      "needs_background": "light"
     },
     "output_type": "display_data"
    }
   ],
   "source": [
    "#import seaborn as sns\n",
    "#sns.set()\n",
    "fig, (ax1,ax2) = plt.subplots(nrows=1, ncols=2, figsize=(8, 5))\n",
    "\n",
    "f1 = ax1.hist(DrawsA[2][0],10,alpha=0.8,label=Systems_List[2]+\" DrawsA\")\n",
    "f2 = ax1.hist(draws[2],10, alpha=0.6,label=Systems_List[2]+\" draws\")\n",
    "ax1.legend(bbox_to_anchor=(0., 1.02, 1., .102), loc=3,ncol=1, mode=\"expand\", borderaxespad=0.)\n",
    "f2 = sns.kdeplot(DrawsA[2][0], shade=True,label=Systems_List[2]+\" DrawsA\")\n",
    "f3 = sns.kdeplot(draws[2], shade=True,label=Systems_List[2]+\" draws\")\n",
    "ax2.legend(bbox_to_anchor=(0., 1.02, 1., .102), loc=3,ncol=1, mode=\"expand\", borderaxespad=0.)"
   ]
  },
  {
   "cell_type": "markdown",
   "metadata": {},
   "source": [
    "The probability of each draw to belong a each group, taking draws form `DrawsA`"
   ]
  },
  {
   "cell_type": "code",
   "execution_count": null,
   "metadata": {
    "scrolled": true
   },
   "outputs": [],
   "source": [
    "kk=8\n",
    "Draw_i=np.log10(DrawsA[kk][0][:,np.newaxis])\n",
    "orig=gmm.predict(np.array(CM_log))[kk]\n",
    "print(orig)\n",
    "print((orig!=gmm.predict(Draw_i)).sum()/1000)\n",
    "for i in range(4):\n",
    "    plt.scatter(Draw_i,gmm.predict_proba(Draw_i)[:,i])"
   ]
  },
  {
   "cell_type": "code",
   "execution_count": null,
   "metadata": {},
   "outputs": [],
   "source": [
    "np.log10(DrawsA[8])[0][:10]"
   ]
  },
  {
   "cell_type": "code",
   "execution_count": null,
   "metadata": {},
   "outputs": [],
   "source": [
    "plt.hist(np.log10(DrawsA[8])[0])"
   ]
  },
  {
   "cell_type": "code",
   "execution_count": null,
   "metadata": {},
   "outputs": [],
   "source": [
    "# CM_log is the centero of mass in log scale for each system\n",
    "frac=[]\n",
    "for kk in range(len(DrawsA)):\n",
    "    Draw_i=np.log10(DrawsA[kk][0][:,np.newaxis])\n",
    "    orig=gmm.predict(np.array(CM_log))[kk]\n",
    "#    print(kk)\n",
    "    frac+=[(orig!=gmm.predict(Draw_i)).sum()/1000] # AA es el elemento i de draws (que debe ser un array de 1000 elementos)\n",
    "\n",
    "\n",
    "#for i in range(4):\n",
    "#    plt.scatter(Draw_i,gmm.predict_proba(Draw_i)[:,i])\n",
    "#orig\n",
    "#AA\n",
    "#orig=gmm.predict(np.array([[0.8]])) # 0.8 es el centro de masa para el sistema i\n",
    "#(orig!=gmm.predict(AA)).sum()/1000 # AA es el elemento i de draws (que debe ser un array de 1000 elementos)\n",
    "#DrawsA[0]\n",
    "#Draw_i=DrawsA[0][0][:,np.newaxis]\n",
    "#gmm.predict(Draw_i)\n",
    "#Draw_i\n",
    "#gmm.predict(Draw_i)\n",
    "plt.hist(frac)\n",
    "print((np.array(frac)==0).sum()/len(frac))\n",
    "np.max(frac)"
   ]
  },
  {
   "cell_type": "code",
   "execution_count": null,
   "metadata": {},
   "outputs": [],
   "source": [
    "orig=gmm.predict(np.array(CM_log))[2]\n",
    "print(CM_log.values)\n",
    "DrawsA[2][0]"
   ]
  },
  {
   "cell_type": "markdown",
   "metadata": {},
   "source": [
    "#### Metallicity"
   ]
  },
  {
   "cell_type": "code",
   "execution_count": null,
   "metadata": {},
   "outputs": [],
   "source": [
    "dataMet = data_ep[pd.notnull(data_ep[\"star_metallicity\"])]\n",
    "dataMetA = dataMet[pd.notnull(dataMet[\"star_metallicity_error_min\"])]\n",
    "dataMet = dataMetA[['star_name',\"star_metallicity\",\"star_metallicity_error_min\"]]"
   ]
  },
  {
   "cell_type": "code",
   "execution_count": null,
   "metadata": {},
   "outputs": [],
   "source": [
    "gmm2 = GaussianMixture(3, covariance_type='full', random_state=0)\n",
    "B=dataMet[[\"star_metallicity\"]]\n",
    "gmm2.fit(B.values)\n",
    "cluster_label = gmm2.predict(B.values)\n",
    "B.values[:, 0]\n",
    "plt.scatter((B.values),np.zeros(len(B)), c=cluster_label);\n",
    "plt.ylim(-0.1,1)"
   ]
  },
  {
   "cell_type": "code",
   "execution_count": null,
   "metadata": {},
   "outputs": [],
   "source": [
    "bic=[]\n",
    "for i in range(15):\n",
    "    i+=1\n",
    "    gmm2 = GaussianMixture(i, covariance_type='full', random_state=0)\n",
    "    A=data1[[\"center_of_Mass\"]]\n",
    "    gmm2.fit(B.values)\n",
    "    bic+=[gmm2.bic(B.values)]\n",
    "plt.plot(range(1,16),bic)"
   ]
  },
  {
   "cell_type": "code",
   "execution_count": null,
   "metadata": {},
   "outputs": [],
   "source": [
    "plt.figure(figsize=(15,5))\n",
    "sma=np.linspace(-2.5,4,1000)\n",
    "for m,s in zip(gmm.means_,gmm.covariances_):\n",
    "    plt.plot(sma, norm.pdf(sma,m,s)[0])\n",
    "plt.scatter((A.values),np.zeros(len(A)), c = cluster_label);"
   ]
  },
  {
   "cell_type": "code",
   "execution_count": null,
   "metadata": {},
   "outputs": [],
   "source": []
  }
 ],
 "metadata": {
  "celltoolbar": "Slideshow",
  "kernelspec": {
   "display_name": "Python 3",
   "language": "python",
   "name": "python3"
  },
  "language_info": {
   "codemirror_mode": {
    "name": "ipython",
    "version": 3
   },
   "file_extension": ".py",
   "mimetype": "text/x-python",
   "name": "python",
   "nbconvert_exporter": "python",
   "pygments_lexer": "ipython3",
   "version": "3.8.3"
  }
 },
 "nbformat": 4,
 "nbformat_minor": 2
}
