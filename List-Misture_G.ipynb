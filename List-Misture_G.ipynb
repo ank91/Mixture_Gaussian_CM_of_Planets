{
 "cells": [
  {
   "cell_type": "markdown",
   "metadata": {},
   "source": [
    "# Homework: List of planets with mass and distance, Center of Mass for each system\n",
    "### 1. read the file from exoplanet.eu"
   ]
  },
  {
   "cell_type": "code",
   "execution_count": 57,
   "metadata": {
    "scrolled": true
   },
   "outputs": [],
   "source": [
    "import pandas as pd \n",
    "import numpy as np\n",
    "\n",
    "#pf = pd.read_csv('data/exoplanet.eu_catalog.csv') \n",
    "#pl = pf[['# name','mass','mass_error_min','semi_major_axis','semi_major_axis_error_min']]\n",
    "data_ep = pd.read_csv('data/exoplanet.eu_catalog.csv', usecols=['mass',#'mass_error_min',\n",
    "                                                                'semi_major_axis',#'semi_major_axis_error_min',\n",
    "                                                                'star_name']) #List of planets from exoplanet.eu \n",
    "data = data_ep[pd.notnull(data_ep[\"mass\"])]\n",
    "data = data[pd.notnull(data[\"semi_major_axis\"])]\n",
    "data = data[['star_name','mass','semi_major_axis']]\n",
    "#data"
   ]
  },
  {
   "cell_type": "markdown",
   "metadata": {},
   "source": [
    "**Remember**: `pd.notnull(\"name_of_column\")` deletes the NaN values in the column. \n",
    "\n",
    "**Remember**: `data=data[['column_a','column_b',..,'column_n',]]` get a new order in the DataFrame"
   ]
  },
  {
   "cell_type": "markdown",
   "metadata": {},
   "source": [
    "### 2. Center of Mass \n",
    "We need to estimate the CM for each planet, so:\n",
    "\\begin{equation*}\n",
    "\\text{CM} = \\frac{\\sum\\limits_{k=1}^n(m_{k}\\vec{r_{k}})}{\\sum \\limits_{k=1}^{n}m_{k}} %=\\frac{\\sum\\limits_{k=1}^n(m_{k}\\vec{r_{k}})}{M_{T}}\n",
    "\\end{equation*}\n",
    "For do it, is nessesary get the values CM for each planet, so with the columns of `mass` and distance from the star  `semi_major_axis` we can get $\\boxed{m_{k}\\vec{r_{k}}}$ values.\n",
    "\n",
    "First we select the columns:"
   ]
  },
  {
   "cell_type": "code",
   "execution_count": 64,
   "metadata": {
    "scrolled": true
   },
   "outputs": [],
   "source": [
    "r_i = data[\"semi_major_axis\"]\n",
    "m_i = data[\"mass\"]\n",
    "#the multiplications between columns:\n",
    "rm_i = r_i.multiply(m_i)\n",
    "data['center_of_mass'] = rm_i # it is adding a new colum call center_of_mass, por each planet in the system. \n",
    "#data\n",
    "#print(len(x_i),len(m_i),len(xm_i))"
   ]
  },
  {
   "cell_type": "markdown",
   "metadata": {},
   "source": [
    "However, the calculus of the CM, counting the planetary systems with the same satar. "
   ]
  },
  {
   "cell_type": "code",
   "execution_count": 98,
   "metadata": {},
   "outputs": [
    {
     "ename": "AttributeError",
     "evalue": "'DataFrameGroupBy' object has no attribute 'tolist'",
     "output_type": "error",
     "traceback": [
      "\u001b[0;31m--------------------------------------------------------------------------\u001b[0m",
      "\u001b[0;31mAttributeError\u001b[0m                           Traceback (most recent call last)",
      "\u001b[0;32m<ipython-input-98-f6b8b7eb01f9>\u001b[0m in \u001b[0;36m<module>\u001b[0;34m()\u001b[0m\n\u001b[1;32m      8\u001b[0m \u001b[0;34m\u001b[0m\u001b[0m\n\u001b[1;32m      9\u001b[0m \u001b[0;31m#len(M_total)\u001b[0m\u001b[0;34m\u001b[0m\u001b[0;34m\u001b[0m\u001b[0m\n\u001b[0;32m---> 10\u001b[0;31m \u001b[0mp_system\u001b[0m\u001b[0;34m.\u001b[0m\u001b[0mtolist\u001b[0m\u001b[0;34m(\u001b[0m\u001b[0;34m)\u001b[0m\u001b[0;34m\u001b[0m\u001b[0m\n\u001b[0m\u001b[1;32m     11\u001b[0m \u001b[0;31m#data2 = {'M' : pd.Series(M_total, index=[data['star_name'].tolist()]),\u001b[0m\u001b[0;34m\u001b[0m\u001b[0;34m\u001b[0m\u001b[0m\n\u001b[1;32m     12\u001b[0m \u001b[0;31m#         'CM': pd.Series(CM_total,index=[data['star_name'].tolist()])}\u001b[0m\u001b[0;34m\u001b[0m\u001b[0;34m\u001b[0m\u001b[0m\n",
      "\u001b[0;32m~/anaconda3/lib/python3.6/site-packages/pandas/core/groupby/groupby.py\u001b[0m in \u001b[0;36m__getattr__\u001b[0;34m(self, attr)\u001b[0m\n\u001b[1;32m    763\u001b[0m \u001b[0;34m\u001b[0m\u001b[0m\n\u001b[1;32m    764\u001b[0m         raise AttributeError(\"%r object has no attribute %r\" %\n\u001b[0;32m--> 765\u001b[0;31m                              (type(self).__name__, attr))\n\u001b[0m\u001b[1;32m    766\u001b[0m \u001b[0;34m\u001b[0m\u001b[0m\n\u001b[1;32m    767\u001b[0m     @Substitution(klass='GroupBy',\n",
      "\u001b[0;31mAttributeError\u001b[0m: 'DataFrameGroupBy' object has no attribute 'tolist'"
     ]
    }
   ],
   "source": [
    "p_system = data.groupby(\"star_name\")\n",
    "M_total = p_system[\"mass\"].sum().tolist()\n",
    "CM_total = p_system[\"center_of_mass\"].sum().tolist()\n",
    "\n",
    "#M_total\n",
    "#type(RM_total)\n",
    "#print(len(p_system),len(RM_total),len(M_total))\n",
    "\n",
    "#len(M_total)\n",
    "#p_system.tolist()\n",
    "#data2 = {'M' : pd.Series(M_total, index=[data['star_name'].tolist()]),\n",
    "#         'CM': pd.Series(CM_total,index=[data['star_name'].tolist()])}\n",
    "#data['star_name'].tolist()\n",
    "#data2\n",
    "#for group in g1:\n",
    "#   print (group)\n",
    "#df = data.sort_values(by=['star_name'])\n",
    "#df.groupby('star_name').sum()['mass']\n",
    "#data.groupby(['star_name']).count()"
   ]
  },
  {
   "cell_type": "markdown",
   "metadata": {},
   "source": [
    "### 3. Gaussian Mixture Model\n"
   ]
  }
 ],
 "metadata": {
  "kernelspec": {
   "display_name": "Python 3",
   "language": "python",
   "name": "python3"
  },
  "language_info": {
   "codemirror_mode": {
    "name": "ipython",
    "version": 3
   },
   "file_extension": ".py",
   "mimetype": "text/x-python",
   "name": "python",
   "nbconvert_exporter": "python",
   "pygments_lexer": "ipython3",
   "version": "3.6.4"
  }
 },
 "nbformat": 4,
 "nbformat_minor": 2
}
