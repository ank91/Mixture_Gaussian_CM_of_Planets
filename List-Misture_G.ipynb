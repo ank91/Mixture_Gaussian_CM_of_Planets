{
 "cells": [
  {
   "cell_type": "markdown",
   "metadata": {},
   "source": [
    "# Homework: List of planets with mass and distance, Center of Mass for each system\n",
    "### 1. read the file from exoplanet.eu"
   ]
  },
  {
   "cell_type": "code",
   "execution_count": 57,
   "metadata": {
    "scrolled": true
   },
   "outputs": [],
   "source": [
    "import pandas as pd \n",
    "import numpy as np\n",
    "\n",
    "#pf = pd.read_csv('data/exoplanet.eu_catalog.csv') \n",
    "#pl = pf[['# name','mass','mass_error_min','semi_major_axis','semi_major_axis_error_min']]\n",
    "data_ep = pd.read_csv('data/exoplanet.eu_catalog.csv', usecols=['mass',#'mass_error_min',\n",
    "                                                                'semi_major_axis',#'semi_major_axis_error_min',\n",
    "                                                                'star_name']) #List of planets from exoplanet.eu \n",
    "data = data_ep[pd.notnull(data_ep[\"mass\"])]\n",
    "data = data[pd.notnull(data[\"semi_major_axis\"])]\n",
    "data = data[['star_name','mass','semi_major_axis']]\n",
    "#data"
   ]
  },
  {
   "cell_type": "markdown",
   "metadata": {},
   "source": [
    "**Remember**: `pd.notnull(\"name_of_column\")` deletes the NaN values in the column. \n",
    "\n",
    "**Remember**: `data=data[['column_a','column_b',..,'column_n',]]` get a new order in the DataFrame"
   ]
  },
  {
   "cell_type": "markdown",
   "metadata": {},
   "source": [
    "### 2. Center of Mass \n",
    "We need to estimate the CM for each planet, so:\n",
    "\\begin{equation*}\n",
    "\\text{CM} = \\frac{\\sum\\limits_{k=1}^n(m_{k}\\vec{r_{k}})}{\\sum \\limits_{k=1}^{n}m_{k}} %=\\frac{\\sum\\limits_{k=1}^n(m_{k}\\vec{r_{k}})}{M_{T}}\n",
    "\\end{equation*}\n",
    "For do it, is nessesary get the values CM for each planet, so with the columns of `mass` and distance from the star  `semi_major_axis` we can get $\\boxed{m_{k}\\vec{r_{k}}}$ values.\n",
    "\n",
    "First we select the columns:"
   ]
  },
  {
   "cell_type": "code",
   "execution_count": 64,
   "metadata": {
    "scrolled": true
   },
   "outputs": [],
   "source": [
    "r_i = data[\"semi_major_axis\"]\n",
    "m_i = data[\"mass\"]\n",
    "#the multiplications between columns:\n",
    "rm_i = r_i.multiply(m_i)\n",
    "data['center_of_mass'] = rm_i # it is adding a new colum call center_of_mass, por each planet in the system. \n",
    "#data\n",
    "#print(len(x_i),len(m_i),len(xm_i))"
   ]
  },
  {
   "cell_type": "markdown",
   "metadata": {},
   "source": [
    "However, the calculus of the CM, counting the planetary systems with the same satar. "
   ]
  },
  {
   "cell_type": "code",
   "execution_count": 63,
   "metadata": {},
   "outputs": [
    {
     "data": {
      "text/plain": [
       "star_name\n",
       " OGLE-2016-BLG-1067L         0.731000\n",
       " TYC 4282-605-1              4.549160\n",
       "11 Com                      25.026000\n",
       "11 Oph                    5103.000000\n",
       "11 UMi                      16.170000\n",
       "14 And                       4.423900\n",
       "14 Her                      12.852800\n",
       "16 Cyg B                     2.822400\n",
       "18 Del                      26.780000\n",
       "1RXS1609                  4620.000000\n",
       "1SWASP J1407                78.000000\n",
       "24 Boo                       0.172900\n",
       "24 Sex                       4.441470\n",
       "2M  1938+46                  1.748000\n",
       "2M 0103-55 (AB)           1092.000000\n",
       "2M 0122-24                1040.000000\n",
       "2M 0219-39                2168.400000\n",
       "2M 0441+23                 112.500000\n",
       "2M 0746+20                  86.910000\n",
       "2M 1207-39                 184.000000\n",
       "2M 2140+16                  70.600000\n",
       "2M 2206-20                 134.400000\n",
       "2M 2236+4751              2875.000000\n",
       "2MASS J1450-7841 A       12000.000000\n",
       "2MASS J1450-7841 B       12000.000000\n",
       "2MASS J2250+2325         15540.000000\n",
       "30 Ari B                     9.830600\n",
       "38 Vir                       8.208200\n",
       "4 Uma                        6.177000\n",
       "42 Dra                       4.617200\n",
       "                            ...      \n",
       "XO-5                         0.052450\n",
       "XO-6                         0.154850\n",
       "YZ Cet                       0.000201\n",
       "alf Ari                      2.160000\n",
       "beta Cir                372736.000000\n",
       "beta Cnc                    13.260000\n",
       "beta Pic                   144.980000\n",
       "beta Umi                     8.540000\n",
       "eps CrB                      8.710000\n",
       "eps Eridani                 10.475100\n",
       "eps Ind A                   34.742200\n",
       "eps Tau                     13.946000\n",
       "eta Cet                      9.646100\n",
       "gamma 1 Leo                 76.017200\n",
       "gamma Cephei                22.734500\n",
       "gamma Lib                   11.350994\n",
       "kappa And                  770.000000\n",
       "kappa CrB                    4.160000\n",
       "ksi Aql                      1.171600\n",
       "mu Ara                      12.493980\n",
       "mu Leo                       2.640000\n",
       "nu Oph                     210.300000\n",
       "ome Ser                      1.870000\n",
       "omi  CrB                     1.245000\n",
       "omi UMa                     15.990000\n",
       "sig Per                     11.700000\n",
       "tau Boo                      0.268640\n",
       "tau Cet                      0.025345\n",
       "tau Gem                     24.102000\n",
       "ups And                     73.555770\n",
       "Name: center_of_mass, Length: 1205, dtype: float64"
      ]
     },
     "execution_count": 63,
     "metadata": {},
     "output_type": "execute_result"
    }
   ],
   "source": [
    "p_system = data.groupby(\"star_name\")\n",
    "M_total = p_system[\"mass\"].sum()\n",
    "RM_total = p_system[\"center_of_mass\"].sum()\n",
    "RM_total\n",
    "#for group in g1:\n",
    "#   print (group)\n",
    "#df = data.sort_values(by=['star_name'])\n",
    "#df.groupby('star_name').sum()['mass']\n",
    "#data.groupby(['star_name']).count()"
   ]
  },
  {
   "cell_type": "markdown",
   "metadata": {},
   "source": [
    "### 3. Gaussian Mixture Model\n"
   ]
  }
 ],
 "metadata": {
  "kernelspec": {
   "display_name": "Python 3",
   "language": "python",
   "name": "python3"
  },
  "language_info": {
   "codemirror_mode": {
    "name": "ipython",
    "version": 3
   },
   "file_extension": ".py",
   "mimetype": "text/x-python",
   "name": "python",
   "nbconvert_exporter": "python",
   "pygments_lexer": "ipython3",
   "version": "3.6.4"
  }
 },
 "nbformat": 4,
 "nbformat_minor": 2
}
