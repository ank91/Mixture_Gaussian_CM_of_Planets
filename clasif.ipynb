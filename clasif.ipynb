{
 "cells": [
  {
   "cell_type": "markdown",
   "metadata": {},
   "source": [
    "# Homework: List of planets with mass and distance, Center of Mass for each system\n",
    "### 1. read the file from exoplanet.eu\n",
    "List of planets from exoplanet.eu "
   ]
  },
  {
   "cell_type": "code",
   "execution_count": 3,
   "metadata": {
    "scrolled": true
   },
   "outputs": [
    {
     "data": {
      "text/plain": [
       "mass                          1667\n",
       "mass_error_min                1473\n",
       "semi_major_axis               2349\n",
       "semi_major_axis_error_min     1348\n",
       "star_name                     3820\n",
       "star_metallicity              3425\n",
       "star_metallicity_error_min    2524\n",
       "dtype: int64"
      ]
     },
     "execution_count": 3,
     "metadata": {},
     "output_type": "execute_result"
    }
   ],
   "source": [
    "import pandas as pd \n",
    "import numpy as np\n",
    "\n",
    "data_ep = pd.read_csv('data/exoplanet.eu_catalog.csv', \n",
    "                      usecols=['mass','mass_error_min','semi_major_axis',\n",
    "                               'semi_major_axis_error_min','star_name',\n",
    "                               'star_metallicity','star_metallicity_error_min'])\n",
    "#data_ep\n",
    "data_ep.count()"
   ]
  },
  {
   "cell_type": "markdown",
   "metadata": {},
   "source": [
    "**Remember**: `pd.notnull(\"name_of_column\")` deletes the NaN values in the column. \n",
    "\n",
    "**Remember**: `data=data[['column_a','column_b',..,'column_n',]]` to get a new order in the DataFrame\n",
    "\n",
    "Now is necessary processing the data with the prurpose to obtain the Center of Mass CM, `data1` is a DataFrame without the NaN values of _mass_ and _semi major axis_. Finally, we get 1667 rows."
   ]
  },
  {
   "cell_type": "code",
   "execution_count": 10,
   "metadata": {},
   "outputs": [],
   "source": [
    "data = data_ep[pd.notnull(data_ep[\"mass\"])]\n",
    "dataa = data[pd.notnull(data[\"semi_major_axis\"])]\n",
    "data1 = dataa[['star_name','mass','semi_major_axis']]\n",
    "#data1\n",
    "\n",
    "#data2 = data_ep.dropna()\n",
    "#data2"
   ]
  },
  {
   "cell_type": "markdown",
   "metadata": {},
   "source": [
    "So, `data2` is a DataFrame without the NaN values of mass, semi major axis and their uncertainties. Finally, we get 1220 rows, 447 rows less than `data1`. \n",
    "\n",
    "For the semi major axes column, withouth NaN values we have `data3`, it is usefull for planetary systems with one planet observed."
   ]
  },
  {
   "cell_type": "code",
   "execution_count": 11,
   "metadata": {},
   "outputs": [],
   "source": [
    "data3 = data_ep[pd.notnull(data_ep[\"semi_major_axis\"])]\n",
    "data3 = data3[pd.notnull(data3[\"star_name\"])]\n",
    "data3 = data3[['star_name',\"semi_major_axis\"]]\n",
    "#data3\n",
    "#data3.groupby(\"star_name\").count()"
   ]
  },
  {
   "cell_type": "markdown",
   "metadata": {},
   "source": [
    "### 2. Center of Mass \n",
    "We need to estimate the CM for each planet, so:\n",
    "\\begin{equation*}\n",
    "\\text{CM} = \\frac{\\sum\\limits_{k=1}^n(m_{k}\\vec{r_{k}})}{\\sum \\limits_{k=1}^{n}m_{k}} %=\\frac{\\sum\\limits_{k=1}^n(m_{k}\\vec{r_{k}})}{M_{T}}\n",
    "\\end{equation*}\n",
    "For do it, is nessesary get the values CM for each planet, so with the columns of `mass` and distance from the star  `semi_major_axis` we can get $\\boxed{m_{k}\\vec{r_{k}}}$ values.\n",
    "\n",
    "#### For `data1`: #### \n",
    "The CM:"
   ]
  },
  {
   "cell_type": "code",
   "execution_count": 12,
   "metadata": {
    "scrolled": true
   },
   "outputs": [],
   "source": [
    "r_i = data1[\"semi_major_axis\"]\n",
    "m_i = data1[\"mass\"]\n",
    "#the multiplications between columns:\n",
    "rm_i = r_i.multiply(m_i)\n",
    "data1 = data1.assign(CM_i=rm_i.values) #New colimn in DataFrame with CM value, per each planet in the system. \n",
    "p_system = data1.groupby(\"star_name\")\n",
    "#data1\n",
    "#p_system.count()"
   ]
  },
  {
   "cell_type": "code",
   "execution_count": 13,
   "metadata": {},
   "outputs": [
    {
     "data": {
      "text/plain": [
       "0"
      ]
     },
     "execution_count": 13,
     "metadata": {},
     "output_type": "execute_result"
    }
   ],
   "source": [
    "(np.isnan(data1.CM_i)).sum()"
   ]
  },
  {
   "cell_type": "markdown",
   "metadata": {},
   "source": [
    "**Remember:** The `data.groupby(\"key\")` split the data in groups which are the key.\n",
    "\n",
    "**Remember:** The `data[i].multiply(data[j])` multiplies the comun i and j of DataFrame or Series i and j, row by row.\n",
    "\n",
    "**Remember:** The `data.groupby.groups.keys()` get the keys of the split data.\n",
    "\n",
    "However, the calculus of the CM, counting the planetary systems with the same satar. "
   ]
  },
  {
   "cell_type": "code",
   "execution_count": 14,
   "metadata": {},
   "outputs": [
    {
     "name": "stdout",
     "output_type": "stream",
     "text": [
      "1205 1205 1205\n"
     ]
    }
   ],
   "source": [
    "M_total = p_system[\"mass\"].sum()#.tolist() changes from Series to list\n",
    "sum_rm = p_system['CM_i'].sum()#.tolist()\n",
    "CM = sum_rm.divide(M_total) #total center of mass, for each extraplanetary system\n",
    "\n",
    "system = list(data1.groupby(\"star_name\").groups.keys())\n",
    "\n",
    "print(len(p_system),len(CM),len(M_total))\n",
    "\n",
    "data1 = pd.DataFrame({'system_name':system,'total_mass':M_total.tolist(),'center_of_Mass':CM.tolist()})\n",
    "#data1 #the data after get the Center of Mass for each system "
   ]
  },
  {
   "cell_type": "markdown",
   "metadata": {},
   "source": [
    "### 3. Gaussian Mixture Model\n",
    "#### Center of Mass"
   ]
  },
  {
   "cell_type": "code",
   "execution_count": 15,
   "metadata": {},
   "outputs": [],
   "source": [
    "from sklearn.mixture import GaussianMixture\n",
    "import matplotlib.pyplot as plt\n",
    "%matplotlib inline\n",
    "\n",
    "#gmm = GaussianMixture(2, covariance_type='full', random_state=0)\n",
    "#A=data1[[\"total_mass\",\"center_of_Mass\"]]\n",
    "#gmm.fit(A.values)\n",
    "#cluster_label = gmm.predict(A.values)\n",
    "#A.values[:, 0]\n",
    "#plt.scatter(A.values[:, 0], A.values[:, 1], c=cluster_label);"
   ]
  },
  {
   "cell_type": "code",
   "execution_count": 18,
   "metadata": {},
   "outputs": [
    {
     "data": {
      "text/plain": [
       "(-0.1, 1)"
      ]
     },
     "execution_count": 18,
     "metadata": {},
     "output_type": "execute_result"
    },
    {
     "data": {
      "image/png": "[encoded data removed]",
      "text/plain": [
       "<matplotlib.figure.Figure at 0x7fae6903ea58>"
      ]
     },
     "metadata": {},
     "output_type": "display_data"
    }
   ],
   "source": [
    "gmm = GaussianMixture(5, covariance_type='full', random_state=0)\n",
    "A=data1[[\"center_of_Mass\"]]\n",
    "gmm.fit(A.values)\n",
    "cluster_label = gmm.predict(A.values)\n",
    "A.values[:, 0]\n",
    "plt.scatter((A.values),np.zeros(len(A)), c=cluster_label);\n",
    "plt.ylim(-0.1,1)"
   ]
  },
  {
   "cell_type": "code",
   "execution_count": 19,
   "metadata": {},
   "outputs": [],
   "source": [
    "bic=[]\n",
    "for i in range(10):\n",
    "    i+=1\n",
    "    gmm = GaussianMixture(i, covariance_type='full', random_state=0)\n",
    "    A=np.log10(data1[[\"center_of_Mass\"]])\n",
    "    gmm.fit(A.values)\n",
    "    bic+=[gmm.bic(A.values)]"
   ]
  },
  {
   "cell_type": "code",
   "execution_count": 20,
   "metadata": {},
   "outputs": [
    {
     "data": {
      "text/plain": [
       "[<matplotlib.lines.Line2D at 0x7fae66df1390>]"
      ]
     },
     "execution_count": 20,
     "metadata": {},
     "output_type": "execute_result"
    },
    {
     "data": {
      "image/png": "[encoded data removed]",
      "text/plain": [
       "<matplotlib.figure.Figure at 0x7fae67d07518>"
      ]
     },
     "metadata": {},
     "output_type": "display_data"
    }
   ],
   "source": [
    "plt.plot(range(1,11),bic)"
   ]
  },
  {
   "cell_type": "code",
   "execution_count": 42,
   "metadata": {},
   "outputs": [
    {
     "data": {
      "text/plain": [
       "[3459.1731171634515,\n",
       " 2906.2739879430114,\n",
       " 2740.12522789205,\n",
       " 2733.1384313360463,\n",
       " 2748.732030165545,\n",
       " 2774.8868630886363,\n",
       " 2792.7782461414713,\n",
       " 2816.193184452781,\n",
       " 2838.0666938618338,\n",
       " 2851.26094663473]"
      ]
     },
     "execution_count": 42,
     "metadata": {},
     "output_type": "execute_result"
    }
   ],
   "source": [
    "bic"
   ]
  },
  {
   "cell_type": "code",
   "execution_count": 21,
   "metadata": {},
   "outputs": [
    {
     "data": {
      "text/plain": [
       "(-0.1, 1)"
      ]
     },
     "execution_count": 21,
     "metadata": {},
     "output_type": "execute_result"
    },
    {
     "data": {
      "image/png": "[encoded data removed]",
      "text/plain": [
       "<matplotlib.figure.Figure at 0x7fae67ca7f28>"
      ]
     },
     "metadata": {},
     "output_type": "display_data"
    }
   ],
   "source": [
    "gmm = GaussianMixture(4, covariance_type='full', random_state=0)\n",
    "A=np.log10(data1[[\"center_of_Mass\"]])\n",
    "gmm.fit(A.values)\n",
    "cluster_label = gmm.predict(A.values)\n",
    "A.values[:, 0]\n",
    "plt.scatter((A.values),np.zeros(len(A)), c=cluster_label);\n",
    "plt.ylim(-0.1,1)"
   ]
  },
  {
   "cell_type": "code",
   "execution_count": 22,
   "metadata": {},
   "outputs": [
    {
     "data": {
      "text/plain": [
       "array([[ 0.34963506],\n",
       "       [-1.30543662],\n",
       "       [-0.1755601 ],\n",
       "       [ 1.99563537]])"
      ]
     },
     "execution_count": 22,
     "metadata": {},
     "output_type": "execute_result"
    }
   ],
   "source": [
    "gmm.means_"
   ]
  },
  {
   "cell_type": "code",
   "execution_count": 23,
   "metadata": {},
   "outputs": [],
   "source": [
    "from scipy.stats import norm"
   ]
  },
  {
   "cell_type": "code",
   "execution_count": 24,
   "metadata": {},
   "outputs": [
    {
     "data": {
      "image/png": "[encoded data removed]",
      "text/plain": [
       "<matplotlib.figure.Figure at 0x7fae67ce3b00>"
      ]
     },
     "metadata": {},
     "output_type": "display_data"
    }
   ],
   "source": [
    "plt.figure(figsize=(15,5))\n",
    "sma=np.linspace(-2.5,4,1000)\n",
    "for m,s in zip(gmm.means_,gmm.covariances_):\n",
    "    plt.plot(sma, norm.pdf(sma,m,s)[0])\n",
    "plt.scatter((A.values),np.zeros(len(A)), c=cluster_label);"
   ]
  },
  {
   "cell_type": "code",
   "execution_count": 29,
   "metadata": {},
   "outputs": [
    {
     "data": {
      "image/png": "[encoded data removed]",
      "text/plain": [
       "<matplotlib.figure.Figure at 0x7fae66a5c5f8>"
      ]
     },
     "metadata": {},
     "output_type": "display_data"
    }
   ],
   "source": [
    "for i in range(4):\n",
    "    plt.scatter(A,gmm.predict_proba(A)[:,i])"
   ]
  },
  {
   "cell_type": "markdown",
   "metadata": {},
   "source": [
    "#### Metallicity"
   ]
  },
  {
   "cell_type": "code",
   "execution_count": 46,
   "metadata": {},
   "outputs": [],
   "source": [
    "dataMet = data_ep[pd.notnull(data_ep[\"star_metallicity\"])]\n",
    "dataMetA = dataMet[pd.notnull(dataMet[\"star_metallicity_error_min\"])]\n",
    "dataMet = dataMetA[['star_name',\"star_metallicity\",\"star_metallicity_error_min\"]]"
   ]
  },
  {
   "cell_type": "code",
   "execution_count": 49,
   "metadata": {},
   "outputs": [
    {
     "data": {
      "text/plain": [
       "(-0.1, 1)"
      ]
     },
     "execution_count": 49,
     "metadata": {},
     "output_type": "execute_result"
    },
    {
     "data": {
      "image/png": "[encoded data removed]",
      "text/plain": [
       "<matplotlib.figure.Figure at 0x7fae6cda1fd0>"
      ]
     },
     "metadata": {},
     "output_type": "display_data"
    }
   ],
   "source": [
    "gmm2 = GaussianMixture(4, covariance_type='full', random_state=0)\n",
    "B=dataMet[[\"star_metallicity\"]]\n",
    "gmm2.fit(B.values)\n",
    "cluster_label = gmm2.predict(B.values)\n",
    "B.values[:, 0]\n",
    "plt.scatter((B.values),np.zeros(len(B)), c=cluster_label);\n",
    "plt.ylim(-0.1,1)"
   ]
  },
  {
   "cell_type": "code",
   "execution_count": 53,
   "metadata": {},
   "outputs": [
    {
     "data": {
      "text/plain": [
       "[<matplotlib.lines.Line2D at 0x7fae66c29b00>]"
      ]
     },
     "execution_count": 53,
     "metadata": {},
     "output_type": "execute_result"
    },
    {
     "data": {
      "image/png": "[encoded data removed]",
      "text/plain": [
       "<matplotlib.figure.Figure at 0x7fae66b297b8>"
      ]
     },
     "metadata": {},
     "output_type": "display_data"
    }
   ],
   "source": [
    "bic=[]\n",
    "for i in range(15):\n",
    "    i+=1\n",
    "    gmm2 = GaussianMixture(i, covariance_type='full', random_state=0)\n",
    "    A=data1[[\"center_of_Mass\"]]\n",
    "    gmm2.fit(B.values)\n",
    "    bic+=[gmm2.bic(B.values)]\n",
    "plt.plot(range(1,16),bic)"
   ]
  },
  {
   "cell_type": "code",
   "execution_count": null,
   "metadata": {},
   "outputs": [],
   "source": [
    "plt.figure(figsize=(15,5))\n",
    "sma=np.linspace(-2.5,4,1000)\n",
    "for m,s in zip(gmm.means_,gmm.covariances_):\n",
    "    plt.plot(sma, norm.pdf(sma,m,s)[0])\n",
    "plt.scatter((A.values),np.zeros(len(A)), c=cluster_label);"
   ]
  }
 ],
 "metadata": {
  "kernelspec": {
   "display_name": "Python 3",
   "language": "python",
   "name": "python3"
  },
  "language_info": {
   "codemirror_mode": {
    "name": "ipython",
    "version": 3
   },
   "file_extension": ".py",
   "mimetype": "text/x-python",
   "name": "python",
   "nbconvert_exporter": "python",
   "pygments_lexer": "ipython3",
   "version": "3.6.4"
  }
 },
 "nbformat": 4,
 "nbformat_minor": 2
}
